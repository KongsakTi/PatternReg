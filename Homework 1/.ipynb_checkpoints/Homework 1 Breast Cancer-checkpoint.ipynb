{
 "cells": [
  {
   "cell_type": "markdown",
   "metadata": {},
   "source": [
    "# Homework 1 Breast Cancer\n",
    "\n",
    "The data in this homework is from http://archive.ics.uci.edu/ml/datasets/Breast+Cancer+Wisconsin+%28Original%29\n",
    "\n",
    "You can read what each column means from the website."
   ]
  },
  {
   "cell_type": "markdown",
   "metadata": {},
   "source": [
    "1) (0)First write a function that separate the data into 20% test and 80% train. Hint: use np.random.seed to fix random number generator.\n",
    "\n",
    "- What could happen if you just pick last 20%?\n",
    "- Why do we need to randomize?"
   ]
  },
  {
   "cell_type": "code",
   "execution_count": 1,
   "metadata": {
    "collapsed": false
   },
   "outputs": [],
   "source": [
    "%matplotlib inline\n",
    "from matplotlib import pyplot as plt\n",
    "import math\n",
    "import numpy as np"
   ]
  },
  {
   "cell_type": "code",
   "execution_count": 2,
   "metadata": {
    "collapsed": false
   },
   "outputs": [],
   "source": [
    "#    #  Attribute                     Domain\n",
    "#    -- -----------------------------------------\n",
    "#    1. Sample code number            id number\n",
    "#    2. Clump Thickness               1 - 10\n",
    "#    3. Uniformity of Cell Size       1 - 10\n",
    "#    4. Uniformity of Cell Shape      1 - 10\n",
    "#    5. Marginal Adhesion             1 - 10\n",
    "#    6. Single Epithelial Cell Size   1 - 10\n",
    "#    7. Bare Nuclei                   1 - 10\n",
    "#    8. Bland Chromatin               1 - 10\n",
    "#    9. Normal Nucleoli               1 - 10\n",
    "#   10. Mitoses                       1 - 10\n",
    "#   11. Class:                        (2 for benign, 4 for malignant)\n",
    "class Data:\n",
    "    def __init__(self, clumpThinkess, uniformCellSize, uniformCellShape, \n",
    "                 marginalAdhesion, singleEpithelialCellSize, bareNuclei, blandChromatin,\n",
    "                 normalNucleoli, mitoses, result):\n",
    "        self.clumpThinkess = int(clumpThinkess)\n",
    "        self.uniformCellSize = int(uniformCellSize)\n",
    "        self.uniformCellShape = int(uniformCellShape)\n",
    "        self.marginalAdhesion = int(marginalAdhesion)\n",
    "        self.singleEpithelialCellSize = int(singleEpithelialCellSize)\n",
    "        self.bareNuclei = int(bareNuclei)\n",
    "        self.blandChromatin = int(blandChromatin)\n",
    "        self.normalNucleoli = int(normalNucleoli)\n",
    "        self.mitoses = int(mitoses)\n",
    "        self.result = int(result)\n",
    "        \n",
    "def read_data(files):\n",
    "    tmp = []\n",
    "    with open(files) as f:\n",
    "        for line in f:\n",
    "            tmp.append(line)\n",
    "    return tmp\n",
    "\n",
    "def clean_data(data):\n",
    "    tmp = []\n",
    "    for d in data:\n",
    "        d = d.rstrip('\\n')\n",
    "        d = d.split(',')\n",
    "        tmp += [d]\n",
    "    return tmp\n",
    "\n",
    "def setUp_data(data):\n",
    "    tmp = []\n",
    "    for d in data:\n",
    "        for i in xrange(len(d)):\n",
    "            if d[i] == '?':\n",
    "                d[i] = -1\n",
    "        #print d[1], d[2], d[3], d[4], d[5], d[6], d[7], d[8], d[9], d[10]\n",
    "        tmp.append(Data(d[1], d[2], d[3], d[4], \n",
    "                        d[5], d[6], d[7], d[8], \n",
    "                        d[9], d[10]))\n",
    "    return tmp\n",
    "\n",
    "file_name = \"breast-cancer-wisconsin.data.txt\"\n",
    "rd = read_data(file_name)\n",
    "cd = clean_data(rd)\n",
    "data = setUp_data(cd)"
   ]
  },
  {
   "cell_type": "code",
   "execution_count": 3,
   "metadata": {
    "collapsed": false
   },
   "outputs": [],
   "source": [
    "\n",
    "def sep_data(data, seed):\n",
    "    np.random.seed(seed)\n",
    "    train = []\n",
    "    test = []\n",
    "    for d in data:\n",
    "        if (np.random.rand() > 0.2):\n",
    "            train.append(d)\n",
    "        else:\n",
    "            test.append(d)\n",
    "    return train, test\n",
    "\n",
    "train, test = sep_data(data, 404)"
   ]
  },
  {
   "cell_type": "markdown",
   "metadata": {},
   "source": [
    "- Could cause bias in data prediction\n",
    "- To minimize bias in data prediction"
   ]
  },
  {
   "cell_type": "markdown",
   "metadata": {},
   "source": [
    "2) (0) There are many features in the data. Tell me one from the data set that you should NOT use."
   ]
  },
  {
   "cell_type": "markdown",
   "metadata": {
    "collapsed": true
   },
   "source": [
    "Code number"
   ]
  },
  {
   "cell_type": "markdown",
   "metadata": {},
   "source": [
    "3) (100) Build a Bayes Classifier for figuring out whether the tumor is cancerour or benign. Train on 80% and test on the 20%.\n",
    "- Justify the prior you use.\n",
    "- How many do you get correctly on test dataset?\n",
    "- Do you think the the number we got correctly on the test dataset is the thing we should optimize? Why and why not? (Exercise your common sense)"
   ]
  },
  {
   "cell_type": "code",
   "execution_count": 6,
   "metadata": {
    "collapsed": false
   },
   "outputs": [
    {
     "name": "stdout",
     "output_type": "stream",
     "text": [
      "370.0 192.0 562.0\n",
      "0.357664233577\n"
     ]
    }
   ],
   "source": [
    "class Prob:\n",
    "    def __init__(self):\n",
    "        self.clumpThinkess = [0,0,0 ,0,0,0 ,0,0,0 ,0,0]\n",
    "        self.uniformCellSize = [0,0,0 ,0,0,0 ,0,0,0 ,0,0]\n",
    "        self.uniformCellShape = [0,0,0 ,0,0,0 ,0,0,0 ,0,0]\n",
    "        self.marginalAdhesion = [0,0,0 ,0,0,0 ,0,0,0 ,0,0]\n",
    "        self.singleEpithelialCellSize = [0,0,0 ,0,0,0 ,0,0,0 ,0,0]\n",
    "        self.bareNuclei = [0,0,0 ,0,0,0 ,0,0,0 ,0,0]\n",
    "        self.blandChromatin = [0,0,0 ,0,0,0 ,0,0,0 ,0,0]\n",
    "        self.normalNucleoli = [0,0,0 ,0,0,0 ,0,0,0 ,0,0]\n",
    "        self.mitoses = [0,0,0 ,0,0,0 ,0,0,0 ,0,0]\n",
    "        self.benign = 0\n",
    "        \n",
    "        self.clumpThinkessM = [0,0,0 ,0,0,0 ,0,0,0 ,0,0]\n",
    "        self.uniformCellSizeM = [0,0,0 ,0,0,0 ,0,0,0 ,0,0]\n",
    "        self.uniformCellShapeM = [0,0,0 ,0,0,0 ,0,0,0 ,0,0]\n",
    "        self.marginalAdhesionM = [0,0,0 ,0,0,0 ,0,0,0 ,0,0]\n",
    "        self.singleEpithelialCellSizeM = [0,0,0 ,0,0,0 ,0,0,0 ,0,0]\n",
    "        self.bareNucleiM = [0,0,0 ,0,0,0 ,0,0,0 ,0,0]\n",
    "        self.blandChromatinM = [0,0,0 ,0,0,0 ,0,0,0 ,0,0]\n",
    "        self.normalNucleoliM = [0,0,0 ,0,0,0 ,0,0,0 ,0,0]\n",
    "        self.mitosesM = [0,0,0 ,0,0,0 ,0,0,0 ,0,0]\n",
    "        self.malignant = 0\n",
    "        \n",
    "        self.total = 0\n",
    "    def calTotal(self):\n",
    "        self.total = self.benign + self.malignant\n",
    "\n",
    "def set_prob(train):\n",
    "    prob = Prob()\n",
    "    for data in train:\n",
    "        if (data.result == 2):\n",
    "            prob.clumpThinkess[data.clumpThinkess] += 1.0\n",
    "            prob.uniformCellSize[data.uniformCellSize] += 1.0\n",
    "            prob.uniformCellShape[data.uniformCellShape] += 1.0\n",
    "            prob.marginalAdhesion[data.marginalAdhesion] += 1.0\n",
    "            prob.singleEpithelialCellSize[data.singleEpithelialCellSize] += 1.0\n",
    "            prob.bareNuclei[data.bareNuclei] += 1.0\n",
    "            prob.blandChromatin[data.blandChromatin] += 1.0\n",
    "            prob.normalNucleoli[data.normalNucleoli] += 1.0\n",
    "            prob.mitoses[data.mitoses] += 1.0\n",
    "            prob.benign += 1.0\n",
    "        else:\n",
    "            prob.clumpThinkessM[data.clumpThinkess] += 1.0\n",
    "            prob.uniformCellSizeM[data.uniformCellSize] += 1.0\n",
    "            prob.uniformCellShapeM[data.uniformCellShape] += 1.0\n",
    "            prob.marginalAdhesionM[data.marginalAdhesion] += 1.0\n",
    "            prob.singleEpithelialCellSizeM[data.singleEpithelialCellSize] += 1.0\n",
    "            prob.bareNucleiM[data.bareNuclei] += 1.0\n",
    "            prob.blandChromatinM[data.blandChromatin] += 1.0\n",
    "            prob.normalNucleoliM[data.normalNucleoli] += 1.0\n",
    "            prob.mitosesM[data.mitoses] += 1.0\n",
    "            prob.malignant += 1.0\n",
    "        \n",
    "    return prob\n",
    "\n",
    "prob = set_prob(train)\n",
    "prob.calTotal()\n",
    "print prob.benign, prob.malignant, prob.total\n",
    "\n",
    "def test_data(test, prob):\n",
    "    correct = 0\n",
    "    priorB = 0.5 #1/(prob.total)\n",
    "    priorM = 0.5 #1/(prob.total)\n",
    "    for data in test:\n",
    "        isBenign = 0\n",
    "        isBenign += prob.clumpThinkess[data.clumpThinkess]\n",
    "        isBenign += prob.uniformCellSize[data.uniformCellSize]\n",
    "        isBenign += prob.uniformCellShape[data.uniformCellShape]\n",
    "        isBenign += prob.marginalAdhesion[data.marginalAdhesion]\n",
    "        isBenign += prob.singleEpithelialCellSize[data.singleEpithelialCellSize]\n",
    "        isBenign += prob.bareNuclei[data.bareNuclei]\n",
    "        isBenign += prob.blandChromatin[data.blandChromatin]\n",
    "        isBenign += prob.normalNucleoli[data.normalNucleoli]\n",
    "        isBenign += prob.mitoses[data.mitoses]\n",
    "        isBenign = math.log(isBenign * priorB)\n",
    "                    \n",
    "        isMalign = 0\n",
    "        isMalign += prob.clumpThinkessM[data.clumpThinkess]\n",
    "        isMalign += prob.uniformCellSizeM[data.uniformCellSize]\n",
    "        isMalign += prob.uniformCellShapeM[data.uniformCellShape]\n",
    "        isMalign += prob.marginalAdhesionM[data.marginalAdhesion]\n",
    "        isMalign += prob.singleEpithelialCellSizeM[data.singleEpithelialCellSize]\n",
    "        isMalign += prob.bareNucleiM[data.bareNuclei]\n",
    "        isMalign += prob.blandChromatinM[data.blandChromatin]\n",
    "        isMalign += prob.normalNucleoliM[data.normalNucleoli]\n",
    "        isMalign += prob.mitosesM[data.mitoses]\n",
    "        isMalign = isMalign * priorM\n",
    "        \n",
    "        if (isMalign > isBenign and data.result == 4):\n",
    "            correct += 1.0\n",
    "        elif (isBenign > isMalign and data.result == 2):\n",
    "            correct += 1.0\n",
    "    return correct\n",
    "            \n",
    "\n",
    "correct = test_data(test, prob)\n",
    "total = len(test)\n",
    "print correct/total\n",
    "\n"
   ]
  },
  {
   "cell_type": "markdown",
   "metadata": {},
   "source": [
    "4) (Bonus) Try to do something different from what you did in 3) using your original idea. Report what you did even if it is worse than what you did in 3. If possible report why it works better/worse.\n",
    "\n",
    "Do not lookup the paper/other method just yet. I want you to develop the gut feeling in data analysis.\n",
    "\n",
    "Grading will be on scale of (meh 1%, OK? 3%, Hmm interesting 5%, Wow 10%)\n",
    "\n"
   ]
  },
  {
   "cell_type": "code",
   "execution_count": null,
   "metadata": {
    "collapsed": true
   },
   "outputs": [],
   "source": []
  }
 ],
 "metadata": {
  "kernelspec": {
   "display_name": "Python 2",
   "language": "python",
   "name": "python2"
  },
  "language_info": {
   "codemirror_mode": {
    "name": "ipython",
    "version": 2
   },
   "file_extension": ".py",
   "mimetype": "text/x-python",
   "name": "python",
   "nbconvert_exporter": "python",
   "pygments_lexer": "ipython2",
   "version": "2.7.10"
  }
 },
 "nbformat": 4,
 "nbformat_minor": 0
}
