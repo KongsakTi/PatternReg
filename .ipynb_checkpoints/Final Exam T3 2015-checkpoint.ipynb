{
 "cells": [
  {
   "cell_type": "code",
   "execution_count": 674,
   "metadata": {
    "collapsed": false
   },
   "outputs": [],
   "source": [
    "%matplotlib inline\n",
    "import numpy as np\n",
    "from matplotlib import pyplot as plt\n",
    "from scipy.optimize import minimize\n",
    "import math\n",
    "from math import exp, log, sin, cos"
   ]
  },
  {
   "cell_type": "markdown",
   "metadata": {},
   "source": [
    "### Instruction\n",
    "\n",
    "There are 6 problems 100 points each. Full score = 540. There is also an additonal 10 point bonus problem."
   ]
  },
  {
   "cell_type": "markdown",
   "metadata": {},
   "source": [
    "# 1) Multiclass Problem"
   ]
  },
  {
   "cell_type": "markdown",
   "metadata": {},
   "source": [
    "1) Write down Exhaustive Matrix for 4 classes."
   ]
  },
  {
   "cell_type": "markdown",
   "metadata": {
    "collapsed": true
   },
   "source": [
    "<table>\n",
    "<tr><td>  </td><td>C1</td><td>C2</td><td>C3</td><td>C4</td><td>C5</td><td>C6</td><td>C7</td></tr>\n",
    "<tr><td>A </td><td>1</td><td>0</td><td>0</td><td>0</td><td>1</td><td>1</td><td>1</td></tr>\n",
    "<tr><td>B </td><td>0</td><td>1</td><td>0</td><td>0</td><td>1</td><td>0</td><td>0</td></tr>\n",
    "<tr><td>C </td><td>0</td><td>0</td><td>1</td><td>0</td><td>0</td><td>1</td><td>0</td></tr>\n",
    "<tr><td>D </td><td>0</td><td>0</td><td>0</td><td>1</td><td>0</td><td>0</td><td>1</td></tr>\n",
    "</table>"
   ]
  },
  {
   "cell_type": "markdown",
   "metadata": {},
   "source": [
    "2) Given the following code matrix for 3 classes(R,G,B) problem.\n",
    "\n",
    "<table>\n",
    "<tr><td>  </td><td>C1</td><td>C2</td><td>C3</td></tr>\n",
    "<tr><td>R </td><td>1</td><td>-1</td><td>-1</td></tr>\n",
    "<tr><td>G </td><td>-1</td><td>1</td><td>-1</td></tr>\n",
    "<tr><td>B </td><td>-1</td><td>-1</td><td>1</td></tr>\n",
    "</table>\n",
    "\n",
    "What class is an unknown sample which give the output for C1, C2, C3 = (0.7,-0.3,0.1)? Justify your answer."
   ]
  },
  {
   "cell_type": "code",
   "execution_count": 675,
   "metadata": {
    "collapsed": false
   },
   "outputs": [
    {
     "name": "stdout",
     "output_type": "stream",
     "text": [
      "Distance from class R is 1.79\n",
      "Distance from class G is 5.79\n",
      "Distance from class B is 4.19\n"
     ]
    }
   ],
   "source": [
    "cs = [[1, -1, -1], [-1, 1, -1], [-1, -1, 1]]\n",
    "d = [0.7, -0.3, 0.1]\n",
    "ct = \"RGB\"\n",
    "for j, c in enumerate(cs):\n",
    "    print \"Distance from class \" + ct[j] + \" is\", sum([(d[i] - c[i])**2 for i in xrange(3)])"
   ]
  },
  {
   "cell_type": "markdown",
   "metadata": {},
   "source": [
    "Therefore, this sample is probably in class R"
   ]
  },
  {
   "cell_type": "markdown",
   "metadata": {},
   "source": [
    "3) Using the code matrix in previous problem. Suppose that these are your training data.\n",
    "\n",
    "<table>\n",
    "<tr><td> No </td><td>x1</td><td>x2</td><td>class</td></tr>\n",
    "<tr><td> 1. </td><td>1</td><td>2</td><td>R</td></tr>\n",
    "<tr><td> 2. </td><td>3</td><td>4</td><td>R</td></tr>\n",
    "<tr><td> 3. </td><td>5</td><td>6</td><td>G</td></tr>\n",
    "<tr><td> 4. </td><td>7</td><td>8</td><td>G</td></tr>\n",
    "<tr><td> 5. </td><td>9</td><td>10</td><td>B</td></tr>\n",
    "<tr><td> 6. </td><td>11</td><td>12</td><td>B</td></tr>\n",
    "<tr><td> 7. </td><td>13</td><td>14</td><td>B</td></tr>\n",
    "</table>\n",
    "\n",
    "In training C2, group the data point in which you use to train the classifier. (Which are used as class +1 and which are of class -1)\n",
    "\n"
   ]
  },
  {
   "cell_type": "markdown",
   "metadata": {
    "collapsed": true
   },
   "source": [
    "class +1 = [3, 4]\n",
    "\n",
    "class -1 = [1, 2, 5, 6, 7]"
   ]
  },
  {
   "cell_type": "markdown",
   "metadata": {},
   "source": [
    "4) Why do we bother using exhautive matrix instead of just one vs one given that exhaustive matrix requires more computing power? Justify your answer."
   ]
  },
  {
   "cell_type": "markdown",
   "metadata": {
    "collapsed": true
   },
   "source": [
    "The idea is to train a bunch of extra classifers doing different things. The more redundancy we have the better we can recover from mistakes. However, we do not want to do duplicate work."
   ]
  },
  {
   "cell_type": "markdown",
   "metadata": {},
   "source": [
    "# 2) Decision Tree"
   ]
  },
  {
   "cell_type": "markdown",
   "metadata": {},
   "source": [
    "1)  Let $p$ be the ratio of positive class and total sample that ended up on one side after making a cut. Suppose that we want to use the **maximum** score for selecting where to place a cut. One of these functions is a valid criteria for splitting tree. Justify your answer. No Justification = no score.\n",
    "\n",
    " - $f(p) = -(1-2p)^2$\n",
    " - $g(p) = -(1-p)^2$\n",
    " - $h(p) = (1-2p)^2$\n",
    " - $k(p) = (1-p)^2$\n"
   ]
  },
  {
   "cell_type": "markdown",
   "metadata": {
    "collapsed": true
   },
   "source": [
    "h is a valid one.\n",
    "\n",
    "In class\n",
    "\n",
    "$$s(p) = p(1-p) = p - p^2$$\n",
    "\n",
    "And, since\n",
    "\n",
    "$$h(p) = (1-2p)^2 = (1-2p)(1-2p) = 1 - 4p + 4p^2 = 1 - 4(p - p^2)$$\n",
    "\n",
    "1 is just shifting and 4 is just streching the graph, the important part is the '-' and $(p - p^2)$\n",
    "\n",
    "'-' flip the graph upsidedown, change the minimum to maximun, and the $(p - p^2)$ is the same function given in class, which mean it has the same feature as the function given in class except it the flipped version.\n",
    "\n",
    "This mean instead of choosing the minimum score, we will now choose the one with maximum score.\n",
    "\n",
    "\n",
    "\n",
    "\n"
   ]
  },
  {
   "cell_type": "markdown",
   "metadata": {},
   "source": [
    "2) As you see in the homework, Random Forest/Bagged Decision tree requires way more computation power than using just one decision tree.\n",
    "\n",
    "Give a reason why we would want to use multiple decision trees instead of just one decision tree. No troll reason please."
   ]
  },
  {
   "cell_type": "markdown",
   "metadata": {
    "collapsed": true
   },
   "source": [
    "Using one tree with 1 sample set can result in a overfitting tree.\n",
    "\n",
    "By using Random forest, we are averanging each of the overfitting tree leads to the \"good fitting\""
   ]
  },
  {
   "cell_type": "markdown",
   "metadata": {},
   "source": [
    "3) In the class we use $p(1-p)$ as the score function in picking a cut. Given the following data set of 1 dimension, where should we place the cut? Try the cut value in [2.5, 3.5, 4.5, 5.5].\n",
    "\n",
    "You probably don't want to do this by hand. Write a code."
   ]
  },
  {
   "cell_type": "code",
   "execution_count": 676,
   "metadata": {
    "collapsed": true
   },
   "outputs": [],
   "source": [
    "xs = np.array([2,3,4,5,3,4,5,6,5,4]) #features\n",
    "classes = np.array([0,0,0,0,0,1,1,1,1,1]) #classs"
   ]
  },
  {
   "cell_type": "code",
   "execution_count": 681,
   "metadata": {
    "collapsed": false
   },
   "outputs": [],
   "source": [
    "def inClass_score(cls):\n",
    "    p = sum(cls>0)/float(len(cls))\n",
    "    return p*(1 - p)\n",
    "\n",
    "def find_cut(xs, cls):\n",
    "    result = []\n",
    "\n",
    "    cuts = [2.5, 3.5, 4.5, 5.5]\n",
    "        \n",
    "    for cut in cuts:\n",
    "        left = cls[xs<cut]\n",
    "        ftLeft = xs[xs<cut]\n",
    "        right = cls[xs>=cut]\n",
    "        ftRight = xs[xs>=cut]\n",
    "        \n",
    "        s = inClass_score(left) + inClass_score(right)\n",
    "#         print left, right, s\n",
    "        result.append((cut, s,))\n",
    "#     print result\n",
    "    return min(result, key = lambda x: x[1])"
   ]
  },
  {
   "cell_type": "code",
   "execution_count": 682,
   "metadata": {
    "collapsed": false
   },
   "outputs": [
    {
     "name": "stdout",
     "output_type": "stream",
     "text": [
      "(3.5, 0.20408163265306123)\n"
     ]
    }
   ],
   "source": [
    "print find_cut(xs, classes)"
   ]
  },
  {
   "cell_type": "markdown",
   "metadata": {},
   "source": [
    "We should cut at 3.5"
   ]
  },
  {
   "cell_type": "markdown",
   "metadata": {},
   "source": [
    "4) For stopping criteria of mininum number of data in leaf size(`min_leaf`), is large `min_leaf` or small `min_leaf` more likely to create overfitting?"
   ]
  },
  {
   "cell_type": "markdown",
   "metadata": {
    "collapsed": true
   },
   "source": [
    "If min_lead is small, it is more likely to be overfitting."
   ]
  },
  {
   "cell_type": "markdown",
   "metadata": {},
   "source": [
    "# 3) Dimension Reduction"
   ]
  },
  {
   "cell_type": "markdown",
   "metadata": {},
   "source": [
    "Given the following data"
   ]
  },
  {
   "cell_type": "code",
   "execution_count": 683,
   "metadata": {
    "collapsed": false
   },
   "outputs": [
    {
     "data": {
      "text/plain": [
       "[<matplotlib.lines.Line2D at 0x11b824e90>]"
      ]
     },
     "execution_count": 683,
     "metadata": {},
     "output_type": "execute_result"
    },
    {
     "data": {
      "image/png": "[encoded data removed]",
      "text/plain": [
       "<matplotlib.figure.Figure at 0x11c152810>"
      ]
     },
     "metadata": {},
     "output_type": "display_data"
    }
   ],
   "source": [
    "data = np.random.multivariate_normal([1,2], [[2, -2], [-2, 4]], 100)\n",
    "plt.plot(data[:,0],data[:, 1], '.b')"
   ]
  },
  {
   "cell_type": "markdown",
   "metadata": {},
   "source": [
    "1) Plot the data after zero out the mean and make std deviation for each variable one."
   ]
  },
  {
   "cell_type": "code",
   "execution_count": 684,
   "metadata": {
    "collapsed": false
   },
   "outputs": [
    {
     "data": {
      "text/plain": [
       "[<matplotlib.lines.Line2D at 0x11dce22d0>]"
      ]
     },
     "execution_count": 684,
     "metadata": {},
     "output_type": "execute_result"
    },
    {
     "data": {
      "image/png": "[encoded data removed]",
      "text/plain": [
       "<matplotlib.figure.Figure at 0x11d9e2110>"
      ]
     },
     "metadata": {},
     "output_type": "display_data"
    }
   ],
   "source": [
    "norm_data = data.copy()\n",
    "\n",
    "for i in xrange(data.shape[1]):\n",
    "    s = data[:, i]\n",
    "    s = s - np.average(s)\n",
    "    s = s / np.std(s)\n",
    "    norm_data[:, i] = s\n",
    "\n",
    "    \n",
    "\n",
    "\n",
    "\n",
    "plt.plot(norm_data[:, 0], norm_data[:, 1], '.b')"
   ]
  },
  {
   "cell_type": "code",
   "execution_count": 685,
   "metadata": {
    "collapsed": false
   },
   "outputs": [
    {
     "name": "stdout",
     "output_type": "stream",
     "text": [
      "(2, 2)\n"
     ]
    }
   ],
   "source": [
    "def cov(nxs):\n",
    "    return np.dot(nxs.T, nxs)/len(nxs[0])\n",
    "\n",
    "covMat = cov(norm_data)\n",
    "print covMat.shape"
   ]
  },
  {
   "cell_type": "markdown",
   "metadata": {},
   "source": [
    "2) Find the principal axis with the largest variance. (Give me the vector along that direction)"
   ]
  },
  {
   "cell_type": "code",
   "execution_count": 687,
   "metadata": {
    "collapsed": false
   },
   "outputs": [],
   "source": [
    "evals, evecs = np.linalg.eigh(covMat)"
   ]
  },
  {
   "cell_type": "code",
   "execution_count": 708,
   "metadata": {
    "collapsed": false
   },
   "outputs": [
    {
     "data": {
      "image/png": "[encoded data removed]",
      "text/plain": [
       "<matplotlib.figure.Figure at 0x11ecba250>"
      ]
     },
     "metadata": {},
     "output_type": "display_data"
    }
   ],
   "source": [
    "def plot_data(xs):\n",
    "    plt.plot(xs[:, 0], xs[:, 1], '.')\n",
    "    plt.grid(True)\n",
    "    \n",
    "plot_data(norm_data)\n",
    "t = np.linspace(-4, 4)\n",
    "vs = evecs[0] * t[:, np.newaxis]\n",
    "vs = vs.T\n",
    "plt.plot(vs[0], vs[1], 'k')\n",
    "\n",
    "vs = evecs[1] * t[:, np.newaxis]\n",
    "vs = vs.T\n",
    "plt.plot(vs[0], vs[1], 'r')\n",
    "\n",
    "plt.axes().set_aspect('equal', 'datalim')"
   ]
  },
  {
   "cell_type": "code",
   "execution_count": 689,
   "metadata": {
    "collapsed": false
   },
   "outputs": [
    {
     "name": "stdout",
     "output_type": "stream",
     "text": [
      "[-0.70710678  0.70710678]\n"
     ]
    }
   ],
   "source": [
    "print evecs[-1]"
   ]
  },
  {
   "cell_type": "markdown",
   "metadata": {},
   "source": [
    "3) Find the principal axis with smallest variance. (Give me the vector along that direction)"
   ]
  },
  {
   "cell_type": "code",
   "execution_count": 690,
   "metadata": {
    "collapsed": false
   },
   "outputs": [
    {
     "name": "stdout",
     "output_type": "stream",
     "text": [
      "[-0.70710678 -0.70710678]\n"
     ]
    }
   ],
   "source": [
    "print evecs[0]"
   ]
  },
  {
   "cell_type": "markdown",
   "metadata": {},
   "source": [
    "4) Given a new **raw** data point [2,3]. Transform this data point onto principal axis coordinate. (Don't forget to shift and scale it first)"
   ]
  },
  {
   "cell_type": "code",
   "execution_count": 695,
   "metadata": {
    "collapsed": false
   },
   "outputs": [],
   "source": [
    "rd = [2, 3]\n",
    "check_data = np.vstack([norm_data, rd])\n",
    "\n",
    "for i in xrange(check_data.shape[1]):\n",
    "    s = data[:, i]\n",
    "    check_data[-1][i] = check_data[-1][i] - np.average(s)\n",
    "    check_data[-1][i] = check_data[-1][i] / np.std(s)\n"
   ]
  },
  {
   "cell_type": "code",
   "execution_count": 696,
   "metadata": {
    "collapsed": false
   },
   "outputs": [
    {
     "data": {
      "text/plain": [
       "[<matplotlib.lines.Line2D at 0x11e11c290>]"
      ]
     },
     "execution_count": 696,
     "metadata": {},
     "output_type": "execute_result"
    },
    {
     "data": {
      "image/png": "[encoded data removed]",
      "text/plain": [
       "<matplotlib.figure.Figure at 0x11e11c150>"
      ]
     },
     "metadata": {},
     "output_type": "display_data"
    }
   ],
   "source": [
    "plt.plot(data[:,0],data[:, 1], '.b')\n",
    "plt.plot(rd[0], rd[1], 'or')"
   ]
  },
  {
   "cell_type": "code",
   "execution_count": 710,
   "metadata": {
    "collapsed": false
   },
   "outputs": [
    {
     "name": "stdout",
     "output_type": "stream",
     "text": [
      "0.00525245584574\n",
      "0.996422520391\n",
      "0.00493845468399\n",
      "0.996261935119\n"
     ]
    },
    {
     "data": {
      "image/png": "[encoded data removed]",
      "text/plain": [
       "<matplotlib.figure.Figure at 0x11f987290>"
      ]
     },
     "metadata": {},
     "output_type": "display_data"
    }
   ],
   "source": [
    "for i in xrange(check_data.shape[1]):\n",
    "    print np.mean(check_data[:, i])\n",
    "    print np.std(check_data[:, i])\n",
    "plot_data(norm_data)\n",
    "t = np.linspace(-4, 4)\n",
    "vs = evecs[0] * t[:, np.newaxis]\n",
    "vs = vs.T\n",
    "plt.plot(vs[0], vs[1], 'k')\n",
    "\n",
    "vs = evecs[1] * t[:, np.newaxis]\n",
    "vs = vs.T\n",
    "plt.plot(vs[0], vs[1], 'r')\n",
    "plt.plot(check_data[-1][0], check_data[-1][1], 'or')\n",
    "plt.axes().set_aspect('equal', 'datalim')"
   ]
  },
  {
   "cell_type": "code",
   "execution_count": 711,
   "metadata": {
    "collapsed": false
   },
   "outputs": [
    {
     "name": "stdout",
     "output_type": "stream",
     "text": [
      "[ 0.53049804  0.49878392]\n"
     ]
    }
   ],
   "source": [
    "print check_data[-1]"
   ]
  },
  {
   "cell_type": "markdown",
   "metadata": {},
   "source": [
    "# 4) Clustering"
   ]
  },
  {
   "cell_type": "markdown",
   "metadata": {},
   "source": [
    "1) With K-mean algorithm, given these two centroids $c_1$ aand $c_2$.\n",
    "\n",
    "For these three points $x_1, x_2, x_3$ find out which centroid each data point belongs to."
   ]
  },
  {
   "cell_type": "code",
   "execution_count": 712,
   "metadata": {
    "collapsed": true
   },
   "outputs": [],
   "source": [
    "c1 = [2., 3.]\n",
    "c2 = [-2., -3.]\n",
    "\n",
    "x1 = [2, 1]\n",
    "x2 = [3, 3]\n",
    "x3 = [-2, -1]"
   ]
  },
  {
   "cell_type": "code",
   "execution_count": 713,
   "metadata": {
    "collapsed": true
   },
   "outputs": [],
   "source": [
    "def calDistance(c, p):\n",
    "    return sum((p - c)**2)*0.5"
   ]
  },
  {
   "cell_type": "code",
   "execution_count": 714,
   "metadata": {
    "collapsed": false
   },
   "outputs": [
    {
     "name": "stdout",
     "output_type": "stream",
     "text": [
      "[(0, 2.0), (1, 16.0)]\n",
      "[(0, 0.5), (1, 30.5)]\n",
      "[(0, 16.0), (1, 2.0)]\n"
     ]
    }
   ],
   "source": [
    "for x in [x1, x2, x3]:\n",
    "    dis = [ (i, calDistance(np.array(c), np.array(x))) for i, c in enumerate([c1, c2]) ]\n",
    "    print dis"
   ]
  },
  {
   "cell_type": "markdown",
   "metadata": {},
   "source": [
    "x1 in c1\n",
    "\n",
    "x2 in c1\n",
    "\n",
    "x3 in c2"
   ]
  },
  {
   "cell_type": "markdown",
   "metadata": {},
   "source": [
    "2) Why doesn't normal K-mean work on this data set?"
   ]
  },
  {
   "cell_type": "code",
   "execution_count": 715,
   "metadata": {
    "collapsed": false
   },
   "outputs": [
    {
     "data": {
      "text/plain": [
       "[<matplotlib.lines.Line2D at 0x11fe5c910>]"
      ]
     },
     "execution_count": 715,
     "metadata": {},
     "output_type": "execute_result"
    },
    {
     "data": {
      "image/png": "[encoded data removed]",
      "text/plain": [
       "<matplotlib.figure.Figure at 0x11ee51390>"
      ]
     },
     "metadata": {},
     "output_type": "display_data"
    }
   ],
   "source": [
    "np.random.seed(9999)\n",
    "ndata = 50\n",
    "thetas = np.linspace(0,2*math.pi,ndata)\n",
    "data1 = np.array([\n",
    "    [2*cos(theta) for theta in thetas],\n",
    "    [2*sin(theta) for theta in thetas]\n",
    "])\n",
    "\n",
    "data1 = data1 + np.random.randn(2, ndata)*0.3\n",
    "\n",
    "data2 = np.random.randn(2, 30)*0.2\n",
    "\n",
    "#plt.plot(data1[0], data1[1], '.')\n",
    "#plt.plot(data2[0], data2[1], '.')\n",
    "\n",
    "data = np.concatenate((data1, data2), axis=1)\n",
    "sorted_data = data.copy().T\n",
    "np.random.shuffle(data.T)\n",
    "\n",
    "\n",
    "data = data.T\n",
    "plt.plot(data[:, 0], data[:, 1],'.')"
   ]
  },
  {
   "cell_type": "markdown",
   "metadata": {
    "collapsed": true
   },
   "source": [
    "Because K-mean doesn't take the distance between each data point into account.\n",
    "This means that K-mean would not group data point that are close together when it should have."
   ]
  },
  {
   "cell_type": "markdown",
   "metadata": {},
   "source": [
    "3) Compute adjacency/affinity matrix (imshow the matrix as an answer). (Use `data` not `sorted_data`) `sorted_data` is provided for you to debug your code."
   ]
  },
  {
   "cell_type": "code",
   "execution_count": 716,
   "metadata": {
    "collapsed": true
   },
   "outputs": [],
   "source": [
    "def calAdj(x1, x2):\n",
    "    scaling = 1\n",
    "    return np.exp( ( -calDistance(x1, x2)**2 )/ scaling**2)\n",
    "\n",
    "def toMatrix(data):\n",
    "    nData, nFeature = data.shape\n",
    "    mat = np.zeros((nData, nData))\n",
    "    for irow in xrange(nData):\n",
    "        for icolumn in xrange(1, nData):\n",
    "            mat[irow][icolumn] = 1 if irow == icolumn else np.array( calAdj(data[irow], data[icolumn]) )\n",
    "    return mat + mat.T"
   ]
  },
  {
   "cell_type": "code",
   "execution_count": 717,
   "metadata": {
    "collapsed": false
   },
   "outputs": [
    {
     "data": {
      "text/plain": [
       "<matplotlib.image.AxesImage at 0x11ff96310>"
      ]
     },
     "execution_count": 717,
     "metadata": {},
     "output_type": "execute_result"
    },
    {
     "data": {
      "image/png": "[encoded data removed]",
      "text/plain": [
       "<matplotlib.figure.Figure at 0x11ed19d50>"
      ]
     },
     "metadata": {},
     "output_type": "display_data"
    }
   ],
   "source": [
    "mat = toMatrix(data)\n",
    "plt.imshow(mat)"
   ]
  },
  {
   "cell_type": "markdown",
   "metadata": {},
   "source": [
    "4) Cluster this data with 2 clusters."
   ]
  },
  {
   "cell_type": "code",
   "execution_count": 718,
   "metadata": {
    "collapsed": true
   },
   "outputs": [],
   "source": [
    "def plot_classify(data, dataClass, centroids):\n",
    "    xsClasses = [ data[dataClass == c] for c in xrange(len(centroids))]\n",
    "    for idx, xsClass in enumerate(xsClasses):\n",
    "        plt.plot(xsClass[:, 0], xsClass[:, 1], '.')\n",
    "        plt.plot(centroids[idx][0], centroids[idx][1], 'ok')"
   ]
  },
  {
   "cell_type": "code",
   "execution_count": 719,
   "metadata": {
    "collapsed": false
   },
   "outputs": [],
   "source": [
    "def classify(data, centroids):\n",
    "    dataClass = np.zeros(len(data))\n",
    "    dis = np.zeros((len(data), len(centroids)))\n",
    "    \n",
    "    for idx, d in enumerate(data):\n",
    "        distances = [ calDistance(c, d) for c in centroids ]\n",
    "        dataClass[idx] = np.argmin(distances)\n",
    "    return dataClass\n",
    "\n",
    "def k_mean(data, centroids):\n",
    "    cc = centroids.copy()\n",
    "    \n",
    "    for i in xrange(100):\n",
    "        dataClass = classify(data, centroids)\n",
    "        centroids = [ np.mean(data[dataClass == idx], 0) for idx in xrange(len(centroids)) ]\n",
    "    return centroids, dataClass"
   ]
  },
  {
   "cell_type": "code",
   "execution_count": 720,
   "metadata": {
    "collapsed": false
   },
   "outputs": [
    {
     "data": {
      "image/png": "[encoded data removed]",
      "text/plain": [
       "<matplotlib.figure.Figure at 0x11fdc1450>"
      ]
     },
     "metadata": {},
     "output_type": "display_data"
    }
   ],
   "source": [
    "acs = np.array( [ mat[x] for x in np.random.choice(80, 2) ] )\n",
    "centroids, dataClass = k_mean(mat, acs)\n",
    "plot_classify(data, dataClass, centroids)"
   ]
  },
  {
   "cell_type": "markdown",
   "metadata": {},
   "source": [
    "# 5) Collaborative Filtering"
   ]
  },
  {
   "cell_type": "markdown",
   "metadata": {},
   "source": [
    "1) (100) The following data shows the rating **3 people** gives to **4 movies**. For simplicity the rating can go from $-\\infty$ to $\\infty$.\n",
    "\n",
    "The array `missing` indicate the missing data. \n",
    "- $0$ means the data is NOT missing\n",
    "- $1$ means the data is missing.\n",
    "\n",
    "Predict the missing rating. Use 1 feature. Do not use more than 1 feature.\n",
    "\n",
    "Hint: Be careful missing array is not exactly $H$."
   ]
  },
  {
   "cell_type": "code",
   "execution_count": 750,
   "metadata": {
    "collapsed": true
   },
   "outputs": [],
   "source": [
    "rating = np.array([ \n",
    "        [1, 2, 3],\n",
    "        [-1, -2, 3],\n",
    "        [-2, 1, 3],\n",
    "        [1, 1, 0]\n",
    "])\n",
    "\n",
    "missing = np.array([\n",
    "        [0,0,0],\n",
    "        [0,0,0],\n",
    "        [0,0,0],\n",
    "        [0,0,1]\n",
    "    ])"
   ]
  },
  {
   "cell_type": "code",
   "execution_count": 751,
   "metadata": {
    "collapsed": false
   },
   "outputs": [
    {
     "name": "stdout",
     "output_type": "stream",
     "text": [
      "[[1 1 1]\n",
      " [1 1 1]\n",
      " [1 1 1]\n",
      " [1 1 0]]\n"
     ]
    }
   ],
   "source": [
    "H = np.array([np.array([1 if x == 0 else 0 for x in xs]) for xs in missing ])\n",
    "T = rating\n",
    "print H"
   ]
  },
  {
   "cell_type": "code",
   "execution_count": 752,
   "metadata": {
    "collapsed": true
   },
   "outputs": [],
   "source": [
    "def score(M, P):\n",
    "    return np.sum(H * (T - np.dot(M.T, P))**2)"
   ]
  },
  {
   "cell_type": "code",
   "execution_count": 801,
   "metadata": {
    "collapsed": true
   },
   "outputs": [],
   "source": [
    "def find_M_P(M, P):\n",
    "    l = 0.0001\n",
    "    \n",
    "    for i in xrange(200000):\n",
    "        HT = (H * (T - np.dot(M.T, P)))\n",
    "        M = M + l * np.dot(P, HT.T)\n",
    "        P = P + l * np.dot(M, HT)\n",
    "        \n",
    "        if (i%5000 == 0):\n",
    "            print i, score(M, P)\n",
    "        \n",
    "    return M, P\n",
    "\n",
    "# def find_R_P(R, P):\n",
    "#     l = 0.001\n",
    "    \n",
    "#     for i in xrange(100000):\n",
    "#         HT = (H * (T - np.dot(R.T, P)))\n",
    "#         R = R + l * np.dot(P, HT.T)\n",
    "#         P = P + l * np.dot(R, HT)\n",
    "        \n",
    "#         if (i%500 == 0):\n",
    "#             print i, score(R, P)\n",
    "        \n",
    "#     return R, P"
   ]
  },
  {
   "cell_type": "code",
   "execution_count": 813,
   "metadata": {
    "collapsed": true
   },
   "outputs": [],
   "source": [
    "npeople = 3\n",
    "nmovie = 4\n",
    "nfeature = 1"
   ]
  },
  {
   "cell_type": "code",
   "execution_count": 814,
   "metadata": {
    "collapsed": false
   },
   "outputs": [],
   "source": [
    "np.random.seed(17)\n",
    "P = np.random.randn(nfeature, npeople)\n",
    "M = np.random.randn(nfeature, nmovie)"
   ]
  },
  {
   "cell_type": "code",
   "execution_count": 815,
   "metadata": {
    "collapsed": false
   },
   "outputs": [
    {
     "name": "stdout",
     "output_type": "stream",
     "text": [
      "0 61.4333991428\n",
      "5000 15.1760358163\n",
      "10000 14.7381471587\n",
      "15000 14.6456011082\n",
      "20000 14.5857325003\n",
      "25000 14.5353912106\n",
      "30000 14.4928792466\n",
      "35000 14.4575763422\n",
      "40000 14.4286329467\n",
      "45000 14.4050914164\n",
      "50000 14.3860232449\n",
      "55000 14.3706003205\n",
      "60000 14.3581195807\n",
      "65000 14.3480017626\n",
      "70000 14.3397781831\n",
      "75000 14.3330735923\n",
      "80000 14.3275891827\n",
      "85000 14.3230875159\n",
      "90000 14.3193798884\n",
      "95000 14.3163160825\n",
      "100000 14.3137762026\n",
      "105000 14.311664246\n",
      "110000 14.3099030645\n",
      "115000 14.3084304272\n",
      "120000 14.3071959428\n",
      "125000 14.3061586515\n",
      "130000 14.3052851343\n",
      "135000 14.3045480262\n",
      "140000 14.3039248407\n",
      "145000 14.3033970391\n",
      "150000 14.3029492884\n",
      "155000 14.3025688692\n",
      "160000 14.3022451998\n",
      "165000 14.3019694539\n",
      "170000 14.3017342506\n",
      "175000 14.3015334031\n",
      "180000 14.3013617139\n",
      "185000 14.3012148079\n",
      "190000 14.3010889948\n",
      "195000 14.3009811562\n"
     ]
    }
   ],
   "source": [
    "M, P = find_M_P(M, P)"
   ]
  },
  {
   "cell_type": "code",
   "execution_count": 816,
   "metadata": {
    "collapsed": true
   },
   "outputs": [],
   "source": [
    "from IPython.display import HTML\n",
    "\n",
    "class TableCell:\n",
    "    \n",
    "    def __init__(self, text, tc=None, color=None):\n",
    "        self.text = text\n",
    "        self.tc = tc\n",
    "        self.color = color\n",
    "    \n",
    "    def to_html(self):\n",
    "        return '<td>%s</td>'%self.text\n",
    "\n",
    "#the rating and guess matrix has different convention from the notes so be sure to transpose it first\n",
    "def maketable(rating, has_rating, guess, restaurants, names):\n",
    "    n_rests = len(restaurants)\n",
    "    n_names = len(names)\n",
    "    tab = np.empty((n_rests+1, n_names+1),dtype='object')\n",
    "#     guess = scale(guess)\n",
    "    #print tab.shape\n",
    "\n",
    "    for irest in range(n_rests):\n",
    "        tab[irest+1,0] = restaurants[irest]\n",
    "\n",
    "    for iname in range(n_names):\n",
    "        tab[0,iname+1] = names[iname]\n",
    "\n",
    "    for irest in range(n_rests):\n",
    "        for iname in range(n_names):\n",
    "            if not has_rating[iname, irest]:\n",
    "                tab[irest+1, iname+1] = TableCell('<span style=\"color:red\">%3.2f</span>'%(guess[iname, irest]))\n",
    "            else:\n",
    "                tab[irest+1, iname+1] = TableCell('<span style=\"color:blue\">%3.2f</span><span style=\"color:red\">(%3.2f)</span>'%(rating[iname, irest], guess[iname, irest]))\n",
    "    #now convert tab array to nice html table\n",
    "    nrow, ncol = tab.shape\n",
    "    t = []\n",
    "    t.append('<table>')\n",
    "    for irow in range(nrow):\n",
    "        t.append('<tr>')\n",
    "        for icol in range(ncol):\n",
    "            cell = tab[irow,icol]\n",
    "            if cell is not None:\n",
    "                if isinstance(cell,TableCell):\n",
    "                    t.append(tab[irow, icol].to_html())\n",
    "                else:\n",
    "                    t.append('<td>')\n",
    "                    t.append(tab[irow, icol])\n",
    "                    t.append('</td>')\n",
    "            else:\n",
    "                t.append('<td></td>')\n",
    "        t.append('</tr>')  \n",
    "    t.append('</table>')\n",
    "    return '\\n'.join(t)"
   ]
  },
  {
   "cell_type": "code",
   "execution_count": 817,
   "metadata": {
    "collapsed": false
   },
   "outputs": [
    {
     "data": {
      "text/html": [
       "<table>\n",
       "<tr>\n",
       "<td></td>\n",
       "<td>\n",
       "1\n",
       "</td>\n",
       "<td>\n",
       "2\n",
       "</td>\n",
       "<td>\n",
       "3\n",
       "</td>\n",
       "</tr>\n",
       "<tr>\n",
       "<td>\n",
       "A\n",
       "</td>\n",
       "<td><span style=\"color:blue\">1.00</span><span style=\"color:red\">(-0.59)</span></td>\n",
       "<td><span style=\"color:blue\">2.00</span><span style=\"color:red\">(-0.15)</span></td>\n",
       "<td><span style=\"color:blue\">3.00</span><span style=\"color:red\">(2.50)</span></td>\n",
       "</tr>\n",
       "<tr>\n",
       "<td>\n",
       "B\n",
       "</td>\n",
       "<td><span style=\"color:blue\">-1.00</span><span style=\"color:red\">(-0.75)</span></td>\n",
       "<td><span style=\"color:blue\">-2.00</span><span style=\"color:red\">(-0.19)</span></td>\n",
       "<td><span style=\"color:blue\">3.00</span><span style=\"color:red\">(3.17)</span></td>\n",
       "</tr>\n",
       "<tr>\n",
       "<td>\n",
       "C\n",
       "</td>\n",
       "<td><span style=\"color:blue\">-2.00</span><span style=\"color:red\">(-0.76)</span></td>\n",
       "<td><span style=\"color:blue\">1.00</span><span style=\"color:red\">(-0.19)</span></td>\n",
       "<td><span style=\"color:blue\">3.00</span><span style=\"color:red\">(3.22)</span></td>\n",
       "</tr>\n",
       "<tr>\n",
       "<td>\n",
       "D\n",
       "</td>\n",
       "<td><span style=\"color:blue\">1.00</span><span style=\"color:red\">(1.17)</span></td>\n",
       "<td><span style=\"color:blue\">1.00</span><span style=\"color:red\">(0.29)</span></td>\n",
       "<td><span style=\"color:red\">-4.92</span></td>\n",
       "</tr>\n",
       "</table>"
      ],
      "text/plain": [
       "<IPython.core.display.HTML object>"
      ]
     },
     "execution_count": 817,
     "metadata": {},
     "output_type": "execute_result"
    }
   ],
   "source": [
    "HTML(maketable(T.T, H.T, np.dot(M.T, P).T, ['A', 'B', 'C', 'D'], ['1', '2', '3']))"
   ]
  },
  {
   "cell_type": "code",
   "execution_count": 818,
   "metadata": {
    "collapsed": false
   },
   "outputs": [
    {
     "data": {
      "text/plain": [
       "-4.9219587470967152"
      ]
     },
     "execution_count": 818,
     "metadata": {},
     "output_type": "execute_result"
    }
   ],
   "source": [
    " np.dot(M.T, P)[3, 2]"
   ]
  },
  {
   "cell_type": "markdown",
   "metadata": {},
   "source": [
    "2) Bonus(10): Why did I tell you to use 1 feature for this data? Essentially why not 2 or more. This is a bit subtle."
   ]
  },
  {
   "cell_type": "markdown",
   "metadata": {
    "collapsed": true
   },
   "source": [
    "With more feature it will be over fitting"
   ]
  },
  {
   "cell_type": "markdown",
   "metadata": {},
   "source": [
    "# 6) SVM"
   ]
  },
  {
   "cell_type": "code",
   "execution_count": 730,
   "metadata": {
    "collapsed": false
   },
   "outputs": [],
   "source": [
    "data = np.array([\n",
    " [ 0.30030721,  0.89621833],\n",
    " [-0.22394223,  0.28259232],\n",
    " [ 0.38102411, -0.74678138],\n",
    " [-0.52106645, -0.49168587],\n",
    " [-0.14711671,  0.67800509],\n",
    " [ 0.49006729, -0.23864144],\n",
    " [-0.47661415, -0.89333242],\n",
    " [-0.12620724, -0.58204177],\n",
    " [ 0.18882204, -0.80219294],\n",
    " [-0.55181294,  0.16852481],\n",
    " [ 0.3       , -0.5       ]])\n",
    "classes = np.array([-1, -1,  1, -1, -1,  1,  1,  1,  1, -1, -1])"
   ]
  },
  {
   "cell_type": "markdown",
   "metadata": {},
   "source": [
    "1) Given $\\vec{w}=[1,-1]$ and $b=0.7$ group. Draw the data point such that everything on the <span style=\"color:red\">left</span> of the line is <span style=\"color:red\">red</span> and everything on the <span style=\"color:blue\">right</span> of the line is <span style=\"color:blue\">blue</span>."
   ]
  },
  {
   "cell_type": "code",
   "execution_count": 731,
   "metadata": {
    "collapsed": false
   },
   "outputs": [
    {
     "data": {
      "text/plain": [
       "[<matplotlib.lines.Line2D at 0x11fafa790>]"
      ]
     },
     "execution_count": 731,
     "metadata": {},
     "output_type": "execute_result"
    },
    {
     "data": {
      "image/png": "[encoded data removed]",
      "text/plain": [
       "<matplotlib.figure.Figure at 0x1201a4190>"
      ]
     },
     "metadata": {},
     "output_type": "display_data"
    }
   ],
   "source": [
    "plt.plot(data[:, 0], data[:, 1], 'ok')"
   ]
  },
  {
   "cell_type": "code",
   "execution_count": 732,
   "metadata": {
    "collapsed": true
   },
   "outputs": [],
   "source": [
    "w = [1, -1]\n",
    "b = 0.7\n",
    "def calY(x):\n",
    "    return (-w[0] * x - b)/w[1]"
   ]
  },
  {
   "cell_type": "code",
   "execution_count": 733,
   "metadata": {
    "collapsed": false
   },
   "outputs": [
    {
     "data": {
      "text/plain": [
       "[<matplotlib.lines.Line2D at 0x11ef99650>]"
      ]
     },
     "execution_count": 733,
     "metadata": {},
     "output_type": "execute_result"
    },
    {
     "data": {
      "image/png": "[encoded data removed]",
      "text/plain": [
       "<matplotlib.figure.Figure at 0x11f952490>"
      ]
     },
     "metadata": {},
     "output_type": "display_data"
    }
   ],
   "source": [
    "xs = np.linspace(min(data[:, 0]), max(data[:, 1]), 100) \n",
    "ys = np.array([ calY(x) for x in xs ])\n",
    "plt.plot(xs, ys, 'r')"
   ]
  },
  {
   "cell_type": "code",
   "execution_count": 734,
   "metadata": {
    "collapsed": true
   },
   "outputs": [],
   "source": [
    "def calYY(x):\n",
    "    return np.dot(w, x) + b"
   ]
  },
  {
   "cell_type": "code",
   "execution_count": 735,
   "metadata": {
    "collapsed": false
   },
   "outputs": [],
   "source": [
    "redIdx  = np.array( [ True if calYY(x) > 0 else False for x in data ] )\n",
    "\n",
    "blueIdx = np.array( [ True if calYY(x) <= 0 else False for x in data ] ) \n",
    "\n",
    "red = data[redIdx]\n",
    "blue = data[blueIdx]"
   ]
  },
  {
   "cell_type": "code",
   "execution_count": 736,
   "metadata": {
    "collapsed": false
   },
   "outputs": [
    {
     "data": {
      "text/plain": [
       "[<matplotlib.lines.Line2D at 0x11fae74d0>]"
      ]
     },
     "execution_count": 736,
     "metadata": {},
     "output_type": "execute_result"
    },
    {
     "data": {
      "image/png": "[encoded data removed]",
      "text/plain": [
       "<matplotlib.figure.Figure at 0x11f8b2ed0>"
      ]
     },
     "metadata": {},
     "output_type": "display_data"
    }
   ],
   "source": [
    "plt.plot(red[:, 0], red[:, 1], 'or')\n",
    "plt.plot(blue[:, 0], blue[:, 1], 'ob')\n",
    "plt.plot(xs, ys, 'k')"
   ]
  },
  {
   "cell_type": "markdown",
   "metadata": {},
   "source": [
    "2) With cost function for soft margin which term penalize the margin size and which term penalize misclassification?"
   ]
  },
  {
   "cell_type": "code",
   "execution_count": 737,
   "metadata": {
    "collapsed": false
   },
   "outputs": [],
   "source": [
    "C = 100\n",
    "def cost(ws):\n",
    "    b = ws[0]\n",
    "    w = ws[1:]\n",
    "    xi = [max (0, 1 - y*(np.dot(x, w) + b)) for y,x in zip(classes, data)]\n",
    "    sum_xi = sum(xi)\n",
    "    return np.linalg.norm(w)**2 + C*sum_xi"
   ]
  },
  {
   "cell_type": "markdown",
   "metadata": {},
   "source": [
    "3) In the limit where we really insist that the classifier must classify everything correctly, is $C$ large or small?"
   ]
  },
  {
   "cell_type": "markdown",
   "metadata": {
    "collapsed": true
   },
   "source": [
    "C should be large"
   ]
  },
  {
   "cell_type": "markdown",
   "metadata": {},
   "source": [
    "4) Using soft margin we did in class, find the line with the least margin. Be sure to draw it along with data points."
   ]
  },
  {
   "cell_type": "code",
   "execution_count": 738,
   "metadata": {
    "collapsed": false
   },
   "outputs": [
    {
     "name": "stdout",
     "output_type": "stream",
     "text": [
      "      fun: 335.3000371503944\n",
      " hess_inv: array([[ 0.01078608,  0.00929495,  0.01149686],\n",
      "       [ 0.00929495,  0.012343  ,  0.00610081],\n",
      "       [ 0.01149686,  0.00610081,  0.01679911]])\n",
      "      jac: array([-20.66632462,  28.53601837,  21.82343674])\n",
      "  message: 'Desired error not necessarily achieved due to precision loss.'\n",
      "     nfev: 197\n",
      "      nit: 6\n",
      "     njev: 37\n",
      "   status: 2\n",
      "  success: False\n",
      "        x: array([-1.83514461,  3.29080814, -5.12244303])\n"
     ]
    },
    {
     "data": {
      "text/plain": [
       "[<matplotlib.lines.Line2D at 0x11f8b2210>]"
      ]
     },
     "execution_count": 738,
     "metadata": {},
     "output_type": "execute_result"
    },
    {
     "data": {
      "image/png": "[encoded data removed]",
      "text/plain": [
       "<matplotlib.figure.Figure at 0x11fe6a810>"
      ]
     },
     "metadata": {},
     "output_type": "display_data"
    }
   ],
   "source": [
    "res = minimize(cost, [0., 1., 2.])\n",
    "\n",
    "print res \n",
    "b = res.x[0]\n",
    "w = res.x[1:]\n",
    "m = -w[0]/w[1]\n",
    "c = -b/w[1]\n",
    "\n",
    "xs = np.linspace(min(data[:, 0]), max(data[:, 1]), 100)\n",
    "ys = m*xs + c\n",
    "plt.plot(xs, ys)\n",
    "\n",
    "m = -w[0]/w[1]\n",
    "cl = -(b-1)/w[1]\n",
    "xs = np.linspace(min(data[:, 0]), max(data[:, 1]), 100)\n",
    "yls = m*xs + cl\n",
    "plt.plot(xs,yls)\n",
    "\n",
    "m = -w[0]/w[1]\n",
    "cr = -(b+1)/w[1]\n",
    "xs = np.linspace(min(data[:, 0]), max(data[:, 1]), 100)\n",
    "yrs = m*xs + cr\n",
    "plt.plot(xs,yrs)\n",
    "\n",
    "\n",
    "\n",
    "\n",
    "def calYY(x):\n",
    "    return np.dot(w, x) + b\n",
    "\n",
    "redIdx  = np.array( [ True if calYY(x) > 0 else False for x in data ] )\n",
    "\n",
    "blueIdx = np.array( [ True if calYY(x) <= 0 else False for x in data ] ) \n",
    "\n",
    "red = data[redIdx]\n",
    "blue = data[blueIdx]\n",
    "\n",
    "plt.plot(red[:, 0], red[:, 1], 'or')\n",
    "plt.plot(blue[:, 0], blue[:, 1], 'ob')"
   ]
  },
  {
   "cell_type": "code",
   "execution_count": null,
   "metadata": {
    "collapsed": true
   },
   "outputs": [],
   "source": []
  },
  {
   "cell_type": "code",
   "execution_count": null,
   "metadata": {
    "collapsed": true
   },
   "outputs": [],
   "source": []
  }
 ],
 "metadata": {
  "kernelspec": {
   "display_name": "Python 2",
   "language": "python",
   "name": "python2"
  },
  "language_info": {
   "codemirror_mode": {
    "name": "ipython",
    "version": 2
   },
   "file_extension": ".py",
   "mimetype": "text/x-python",
   "name": "python",
   "nbconvert_exporter": "python",
   "pygments_lexer": "ipython2",
   "version": "2.7.12"
  }
 },
 "nbformat": 4,
 "nbformat_minor": 0
}
