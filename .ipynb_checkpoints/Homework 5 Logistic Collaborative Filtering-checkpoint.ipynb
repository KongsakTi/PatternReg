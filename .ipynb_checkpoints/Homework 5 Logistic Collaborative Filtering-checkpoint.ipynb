{
 "cells": [
  {
   "cell_type": "markdown",
   "metadata": {},
   "source": [
    "In the class we try to predict the restaurant rating using the dot product. One thing we found was that it predict a lot of non-sense rating like negative number or 6. In this homework, we are going to fix this problem"
   ]
  },
  {
   "cell_type": "markdown",
   "metadata": {},
   "source": [
    "The problem with dot product is that it is unbounded. So we need to bound it between 0 and 5. The most common way to do this is to use logistic function to turn $(-\\infty, \\infty)$ to a bounded region.\n",
    "$$ \\theta(s) = \\frac{1}{1 + e^{-s}}$$"
   ]
  },
  {
   "cell_type": "markdown",
   "metadata": {},
   "source": [
    "1) Given the restaurant attribute $\\vec{\\rho}^{(r)}$ and person preference $\\vec{\\pi}^{(p)}$. Write down the prediction formula which gives the output in the range of $(0,5)$.\n",
    "\n",
    "Hint: use dot product and logistic function then scale it properly."
   ]
  },
  {
   "cell_type": "code",
   "execution_count": 12,
   "metadata": {
    "collapsed": false
   },
   "outputs": [
    {
     "name": "stderr",
     "output_type": "stream",
     "text": [
      "/Library/Frameworks/Python.framework/Versions/2.7/lib/python2.7/site-packages/matplotlib/font_manager.py:273: UserWarning: Matplotlib is building the font cache using fc-list. This may take a moment.\n",
      "  warnings.warn('Matplotlib is building the font cache using fc-list. This may take a moment.')\n"
     ]
    }
   ],
   "source": [
    "%matplotlib inline\n",
    "import numpy as np\n",
    "from matplotlib import pyplot as plt"
   ]
  },
  {
   "cell_type": "code",
   "execution_count": 1,
   "metadata": {
    "collapsed": true
   },
   "outputs": [],
   "source": [
    "def scale(s):\n",
    "    return (1./(1 + np.exp(-s))) * 5"
   ]
  },
  {
   "cell_type": "code",
   "execution_count": 2,
   "metadata": {
    "collapsed": true
   },
   "outputs": [],
   "source": [
    "def guess(R, P):\n",
    "    return scale(np.dot(R.T, P).T)"
   ]
  },
  {
   "cell_type": "markdown",
   "metadata": {},
   "source": [
    "2) Write down the cost function with your prediction formula above."
   ]
  },
  {
   "cell_type": "code",
   "execution_count": 3,
   "metadata": {
    "collapsed": true
   },
   "outputs": [],
   "source": [
    "def cost(R, P):\n",
    "    return sum((T - guess(R, P))**2)"
   ]
  },
  {
   "cell_type": "markdown",
   "metadata": {},
   "source": [
    "3) (Optional) Show that if your predition formula is (Do it on paper by hand. It's actually just a chain rule.)\n",
    "$$Guess_{r,p} = a \\theta(\\vec{\\rho}^{(r)} \\cdot \\vec{\\pi}^{(p)}) + d$$\n",
    "\n",
    "\n",
    "\n",
    "Then the derivative is given by\n",
    "$$\n",
    "\t\\frac{\\partial{c}}{\\partial{\\pi^{(p)}_i}} =\n",
    "\t\\sum_r 2 h_{rp} \\left[ a \\cdot \\frac{1}{1 + e^{ -\\vec{\\rho}^{(r)} \\cdot \\vec{\\pi}^{(p)} } }  + d - T_{rp} \\right] \\cdot \\frac{ a e^{ -\\vec{\\rho}^{(r)} \\cdot \\vec{\\pi}^{(p)}} }{\\left( 1 + e^{ -\\vec{\\rho}^{(r)} \\cdot \\vec{\\pi}^{(p)}} \\right)^2} \\rho^{(r)}_i\n",
    "$$\n",
    "and\n",
    "$$\n",
    "\t\\frac{\\partial{c}}{\\partial{\\rho^{(r)}_i}} =\n",
    "\t\\sum_p 2 h_{rp} \\left[ a \\cdot \\frac{1}{1 + e^{ -\\vec{\\rho}^{(r)} \\cdot \\vec{\\pi}^{(p)} } }  + d - T_{rp} \\right] \\cdot \\frac{ a e^{ -\\vec{\\rho}^{(r)} \\cdot \\vec{\\pi}^{(p)}} }{\\left( 1 + e^{ -\\vec{\\rho}^{(r)} \\cdot \\vec{\\pi}^{(p)}} \\right)^2} \\pi^{(p)}_i\n",
    "$$\n",
    "\n"
   ]
  },
  {
   "cell_type": "code",
   "execution_count": null,
   "metadata": {
    "collapsed": true
   },
   "outputs": [],
   "source": []
  },
  {
   "cell_type": "markdown",
   "metadata": {},
   "source": [
    "4) Write the above two equations in matrix form given that matrix\n",
    "\n",
    "$$\n",
    "    S_{rp} = 2 h \\otimes \\left[ a \\cdot \\frac{1}{1 + e^{ -R^T P } }  + d - T \\right] \\cdot \\frac{ a e^{ -R^T P} }{\\left( 1 + e^{ R^T P} \\right)^2}\n",
    "$$\n",
    "where the exponential is element-wise exponential(yes there is such thing as exponential of matrix but that's not what we want).\n",
    "\n",
    "The partial derivative should look super simple in terms of $S$."
   ]
  },
  {
   "cell_type": "code",
   "execution_count": null,
   "metadata": {
    "collapsed": true
   },
   "outputs": [],
   "source": [
    "dcost /dP = R x HT\n",
    "dcost /dR = P x HT.T"
   ]
  },
  {
   "cell_type": "code",
   "execution_count": null,
   "metadata": {
    "collapsed": true
   },
   "outputs": [],
   "source": []
  },
  {
   "cell_type": "code",
   "execution_count": null,
   "metadata": {
    "collapsed": true
   },
   "outputs": [],
   "source": []
  },
  {
   "cell_type": "markdown",
   "metadata": {},
   "source": [
    "5) Write down the update rule for R and P. Use $a$ and $d$ you found in 1."
   ]
  },
  {
   "cell_type": "code",
   "execution_count": 15,
   "metadata": {
    "collapsed": true
   },
   "outputs": [],
   "source": [
    "def theta(s):\n",
    "    return (1./(1 + np.exp(-s)))"
   ]
  },
  {
   "cell_type": "code",
   "execution_count": 16,
   "metadata": {
    "collapsed": true
   },
   "outputs": [],
   "source": [
    "def find_R_P(R, P):\n",
    "    l = 0.001\n",
    "    \n",
    "    for i in xrange(100000):\n",
    "        RP = np.dot(R.T, P)\n",
    "        HT = (2 * h * l) * (  (a * theta(RP)) + d - T  ) * (  (a * np.exp(-RP))/(1 + np.exp(RP))**2  )\n",
    "        \n",
    "        P = P - np.dot(R, HT)\n",
    "        R = R - np.dot(P, HT.T)\n",
    "    \n",
    "    return R, P"
   ]
  },
  {
   "cell_type": "markdown",
   "metadata": {},
   "source": [
    "6) Given the rating matrix we use in class, use this new prediction function and update rule to find $R$ and $P$."
   ]
  },
  {
   "cell_type": "code",
   "execution_count": 17,
   "metadata": {
    "collapsed": true
   },
   "outputs": [],
   "source": [
    "def read_rating():\n",
    "    all_ratings = []\n",
    "    all_defined = []\n",
    "    \n",
    "    with open('Exercise 10/rating.csv') as f:\n",
    "            lines = f.readlines()\n",
    "            useful_lines = lines[3:]\n",
    "\n",
    "            names = lines[2].split(',')[2:]\n",
    "            names = map(lambda x: x.strip(), names)\n",
    "            rnames = []\n",
    "\n",
    "            for iline, line in enumerate(useful_lines):\n",
    "                tokens = line.split(',')\n",
    "                tokens = map(lambda x: x.strip(), tokens)\n",
    "\n",
    "                rname = tokens[1]\n",
    "                ratings = tokens[2:]\n",
    "\n",
    "                defined = map(lambda x: 0 if (x == '' or x == '\"') else 1, ratings)\n",
    "\n",
    "                def clean_cast(x):\n",
    "                    return 0 if (x == '' or x == '\"') else float(x)\n",
    "\n",
    "                ratings = map(lambda x: clean_cast(x), ratings)\n",
    "\n",
    "                all_ratings.append(ratings)\n",
    "                all_defined.append(defined)\n",
    "\n",
    "                rnames.append(rname)\n",
    "\n",
    "            T = np.array(all_ratings)\n",
    "            H = np.array(all_defined)\n",
    "            \n",
    "    return T, H, names, rnames"
   ]
  },
  {
   "cell_type": "code",
   "execution_count": 18,
   "metadata": {
    "collapsed": true
   },
   "outputs": [],
   "source": [
    "T, H, names, rnames = read_rating()"
   ]
  },
  {
   "cell_type": "markdown",
   "metadata": {},
   "source": [
    "7) Use the code we had in exercise to show the prediction table."
   ]
  },
  {
   "cell_type": "code",
   "execution_count": 23,
   "metadata": {
    "collapsed": true
   },
   "outputs": [],
   "source": [
    "npeople = len(names)\n",
    "nrest = len(rnames)\n",
    "nfeature = 3\n",
    "a = 5"
   ]
  },
  {
   "cell_type": "code",
   "execution_count": 24,
   "metadata": {
    "collapsed": true
   },
   "outputs": [],
   "source": [
    "np.random.seed(17)\n",
    "P = np.random.randn(nfeature, npeople)\n",
    "R = np.random.randn(nfeature, nrest)"
   ]
  },
  {
   "cell_type": "code",
   "execution_count": 33,
   "metadata": {
    "collapsed": false
   },
   "outputs": [],
   "source": [
    "def score(R, P):\n",
    "    return np.sum(H * (T - np.dot(R.T, P))**2)"
   ]
  },
  {
   "cell_type": "code",
   "execution_count": 34,
   "metadata": {
    "collapsed": false
   },
   "outputs": [
    {
     "name": "stdout",
     "output_type": "stream",
     "text": [
      "12330.828628\n"
     ]
    }
   ],
   "source": [
    "print score(R, P)\n",
    "np.clip"
   ]
  },
  {
   "cell_type": "code",
   "execution_count": 35,
   "metadata": {
    "collapsed": true
   },
   "outputs": [],
   "source": [
    "def find_R_P(R, P):\n",
    "    l = 0.001\n",
    "    \n",
    "    for i in xrange(100000):\n",
    "        RP = np.dot(R.T, P)\n",
    "        HT = (2 * H * l) * (  (a * theta(RP)) - T  ) * (  (a * np.exp(-RP))/(1 + np.exp(RP))**2  )\n",
    "        \n",
    "        P = P - np.dot(R, HT)\n",
    "        R = R - np.dot(P, HT.T)\n",
    "        \n",
    "        if (i%500 == 0):\n",
    "            print i, score(R, P)\n",
    "    \n",
    "    return R, P"
   ]
  },
  {
   "cell_type": "code",
   "execution_count": 36,
   "metadata": {
    "collapsed": false
   },
   "outputs": [
    {
     "name": "stdout",
     "output_type": "stream",
     "text": [
      "0 7.87832549004e+13\n",
      "500 nan\n",
      "1000 nan\n",
      "1500 nan\n",
      "2000 nan\n"
     ]
    },
    {
     "name": "stderr",
     "output_type": "stream",
     "text": [
      "/Users/Sam/Library/Python/2.7/lib/python/site-packages/ipykernel/__main__.py:2: RuntimeWarning: overflow encountered in exp\n",
      "  from ipykernel import kernelapp as app\n",
      "/Users/Sam/Library/Python/2.7/lib/python/site-packages/ipykernel/__main__.py:6: RuntimeWarning: overflow encountered in exp\n",
      "/Users/Sam/Library/Python/2.7/lib/python/site-packages/ipykernel/__main__.py:6: RuntimeWarning: overflow encountered in square\n",
      "/Users/Sam/Library/Python/2.7/lib/python/site-packages/ipykernel/__main__.py:6: RuntimeWarning: invalid value encountered in multiply\n"
     ]
    },
    {
     "name": "stdout",
     "output_type": "stream",
     "text": [
      "2500 nan\n",
      "3000 nan\n",
      "3500 nan\n",
      "4000 nan\n",
      "4500 nan\n",
      "5000 nan\n",
      "5500 nan\n",
      "6000 nan\n",
      "6500 nan\n",
      "7000 nan\n",
      "7500 nan\n",
      "8000 nan\n",
      "8500 nan\n",
      "9000 nan\n",
      "9500 nan\n",
      "10000 nan\n",
      "10500 nan\n",
      "11000 nan\n",
      "11500 nan\n",
      "12000 nan\n",
      "12500 nan\n",
      "13000 nan\n",
      "13500 nan\n",
      "14000 nan\n",
      "14500 nan\n",
      "15000 nan\n",
      "15500 nan\n",
      "16000 nan\n",
      "16500 nan\n",
      "17000 nan\n",
      "17500 nan\n",
      "18000 nan\n",
      "18500 nan\n",
      "19000 nan\n",
      "19500 nan\n",
      "20000 nan\n",
      "20500 nan\n",
      "21000 nan\n",
      "21500 nan\n",
      "22000 nan\n",
      "22500 nan\n",
      "23000 nan\n",
      "23500 nan\n",
      "24000 nan\n",
      "24500 nan\n",
      "25000 nan\n",
      "25500 nan\n",
      "26000 nan\n",
      "26500 nan\n",
      "27000 nan\n",
      "27500 nan\n",
      "28000 nan\n",
      "28500 nan\n",
      "29000 nan\n",
      "29500 nan\n",
      "30000 nan\n",
      "30500 nan\n",
      "31000 nan\n",
      "31500 nan\n",
      "32000 nan\n",
      "32500 nan\n",
      "33000 nan\n",
      "33500 nan\n",
      "34000 nan\n",
      "34500 nan\n",
      "35000 nan\n",
      "35500 nan\n",
      "36000 nan\n",
      "36500 nan\n",
      "37000 nan\n",
      "37500 nan\n",
      "38000 nan\n",
      "38500 nan\n",
      "39000 nan\n",
      "39500 nan\n",
      "40000 nan\n",
      "40500 nan\n",
      "41000 nan\n",
      "41500 nan\n",
      "42000 nan\n",
      "42500 nan\n",
      "43000 nan\n",
      "43500 nan\n",
      "44000 nan\n",
      "44500 nan\n",
      "45000 nan\n",
      "45500 nan\n",
      "46000 nan\n",
      "46500 nan\n",
      "47000 nan\n",
      "47500 nan\n",
      "48000 nan\n",
      "48500 nan\n",
      "49000 nan\n",
      "49500 nan\n",
      "50000 nan\n",
      "50500 nan\n",
      "51000 nan\n",
      "51500 nan\n",
      "52000 nan\n",
      "52500 nan\n",
      "53000 nan\n",
      "53500 nan\n",
      "54000 nan\n",
      "54500 nan\n",
      "55000 nan\n",
      "55500 nan\n",
      "56000 nan\n",
      "56500 nan\n",
      "57000 nan\n",
      "57500 nan\n",
      "58000 nan\n",
      "58500 nan\n",
      "59000 nan\n",
      "59500 nan\n",
      "60000 nan\n",
      "60500 nan\n",
      "61000 nan\n",
      "61500 nan\n",
      "62000 nan\n",
      "62500 nan\n",
      "63000 nan\n",
      "63500 nan\n",
      "64000 nan\n",
      "64500 nan\n",
      "65000 nan\n",
      "65500 nan\n",
      "66000 nan\n",
      "66500 nan\n",
      "67000 nan\n",
      "67500 nan\n",
      "68000 nan\n",
      "68500 nan\n",
      "69000 nan\n",
      "69500 nan\n",
      "70000 nan\n",
      "70500 nan\n",
      "71000 nan\n",
      "71500 nan\n",
      "72000 nan\n",
      "72500 nan\n",
      "73000 nan\n",
      "73500 nan\n",
      "74000 nan\n",
      "74500 nan\n",
      "75000 nan\n",
      "75500 nan\n",
      "76000 nan\n",
      "76500 nan\n",
      "77000 nan\n",
      "77500 nan\n",
      "78000 nan\n",
      "78500 nan\n",
      "79000 nan\n",
      "79500 nan\n",
      "80000 nan\n",
      "80500 nan\n",
      "81000 nan\n",
      "81500 nan\n",
      "82000 nan\n",
      "82500 nan\n",
      "83000 nan\n",
      "83500 nan\n",
      "84000 nan\n",
      "84500 nan\n",
      "85000 nan\n",
      "85500 nan\n",
      "86000 nan\n",
      "86500 nan\n",
      "87000 nan\n",
      "87500 nan\n",
      "88000 nan\n",
      "88500 nan\n",
      "89000 nan\n",
      "89500 nan\n",
      "90000 nan\n",
      "90500 nan\n",
      "91000 nan\n",
      "91500 nan\n",
      "92000 nan\n",
      "92500 nan\n",
      "93000 nan\n",
      "93500 nan\n",
      "94000 nan\n",
      "94500 nan\n",
      "95000 nan\n",
      "95500 nan\n",
      "96000 nan\n",
      "96500 nan\n",
      "97000 nan\n",
      "97500 nan\n",
      "98000 nan\n",
      "98500 nan\n",
      "99000 nan\n",
      "99500 nan\n"
     ]
    },
    {
     "data": {
      "text/plain": [
       "(array([[ nan,  nan,  nan,  nan,  nan,  nan,  nan,  nan,  nan,  nan,  nan,\n",
       "          nan,  nan,  nan,  nan,  nan,  nan,  nan,  nan,  nan,  nan,  nan,\n",
       "          nan,  nan,  nan,  nan,  nan,  nan,  nan,  nan,  nan,  nan,  nan,\n",
       "          nan,  nan,  nan,  nan,  nan,  nan,  nan,  nan],\n",
       "        [ nan,  nan,  nan,  nan,  nan,  nan,  nan,  nan,  nan,  nan,  nan,\n",
       "          nan,  nan,  nan,  nan,  nan,  nan,  nan,  nan,  nan,  nan,  nan,\n",
       "          nan,  nan,  nan,  nan,  nan,  nan,  nan,  nan,  nan,  nan,  nan,\n",
       "          nan,  nan,  nan,  nan,  nan,  nan,  nan,  nan],\n",
       "        [ nan,  nan,  nan,  nan,  nan,  nan,  nan,  nan,  nan,  nan,  nan,\n",
       "          nan,  nan,  nan,  nan,  nan,  nan,  nan,  nan,  nan,  nan,  nan,\n",
       "          nan,  nan,  nan,  nan,  nan,  nan,  nan,  nan,  nan,  nan,  nan,\n",
       "          nan,  nan,  nan,  nan,  nan,  nan,  nan,  nan]]),\n",
       " array([[ nan,  nan,  nan,  nan,  nan,  nan,  nan,  nan,  nan,  nan,  nan,\n",
       "          nan,  nan,  nan,  nan,  nan,  nan,  nan,  nan,  nan,  nan,  nan,\n",
       "          nan,  nan,  nan,  nan,  nan,  nan,  nan,  nan,  nan,  nan,  nan,\n",
       "          nan,  nan,  nan,  nan,  nan,  nan,  nan,  nan,  nan,  nan,  nan],\n",
       "        [ nan,  nan,  nan,  nan,  nan,  nan,  nan,  nan,  nan,  nan,  nan,\n",
       "          nan,  nan,  nan,  nan,  nan,  nan,  nan,  nan,  nan,  nan,  nan,\n",
       "          nan,  nan,  nan,  nan,  nan,  nan,  nan,  nan,  nan,  nan,  nan,\n",
       "          nan,  nan,  nan,  nan,  nan,  nan,  nan,  nan,  nan,  nan,  nan],\n",
       "        [ nan,  nan,  nan,  nan,  nan,  nan,  nan,  nan,  nan,  nan,  nan,\n",
       "          nan,  nan,  nan,  nan,  nan,  nan,  nan,  nan,  nan,  nan,  nan,\n",
       "          nan,  nan,  nan,  nan,  nan,  nan,  nan,  nan,  nan,  nan,  nan,\n",
       "          nan,  nan,  nan,  nan,  nan,  nan,  nan,  nan,  nan,  nan,  nan]]))"
      ]
     },
     "execution_count": 36,
     "metadata": {},
     "output_type": "execute_result"
    }
   ],
   "source": [
    "find_R_P(R, P)"
   ]
  },
  {
   "cell_type": "code",
   "execution_count": null,
   "metadata": {
    "collapsed": true
   },
   "outputs": [],
   "source": []
  }
 ],
 "metadata": {
  "kernelspec": {
   "display_name": "Python 2",
   "language": "python",
   "name": "python2"
  },
  "language_info": {
   "codemirror_mode": {
    "name": "ipython",
    "version": 2
   },
   "file_extension": ".py",
   "mimetype": "text/x-python",
   "name": "python",
   "nbconvert_exporter": "python",
   "pygments_lexer": "ipython2",
   "version": "2.7.12"
  }
 },
 "nbformat": 4,
 "nbformat_minor": 0
}
