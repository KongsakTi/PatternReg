{
 "cells": [
  {
   "cell_type": "markdown",
   "metadata": {},
   "source": [
    "# Homework 1 Breast Cancer\n",
    "\n",
    "The data in this homework is from http://archive.ics.uci.edu/ml/datasets/Breast+Cancer+Wisconsin+%28Original%29\n",
    "\n",
    "You can read what each column means from the website."
   ]
  },
  {
   "cell_type": "markdown",
   "metadata": {},
   "source": [
    "1) (0)First write a function that separate the data into 20% test and 80% train. Hint: use np.random.seed to fix random number generator.\n",
    "\n",
    "- What could happen if you just pick last 20%?\n",
    "- Why do we need to randomize?"
   ]
  },
  {
   "cell_type": "code",
   "execution_count": 1,
   "metadata": {
    "collapsed": false
   },
   "outputs": [
    {
     "name": "stdout",
     "output_type": "stream",
     "text": [
      "137 546 683\n",
      "[2.0, 1.0, 1.0, 1.0, 2.0, 1.0, 1.0, 1.0, 5.0, 2.0]\n"
     ]
    }
   ],
   "source": [
    "import numpy as np\n",
    "from glob import glob\n",
    "\n",
    "def readFile(file):\n",
    "    tmp = []\n",
    "    with open(file) as f:\n",
    "        for line in f:\n",
    "            tmp.append(line)\n",
    "    return tmp\n",
    "def cleanData(data):\n",
    "    return [d.rstrip('\\n').split(',')[1:] for d in data]\n",
    "         \n",
    "def toTwo(data):\n",
    "    test = []\n",
    "    train = []\n",
    "#     np.random.seed(100)\n",
    "    rd = [np.random.randint(10) for x in xrange(len(data))]\n",
    "    for i in xrange(len(data)):\n",
    "        if rd[i] <=1:\n",
    "            test.append(data[i])\n",
    "        else:\n",
    "            train.append(data[i])\n",
    "    return test,train\n",
    "\n",
    "def toFloat(data):\n",
    "    tmp = []\n",
    "    for dd in data:\n",
    "        tp = []\n",
    "        add = True\n",
    "        for d in dd:\n",
    "            if d == '?':\n",
    "                add = False\n",
    "                break\n",
    "            tp.append(float(d))\n",
    "        if add:\n",
    "            tmp.append(tp[::])\n",
    "    return tmp\n",
    "            \n",
    "dataRaw = readFile(\"breast-cancer-wisconsin.data.txt\")\n",
    "data = cleanData(dataRaw)\n",
    "data = toFloat(data)\n",
    "test, train = toTwo(data)\n",
    "\n",
    "print len(test), len(train), len(data)\n",
    "print test[0]"
   ]
  },
  {
   "cell_type": "markdown",
   "metadata": {},
   "source": [
    "2) (0) There are many features in the data. Tell me one from the data set that you should NOT use."
   ]
  },
  {
   "cell_type": "markdown",
   "metadata": {
    "collapsed": true
   },
   "source": [
    "id number"
   ]
  },
  {
   "cell_type": "markdown",
   "metadata": {},
   "source": [
    "3) (100) Build a Bayes Classifier for figuring out whether the tumor is cancerour or benign. Train on 80% and test on the 20%.\n",
    "- Justify the prior you use.\n",
    "- How many do you get correctly on test dataset?\n",
    "- Do you think the the number we got correctly on the test dataset is the thing we should optimize? Why and why not? (Exercise your common sense)"
   ]
  },
  {
   "cell_type": "code",
   "execution_count": 2,
   "metadata": {
    "collapsed": false
   },
   "outputs": [],
   "source": [
    "import math\n",
    "def fourOrTwo(data):\n",
    "    four, two = [], []\n",
    "    for d in data:\n",
    "        if d[9] == 2: \n",
    "            two.append(d[:9])\n",
    "        else:\n",
    "            four.append(d[:9])\n",
    "    return four, two\n",
    "\n",
    "four, two = fourOrTwo(train)"
   ]
  },
  {
   "cell_type": "code",
   "execution_count": 3,
   "metadata": {
    "collapsed": false
   },
   "outputs": [
    {
     "name": "stdout",
     "output_type": "stream",
     "text": [
      "0.970802919708\n"
     ]
    }
   ],
   "source": [
    "def featuresCount(data):\n",
    "    f = [0]*10\n",
    "    fc = []\n",
    "    idxs = xrange(9)\n",
    "    \n",
    "    for i in idxs:\n",
    "        fc.append(f[::])\n",
    "    \n",
    "    for d in data:\n",
    "        for i in idxs:\n",
    "            fc[i][int(d[i] - 1)] += 1\n",
    "    return fc\n",
    "\n",
    "def cal_fprob(fc):\n",
    "    f = [0]*10\n",
    "    fp = []\n",
    "    idxs = xrange(9)\n",
    "    jdxs = xrange(10)\n",
    "    for i in idxs:\n",
    "        fp.append(f[::])  \n",
    "    \n",
    "    for i in idxs:\n",
    "        s = sum(fc[i])\n",
    "        for j in jdxs:\n",
    "            fp[i][j] = fc[i][j]/float(s)\n",
    "            \n",
    "    return fp\n",
    "\n",
    "def testData(data):\n",
    "    fcF = featuresCount(four)\n",
    "    fcT = featuresCount(two)\n",
    "    fpF = cal_fprob(fcF)\n",
    "    fpT = cal_fprob(fcT)\n",
    "    \n",
    "    idxs = xrange(9)\n",
    "    c = 0\n",
    "    \n",
    "    priorT = len(four)/ (len(four) + len(two) + 0.0)\n",
    "    priorF = len(two)/ (len(four) + len(two) + 0.0)\n",
    "    \n",
    "    for d in data:\n",
    "        isT = 1\n",
    "        isF = 1\n",
    "        for i in idxs:\n",
    "            isT *= fpT[i][int(d[i] - 1)] if fpT[i][int(d[i] - 1)] != 0 else 1\n",
    "            isF *= fpF[i][int(d[i] - 1)] if fpF[i][int(d[i] - 1)] != 0 else 1 \n",
    "\n",
    "        nFactor = isT*priorT + isF*priorF\n",
    "        isT = isT*priorT/nFactor\n",
    "        isF = isF*priorF/nFactor\n",
    "\n",
    "        if (d[9] == 4):\n",
    "            if isF > isT:\n",
    "                c += 1\n",
    "        else:\n",
    "            if isF < isT:\n",
    "                c += 1\n",
    "    return c\n",
    "\n",
    "print testData(test)/float(len(test))"
   ]
  },
  {
   "cell_type": "markdown",
   "metadata": {},
   "source": [
    "4) (Bonus) Try to do something different from what you did in 3) using your original idea. Report what you did even if it is worse than what you did in 3. If possible report why it works better/worse.\n",
    "\n",
    "Do not lookup the paper/other method just yet. I want you to develop the gut feeling in data analysis.\n",
    "\n",
    "Grading will be on scale of (meh 1%, OK? 3%, Hmm interesting 5%, Wow 10%)\n",
    "\n"
   ]
  },
  {
   "cell_type": "code",
   "execution_count": 11,
   "metadata": {
    "collapsed": false
   },
   "outputs": [
    {
     "name": "stdout",
     "output_type": "stream",
     "text": [
      "0.970802919708\n"
     ]
    }
   ],
   "source": [
    "def featuresCount(data):\n",
    "    f = [0]*10\n",
    "    fc = []\n",
    "    idxs = xrange(9)\n",
    "    \n",
    "    for i in idxs:\n",
    "        fc.append(f[::])\n",
    "    \n",
    "    for d in data:\n",
    "        for i in idxs:\n",
    "            fc[i][int(d[i] - 1)] += 1\n",
    "    return fc\n",
    "\n",
    "def cal_fprob(fc):\n",
    "    f = [0]*10\n",
    "    fp = []\n",
    "    idxs = xrange(9)\n",
    "    jdxs = xrange(10)\n",
    "    for i in idxs:\n",
    "        fp.append(f[::])  \n",
    "    \n",
    "    for i in idxs:\n",
    "        s = sum(fc[i])\n",
    "        for j in jdxs:\n",
    "            fp[i][j] = fc[i][j]/float(s)\n",
    "            \n",
    "    return fp\n",
    "\n",
    "def testData(data):\n",
    "    fcF = featuresCount(four)\n",
    "    fcT = featuresCount(two)\n",
    "    fpF = cal_fprob(fcF)\n",
    "    fpT = cal_fprob(fcT)\n",
    "    \n",
    "    idxs = xrange(9)\n",
    "    c = 0\n",
    "    \n",
    "    priorT = len(four)/ (len(four) + len(two) + 0.0)\n",
    "    priorF = len(two)/ (len(four) + len(two) + 0.0)\n",
    "    \n",
    "    for d in data:\n",
    "        isT = 1\n",
    "        isF = 1\n",
    "        for i in idxs:\n",
    "            isT *= fpT[i][int(d[i] - 1)] if fpT[i][int(d[i] - 1)] != 0 else 1\n",
    "            isF *= fpF[i][int(d[i] - 1)] if fpF[i][int(d[i] - 1)] != 0 else 1 \n",
    "\n",
    "        nFactor = isT*priorT + isF*priorF\n",
    "        isT = isT*priorT/nFactor\n",
    "\n",
    "        if (d[9] == 4):\n",
    "            if isT < 0.5:\n",
    "                c += 1\n",
    "        else:\n",
    "            if isT >= 0.5:\n",
    "                c += 1\n",
    "    return c\n",
    "\n",
    "print testData(test)/float(len(test))"
   ]
  }
 ],
 "metadata": {
  "kernelspec": {
   "display_name": "Python 2",
   "language": "python",
   "name": "python2"
  },
  "language_info": {
   "codemirror_mode": {
    "name": "ipython",
    "version": 2
   },
   "file_extension": ".py",
   "mimetype": "text/x-python",
   "name": "python",
   "nbconvert_exporter": "python",
   "pygments_lexer": "ipython2",
   "version": "2.7.6"
  }
 },
 "nbformat": 4,
 "nbformat_minor": 0
}
