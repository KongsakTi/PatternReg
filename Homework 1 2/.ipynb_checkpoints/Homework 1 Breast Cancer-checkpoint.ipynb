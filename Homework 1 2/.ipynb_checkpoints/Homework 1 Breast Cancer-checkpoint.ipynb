{
 "cells": [
  {
   "cell_type": "markdown",
   "metadata": {},
   "source": [
    "# Homework 1 Breast Cancer\n",
    "\n",
    "The data in this homework is from http://archive.ics.uci.edu/ml/datasets/Breast+Cancer+Wisconsin+%28Original%29\n",
    "\n",
    "You can read what each column means from the website."
   ]
  },
  {
   "cell_type": "markdown",
   "metadata": {},
   "source": [
    "1) (0)First write a function that separate the data into 20% test and 80% train. Hint: use np.random.seed to fix random number generator.\n",
    "\n",
    "- What could happen if you just pick last 20%?\n",
    "- Why do we need to randomize?"
   ]
  },
  {
   "cell_type": "code",
   "execution_count": 48,
   "metadata": {
    "collapsed": false
   },
   "outputs": [
    {
     "name": "stdout",
     "output_type": "stream",
     "text": [
      "136 547 683\n",
      "[3.0, 1.0, 1.0, 1.0, 2.0, 2.0, 3.0, 1.0, 1.0, 2.0]\n"
     ]
    }
   ],
   "source": [
    "import numpy as np\n",
    "from glob import glob\n",
    "\n",
    "def readFile(file):\n",
    "    tmp = []\n",
    "    with open(file) as f:\n",
    "        for line in f:\n",
    "            tmp.append(line)\n",
    "    return tmp\n",
    "def cleanData(data):\n",
    "    return [d.rstrip('\\n').split(',')[1:] for d in data]\n",
    "         \n",
    "def toTwo(data):\n",
    "    test = []\n",
    "    train = []\n",
    "    rd = [np.random.randint(10) for x in xrange(len(data))]\n",
    "    for i in xrange(len(data)):\n",
    "        if rd[i] <=1:\n",
    "            test.append(data[i])\n",
    "        else:\n",
    "            train.append(data[i])\n",
    "    return test,train\n",
    "\n",
    "def toFloat(data):\n",
    "    tmp = []\n",
    "    for dd in data:\n",
    "        tp = []\n",
    "        add = True\n",
    "        for d in dd:\n",
    "            if d == '?':\n",
    "                add = False\n",
    "                break\n",
    "            tp.append(float(d))\n",
    "        if add:\n",
    "            tmp.append(tp[::])\n",
    "    return tmp\n",
    "            \n",
    "dataRaw = readFile(\"breast-cancer-wisconsin.data.txt\")\n",
    "data = cleanData(dataRaw)\n",
    "data = toFloat(data)\n",
    "test, train = toTwo(data)\n",
    "\n",
    "print len(test), len(train), len(data)\n",
    "print test[0]"
   ]
  },
  {
   "cell_type": "markdown",
   "metadata": {},
   "source": [
    "2) (0) There are many features in the data. Tell me one from the data set that you should NOT use."
   ]
  },
  {
   "cell_type": "markdown",
   "metadata": {
    "collapsed": true
   },
   "source": [
    "id number"
   ]
  },
  {
   "cell_type": "markdown",
   "metadata": {},
   "source": [
    "3) (100) Build a Bayes Classifier for figuring out whether the tumor is cancerour or benign. Train on 80% and test on the 20%.\n",
    "- Justify the prior you use.\n",
    "- How many do you get correctly on test dataset?\n",
    "- Do you think the the number we got correctly on the test dataset is the thing we should optimize? Why and why not? (Exercise your common sense)"
   ]
  },
  {
   "cell_type": "code",
   "execution_count": 93,
   "metadata": {
    "collapsed": false
   },
   "outputs": [
    {
     "name": "stdout",
     "output_type": "stream",
     "text": [
      "[0.5643564356435643, 0.7345433919455474, 0.7176602924634421, 0.6874197689345315, 0.5776536312849162, 0.7448665297741273, 0.6073107049608355, 0.7112676056338029, 0.5699658703071673]\n",
      "[0.43564356435643564, 0.26545660805445265, 0.2823397075365579, 0.31258023106546856, 0.4223463687150838, 0.2551334702258727, 0.3926892950391645, 0.2887323943661972, 0.4300341296928328]\n",
      "191 547\n",
      "0.349177330896\n"
     ]
    }
   ],
   "source": [
    "import math\n",
    "def fourOrTwo(data):\n",
    "    four, two = [], []\n",
    "    for d in data:\n",
    "        if d[9] == 2: \n",
    "            two.append(d)\n",
    "        else:\n",
    "            four.append(d)\n",
    "    return four, two\n",
    "\n",
    "def featureCount(data):\n",
    "    features = [0]*9 # 9 features\n",
    "    idxs = xrange(9)\n",
    "    for dd in data:\n",
    "        for idx in idxs:\n",
    "            features[idx] += dd[idx]\n",
    "    return features\n",
    "\n",
    "def cal_fProb(features):\n",
    "    total = sum(features)\n",
    "    return [f/total for f in features]\n",
    "    \n",
    "def cal_prob(data, pb):\n",
    "    return sum([math.log(pb[i]**data[i]) for i in xrange(9)]) + math.log(float(len(data))/(len(four) + len(two)))\n",
    "\n",
    "four, two = fourOrTwo(train)\n",
    "ftFour, ftTwo = featureCount(four), featureCount(two)\n",
    "pbFour, pbTwo = cal_fProb(ftFour), cal_fProb(ftTwo)\n",
    "\n",
    "\n",
    "c = 0\n",
    "for i in xrange(len(four)):\n",
    "    if (cal_prob(four[i], pbFour) > cal_prob(four[i], pbTwo)):\n",
    "        c += 1\n",
    "        \n",
    "for i in xrange(len(two)):\n",
    "    if (cal_prob(two[i], pbFour) < cal_prob(two[i], pbTwo)):\n",
    "        c += 1\n",
    "print c, len(four) + len(two)\n",
    "print float(c)/(len(four) + len(two))"
   ]
  },
  {
   "cell_type": "markdown",
   "metadata": {},
   "source": [
    "4) (Bonus) Try to do something different from what you did in 3) using your original idea. Report what you did even if it is worse than what you did in 3. If possible report why it works better/worse.\n",
    "\n",
    "Do not lookup the paper/other method just yet. I want you to develop the gut feeling in data analysis.\n",
    "\n",
    "Grading will be on scale of (meh 1%, OK? 3%, Hmm interesting 5%, Wow 10%)\n",
    "\n"
   ]
  },
  {
   "cell_type": "code",
   "execution_count": null,
   "metadata": {
    "collapsed": true
   },
   "outputs": [],
   "source": []
  }
 ],
 "metadata": {
  "kernelspec": {
   "display_name": "Python 2",
   "language": "python",
   "name": "python2"
  },
  "language_info": {
   "codemirror_mode": {
    "name": "ipython",
    "version": 2
   },
   "file_extension": ".py",
   "mimetype": "text/x-python",
   "name": "python",
   "nbconvert_exporter": "python",
   "pygments_lexer": "ipython2",
   "version": "2.7.10"
  }
 },
 "nbformat": 4,
 "nbformat_minor": 0
}
