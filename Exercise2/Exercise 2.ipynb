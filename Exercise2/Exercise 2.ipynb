{
 "cells": [
  {
   "cell_type": "markdown",
   "metadata": {},
   "source": [
    "# Exercise 2 Gradient Descent, Linear Regression and Logistic Regression"
   ]
  },
  {
   "cell_type": "code",
   "execution_count": 2,
   "metadata": {
    "collapsed": true
   },
   "outputs": [],
   "source": [
    "%matplotlib inline\n",
    "import numpy as np\n",
    "from matplotlib import pyplot as plt"
   ]
  },
  {
   "cell_type": "markdown",
   "metadata": {},
   "source": [
    "# Gradient Descent"
   ]
  },
  {
   "cell_type": "markdown",
   "metadata": {},
   "source": [
    "For this who take numerical method already. The first half is sort of recap.\n",
    "\n",
    "1) Where is the minimum for\n",
    "\n",
    "$$f(x, y) = (x-2)^2 + (y-3)^2$$"
   ]
  },
  {
   "cell_type": "markdown",
   "metadata": {
    "collapsed": true
   },
   "source": [
    "x = 2,\n",
    "y = 3"
   ]
  },
  {
   "cell_type": "markdown",
   "metadata": {},
   "source": [
    "2) After this class and for the rest of your life(except for exam) use library like this unless the library doesn't do exactly what you want(which is rare)."
   ]
  },
  {
   "cell_type": "code",
   "execution_count": 12,
   "metadata": {
    "collapsed": false
   },
   "outputs": [
    {
     "data": {
      "text/plain": [
       "2"
      ]
     },
     "execution_count": 12,
     "metadata": {},
     "output_type": "execute_result"
    }
   ],
   "source": [
    "def f(xs):\n",
    "    x, y = xs #this is called variable unpacking. USE it to make your code look nicer\n",
    "    return (x-2)**2 + (y-3)**2\n",
    "\n",
    "f([1,2])"
   ]
  },
  {
   "cell_type": "code",
   "execution_count": 13,
   "metadata": {
    "collapsed": false
   },
   "outputs": [
    {
     "name": "stdout",
     "output_type": "stream",
     "text": [
      "Optimization terminated successfully.\n",
      "         Current function value: 0.000000\n",
      "         Iterations: 63\n",
      "         Function evaluations: 123\n"
     ]
    }
   ],
   "source": [
    "import scipy.optimize as opt\n",
    "opt.fmin(f, [0,1])\n",
    "# ?opt.fmin #bring up documentation"
   ]
  },
  {
   "cell_type": "markdown",
   "metadata": {},
   "source": [
    "3) Now let us understand the magic behind it. For $f(x,y)$ given above find the gradient at (1,2)."
   ]
  },
  {
   "cell_type": "markdown",
   "metadata": {
    "collapsed": true
   },
   "source": [
    "$$\\nabla f(x, y) = 2(x-2)\\hat{x} + 2(y-3) \\hat{y}$$\n",
    "$$\\nabla f(1,2) = -2\\hat{x} -2\\hat{y}$$"
   ]
  },
  {
   "cell_type": "markdown",
   "metadata": {},
   "source": [
    "4) Find the unit vector that has the same direction as the gradient"
   ]
  },
  {
   "cell_type": "markdown",
   "metadata": {
    "collapsed": true
   },
   "source": [
    "$$ \\frac{\\nabla f}{|\\nabla f|} = \\frac{-1}{\\sqrt{2}} \\times (\\hat{x} + \\hat{y}) $$"
   ]
  },
  {
   "cell_type": "markdown",
   "metadata": {},
   "source": [
    "5) Which direction should we walk?"
   ]
  },
  {
   "cell_type": "markdown",
   "metadata": {
    "collapsed": true
   },
   "source": [
    "$$ \\frac{1}{\\sqrt{2}} \\times (\\hat{x} + \\hat{y}) $$"
   ]
  },
  {
   "cell_type": "markdown",
   "metadata": {},
   "source": [
    "6) How far should we walk? What is wrong with large step size and what is wrong with small step size?"
   ]
  },
  {
   "cell_type": "markdown",
   "metadata": {
    "collapsed": true
   },
   "source": [
    "<span style=\"color:red\">Large step size -> Stepping over the minimum\n",
    "<br/>Small step size -> Takes forever</span>"
   ]
  },
  {
   "cell_type": "markdown",
   "metadata": {},
   "source": [
    "7) Where do we want large step size and where do we want small step size?"
   ]
  },
  {
   "cell_type": "markdown",
   "metadata": {
    "collapsed": true
   },
   "source": [
    "<span style=\"color:red\">Far away from minimum -> Large step\n",
    "<br/>Small step size -> Takes forever</span>"
   ]
  },
  {
   "cell_type": "markdown",
   "metadata": {},
   "source": [
    "8) Given that we don't really know where the minimum is. How do we get a qunatity what has such behavior?"
   ]
  },
  {
   "cell_type": "code",
   "execution_count": null,
   "metadata": {
    "collapsed": true
   },
   "outputs": [],
   "source": [
    "Step"
   ]
  },
  {
   "cell_type": "markdown",
   "metadata": {},
   "source": [
    "9) What is a learning rate? What is wrong with large learning rate and what is wrong with small learning rate?"
   ]
  },
  {
   "cell_type": "code",
   "execution_count": null,
   "metadata": {
    "collapsed": true
   },
   "outputs": [],
   "source": []
  },
  {
   "cell_type": "markdown",
   "metadata": {},
   "source": [
    "10) Write down the \"update rule\"\n",
    "\n",
    "$$\\vec{x}_{i+1} = \\vec{x}_{i} + \\ldots $$"
   ]
  },
  {
   "cell_type": "code",
   "execution_count": null,
   "metadata": {
    "collapsed": true
   },
   "outputs": [],
   "source": []
  },
  {
   "cell_type": "markdown",
   "metadata": {},
   "source": [
    "11) Given our update and learning rate of 0.01 rule compute the next guess ($\\vec{x}_{1}$)"
   ]
  },
  {
   "cell_type": "code",
   "execution_count": null,
   "metadata": {
    "collapsed": true
   },
   "outputs": [],
   "source": []
  },
  {
   "cell_type": "markdown",
   "metadata": {},
   "source": [
    "12) Compute ($\\vec{x}_2$)"
   ]
  },
  {
   "cell_type": "code",
   "execution_count": null,
   "metadata": {
    "collapsed": true
   },
   "outputs": [],
   "source": []
  },
  {
   "cell_type": "markdown",
   "metadata": {},
   "source": [
    "13) Compute ($\\vec{x}_{100}$). Of course, don't do it by hands you have a computer for a reason."
   ]
  },
  {
   "cell_type": "code",
   "execution_count": 12,
   "metadata": {
    "collapsed": false
   },
   "outputs": [
    {
     "name": "stdout",
     "output_type": "stream",
     "text": [
      "[ 1.99995898  2.99995898]\n"
     ]
    }
   ],
   "source": [
    "xs = np.array([1, 2])\n",
    "def f(xs):\n",
    "    x, y = xs #this is called variable unpacking. USE it to make your code look nicer\n",
    "    return (x-2)**2 + (y-3)**2\n",
    "def df(xs):\n",
    "    x, y = xs\n",
    "#     return np.array([2*(x-2), 2*(y-3)])\n",
    "    h = 1e-10\n",
    "    dx = ( f(xs + np.array([h, 0])) - f(xs) ) / h\n",
    "    dy = ( f(xs + np.array([0, h])) - f(xs) ) / h\n",
    "    return np.array([dx, dy])\n",
    "eta = 0.01\n",
    "for i in xrange(500):\n",
    "    xs = xs - eta*df(xs)\n",
    "\n",
    "print xs"
   ]
  },
  {
   "cell_type": "markdown",
   "metadata": {},
   "source": [
    "# Numerical Gradient"
   ]
  },
  {
   "cell_type": "markdown",
   "metadata": {},
   "source": [
    "1) Previous example relies on analytical gradient which is not always available for us.\n",
    "\n",
    "How do we compute gradient numerically? (If you recall, there are at least 2 methods. Do you remember what's the difference between the two?)"
   ]
  },
  {
   "cell_type": "code",
   "execution_count": null,
   "metadata": {
    "collapsed": true
   },
   "outputs": [],
   "source": []
  },
  {
   "cell_type": "markdown",
   "metadata": {},
   "source": [
    "2) Find $\\vec{x}_{100}$ by using numerical gradient."
   ]
  },
  {
   "cell_type": "code",
   "execution_count": null,
   "metadata": {
    "collapsed": true
   },
   "outputs": [],
   "source": []
  },
  {
   "cell_type": "markdown",
   "metadata": {},
   "source": [
    "# Linear Regression"
   ]
  },
  {
   "cell_type": "markdown",
   "metadata": {
    "collapsed": false
   },
   "source": [
    "1) Given a bunch of data. What is the difference between good hypothesis and bad hypothesis?"
   ]
  },
  {
   "cell_type": "code",
   "execution_count": null,
   "metadata": {
    "collapsed": true
   },
   "outputs": [],
   "source": []
  },
  {
   "cell_type": "markdown",
   "metadata": {
    "collapsed": true
   },
   "source": [
    "2) What parametrize each hypothesis?"
   ]
  },
  {
   "cell_type": "code",
   "execution_count": null,
   "metadata": {
    "collapsed": true
   },
   "outputs": [],
   "source": []
  },
  {
   "cell_type": "markdown",
   "metadata": {
    "collapsed": true
   },
   "source": [
    "3) What is padded feature? Write down the cost function with padded features."
   ]
  },
  {
   "cell_type": "code",
   "execution_count": null,
   "metadata": {
    "collapsed": true
   },
   "outputs": [],
   "source": []
  },
  {
   "cell_type": "markdown",
   "metadata": {
    "collapsed": true
   },
   "source": [
    "4) What the variable we are trying to adjust?"
   ]
  },
  {
   "cell_type": "code",
   "execution_count": null,
   "metadata": {
    "collapsed": true
   },
   "outputs": [],
   "source": []
  },
  {
   "cell_type": "markdown",
   "metadata": {},
   "source": [
    "5) What does $w_0$ represent and what does $w_1$ represent?"
   ]
  },
  {
   "cell_type": "code",
   "execution_count": null,
   "metadata": {
    "collapsed": true
   },
   "outputs": [],
   "source": []
  },
  {
   "cell_type": "markdown",
   "metadata": {
    "collapsed": true
   },
   "source": [
    "6) Fit this data. (use fmin if you want)"
   ]
  },
  {
   "cell_type": "code",
   "execution_count": 33,
   "metadata": {
    "collapsed": false
   },
   "outputs": [],
   "source": [
    "np.random.seed(12345)\n",
    "n = 20\n",
    "xs = np.linspace(1,3, n)\n",
    "ys = 3*xs + 2 + np.random.randn(n)*0.1"
   ]
  },
  {
   "cell_type": "code",
   "execution_count": 35,
   "metadata": {
    "collapsed": false
   },
   "outputs": [
    {
     "name": "stdout",
     "output_type": "stream",
     "text": [
      "Optimization terminated successfully.\n",
      "         Current function value: 0.193620\n",
      "         Iterations: 72\n",
      "         Function evaluations: 137\n",
      "[ 2.05776679  2.98676089]\n"
     ]
    },
    {
     "data": {
      "text/plain": [
       "[<matplotlib.lines.Line2D at 0x1087c2750>]"
      ]
     },
     "execution_count": 35,
     "metadata": {},
     "output_type": "execute_result"
    },
    {
     "data": {
      "image/png": "[encoded data removed]",
      "text/plain": [
       "<matplotlib.figure.Figure at 0x1089a37d0>"
      ]
     },
     "metadata": {},
     "output_type": "display_data"
    }
   ],
   "source": [
    "plt.plot(xs,ys, '.')\n",
    "\n",
    "\n",
    "# def padAll(xs):\n",
    "#     tmp = np.zeros((xs.size, 2))\n",
    "#     tmp[:, 0] = 1.\n",
    "#     tmp[:, 1] = xs\n",
    "#     return tmp\n",
    "\n",
    "def padAll(xs):\n",
    "    tmp = np.zeros((xs.size, 2))\n",
    "    for i in xrange(xs.size):\n",
    "        tmp[i, 0] = 1.\n",
    "        tmp[i, 1] = xs[i]\n",
    "    return tmp\n",
    "\n",
    "pxs = padAll(xs)\n",
    "\n",
    "# def cost(ws):\n",
    "#     guesses = np.dot(pxs, ws)\n",
    "#     return np.sum((ys - guesses)**2)\n",
    "\n",
    "def cost(ws):\n",
    "    tmp = 0\n",
    "    for i in xrange(xs.size):\n",
    "        guess = (ws[0] * pxs[i][0]) + (ws[1] * pxs[i][1])\n",
    "        tmp += (ys[i] - guess)**2\n",
    "    return tmp\n",
    "\n",
    "\n",
    "import scipy.optimize as opt\n",
    "res = opt.fmin(cost, [0.,1.])  \n",
    "print res\n",
    "guesses = np.dot(pxs, res)\n",
    "plt.plot(xs, guesses)"
   ]
  },
  {
   "cell_type": "markdown",
   "metadata": {
    "collapsed": true
   },
   "source": [
    "6) Why stop at one dimension. Here you are given a data set of house price(in million) given area, bed room and bath room. Find it in house price.csv.\n",
    "\n",
    "Find the price for 45m^2 house with 2 bedroom and 2 bathroom.\n",
    "\n",
    "Hint: `np.from_text` and use numpy array slicing will save you a lot of typing."
   ]
  },
  {
   "cell_type": "code",
   "execution_count": 52,
   "metadata": {
    "collapsed": false
   },
   "outputs": [
    {
     "name": "stdout",
     "output_type": "stream",
     "text": [
      "Optimization terminated successfully.\n",
      "         Current function value: 0.928485\n",
      "         Iterations: 283\n",
      "         Function evaluations: 478\n",
      "[ 0.3998773   0.10027504  0.30784073  0.12015975]\n"
     ]
    }
   ],
   "source": [
    "data = np.genfromtxt('house_price.csv', delimiter=',')\n",
    "prices = data[:, 0]\n",
    "features = data[:, 1:]\n",
    "\n",
    "def padAll(ftr):\n",
    "    row, col = ftr.shape\n",
    "    tmp = np.zeros((row, col + 1))\n",
    "    tmp[:, 0] = 1.\n",
    "    tmp[:, 1:] = ftr\n",
    "    return tmp\n",
    "\n",
    "#print padAll(features)\n",
    "\n",
    "padftr = padAll(features)\n",
    "#print padftr\n",
    "\n",
    "def cost(ws):\n",
    "    guesses = np.dot(padftr, ws)\n",
    "    return np.sum((prices - guesses)**2)\n",
    "\n",
    "\n",
    "import scipy.optimize as opt\n",
    "res = opt.fmin(cost, [1.,1.,1.,1.])  \n",
    "print res\n",
    "\n",
    "# plt.plot(guesses, prices, '.')\n",
    "\n",
    "# def cost()"
   ]
  },
  {
   "cell_type": "code",
   "execution_count": 41,
   "metadata": {
    "collapsed": true
   },
   "outputs": [],
   "source": [
    "# ROC curve first? May be...."
   ]
  },
  {
   "cell_type": "code",
   "execution_count": null,
   "metadata": {
    "collapsed": true
   },
   "outputs": [],
   "source": []
  },
  {
   "cell_type": "code",
   "execution_count": null,
   "metadata": {
    "collapsed": true
   },
   "outputs": [],
   "source": []
  },
  {
   "cell_type": "markdown",
   "metadata": {},
   "source": [
    "# Logistic Regression"
   ]
  },
  {
   "cell_type": "markdown",
   "metadata": {
    "collapsed": true
   },
   "source": [
    "1) Why is linear regression not suitable for predicting probabilities?"
   ]
  },
  {
   "cell_type": "code",
   "execution_count": null,
   "metadata": {
    "collapsed": true
   },
   "outputs": [],
   "source": []
  },
  {
   "cell_type": "markdown",
   "metadata": {},
   "source": [
    "2) Consider logistic function\n",
    "\n",
    "$$\\theta(s) = \\frac{1}{1+e^{-s}}$$\n",
    "\n",
    "Find $f(\\infty)$ and $f(-\\infty)$ and just plot the function."
   ]
  },
  {
   "cell_type": "code",
   "execution_count": null,
   "metadata": {
    "collapsed": true
   },
   "outputs": [],
   "source": []
  },
  {
   "cell_type": "markdown",
   "metadata": {},
   "source": [
    "3) Show that $$\\theta(-s) = 1 - \\theta(s)$$"
   ]
  },
  {
   "cell_type": "code",
   "execution_count": null,
   "metadata": {
    "collapsed": true
   },
   "outputs": [],
   "source": []
  },
  {
   "cell_type": "markdown",
   "metadata": {},
   "source": [
    "4) Combine logistic function and linear regression to make function that takes in a bunch of features and give out a probability. What parameters parametrize your models?"
   ]
  },
  {
   "cell_type": "code",
   "execution_count": null,
   "metadata": {
    "collapsed": true
   },
   "outputs": [],
   "source": []
  },
  {
   "cell_type": "markdown",
   "metadata": {},
   "source": [
    "5) Given that you use hypothesis $$ P_\\vec{w}(1 | \\vec{x}) = \\theta(\\vec{w}\\cdot\\vec{x}) $$\n",
    "and that you only 2 classes (+1 and -1) what is\n",
    "\n",
    "$$ P_\\vec{w}(-1 | \\vec{x})$$"
   ]
  },
  {
   "cell_type": "code",
   "execution_count": null,
   "metadata": {
    "collapsed": true
   },
   "outputs": [],
   "source": []
  },
  {
   "cell_type": "markdown",
   "metadata": {},
   "source": [
    "6) Use the fact from 3) write what you found in 5 in a simpler form\n",
    "\n",
    "$$\n",
    "P_\\vec{w}(y|\\vec{x}) = \\begin{cases}\n",
    "    \\ldots & y = 1 \\\\\n",
    "    \\ldots & y = -1\n",
    "\\end{cases}\n",
    "$$"
   ]
  },
  {
   "cell_type": "code",
   "execution_count": null,
   "metadata": {
    "collapsed": true
   },
   "outputs": [],
   "source": []
  },
  {
   "cell_type": "markdown",
   "metadata": {},
   "source": [
    "7) Using the fact that $y\\in\\{-1, 1\\}$Convince yourself that what you wrote above is just\n",
    "\n",
    "$$ P_\\vec{w}\\left(y|\\vec{x} \\right) = \\theta\\left(y \\times \\left( \\vec{w} \\cdot \\vec{x} \\right) \\right)$$"
   ]
  },
  {
   "cell_type": "code",
   "execution_count": null,
   "metadata": {
    "collapsed": true
   },
   "outputs": [],
   "source": []
  },
  {
   "cell_type": "markdown",
   "metadata": {},
   "source": [
    "8) How do we distinguish a good hypothesis from bad hypothesis? (good $\\vec{w}$ from bad $\\vec{w}$)"
   ]
  },
  {
   "cell_type": "code",
   "execution_count": null,
   "metadata": {
    "collapsed": true
   },
   "outputs": [],
   "source": []
  },
  {
   "cell_type": "markdown",
   "metadata": {},
   "source": [
    "9) What does likelihood represents?"
   ]
  },
  {
   "cell_type": "code",
   "execution_count": null,
   "metadata": {
    "collapsed": true
   },
   "outputs": [],
   "source": []
  },
  {
   "cell_type": "markdown",
   "metadata": {},
   "source": [
    "10) Let us do one concrete example here.  Calculate the likelihood for $\\vec{w}$ given these data point\n",
    "$$\\vec{w}_1 = (0,1,2)$$\n",
    "- $y = 1$, $x=[1, -1]$\n",
    "- $y = -1$, $x=[-2, 1]$ "
   ]
  },
  {
   "cell_type": "code",
   "execution_count": null,
   "metadata": {
    "collapsed": true
   },
   "outputs": [],
   "source": []
  },
  {
   "cell_type": "markdown",
   "metadata": {},
   "source": [
    "11) Is $\\vec{w}_2 = (1,1,1)$ a better hypothesis?"
   ]
  },
  {
   "cell_type": "code",
   "execution_count": null,
   "metadata": {
    "collapsed": true
   },
   "outputs": [],
   "source": []
  },
  {
   "cell_type": "markdown",
   "metadata": {},
   "source": [
    "12) What happend when we take log of the likelihood?"
   ]
  },
  {
   "cell_type": "code",
   "execution_count": null,
   "metadata": {
    "collapsed": true
   },
   "outputs": [],
   "source": []
  },
  {
   "cell_type": "markdown",
   "metadata": {},
   "source": [
    "13) Write down our cost function."
   ]
  },
  {
   "cell_type": "code",
   "execution_count": null,
   "metadata": {
    "collapsed": true
   },
   "outputs": [],
   "source": []
  },
  {
   "cell_type": "markdown",
   "metadata": {},
   "source": [
    "14) What is the parameter that we are trying to adjust?"
   ]
  },
  {
   "cell_type": "code",
   "execution_count": null,
   "metadata": {
    "collapsed": true
   },
   "outputs": [],
   "source": []
  },
  {
   "cell_type": "markdown",
   "metadata": {},
   "source": [
    "15) Look at gold_target data file and build a system to decide whether we should dig the gold or not."
   ]
  },
  {
   "cell_type": "code",
   "execution_count": null,
   "metadata": {
    "collapsed": true
   },
   "outputs": [],
   "source": []
  }
 ],
 "metadata": {
  "kernelspec": {
   "display_name": "Python 2",
   "language": "python",
   "name": "python2"
  },
  "language_info": {
   "codemirror_mode": {
    "name": "ipython",
    "version": 2
   },
   "file_extension": ".py",
   "mimetype": "text/x-python",
   "name": "python",
   "nbconvert_exporter": "python",
   "pygments_lexer": "ipython2",
   "version": "2.7.6"
  }
 },
 "nbformat": 4,
 "nbformat_minor": 0
}
