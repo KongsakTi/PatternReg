{
 "cells": [
  {
   "cell_type": "markdown",
   "metadata": {},
   "source": [
    "You have time until the competition ends. Send it in before final."
   ]
  },
  {
   "cell_type": "markdown",
   "metadata": {},
   "source": [
    "The data given is a subset of how Kobe Bryant shoot for his entire NBA career.\n",
    "I took out some data for the competition.\n",
    "\n",
    "https://www.kaggle.com/c/kobe-bryant-shot-selection\n",
    "\n",
    "Your report notebook should include\n",
    "- some nice visualizations of the data.\n",
    "- description of how each visualization affect the decision you made in making classifier\n",
    "- The username you use in kaggle so I can identify your rank.\n",
    "\n",
    "Grading will be in project category. It consists of two parts.\n",
    "\n",
    "90% report\n",
    "10% for ranking in Kaggle.\n",
    "- 1% for entering the competion\n",
    "- 3% if you beat 50% benchmark.\n",
    "- 5% if you are top 50%\n",
    "- 7% if you are top 20%\n",
    "- 10% if you are in the leader board\n",
    "- Cash prize (from someone else) if you win\n",
    "\n",
    "You may study the notebook by other. You may use sk-learn etc."
   ]
  },
  {
   "cell_type": "code",
   "execution_count": 72,
   "metadata": {
    "collapsed": false
   },
   "outputs": [],
   "source": [
    "%matplotlib inline\n",
    "import os\n",
    "import time\n",
    "import sys\n",
    "import numpy as np\n",
    "from multiprocessing import Pool"
   ]
  },
  {
   "cell_type": "code",
   "execution_count": 73,
   "metadata": {
    "collapsed": false
   },
   "outputs": [],
   "source": [
    "def readFile(file):\n",
    "    tmp = []\n",
    "    with open(file) as f:\n",
    "        for line in f:\n",
    "            tmp.append(line)\n",
    "    return tmp\n",
    "\n",
    "def cleanData(data):\n",
    "    return [d.rstrip('\\n').split(',') for d in data[1:]]\n",
    "\n",
    "def toFloat(data):\n",
    "    for d in data:\n",
    "        for i in xrange(len(d)):\n",
    "            try:\n",
    "                d[i] = float(d[i])\n",
    "            except:\n",
    "                pass\n",
    "    return data\n",
    "            \n",
    "def test_train(data):\n",
    "    test = []\n",
    "    train = []\n",
    "    np.random.seed(99999)\n",
    "    rd = [np.random.randint(10) for x in xrange(len(data))]\n",
    "    for i in xrange(len(data)):\n",
    "        if rd[i] <=1:\n",
    "            test.append(data[i])\n",
    "        else:\n",
    "            train.append(data[i])\n",
    "    return test,train"
   ]
  },
  {
   "cell_type": "code",
   "execution_count": 102,
   "metadata": {
    "collapsed": false
   },
   "outputs": [],
   "source": [
    "data = readFile('data.csv')\n",
    "data = cleanData(data)\n",
    "fdata = toFloat(data)\n",
    "test, train = test_train(fdata)"
   ]
  },
  {
   "cell_type": "markdown",
   "metadata": {},
   "source": [
    "action_type,\n",
    "combined_shot_type,\n",
    "game_event_id,\n",
    "game_id,\n",
    "lat,\n",
    "\n",
    "loc_x,\n",
    "loc_y,\n",
    "lon,\n",
    "minutes_remaining,\n",
    "period,\n",
    "\n",
    "playoffs,\n",
    "season,\n",
    "seconds_remaining,\n",
    "shot_distance,\n",
    "shot_made_flag,\n",
    "\n",
    "shot_type,\n",
    "shot_zone_area,\n",
    "shot_zone_basic,\n",
    "shot_zone_range,\n",
    "team_id,\n",
    "\n",
    "team_name,\n",
    "game_date,\n",
    "matchup,\n",
    "opponent,\n",
    "shot_id"
   ]
  },
  {
   "cell_type": "code",
   "execution_count": 62,
   "metadata": {
    "collapsed": false
   },
   "outputs": [],
   "source": [
    "def pickData(data):\n",
    "#     useIdx = [0, 1, 5, 6, 7, 13, 15, 16, 17, 18]\n",
    "\n",
    "    useIdx = [5, 6, 7, 13]\n",
    "    cIdx = 14\n",
    "    new_data = []\n",
    "    classes = []\n",
    "    \n",
    "    for d in data:\n",
    "        c = d[cIdx]\n",
    "        if c != '':\n",
    "            new_data.append( [d[idx] for idx in useIdx] )\n",
    "            classes.append(c)\n",
    "    return np.array(new_data), np.array(classes)"
   ]
  },
  {
   "cell_type": "code",
   "execution_count": 63,
   "metadata": {
    "collapsed": false
   },
   "outputs": [],
   "source": [
    "new_train, classes = pickData(train)\n",
    "new_test, test_classes = pickData(test)"
   ]
  },
  {
   "cell_type": "code",
   "execution_count": 64,
   "metadata": {
    "collapsed": false
   },
   "outputs": [
    {
     "name": "stdout",
     "output_type": "stream",
     "text": [
      "[[-157.        0.     -118.4268   15.    ]\n",
      " [ 138.      175.     -118.1318   22.    ]\n",
      " [-145.      -11.     -118.4148   14.    ]\n",
      " [   0.        0.     -118.2698    0.    ]\n",
      " [ -65.      108.     -118.3348   12.    ]\n",
      " [ -94.      238.     -118.3638   25.    ]\n",
      " [ -67.      110.     -118.3368   12.    ]\n",
      " [ -23.       47.     -118.2928    5.    ]\n",
      " [  62.      192.     -118.2078   20.    ]\n",
      " [-132.       97.     -118.4018   16.    ]]\n",
      "[[-101.      135.     -118.3708   16.    ]\n",
      " [   0.        0.     -118.2698    0.    ]\n",
      " [ -33.      125.     -118.3028   12.    ]\n",
      " [ 121.      127.     -118.1488   17.    ]\n",
      " [ -94.        4.     -118.3638    9.    ]\n",
      " [-117.      226.     -118.3868   25.    ]\n",
      " [   3.      144.     -118.2668   14.    ]\n",
      " [ -16.      110.     -118.2858   11.    ]\n",
      " [-109.      150.     -118.3788   18.    ]\n",
      " [ -58.      196.     -118.3278   20.    ]]\n"
     ]
    }
   ],
   "source": [
    "print new_train[:10]\n",
    "print new_test[:10]"
   ]
  },
  {
   "cell_type": "code",
   "execution_count": 65,
   "metadata": {
    "collapsed": false
   },
   "outputs": [],
   "source": [
    "class Node:\n",
    "    def __init__(self, msg='label'):\n",
    "        self.left = None\n",
    "        self.right = None\n",
    "        self.msg = msg\n",
    "        \n",
    "    def is_leaf(self):\n",
    "        return self.left is None and self.right is None\n",
    "    \n",
    "    def __str__(self):\n",
    "        return self.msg\n",
    "    \n",
    "class DecisionNode(Node):\n",
    "    def __init__(self, vid, cut, prob = -1):\n",
    "        Node.__init__(self)\n",
    "        self.vid = vid\n",
    "        self.cut = cut\n",
    "        self.prob = prob\n",
    "\n",
    "    def __str__(self):\n",
    "        if not self.is_leaf():\n",
    "            return 'x%d < %.2f'%(self.vid, self.cut)\n",
    "        else:\n",
    "            return '%.2f'%self.prob\n",
    "            \n",
    "    def classify(self, data):\n",
    "        if self.is_leaf():\n",
    "            return self.prob\n",
    "        else:\n",
    "            if (data[self.vid] < self.cut):\n",
    "                return self.left.classify(data)\n",
    "            else:\n",
    "                return self.right.classify(data)\n",
    "\n",
    "def make_tree(data):\n",
    "    features, cls, minleaf = data\n",
    "    if len(features) < minleaf:\n",
    "        return DecisionNode(None, None, sum(cls>0)/float(len(features)))\n",
    "    elif sum(cls>0) == len(cls):\n",
    "        return DecisionNode(None, None, 1 if cls[0] > 0 else 0)\n",
    "    else:\n",
    "        vid, cut, s, left, ftLeft, right, ftRight = find_cut(features, cls)\n",
    "        node = DecisionNode(vid, cut)\n",
    "        node.left = make_tree((ftLeft, left, minleaf))\n",
    "        node.right = make_tree((ftRight, right, minleaf))\n",
    "        \n",
    "        return node"
   ]
  },
  {
   "cell_type": "code",
   "execution_count": 66,
   "metadata": {
    "collapsed": true
   },
   "outputs": [],
   "source": [
    "def score(cls):\n",
    "    p = sum(cls>0)/float(len(cls))\n",
    "    return p*(1 - p)\n",
    "    \n",
    "def find_cut(features, cls):\n",
    "    nfeatures = features.shape[1]\n",
    "    result = []\n",
    "    for vid in xrange(nfeatures):\n",
    "        xs = features[:, vid]\n",
    "        minx, maxx = min(xs), max(xs)\n",
    "        cuts = np.linspace(minx, maxx, 12)[1: - 1]\n",
    "        \n",
    "        for cut in cuts:\n",
    "            left = cls[xs<cut]\n",
    "            ftLeft = features[xs<cut]\n",
    "            right = cls[xs>=cut]\n",
    "            ftRight = features[xs>=cut]\n",
    "            s = score(left) + score(right)\n",
    "            \n",
    "            result.append((vid, cut, s, left, ftLeft, right, ftRight))\n",
    "            \n",
    "    return min(result, key = lambda x: x[2])"
   ]
  },
  {
   "cell_type": "code",
   "execution_count": 67,
   "metadata": {
    "collapsed": false
   },
   "outputs": [
    {
     "data": {
      "text/plain": [
       "(20548, 4)"
      ]
     },
     "execution_count": 67,
     "metadata": {},
     "output_type": "execute_result"
    }
   ],
   "source": [
    "new_train.shape"
   ]
  },
  {
   "cell_type": "code",
   "execution_count": 68,
   "metadata": {
    "collapsed": false
   },
   "outputs": [],
   "source": [
    "ntree = 100\n",
    "minleaf = 2000\n",
    "\n",
    "randIdx = np.array([ np.array([np.random.randint(2) for x in xrange(len(new_train))]) for y in xrange(ntree)])\n",
    "randPop = np.array([ (new_train[idx == 1], classes[idx == 1], minleaf) for idx in randIdx])"
   ]
  },
  {
   "cell_type": "code",
   "execution_count": 69,
   "metadata": {
    "collapsed": false
   },
   "outputs": [
    {
     "name": "stdout",
     "output_type": "stream",
     "text": [
      "--- 1252.26776195 seconds ---\n"
     ]
    }
   ],
   "source": [
    "start_time = time.time()\n",
    "p = Pool(4)\n",
    "tforest = p.map(make_tree, randPop)\n",
    "print(\"--- %s seconds ---\" % (time.time() - start_time))"
   ]
  },
  {
   "cell_type": "code",
   "execution_count": 32,
   "metadata": {
    "collapsed": false
   },
   "outputs": [],
   "source": []
  },
  {
   "cell_type": "code",
   "execution_count": 70,
   "metadata": {
    "collapsed": false
   },
   "outputs": [],
   "source": [
    "right = 0\n",
    "wrong = 0\n",
    "\n",
    "for i, d in enumerate(new_test):\n",
    "    r = sum([tree.classify(d) for tree in tforest])/len(tforest)\n",
    "    if r > 0.5:\n",
    "        if test_classes[i] == 1:\n",
    "            right += 1\n",
    "        else:\n",
    "            wrong += 1\n",
    "    else:\n",
    "        if test_classes[i] != 1:\n",
    "            right += 1\n",
    "        else:\n",
    "            wrong += 1"
   ]
  },
  {
   "cell_type": "code",
   "execution_count": 71,
   "metadata": {
    "collapsed": false
   },
   "outputs": [
    {
     "name": "stdout",
     "output_type": "stream",
     "text": [
      "3088 2061\n",
      "0.599728102544\n"
     ]
    }
   ],
   "source": [
    "print right, wrong\n",
    "print right/float((right+wrong))"
   ]
  },
  {
   "cell_type": "code",
   "execution_count": 111,
   "metadata": {
    "collapsed": false
   },
   "outputs": [],
   "source": [
    "def special_pickData(data):\n",
    "#     useIdx = [0, 1, 5, 6, 7, 13, 15, 16, 17, 18]\n",
    "\n",
    "    useIdx = [5, 6, 7, 13]\n",
    "    cIdx = 14\n",
    "    new_data = []\n",
    "    classes = []\n",
    "    noClasses = []\n",
    "    for i, d in enumerate(data):\n",
    "        c = d[cIdx]\n",
    "        new_data.append( [d[idx] for idx in useIdx] )\n",
    "        classes.append(c)\n",
    "        \n",
    "        if c == '':\n",
    "            noClasses.append(i)\n",
    "    return np.array(new_data), np.array(classes), np.array(noClasses)"
   ]
  },
  {
   "cell_type": "code",
   "execution_count": 112,
   "metadata": {
    "collapsed": true
   },
   "outputs": [],
   "source": [
    "submition_data, submition_classes, noClasses = special_pickData(fdata)"
   ]
  },
  {
   "cell_type": "code",
   "execution_count": 113,
   "metadata": {
    "collapsed": false
   },
   "outputs": [
    {
     "name": "stdout",
     "output_type": "stream",
     "text": [
      "5000 30697\n"
     ]
    }
   ],
   "source": [
    "print len(noClasses), len(submition_data)"
   ]
  },
  {
   "cell_type": "code",
   "execution_count": 117,
   "metadata": {
    "collapsed": false
   },
   "outputs": [],
   "source": [
    "f = open('submission', 'w')\n",
    "\n",
    "for i in noClasses:\n",
    "    r = sum([tree.classify(submition_data[i]) for tree in tforest])/len(tforest)\n",
    "    f.write(\"{},{}\\n\".format(i+1, r))\n",
    "f.close()"
   ]
  },
  {
   "cell_type": "code",
   "execution_count": 101,
   "metadata": {
    "collapsed": false
   },
   "outputs": [
    {
     "name": "stdout",
     "output_type": "stream",
     "text": [
      "30697\n"
     ]
    }
   ],
   "source": [
    "print(len(fdata))"
   ]
  },
  {
   "cell_type": "code",
   "execution_count": null,
   "metadata": {
    "collapsed": true
   },
   "outputs": [],
   "source": []
  }
 ],
 "metadata": {
  "kernelspec": {
   "display_name": "Python 2",
   "language": "python",
   "name": "python2"
  },
  "language_info": {
   "codemirror_mode": {
    "name": "ipython",
    "version": 2
   },
   "file_extension": ".py",
   "mimetype": "text/x-python",
   "name": "python",
   "nbconvert_exporter": "python",
   "pygments_lexer": "ipython2",
   "version": "2.7.10"
  }
 },
 "nbformat": 4,
 "nbformat_minor": 0
}
