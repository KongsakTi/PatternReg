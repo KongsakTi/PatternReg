{
 "cells": [
  {
   "cell_type": "markdown",
   "metadata": {},
   "source": [
    "You have time until the competition ends. Send it in before final."
   ]
  },
  {
   "cell_type": "markdown",
   "metadata": {},
   "source": [
    "The data given is a subset of how Kobe Bryant shoot for his entire NBA career.\n",
    "I took out some data for the competition.\n",
    "\n",
    "https://www.kaggle.com/c/kobe-bryant-shot-selection\n",
    "\n",
    "Your report notebook should include\n",
    "- some nice visualizations of the data.\n",
    "- description of how each visualization affect the decision you made in making classifier\n",
    "- The username you use in kaggle so I can identify your rank.\n",
    "\n",
    "Grading will be in project category. It consists of two parts.\n",
    "\n",
    "90% report\n",
    "10% for ranking in Kaggle.\n",
    "- 1% for entering the competion\n",
    "- 3% if you beat 50% benchmark.\n",
    "- 5% if you are top 50%\n",
    "- 7% if you are top 20%\n",
    "- 10% if you are in the leader board\n",
    "- Cash prize (from someone else) if you win\n",
    "\n",
    "You may study the notebook by other. You may use sk-learn etc."
   ]
  },
  {
   "cell_type": "code",
   "execution_count": 3,
   "metadata": {
    "collapsed": true
   },
   "outputs": [],
   "source": [
    "%matplotlib inline\n",
    "from matplotlib import pyplot as plt\n",
    "from matplotlib import dates as mdates\n",
    "\n",
    "import numpy as np"
   ]
  },
  {
   "cell_type": "code",
   "execution_count": 10,
   "metadata": {
    "collapsed": false
   },
   "outputs": [],
   "source": [
    "def readFile(file):\n",
    "    tmp = []\n",
    "    with open(file) as f:\n",
    "        for line in f:\n",
    "            tmp.append(line)\n",
    "    return tmp\n",
    "\n",
    "def cleanData(data):\n",
    "    return [d.rstrip('\\n').split(',') for d in data]\n",
    "\n",
    "def toFloat(data):\n",
    "    for d in data:\n",
    "        for i in xrange(len(d)):\n",
    "            try:\n",
    "                d[i] = float(d[i])\n",
    "            except:\n",
    "                pass\n",
    "    return data\n",
    "            \n",
    "def test_train(data):\n",
    "    test = []\n",
    "    train = []\n",
    "    np.random.seed(99999)\n",
    "    rd = [np.random.randint(10) for x in xrange(len(data))]\n",
    "    for i in xrange(len(data)):\n",
    "        if rd[i] <=1:\n",
    "            test.append(data[i])\n",
    "        else:\n",
    "            train.append(data[i])\n",
    "    return test,train"
   ]
  },
  {
   "cell_type": "code",
   "execution_count": 23,
   "metadata": {
    "collapsed": false
   },
   "outputs": [],
   "source": [
    "data = readFile('data.csv')\n",
    "data = cleanData(data)\n",
    "data = toFloat(data)\n",
    "test, train = test_train(data)"
   ]
  },
  {
   "cell_type": "markdown",
   "metadata": {},
   "source": [
    "action_type,\n",
    "combined_shot_type,\n",
    "game_event_id,\n",
    "game_id,\n",
    "lat,\n",
    "\n",
    "loc_x,\n",
    "loc_y,\n",
    "lon,\n",
    "minutes_remaining,\n",
    "period,\n",
    "\n",
    "playoffs,\n",
    "season,\n",
    "seconds_remaining,\n",
    "shot_distance,\n",
    "shot_made_flag,\n",
    "\n",
    "shot_type,\n",
    "shot_zone_area,\n",
    "shot_zone_basic,\n",
    "shot_zone_range,\n",
    "team_id,\n",
    "\n",
    "team_name,\n",
    "game_date,\n",
    "matchup,\n",
    "opponent,\n",
    "shot_id"
   ]
  },
  {
   "cell_type": "code",
   "execution_count": 42,
   "metadata": {
    "collapsed": true
   },
   "outputs": [],
   "source": [
    "def pickData(data):\n",
    "    useIdx = [0, 1, 5, 6, 7, 13, 15, 16, 17, 18]\n",
    "    cIdx = 14\n",
    "    return [[ d[idx] for idx in useIdx] for d in data]"
   ]
  },
  {
   "cell_type": "code",
   "execution_count": 45,
   "metadata": {
    "collapsed": false
   },
   "outputs": [],
   "source": [
    "# train[0]"
   ]
  },
  {
   "cell_type": "code",
   "execution_count": 46,
   "metadata": {
    "collapsed": false
   },
   "outputs": [],
   "source": [
    "new_train = pickData(train)"
   ]
  },
  {
   "cell_type": "markdown",
   "metadata": {},
   "source": []
  },
  {
   "cell_type": "code",
   "execution_count": null,
   "metadata": {
    "collapsed": true
   },
   "outputs": [],
   "source": []
  }
 ],
 "metadata": {
  "kernelspec": {
   "display_name": "Python 2",
   "language": "python",
   "name": "python2"
  },
  "language_info": {
   "codemirror_mode": {
    "name": "ipython",
    "version": 2
   },
   "file_extension": ".py",
   "mimetype": "text/x-python",
   "name": "python",
   "nbconvert_exporter": "python",
   "pygments_lexer": "ipython2",
   "version": "2.7.10"
  }
 },
 "nbformat": 4,
 "nbformat_minor": 0
}
