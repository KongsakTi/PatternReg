{
 "cells": [
  {
   "cell_type": "markdown",
   "metadata": {},
   "source": [
    "There are many of them what we are going to consider here is decision tree. If we have time we are going to do nearest neighborhood too.\n",
    "\n",
    "# Decision Tree"
   ]
  },
  {
   "cell_type": "code",
   "execution_count": 2,
   "metadata": {
    "collapsed": false
   },
   "outputs": [],
   "source": [
    "%matplotlib inline\n",
    "from matplotlib import pyplot as plt\n",
    "import numpy as np\n",
    "import math\n",
    "import pydot\n",
    "from IPython.display import Image, display\n",
    "from collections import namedtuple"
   ]
  },
  {
   "cell_type": "markdown",
   "metadata": {},
   "source": [
    "Let us consider the data below."
   ]
  },
  {
   "cell_type": "code",
   "execution_count": 3,
   "metadata": {
    "collapsed": false
   },
   "outputs": [
    {
     "data": {
      "image/png": "[encoded data removed]",
      "text/plain": [
       "<matplotlib.figure.Figure at 0x109a1cf10>"
      ]
     },
     "metadata": {},
     "output_type": "display_data"
    }
   ],
   "source": [
    "np.random.seed(100)\n",
    "xs = np.random.random((20,2))\n",
    "#print xs\n",
    "cls = np.random.randint(0,2,20)*2-1\n",
    "#print cls\n",
    "plt.plot(xs[cls>0,0], xs[cls>0,1], 'ob')\n",
    "plt.plot(xs[cls<0,0], xs[cls<0,1], 'or')\n",
    "plt.grid()"
   ]
  },
  {
   "cell_type": "markdown",
   "metadata": {},
   "source": [
    "1) Try to make a classifier with several if statements."
   ]
  },
  {
   "cell_type": "code",
   "execution_count": 8,
   "metadata": {
    "collapsed": false
   },
   "outputs": [
    {
     "data": {
      "image/png": "[encoded data removed]",
      "text/plain": [
       "<matplotlib.figure.Figure at 0x109c0f910>"
      ]
     },
     "metadata": {},
     "output_type": "display_data"
    }
   ],
   "source": [
    "def bunch_of_ifs(data):\n",
    "    x1, x2 = data\n",
    "    if x1 < 0.4:\n",
    "        if x2 < 0.5:\n",
    "            return 1.0\n",
    "        else:\n",
    "            return 2./3\n",
    "    else:\n",
    "        if x2 < 0.8:\n",
    "            if x1 < 0.85:\n",
    "                return 0.\n",
    "            else:\n",
    "                return 2./3\n",
    "        else:\n",
    "            return 1./3\n",
    "    raise Exception(\"Shouldn't reach here\")\n",
    "\n",
    "x1s = np.linspace(0, 1, 100)\n",
    "x2s = np.linspace(0, 1, 100)\n",
    "zs = np.zeros((100,100))\n",
    "\n",
    "for ix1, x1 in enumerate(x1s):\n",
    "    for ix2, x2 in enumerate(x2s):\n",
    "        zs[ix1, ix2] = bunch_of_ifs([x1, x2])\n",
    "        \n",
    "plt.contourf(x1s, x2s, zs.T)\n",
    "plt.plot(xs[cls>0,0], xs[cls>0,1], 'ob')\n",
    "plt.plot(xs[cls<0,0], xs[cls<0,1], 'or')\n",
    "plt.grid()"
   ]
  },
  {
   "cell_type": "markdown",
   "metadata": {},
   "source": [
    "2) We want to represent the code above with a tree. Try draw your code above with a tree."
   ]
  },
  {
   "cell_type": "code",
   "execution_count": 10,
   "metadata": {
    "collapsed": true
   },
   "outputs": [],
   "source": [
    "#Here are some helpers\n",
    "#node must have field left and right representing left and right node.\n",
    "#the label on the node is from __str__ method\n",
    "def visualize_tree(node, depth_limit=10):\n",
    "    graph = pydot.Dot(graph_type='digraph')\n",
    "    visualize_tree_helper(node, graph, 0, depth_limit=depth_limit)\n",
    "    display(Image(graph.create_png()))\n",
    "    return graph\n",
    "    \n",
    "def visualize_tree_helper(node, graph, depth, depth_limit=10):\n",
    "    \n",
    "    if depth > depth_limit:\n",
    "        print 'Traversing too deep'\n",
    "        dotnode = pydot.Node('n%d'%id(node), label=str(node), shape=\"diamond\", fillcolor=\"green\", style=\"filled\")\n",
    "        graph.add_node(dotnode)\n",
    "        return dotnode\n",
    "    \n",
    "    \n",
    "    if not node.is_leaf():\n",
    "        dotnode = pydot.Node('n%d'%id(node),label=str(node), shape=\"box\")\n",
    "    else:\n",
    "        dotnode = pydot.Node('n%d'%id(node),label=str(node), shape=\"ellipse\")\n",
    "    graph.add_node(dotnode)\n",
    "    \n",
    "    if node.left is not None:\n",
    "        dotleft = visualize_tree_helper(node.left, graph, depth+1, depth_limit)\n",
    "        edge = pydot.Edge(dotnode, dotleft, label=\"Y\")\n",
    "        graph.add_edge(edge)\n",
    "    if node.right is not None:\n",
    "        dotright = visualize_tree_helper(node.right, graph, depth+1, depth_limit)\n",
    "        edge = pydot.Edge(dotnode, dotright, label=\"N\")\n",
    "        graph.add_edge(edge)\n",
    "    return dotnode"
   ]
  },
  {
   "cell_type": "code",
   "execution_count": 11,
   "metadata": {
    "collapsed": false
   },
   "outputs": [
    {
     "data": {
      "image/png": "[encoded data removed]",
      "text/plain": [
       "<IPython.core.display.Image object>"
      ]
     },
     "metadata": {},
     "output_type": "display_data"
    }
   ],
   "source": [
    "class Node:\n",
    "    def __init__(self, msg='label'):\n",
    "        self.left = None\n",
    "        self.right = None\n",
    "        self.msg = msg\n",
    "        \n",
    "    def is_leaf(self):\n",
    "        return self.left is None and self.right is None\n",
    "    \n",
    "    def __str__(self):\n",
    "        return self.msg\n",
    "test_root = Node('root')\n",
    "test_root.left = Node('left')\n",
    "test_root.right = Node('right')\n",
    "graph = visualize_tree(test_root)"
   ]
  },
  {
   "cell_type": "code",
   "execution_count": null,
   "metadata": {
    "collapsed": true
   },
   "outputs": [],
   "source": []
  },
  {
   "cell_type": "markdown",
   "metadata": {},
   "source": [
    "3) But we want our tree to be able to classify and not just draw a nice picture.\n",
    "\n",
    "This means that \n",
    "\n",
    "- our tree should have a method call classify(data)\n",
    "- each (decision) node should be able to make decision(Think about what info you need to do that).\n",
    "- leaf node should just holds the probability.\n",
    "\n",
    "Implement this (Subclass Node). (Debug it with visualize tree)\n",
    "\n",
    "Note that calling super constructor in python is a bit weird: you will need to do:\n",
    "\n",
    "``Node.__init__(self)`` within constructor"
   ]
  },
  {
   "cell_type": "code",
   "execution_count": 12,
   "metadata": {
    "collapsed": false
   },
   "outputs": [],
   "source": [
    "class DecisionNode(Node):\n",
    "    def __init__(self, vid, cut, prob = -1):\n",
    "        Node.__init__(self)\n",
    "        self.vid = vid\n",
    "        self.cut = cut\n",
    "        self.prob = prob\n",
    "\n",
    "    def __str__(self):\n",
    "        return self.msg\n",
    "            \n",
    "    def classify(self, data):\n",
    "        if self.is_leaf():\n",
    "            return self.prob\n",
    "        else:\n",
    "            if (data[self.vid] < self.cut):\n",
    "                return self.left.classify(data)\n",
    "            else:\n",
    "                return self.right.classify(data)"
   ]
  },
  {
   "cell_type": "code",
   "execution_count": null,
   "metadata": {
    "collapsed": true
   },
   "outputs": [],
   "source": [
    "root = DecisionNode(0, 0.4)\n",
    "\n",
    "root.left = DecisionNode(1, 0.5)\n",
    "root.left.left = DecisionNode(None, None, 1.)\n",
    "root.left.right = DecisionNode(None, None, .66)\n",
    "\n",
    "root.right = DecisionNode(1, 0.8)\n",
    "root.right.left = DecisionNode(0, 0.85)\n",
    "root.right.right = DecisionNode(None, None, 0.33)\n",
    "root.right.left.left = DecisionNode(None, None, 0.)\n",
    "root.right.left.right = DecisionNode(None, None, .66)\n"
   ]
  },
  {
   "cell_type": "markdown",
   "metadata": {},
   "source": [
    "4) Another way to visualize tree is by contour plot.\n",
    "\n",
    "http://matplotlib.org/api/pyplot_api.html#matplotlib.pyplot.contourf\n",
    "\n",
    "Draw contour plot of the tree you had in 3)"
   ]
  },
  {
   "cell_type": "code",
   "execution_count": null,
   "metadata": {
    "collapsed": true
   },
   "outputs": [],
   "source": []
  },
  {
   "cell_type": "markdown",
   "metadata": {
    "collapsed": false
   },
   "source": [
    "Of course, we are not going to build this tree by hands. Our goal is to build a program which read the data and build a good tree. (Finding the best tree is probably NP problem.) So we are gonna go greedy here.\n"
   ]
  },
  {
   "cell_type": "markdown",
   "metadata": {
    "collapsed": true
   },
   "source": [
    "5) How do we pick the best split(which variable and where)? What does it mean intuitively?"
   ]
  },
  {
   "cell_type": "code",
   "execution_count": null,
   "metadata": {
    "collapsed": true
   },
   "outputs": [],
   "source": []
  },
  {
   "cell_type": "markdown",
   "metadata": {
    "collapsed": true
   },
   "source": [
    "6) Write a function: given features and class and pick the best split. (Think about how we should represent split?)"
   ]
  },
  {
   "cell_type": "code",
   "execution_count": null,
   "metadata": {
    "collapsed": true
   },
   "outputs": [],
   "source": []
  },
  {
   "cell_type": "markdown",
   "metadata": {},
   "source": [
    "7) We want to grow a decision tree we need to stop somewhere. When should we stop?"
   ]
  },
  {
   "cell_type": "code",
   "execution_count": null,
   "metadata": {
    "collapsed": true
   },
   "outputs": [],
   "source": []
  },
  {
   "cell_type": "markdown",
   "metadata": {},
   "source": [
    "8) Now consider this data. Write a function that grow decision tree. Of course, you will need to "
   ]
  },
  {
   "cell_type": "code",
   "execution_count": 38,
   "metadata": {
    "collapsed": false
   },
   "outputs": [
    {
     "data": {
      "text/plain": [
       "[<matplotlib.lines.Line2D at 0x10678b790>]"
      ]
     },
     "execution_count": 38,
     "metadata": {},
     "output_type": "execute_result"
    },
    {
     "data": {
      "image/png": "[encoded data removed]",
      "text/plain": [
       "<matplotlib.figure.Figure at 0x1065de950>"
      ]
     },
     "metadata": {},
     "output_type": "display_data"
    }
   ],
   "source": [
    "np.random.seed(1234)\n",
    "xp1 = np.random.randn(1000,1)\n",
    "xp2 = np.random.randn(1000,1)\n",
    "pcls = np.zeros((1000))\n",
    "pcls[:] = 1\n",
    "xn1 = np.random.random((1000,1))*8-4\n",
    "xn2 = np.random.random((1000,1))*8-4\n",
    "ncls = np.zeros((1000))\n",
    "ncls[:] = -1\n",
    "x1s = np.concatenate([xp1, xn1])\n",
    "x2s = np.concatenate([xp2, xn2])\n",
    "cls = np.concatenate([pcls, ncls])\n",
    "features = np.concatenate((x1s, x2s), axis=1)\n",
    "\n",
    "cls>0\n",
    "plt.plot(features[cls>0, 0], features[cls>0, 1], '.r', alpha=0.3)\n",
    "plt.plot(features[cls<0, 0], features[cls<0, 1], '.b', alpha=0.3)"
   ]
  },
  {
   "cell_type": "markdown",
   "metadata": {},
   "source": [
    "9) Visualize what you build with contour plot. What do you see? Why do you think that happen?"
   ]
  },
  {
   "cell_type": "code",
   "execution_count": null,
   "metadata": {
    "collapsed": true
   },
   "outputs": [],
   "source": []
  },
  {
   "cell_type": "markdown",
   "metadata": {
    "collapsed": true
   },
   "source": [
    "10) What is the advantage of this method over stuff like linear regression?"
   ]
  },
  {
   "cell_type": "code",
   "execution_count": null,
   "metadata": {
    "collapsed": true
   },
   "outputs": [],
   "source": []
  },
  {
   "cell_type": "markdown",
   "metadata": {},
   "source": [
    "11) What happen if minleaf is too small?"
   ]
  },
  {
   "cell_type": "code",
   "execution_count": null,
   "metadata": {
    "collapsed": true
   },
   "outputs": [],
   "source": []
  },
  {
   "cell_type": "markdown",
   "metadata": {},
   "source": [
    "12) Just for fun. Try linear regression on this. (What do you expect and what do you see?)"
   ]
  },
  {
   "cell_type": "code",
   "execution_count": null,
   "metadata": {
    "collapsed": true
   },
   "outputs": [],
   "source": []
  },
  {
   "cell_type": "markdown",
   "metadata": {},
   "source": [
    "13) Try logistic regression with (How do I know that we need this transformation?)\n",
    "$$(x_1, x_2) \\to (1, x_1,x_1^2,x_2, x_2^2, x_1x_2)$$"
   ]
  },
  {
   "cell_type": "code",
   "execution_count": null,
   "metadata": {
    "collapsed": true
   },
   "outputs": [],
   "source": []
  }
 ],
 "metadata": {
  "kernelspec": {
   "display_name": "Python 2",
   "language": "python",
   "name": "python2"
  },
  "language_info": {
   "codemirror_mode": {
    "name": "ipython",
    "version": 2
   },
   "file_extension": ".py",
   "mimetype": "text/x-python",
   "name": "python",
   "nbconvert_exporter": "python",
   "pygments_lexer": "ipython2",
   "version": "2.7.6"
  }
 },
 "nbformat": 4,
 "nbformat_minor": 0
}
