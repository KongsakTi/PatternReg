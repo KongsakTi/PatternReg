{
 "cells": [
  {
   "cell_type": "code",
   "execution_count": 14,
   "metadata": {
    "collapsed": true
   },
   "outputs": [],
   "source": [
    "%matplotlib inline\n",
    "from scipy.io import loadmat\n",
    "import numpy as np\n",
    "from matplotlib import pyplot as plt\n",
    "import matplotlib.cm as cm"
   ]
  },
  {
   "cell_type": "code",
   "execution_count": 24,
   "metadata": {
    "collapsed": false
   },
   "outputs": [
    {
     "data": {
      "image/png": "[encoded data removed]",
      "text/plain": [
       "<matplotlib.figure.Figure at 0x110e1ab10>"
      ]
     },
     "metadata": {},
     "output_type": "display_data"
    }
   ],
   "source": [
    "np.random.seed(12345)\n",
    "nd = 100\n",
    "x1p = np.random.randn(nd)+1\n",
    "x1n = np.random.randn(nd)+2\n",
    "\n",
    "x2p = x1p *2 + 1 + np.random.randn(nd)\n",
    "x2n = x1n *2 + 1 + np.random.randn(nd)\n",
    "\n",
    "x1 = np.concatenate([x1p, x1n])\n",
    "x2 = np.concatenate([x2p, x2n])\n",
    "\n",
    "xs = np.vstack([x1, x2]) #now the index for data point is the second index.\n",
    "ys = np.concatenate([[1]*nd, [-1]*nd])\n",
    "plt.plot(x1[ys>0], x2[ys>0], '.b')\n",
    "plt.plot(x1[ys<0], x2[ys<0], '.r')\n",
    "plt.grid(True)\n"
   ]
  },
  {
   "cell_type": "markdown",
   "metadata": {},
   "source": [
    "1) Normalize the data so that the mean of each feature is 0 and standard deviation of each feature is 1."
   ]
  },
  {
   "cell_type": "code",
   "execution_count": 25,
   "metadata": {
    "collapsed": false
   },
   "outputs": [],
   "source": [
    "def normalize(xs):\n",
    "    mean = np.mean(xs, axis = 1)\n",
    "    norm_xs = xs - mean[:,np.newaxis]\n",
    "    norm_xs = norm_xs / np.std(norm_xs, axis = 1)[:, np.newaxis]\n",
    "    return norm_xs"
   ]
  },
  {
   "cell_type": "code",
   "execution_count": 26,
   "metadata": {
    "collapsed": false
   },
   "outputs": [
    {
     "name": "stdout",
     "output_type": "stream",
     "text": [
      "[ -5.02375919e-16   5.40123501e-16]\n",
      "[ 1.  1.]\n"
     ]
    }
   ],
   "source": [
    "nxs = normalize(xs)\n",
    "print np.mean(nxs, axis = 1)\n",
    "print np.std(nxs, axis = 1)"
   ]
  },
  {
   "cell_type": "code",
   "execution_count": 39,
   "metadata": {
    "collapsed": false
   },
   "outputs": [
    {
     "data": {
      "image/png": "[encoded data removed]",
      "text/plain": [
       "<matplotlib.figure.Figure at 0x110e83d10>"
      ]
     },
     "metadata": {},
     "output_type": "display_data"
    }
   ],
   "source": [
    "def plot_data(xs):\n",
    "    plt.plot(xs[0], xs[1], '.')\n",
    "    plt.grid(True)\n",
    "plot_data(nxs)"
   ]
  },
  {
   "cell_type": "markdown",
   "metadata": {},
   "source": [
    "2) What is the criteria for picking better axis?"
   ]
  },
  {
   "cell_type": "code",
   "execution_count": null,
   "metadata": {
    "collapsed": false
   },
   "outputs": [],
   "source": []
  },
  {
   "cell_type": "markdown",
   "metadata": {},
   "source": [
    "3) What is the size of the covariance matrix? Why?"
   ]
  },
  {
   "cell_type": "code",
   "execution_count": 37,
   "metadata": {
    "collapsed": false
   },
   "outputs": [
    {
     "name": "stdout",
     "output_type": "stream",
     "text": [
      "[[ 1.          0.90553179]\n",
      " [ 0.90553179  1.        ]]\n"
     ]
    }
   ],
   "source": [
    "def cov(nxs):\n",
    "#     r = len(nxs)\n",
    "#     c = len(nxs[0])\n",
    "#     cm = np.zeros((r, r))\n",
    "#     for i in xrange(r):\n",
    "#         for j in xrange(r):\n",
    "#             cm[i][j] = sum(nxs[i] * nxs[j])/c\n",
    "#     return cm\n",
    "# --------------------------------------------------------\n",
    "    return np.dot(nxs, nxs.T)/len(nxs[0])\n",
    "\n",
    "covMat = cov(nxs) # or np.cov(nxs)\n",
    "print covMat"
   ]
  },
  {
   "cell_type": "markdown",
   "metadata": {},
   "source": [
    "4) Find eigenvalue and eigenvector of the covariance matrix."
   ]
  },
  {
   "cell_type": "code",
   "execution_count": 41,
   "metadata": {
    "collapsed": false
   },
   "outputs": [],
   "source": [
    "evals, evecs = np.linalg.eigh(covMat)"
   ]
  },
  {
   "cell_type": "markdown",
   "metadata": {},
   "source": [
    "5) Draw the eigenvectors on the plot."
   ]
  },
  {
   "cell_type": "code",
   "execution_count": 43,
   "metadata": {
    "collapsed": false
   },
   "outputs": [
    {
     "data": {
      "image/png": "[encoded data removed]",
      "text/plain": [
       "<matplotlib.figure.Figure at 0x110e95510>"
      ]
     },
     "metadata": {},
     "output_type": "display_data"
    }
   ],
   "source": [
    "plot_data(nxs)\n",
    "t = np.linspace(-3, 3)\n",
    "vs = evecs[0] * t[:, np.newaxis]\n",
    "vs = vs.T\n",
    "plt.plot(vs[0], vs[1])\n",
    "\n",
    "vs = evecs[1] * t[:, np.newaxis]\n",
    "vs = vs.T\n",
    "plt.plot(vs[0], vs[1])\n",
    "\n",
    "plt.axes().set_aspect('equal', 'datalim')"
   ]
  },
  {
   "cell_type": "markdown",
   "metadata": {},
   "source": [
    "6) Use eigenvector and compute the transformed feature vector."
   ]
  },
  {
   "cell_type": "code",
   "execution_count": 47,
   "metadata": {
    "collapsed": false
   },
   "outputs": [],
   "source": [
    "newxs = np.dot(evecs, nxs)"
   ]
  },
  {
   "cell_type": "markdown",
   "metadata": {},
   "source": [
    "7) Plot transformed data point."
   ]
  },
  {
   "cell_type": "code",
   "execution_count": 49,
   "metadata": {
    "collapsed": false
   },
   "outputs": [
    {
     "data": {
      "image/png": "[encoded data removed]",
      "text/plain": [
       "<matplotlib.figure.Figure at 0x110e8c9d0>"
      ]
     },
     "metadata": {},
     "output_type": "display_data"
    }
   ],
   "source": [
    "plt.plot(newxs[0], newxs[1], '.')\n",
    "plt.axes().set_aspect('equal', 'datalim')"
   ]
  },
  {
   "cell_type": "markdown",
   "metadata": {},
   "source": [
    "# Handwritten Digit Recognition."
   ]
  },
  {
   "cell_type": "code",
   "execution_count": 5,
   "metadata": {
    "collapsed": false
   },
   "outputs": [
    {
     "name": "stdout",
     "output_type": "stream",
     "text": [
      "{'train_labels': array([[-1,  1, -1, ..., -1, -1, -1],\n",
      "       [-1, -1,  1, ..., -1, -1, -1],\n",
      "       [-1, -1, -1, ..., -1,  1, -1],\n",
      "       ..., \n",
      "       [-1, -1, -1, ..., -1, -1,  1],\n",
      "       [-1, -1, -1, ..., -1, -1, -1],\n",
      "       [-1, -1, -1, ...,  1, -1, -1]], dtype=int16), 'test_labels': array([[ 1, -1, -1, ..., -1, -1, -1],\n",
      "       [-1, -1, -1, ..., -1, -1, -1],\n",
      "       [-1, -1, -1, ..., -1, -1, -1],\n",
      "       ..., \n",
      "       [-1, -1, -1, ..., -1, -1, -1],\n",
      "       [-1, -1, -1, ...,  1, -1, -1],\n",
      "       [-1, -1, -1, ..., -1, -1, -1]], dtype=int16), 'train_patterns': array([[-0.99999988, -0.99999982, -0.99999988, ..., -0.9999997 ,\n",
      "        -0.99997759, -0.99993992],\n",
      "       [-0.9999997 , -0.99999845, -0.99999988, ..., -0.99996912,\n",
      "        -0.99797225, -0.99719542],\n",
      "       [-0.99998665, -0.99989259, -0.99999988, ..., -0.9983288 ,\n",
      "        -0.96142083, -0.95687085],\n",
      "       ..., \n",
      "       [-0.93985581, -0.76438236, -0.99999988, ..., -0.99999988,\n",
      "        -0.97830033, -0.99999988],\n",
      "       [-0.99104893, -0.93247736, -0.99999988, ..., -0.99999988,\n",
      "        -0.99563289, -0.99999988],\n",
      "       [-0.99916363, -0.99033844, -0.99999988, ..., -0.99999988,\n",
      "        -0.99974871, -0.99999988]]), '__header__': 'MATLAB 5.0 MAT-file, Platform: GLNX86, Created on: Fri Dec  3 17:13:58 2004', '__globals__': [], 'test_patterns': array([[-0.77753252, -0.99999988, -0.99999958, ..., -0.99999517,\n",
      "        -0.99999988, -0.99999988],\n",
      "       [-0.240252  , -0.99999988, -0.99996489, ..., -0.99945843,\n",
      "        -0.99999988, -0.99999988],\n",
      "       [ 0.03521794, -0.99999988, -0.99887937, ..., -0.9816342 ,\n",
      "        -0.99999988, -0.99999988],\n",
      "       ..., \n",
      "       [-0.97948372, -0.8419112 , -0.62490261, ..., -0.99903953,\n",
      "        -0.99060977, -0.98519874],\n",
      "       [-0.99758291, -0.98447108, -0.92984188, ..., -0.99998784,\n",
      "        -0.99973452, -0.99929285],\n",
      "       [-0.99987209, -0.99943602, -0.99603903, ..., -0.99999988,\n",
      "        -0.99999774, -0.99999201]]), '__version__': '1.0'}\n"
     ]
    }
   ],
   "source": [
    "D = loadmat('usps_resampled/usps_resampled.mat')\n",
    "print D\n",
    "#it is a dictionary of four elements\n",
    "# train_labels for the number of each training image\n",
    "# train_patterns for the train images\n",
    "# test_labels\n",
    "# test_patterns"
   ]
  },
  {
   "cell_type": "code",
   "execution_count": 6,
   "metadata": {
    "collapsed": false
   },
   "outputs": [
    {
     "name": "stdout",
     "output_type": "stream",
     "text": [
      "[-1 -1 -1 -1 -1 -1  1 -1 -1 -1]\n",
      "1\n",
      "[6 0 1 ..., 9 2 7]\n"
     ]
    }
   ],
   "source": [
    "#train_labels is in a funny format too\n",
    "#here is how to use it\n",
    "labels = D['train_labels'].T\n",
    "#this is how they represent 6\n",
    "print labels[0] \n",
    "print labels[0,6]\n",
    "\n",
    "def make_class(c):\n",
    "    return list(c).index(1)\n",
    "labels = np.array([make_class(lb) for lb in labels])\n",
    "print labels #more readable"
   ]
  },
  {
   "cell_type": "code",
   "execution_count": 7,
   "metadata": {
    "collapsed": false
   },
   "outputs": [
    {
     "data": {
      "image/png": "[encoded data removed]",
      "text/plain": [
       "<matplotlib.figure.Figure at 0x105c29350>"
      ]
     },
     "metadata": {},
     "output_type": "display_data"
    },
    {
     "data": {
      "image/png": "[encoded data removed]",
      "text/plain": [
       "<matplotlib.figure.Figure at 0x105c33490>"
      ]
     },
     "metadata": {},
     "output_type": "display_data"
    }
   ],
   "source": [
    "images = D['train_patterns']\n",
    "def show(img):\n",
    "    im = img.reshape(16,16) #you can try print it\n",
    "    plt.imshow(im, interpolation='nearest', cmap=cm.Greys)\n",
    "    \n",
    "show(images[:,0])\n",
    "plt.figure()\n",
    "show(images[:,1])"
   ]
  },
  {
   "cell_type": "code",
   "execution_count": null,
   "metadata": {
    "collapsed": true
   },
   "outputs": [],
   "source": []
  }
 ],
 "metadata": {
  "kernelspec": {
   "display_name": "Python 2",
   "language": "python",
   "name": "python2"
  },
  "language_info": {
   "codemirror_mode": {
    "name": "ipython",
    "version": 2
   },
   "file_extension": ".py",
   "mimetype": "text/x-python",
   "name": "python",
   "nbconvert_exporter": "python",
   "pygments_lexer": "ipython2",
   "version": "2.7.10"
  }
 },
 "nbformat": 4,
 "nbformat_minor": 0
}
