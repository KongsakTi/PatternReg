{
 "cells": [
  {
   "cell_type": "markdown",
   "metadata": {},
   "source": [
    "# Exercise 1 Basic Naive Bayes"
   ]
  },
  {
   "cell_type": "markdown",
   "metadata": {},
   "source": [
    "1) What exactly do we want to calculate to decide whether we will hvae more than 1000 audiences or not."
   ]
  },
  {
   "cell_type": "code",
   "execution_count": null,
   "metadata": {
    "collapsed": true
   },
   "outputs": [],
   "source": []
  },
  {
   "cell_type": "markdown",
   "metadata": {},
   "source": [
    "2) What are our features?"
   ]
  },
  {
   "cell_type": "code",
   "execution_count": null,
   "metadata": {
    "collapsed": true
   },
   "outputs": [],
   "source": []
  },
  {
   "cell_type": "markdown",
   "metadata": {},
   "source": [
    "3) What are our classes?"
   ]
  },
  {
   "cell_type": "code",
   "execution_count": null,
   "metadata": {
    "collapsed": true
   },
   "outputs": [],
   "source": []
  },
  {
   "cell_type": "markdown",
   "metadata": {},
   "source": [
    "4) What is the assumption we made at make the probability calculation more probable?"
   ]
  },
  {
   "cell_type": "code",
   "execution_count": null,
   "metadata": {
    "collapsed": true
   },
   "outputs": [],
   "source": []
  },
  {
   "cell_type": "markdown",
   "metadata": {},
   "source": [
    "5) How do we calculate the conditional terms from the data?"
   ]
  },
  {
   "cell_type": "code",
   "execution_count": null,
   "metadata": {
    "collapsed": true
   },
   "outputs": [],
   "source": []
  },
  {
   "cell_type": "markdown",
   "metadata": {},
   "source": [
    "6) How do we calculate the prior term from the data?"
   ]
  },
  {
   "cell_type": "code",
   "execution_count": null,
   "metadata": {
    "collapsed": true
   },
   "outputs": [],
   "source": []
  },
  {
   "cell_type": "markdown",
   "metadata": {},
   "source": [
    "7) How do we calculate the evidence term?"
   ]
  },
  {
   "cell_type": "code",
   "execution_count": null,
   "metadata": {
    "collapsed": true
   },
   "outputs": [],
   "source": []
  },
  {
   "cell_type": "markdown",
   "metadata": {},
   "source": [
    "8) Calculate the product of conditional terms and prior term for the probability that we will have more than 1000 audiences on a Sunny Hot Normal Weak wind day."
   ]
  },
  {
   "cell_type": "code",
   "execution_count": null,
   "metadata": {
    "collapsed": true
   },
   "outputs": [],
   "source": []
  },
  {
   "cell_type": "markdown",
   "metadata": {},
   "source": [
    "9) Calculate the same thing for the case when we have less than or equal to 1000 audiences on a Sunny Hot Normal Weak day."
   ]
  },
  {
   "cell_type": "code",
   "execution_count": null,
   "metadata": {
    "collapsed": true
   },
   "outputs": [],
   "source": []
  },
  {
   "cell_type": "markdown",
   "metadata": {},
   "source": [
    "10) What is the probability that we will have more than 1000 audience on a Sunny Hot Normal Weak day?"
   ]
  },
  {
   "cell_type": "code",
   "execution_count": null,
   "metadata": {
    "collapsed": true
   },
   "outputs": [],
   "source": []
  },
  {
   "cell_type": "markdown",
   "metadata": {},
   "source": [
    "11) What is the probability that we will NOT have more than 1000 audience on a Sunny Hot Normal Weak day?"
   ]
  },
  {
   "cell_type": "code",
   "execution_count": null,
   "metadata": {
    "collapsed": true
   },
   "outputs": [],
   "source": []
  },
  {
   "cell_type": "markdown",
   "metadata": {},
   "source": [
    "# Part 2 Bayesian Spam Detection"
   ]
  },
  {
   "cell_type": "markdown",
   "metadata": {
    "collapsed": true
   },
   "source": [
    "Make your own spam filter!!!"
   ]
  },
  {
   "cell_type": "code",
   "execution_count": 1,
   "metadata": {
    "collapsed": true
   },
   "outputs": [],
   "source": [
    "#spam\n",
    "#Naive Bayes\n",
    "#get word count from spam and ham\n",
    "\n",
    "%matplotlib inline\n",
    "from matplotlib import pyplot as plt"
   ]
  },
  {
   "cell_type": "code",
   "execution_count": 2,
   "metadata": {
    "collapsed": false
   },
   "outputs": [],
   "source": [
    "from glob import glob\n",
    "ham_files = glob('data/enron1/ham/*.txt')\n",
    "spam_files = glob('data/enron1/spam/*.txt')\n",
    "\n",
    "def read_emails(files):\n",
    "    tmp = []\n",
    "    for path in files:\n",
    "        with open(path) as f:\n",
    "            tmp.append(f.read())\n",
    "    return tmp\n",
    "\n",
    "ham_emails = read_emails(ham_files)\n",
    "spam_emails = read_emails(spam_files)"
   ]
  },
  {
   "cell_type": "code",
   "execution_count": 3,
   "metadata": {
    "collapsed": false
   },
   "outputs": [],
   "source": [
    "import re\n",
    "def cleanup(w):\n",
    "    #remove all non character symbols\n",
    "    s = w.lower()\n",
    "    return re.sub(r'[^a-zA-Z]', '', s)\n",
    "\n",
    "def tokenize(email):\n",
    "    #tokenize and filter token using length and get rid of common neutral words\n",
    "    tokens = email.split(' ')\n",
    "    clean_tokens = map(cleanup , tokens)\n",
    "    conjunctions = set(['a','the','an','in','on','at','of','by','','is','not','if','or','and','to','this','that','be','am','are','ect','for','hou','will','subject'])\n",
    "    clean_tokens = filter(lambda x: x not in conjunctions and len(x)>2, clean_tokens)\n",
    "    return clean_tokens\n",
    "\n",
    "def word_counts(tokens):\n",
    "    #return a dictionary of word->count\n",
    "    ret = {}\n",
    "    for w in tokens:\n",
    "        old = ret[w] if w in ret else 0\n",
    "        ret[w] = old+1\n",
    "    return ret\n",
    "\n",
    "def calculate_probs(emails):\n",
    "    #IMPLEMENT THIS\n",
    "    #emails that put in should be spam/ham emails set\n",
    "    #this should return a dictionary of word -> P(word|spam)\n",
    "    #or P(word|ham) if the emails in is ham emails\n",
    "    for email in emails:\n",
    "        \n",
    "    probs = {}\n",
    "    num_words = 1.0\n",
    "    return probs, num_words\n"
   ]
  },
  {
   "cell_type": "code",
   "execution_count": 17,
   "metadata": {
    "collapsed": false
   },
   "outputs": [
    {
     "name": "stdout",
     "output_type": "stream",
     "text": [
      "{'expects': 2, 'eachfollowing': 1, 'thanks': 1, 'based': 1, 'production': 3, 'farmer': 3, 'mail': 1, 'resources': 4, 'advises': 1, 'fax': 2, 'someone': 1, 'get': 2, 'conversations': 1, 'now': 1, 'day': 1, 'bryan': 1, 'she': 1, 'carlos': 3, 'referred': 1, 'set': 1, 'see': 1, 'ectcc': 3, 'gross': 3, 'contacts': 1, 'notification': 1, 'please': 2, 'george': 7, 'increase': 1, 'everything': 1, 'melissa': 2, 'between': 1, 'told': 1, 'hours': 17, 'corp': 1, 'graves': 2, 'estimate': 1, 'appears': 1, 'enron': 1, 'about': 1, 'would': 1, 'island': 2, 'larger': 2, 'turn': 1, 'block': 2, 'via': 1, 'fischer': 1, 'previously': 1, 'number': 1, 'gary': 2, 'tomorrow': 3, 'mscf': 1, 'from': 3, 'forwarded': 3, 'her': 2, 'onsaturday': 1, 'darren': 1, 'going': 1, 'call': 1, 'north': 1, 'nominations': 1, 'commenced': 1, 'with': 2, 'commence': 1, 'ectsubject': 2, 'effective': 1, 'bill': 1, 'attached': 1, 'record': 1, 'future': 1, 'can': 1, 'owns': 1, 'gascontrol': 1, 'thehigh': 1, 'voice': 2, 'rodriguez': 1, 'weissman': 5, 'telephone': 1, 'high': 1, 'inc': 4, 'erroneously': 1, 'amto': 3, 'provide': 1, 'snumbers': 1, 'how': 1, 'tosubmit': 1, 'bmar': 1, 'linda': 5, 'you': 1, 'ftp': 1, 'harris': 2, 'coming': 1, 'america': 1, 'nomination': 1, 'daren': 3, 'sometimetomorrow': 1, 'min': 1, 'well': 2, 'time': 1, 'vastar': 6}\n"
     ]
    }
   ],
   "source": [
    "print word_counts(tokenize(ham_emails[1]))"
   ]
  },
  {
   "cell_type": "code",
   "execution_count": 8,
   "metadata": {
    "collapsed": false
   },
   "outputs": [],
   "source": [
    "ham_probs, ham_num_words = calculate_probs(ham_emails)\n",
    "spam_probs, spam_num_words = calculate_probs(spam_emails)"
   ]
  },
  {
   "cell_type": "code",
   "execution_count": 5,
   "metadata": {
    "collapsed": true
   },
   "outputs": [],
   "source": [
    "def top_words(probs, n, title):\n",
    "    #plot out top words\n",
    "    ham_top = sorted(probs.iteritems(), key=lambda x: x[1], reverse=True)[:n]\n",
    "    x = [xx[0] for xx in ham_top]\n",
    "    y = [xx[1] for xx in ham_top]\n",
    "    plt.figure(figsize=(20,6))\n",
    "    plt.bar(range(len(x)),y)\n",
    "    plt.xticks(range(len(x)), x)\n",
    "    plt.title(title)   "
   ]
  },
  {
   "cell_type": "code",
   "execution_count": null,
   "metadata": {
    "collapsed": true
   },
   "outputs": [],
   "source": [
    "#now combine all the above to make a function that calculate P(spam | words in email) test it on enron 2 folder"
   ]
  }
 ],
 "metadata": {
  "kernelspec": {
   "display_name": "Python 2",
   "language": "python",
   "name": "python2"
  },
  "language_info": {
   "codemirror_mode": {
    "name": "ipython",
    "version": 2
   },
   "file_extension": ".py",
   "mimetype": "text/x-python",
   "name": "python",
   "nbconvert_exporter": "python",
   "pygments_lexer": "ipython2",
   "version": "2.7.6"
  }
 },
 "nbformat": 4,
 "nbformat_minor": 0
}
