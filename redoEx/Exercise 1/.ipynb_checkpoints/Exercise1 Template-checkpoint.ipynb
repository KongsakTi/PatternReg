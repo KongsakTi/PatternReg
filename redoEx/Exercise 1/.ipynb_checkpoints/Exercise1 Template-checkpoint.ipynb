{
 "cells": [
  {
   "cell_type": "markdown",
   "metadata": {},
   "source": [
    "# Exercise 1 Basic Naive Bayes"
   ]
  },
  {
   "cell_type": "markdown",
   "metadata": {},
   "source": [
    "1) What exactly do we want to calculate to decide whether we will hvae more than 1000 audiences or not."
   ]
  },
  {
   "cell_type": "code",
   "execution_count": null,
   "metadata": {
    "collapsed": true
   },
   "outputs": [],
   "source": []
  },
  {
   "cell_type": "markdown",
   "metadata": {},
   "source": [
    "2) What are our features?"
   ]
  },
  {
   "cell_type": "code",
   "execution_count": null,
   "metadata": {
    "collapsed": true
   },
   "outputs": [],
   "source": []
  },
  {
   "cell_type": "markdown",
   "metadata": {},
   "source": [
    "3) What are our classes?"
   ]
  },
  {
   "cell_type": "code",
   "execution_count": null,
   "metadata": {
    "collapsed": true
   },
   "outputs": [],
   "source": []
  },
  {
   "cell_type": "markdown",
   "metadata": {},
   "source": [
    "4) What is the assumption we made at make the probability calculation more probable?"
   ]
  },
  {
   "cell_type": "code",
   "execution_count": null,
   "metadata": {
    "collapsed": true
   },
   "outputs": [],
   "source": []
  },
  {
   "cell_type": "markdown",
   "metadata": {},
   "source": [
    "5) How do we calculate the conditional terms from the data?"
   ]
  },
  {
   "cell_type": "code",
   "execution_count": null,
   "metadata": {
    "collapsed": true
   },
   "outputs": [],
   "source": []
  },
  {
   "cell_type": "markdown",
   "metadata": {},
   "source": [
    "6) How do we calculate the prior term from the data?"
   ]
  },
  {
   "cell_type": "code",
   "execution_count": null,
   "metadata": {
    "collapsed": true
   },
   "outputs": [],
   "source": []
  },
  {
   "cell_type": "markdown",
   "metadata": {},
   "source": [
    "7) How do we calculate the evidence term?"
   ]
  },
  {
   "cell_type": "code",
   "execution_count": null,
   "metadata": {
    "collapsed": true
   },
   "outputs": [],
   "source": []
  },
  {
   "cell_type": "markdown",
   "metadata": {},
   "source": [
    "8) Calculate the product of conditional terms and prior term for the probability that we will have more than 1000 audiences on a Sunny Hot Normal Weak wind day."
   ]
  },
  {
   "cell_type": "code",
   "execution_count": null,
   "metadata": {
    "collapsed": true
   },
   "outputs": [],
   "source": []
  },
  {
   "cell_type": "markdown",
   "metadata": {},
   "source": [
    "9) Calculate the same thing for the case when we have less than or equal to 1000 audiences on a Sunny Hot Normal Weak day."
   ]
  },
  {
   "cell_type": "code",
   "execution_count": null,
   "metadata": {
    "collapsed": true
   },
   "outputs": [],
   "source": []
  },
  {
   "cell_type": "markdown",
   "metadata": {},
   "source": [
    "10) What is the probability that we will have more than 1000 audience on a Sunny Hot Normal Weak day?"
   ]
  },
  {
   "cell_type": "code",
   "execution_count": null,
   "metadata": {
    "collapsed": true
   },
   "outputs": [],
   "source": []
  },
  {
   "cell_type": "markdown",
   "metadata": {},
   "source": [
    "11) What is the probability that we will NOT have more than 1000 audience on a Sunny Hot Normal Weak day?"
   ]
  },
  {
   "cell_type": "code",
   "execution_count": null,
   "metadata": {
    "collapsed": true
   },
   "outputs": [],
   "source": []
  },
  {
   "cell_type": "markdown",
   "metadata": {},
   "source": [
    "# Part 2 Bayesian Spam Detection"
   ]
  },
  {
   "cell_type": "markdown",
   "metadata": {
    "collapsed": true
   },
   "source": [
    "Make your own spam filter!!!"
   ]
  },
  {
   "cell_type": "code",
   "execution_count": 35,
   "metadata": {
    "collapsed": true
   },
   "outputs": [],
   "source": [
    "#spam\n",
    "#Naive Bayes\n",
    "#get word count from spam and ham\n",
    "\n",
    "%matplotlib inline\n",
    "from matplotlib import pyplot as plt\n",
    "import numpy as np"
   ]
  },
  {
   "cell_type": "code",
   "execution_count": 36,
   "metadata": {
    "collapsed": false
   },
   "outputs": [],
   "source": [
    "from glob import glob\n",
    "ham_files = glob('data/enron1/ham/*.txt')\n",
    "spam_files = glob('data/enron1/spam/*.txt')\n",
    "\n",
    "def read_emails(files):\n",
    "    tmp = []\n",
    "    for path in files:\n",
    "        with open(path) as f:\n",
    "            tmp.append(f.read())\n",
    "    return tmp\n",
    "\n",
    "ham_emails = read_emails(ham_files)\n",
    "spam_emails = read_emails(spam_files)"
   ]
  },
  {
   "cell_type": "code",
   "execution_count": 37,
   "metadata": {
    "collapsed": false
   },
   "outputs": [],
   "source": [
    "import re\n",
    "def cleanup(w):\n",
    "    #remove all non character symbols\n",
    "    s = w.lower()\n",
    "    return re.sub(r'[^a-zA-Z]', '', s)\n",
    "\n",
    "def tokenize(email):\n",
    "    #tokenize and filter token using length and get rid of common neutral words\n",
    "    tokens = email.split(' ')\n",
    "    clean_tokens = map(cleanup , tokens)\n",
    "    conjunctions = set(['a','the','an','in','on','at','of','by','','is','not','if','or','and','to','this','that','be','am','are','ect','for','hou','will','subject'])\n",
    "    clean_tokens = filter(lambda x: x not in conjunctions and len(x)>2, clean_tokens)\n",
    "    return clean_tokens\n",
    "\n",
    "def word_counts(tokens):\n",
    "    #return a dictionary of word->count\n",
    "    ret = {}\n",
    "    for w in tokens:\n",
    "        old = ret[w] if w in ret else 0\n",
    "        ret[w] = old+1.\n",
    "    return ret\n",
    "\n",
    "def calculate_probs(emails):\n",
    "    #IMPLEMENT THIS\n",
    "    #emails that put in should be spam/ham emails set\n",
    "    #this should return a dictionary of word -> P(word|spam)\n",
    "    #or P(word|ham) if the emails in is ham emails\n",
    "    \n",
    "    s = ' '.join(emails)\n",
    "    wc = word_counts(tokenize(s))\n",
    "    num_words = len(wc)\n",
    "    \n",
    "    probs = {}\n",
    "    for k, v in wc.iteritems():\n",
    "        probs[k] = np.log(v/num_words)\n",
    "    \n",
    "    return probs, num_words\n"
   ]
  },
  {
   "cell_type": "code",
   "execution_count": 49,
   "metadata": {
    "collapsed": false
   },
   "outputs": [],
   "source": [
    "ham_probs, ham_num_words = calculate_probs(ham_emails)\n",
    "spam_probs, spam_num_words = calculate_probs(spam_emails)"
   ]
  },
  {
   "cell_type": "code",
   "execution_count": 42,
   "metadata": {
    "collapsed": true
   },
   "outputs": [],
   "source": [
    "def top_words(probs, n, title):\n",
    "    #plot out top words\n",
    "    ham_top = sorted(probs.iteritems(), key=lambda x: x[1], reverse=True)[:n]\n",
    "    x = [xx[0] for xx in ham_top]\n",
    "    y = [xx[1] for xx in ham_top]\n",
    "    plt.figure(figsize=(20,6))\n",
    "    plt.bar(range(len(x)),y)\n",
    "    plt.xticks(range(len(x)), x)\n",
    "    plt.title(title)   "
   ]
  },
  {
   "cell_type": "code",
   "execution_count": 44,
   "metadata": {
    "collapsed": false
   },
   "outputs": [],
   "source": [
    "#now combine all the above to make a function that calculate P(spam | words in email) test it on enron 2 folder"
   ]
  },
  {
   "cell_type": "code",
   "execution_count": 48,
   "metadata": {
    "collapsed": false
   },
   "outputs": [
    {
     "name": "stdout",
     "output_type": "stream",
     "text": [
      "0.709976798144 0.290023201856\n"
     ]
    }
   ],
   "source": [
    "HS = float(len(ham_emails))\n",
    "SS = float(len(spam_emails))\n",
    "\n",
    "PH = HS / (SS + HS)\n",
    "PS = SS / (SS + HS)\n",
    "print PH, PS"
   ]
  },
  {
   "cell_type": "code",
   "execution_count": 50,
   "metadata": {
    "collapsed": true
   },
   "outputs": [],
   "source": [
    "test_ham_files = glob('data/enron2/ham/*.txt')\n",
    "test_spam_files = glob('data/enron2/spam/*.txt')\n",
    "\n",
    "test_spam_emails = read_emails(test_spam_files)\n",
    "test_ham_emails = read_emails(test_ham_files)"
   ]
  },
  {
   "cell_type": "code",
   "execution_count": 52,
   "metadata": {
    "collapsed": false
   },
   "outputs": [],
   "source": [
    "def getProb(ws, probs, prior):\n",
    "    p = prior\n",
    "    for w in ws:\n",
    "        if w in probs:\n",
    "            p += probs[w]\n",
    "        else:\n",
    "            p += 1./len(probs)\n",
    "    return p\n",
    "\n",
    "# def testData():\n",
    "#     correct = 0.\n",
    "    \n",
    "#     for sm in test_spam_emails:\n",
    "#         sm = word_counts(tokenize(sm))\n",
    "\n",
    "        \n",
    "        \n",
    "#     hm = word_counts(tokenize(hm))\n",
    "    \n",
    "    \n",
    "    \n",
    "# testData()\n",
    "    \n"
   ]
  },
  {
   "cell_type": "code",
   "execution_count": null,
   "metadata": {
    "collapsed": true
   },
   "outputs": [],
   "source": []
  }
 ],
 "metadata": {
  "kernelspec": {
   "display_name": "Python 2",
   "language": "python",
   "name": "python2"
  },
  "language_info": {
   "codemirror_mode": {
    "name": "ipython",
    "version": 2
   },
   "file_extension": ".py",
   "mimetype": "text/x-python",
   "name": "python",
   "nbconvert_exporter": "python",
   "pygments_lexer": "ipython2",
   "version": "2.7.6"
  }
 },
 "nbformat": 4,
 "nbformat_minor": 0
}
