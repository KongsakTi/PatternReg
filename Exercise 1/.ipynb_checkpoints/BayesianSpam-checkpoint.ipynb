{
 "cells": [
  {
   "cell_type": "code",
   "execution_count": 1,
   "metadata": {
    "collapsed": true
   },
   "outputs": [],
   "source": [
    "#spam\n",
    "#Naive Bayes\n",
    "#get word count from spam and ham\n",
    "\n",
    "%matplotlib inline\n",
    "from matplotlib import pyplot as plt"
   ]
  },
  {
   "cell_type": "code",
   "execution_count": 2,
   "metadata": {
    "collapsed": false
   },
   "outputs": [
    {
     "name": "stdout",
     "output_type": "stream",
     "text": [
      "0.709976798144 0.290023201856\n"
     ]
    }
   ],
   "source": [
    "from glob import glob\n",
    "ham_files = glob('data/enron1/ham/*.txt')\n",
    "spam_files = glob('data/enron1/spam/*.txt')\n",
    "\n",
    "def read_emails(files):\n",
    "    tmp = []\n",
    "    for path in files:\n",
    "        with open(path) as f:\n",
    "            tmp.append(f.read())\n",
    "    return tmp\n",
    "\n",
    "ham_emails = read_emails(ham_files)\n",
    "spam_emails = read_emails(spam_files)\n",
    "\n",
    "ham_prior = float(len(ham_emails))/(len(ham_emails)+len(spam_emails))\n",
    "spam_prior = float(len(spam_emails))/(len(ham_emails)+len(spam_emails))\n",
    "print ham_prior, spam_prior"
   ]
  },
  {
   "cell_type": "code",
   "execution_count": 3,
   "metadata": {
    "collapsed": false
   },
   "outputs": [],
   "source": [
    "import re\n",
    "def cleanup(w):\n",
    "    s = w.lower()\n",
    "    return re.sub(r'[^a-zA-Z]', '', s)\n",
    "\n",
    "def tokenize(email):\n",
    "    tokens = email.split(' ')\n",
    "    clean_tokens = map(cleanup , tokens)\n",
    "    conjunctions = set(['a','the','an','in','on','at','of','by','','is','not','if','or','and','to','this','that','be','am','are','ect','for','hou','will','subject'])\n",
    "    clean_tokens = filter(lambda x: x not in conjunctions and len(x)>2, clean_tokens)\n",
    "    return clean_tokens\n",
    "\n",
    "def word_counts(tokens):\n",
    "    ret = {}\n",
    "    for w in tokens:\n",
    "        old = ret[w] if w in ret else 0\n",
    "        ret[w] = old+1\n",
    "    return ret\n",
    "\n",
    "def calculate_probs(emails):\n",
    "    s = ' '.join(emails)\n",
    "    tokens = tokenize(s)\n",
    "    wc = word_counts(tokens)\n",
    "    num_words = len(tokens)\n",
    "    probs = {k: v/float(num_words) for k, v in wc.iteritems()}\n",
    "    return probs, num_words\n"
   ]
  },
  {
   "cell_type": "code",
   "execution_count": 4,
   "metadata": {
    "collapsed": false
   },
   "outputs": [],
   "source": [
    "ham_probs, ham_num_words = calculate_probs(ham_emails)\n",
    "spam_probs, spam_num_words = calculate_probs(spam_emails)"
   ]
  },
  {
   "cell_type": "code",
   "execution_count": 5,
   "metadata": {
    "collapsed": true
   },
   "outputs": [],
   "source": [
    "def top_words(probs, n, title):\n",
    "    ham_top = sorted(probs.iteritems(), key=lambda x: x[1], reverse=True)[:n]\n",
    "    x = [xx[0] for xx in ham_top]\n",
    "    y = [xx[1] for xx in ham_top]\n",
    "    plt.figure(figsize=(20,6))\n",
    "    plt.bar(range(len(x)),y)\n",
    "    plt.xticks(range(len(x)), x)\n",
    "    plt.title(title)   "
   ]
  },
  {
   "cell_type": "code",
   "execution_count": 6,
   "metadata": {
    "collapsed": false
   },
   "outputs": [
    {
     "data": {
      "image/png": "[encoded data removed]",
      "text/plain": [
       "<matplotlib.figure.Figure at 0x114422850>"
      ]
     },
     "metadata": {},
     "output_type": "display_data"
    },
    {
     "data": {
      "image/png": "[encoded data removed]",
      "text/plain": [
       "<matplotlib.figure.Figure at 0x114776f90>"
      ]
     },
     "metadata": {},
     "output_type": "display_data"
    }
   ],
   "source": [
    "top_words(ham_probs, 30, 'ham top')\n",
    "top_words(spam_probs, 30, 'spam top')"
   ]
  },
  {
   "cell_type": "code",
   "execution_count": 7,
   "metadata": {
    "collapsed": false
   },
   "outputs": [],
   "source": [
    "import math\n",
    "\n",
    "def log_prob(email, probs, prior, total_train):\n",
    "    tokens = tokenize(email)\n",
    "    p = math.log(prior)\n",
    "    for token in tokens:\n",
    "        if token in probs:\n",
    "            p+=math.log(probs[token])\n",
    "        else:\n",
    "            p+=math.log(0.01/total_train)\n",
    "    return p\n",
    "\n",
    "def log_prob_spam(email):\n",
    "    return log_prob(email, spam_probs, spam_prior, spam_num_words)\n",
    "\n",
    "def log_prob_ham(email):\n",
    "    return log_prob(email, ham_probs, ham_prior, ham_num_words)\n",
    "\n",
    "def cap(low, x, high):\n",
    "    if x < low:\n",
    "        return low\n",
    "    if x > high:\n",
    "        return high\n",
    "    return x\n",
    "\n",
    "def prob(email):\n",
    "    ls = log_prob_spam(email)\n",
    "    lh = log_prob_ham(email)\n",
    "    exponent = cap(-200, lh-ls, 200)\n",
    "    spam_prob = 1.0/(1+math.exp(exponent))\n",
    "    return spam_prob, 1-spam_prob\n",
    "\n"
   ]
  },
  {
   "cell_type": "code",
   "execution_count": 8,
   "metadata": {
    "collapsed": false
   },
   "outputs": [
    {
     "data": {
      "text/plain": [
       "(array([  2.00000000e+00,   2.00000000e+00,   2.00000000e+00,\n",
       "          1.00000000e+00,   1.00000000e+00,   1.00000000e+00,\n",
       "          0.00000000e+00,   0.00000000e+00,   0.00000000e+00,\n",
       "          3.66300000e+03]),\n",
       " array([ 0.00151283,  0.10136155,  0.20121026,  0.30105898,  0.4009077 ,\n",
       "         0.50075642,  0.60060513,  0.70045385,  0.80030257,  0.90015128,  1.        ]),\n",
       " <a list of 10 Patch objects>)"
      ]
     },
     "execution_count": 8,
     "metadata": {},
     "output_type": "execute_result"
    },
    {
     "data": {
      "image/png": "[encoded data removed]",
      "text/plain": [
       "<matplotlib.figure.Figure at 0x1145df150>"
      ]
     },
     "metadata": {},
     "output_type": "display_data"
    },
    {
     "data": {
      "image/png": "[encoded data removed]",
      "text/plain": [
       "<matplotlib.figure.Figure at 0x114ef3990>"
      ]
     },
     "metadata": {},
     "output_type": "display_data"
    }
   ],
   "source": [
    "spam_result = [prob(email)[0] for email in spam_emails]\n",
    "ham_result = [prob(email)[1] for email in ham_emails]\n",
    "plt.hist(spam_result)\n",
    "plt.figure()\n",
    "plt.hist(ham_result)"
   ]
  },
  {
   "cell_type": "code",
   "execution_count": 9,
   "metadata": {
    "collapsed": true
   },
   "outputs": [],
   "source": [
    "test_ham_files = glob('data/enron2/ham/*.txt')\n",
    "test_spam_files = glob('data/enron2/spam/*.txt')"
   ]
  },
  {
   "cell_type": "code",
   "execution_count": 10,
   "metadata": {
    "collapsed": false
   },
   "outputs": [
    {
     "name": "stdout",
     "output_type": "stream",
     "text": [
      "0.916168687041\n"
     ]
    },
    {
     "data": {
      "image/png": "[encoded data removed]",
      "text/plain": [
       "<matplotlib.figure.Figure at 0x115102590>"
      ]
     },
     "metadata": {},
     "output_type": "display_data"
    },
    {
     "data": {
      "image/png": "[encoded data removed]",
      "text/plain": [
       "<matplotlib.figure.Figure at 0x114ffe910>"
      ]
     },
     "metadata": {},
     "output_type": "display_data"
    }
   ],
   "source": [
    "test_spam_emails = read_emails(test_spam_files)\n",
    "test_ham_emails = read_emails(test_ham_files)\n",
    "\n",
    "spam_result = [prob(email)[0] for email in test_spam_emails]\n",
    "ham_result = [prob(email)[1] for email in test_ham_emails]\n",
    "\n",
    "plt.hist(spam_result)\n",
    "plt.figure()\n",
    "plt.hist(ham_result)\n",
    "\n",
    "num_correct_spam = sum( 1 if res > 0.5 else 0 for res in spam_result)\n",
    "num_correct_ham = sum( 1 if res > 0.5 else 0 for res in ham_result)\n",
    "\n",
    "print float(num_correct_spam + num_correct_ham)/(len(spam_result)+len(ham_result))"
   ]
  },
  {
   "cell_type": "code",
   "execution_count": 65,
   "metadata": {
    "collapsed": false
   },
   "outputs": [],
   "source": [
    "\n",
    "\n"
   ]
  },
  {
   "cell_type": "code",
   "execution_count": null,
   "metadata": {
    "collapsed": true
   },
   "outputs": [],
   "source": []
  }
 ],
 "metadata": {
  "kernelspec": {
   "display_name": "Python 2",
   "language": "python",
   "name": "python2"
  },
  "language_info": {
   "codemirror_mode": {
    "name": "ipython",
    "version": 2
   },
   "file_extension": ".py",
   "mimetype": "text/x-python",
   "name": "python",
   "nbconvert_exporter": "python",
   "pygments_lexer": "ipython2",
   "version": "2.7.6"
  }
 },
 "nbformat": 4,
 "nbformat_minor": 0
}
