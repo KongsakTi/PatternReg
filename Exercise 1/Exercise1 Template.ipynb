{
 "cells": [
  {
   "cell_type": "markdown",
   "metadata": {},
   "source": [
    "# Exercise 1 Basic Naive Bayes"
   ]
  },
  {
   "cell_type": "markdown",
   "metadata": {},
   "source": [
    "1) What exactly do we want to calculate to decide whether we will hvae more than 1000 audiences or not."
   ]
  },
  {
   "cell_type": "markdown",
   "metadata": {
    "collapsed": true
   },
   "source": [
    "P(Y | Weather)"
   ]
  },
  {
   "cell_type": "markdown",
   "metadata": {},
   "source": [
    "2) What are our features?"
   ]
  },
  {
   "cell_type": "markdown",
   "metadata": {
    "collapsed": true
   },
   "source": [
    "Weathers"
   ]
  },
  {
   "cell_type": "markdown",
   "metadata": {},
   "source": [
    "3) What are our classes?"
   ]
  },
  {
   "cell_type": "markdown",
   "metadata": {
    "collapsed": true
   },
   "source": [
    "Yes/No"
   ]
  },
  {
   "cell_type": "markdown",
   "metadata": {},
   "source": [
    "4) What is the assumption we made at make the probability calculation more probable?"
   ]
  },
  {
   "cell_type": "markdown",
   "metadata": {
    "collapsed": true
   },
   "source": [
    "Weathers are independent"
   ]
  },
  {
   "cell_type": "markdown",
   "metadata": {},
   "source": [
    "5) How do we calculate the conditional terms from the data?"
   ]
  },
  {
   "cell_type": "markdown",
   "metadata": {
    "collapsed": true
   },
   "source": [
    "$P(A \\cap B ) = P(A | B)\\times P(B)$"
   ]
  },
  {
   "cell_type": "markdown",
   "metadata": {},
   "source": [
    "6) How do we calculate the prior term from the data?"
   ]
  },
  {
   "cell_type": "markdown",
   "metadata": {
    "collapsed": true
   },
   "source": [
    "Either from Histrory OR 50/50"
   ]
  },
  {
   "cell_type": "markdown",
   "metadata": {},
   "source": [
    "7) How do we calculate the evidence term?"
   ]
  },
  {
   "cell_type": "markdown",
   "metadata": {
    "collapsed": true
   },
   "source": [
    "$\\tilde{P}(Yes | Weather) + \\tilde{P}(No | Weather)$"
   ]
  },
  {
   "cell_type": "markdown",
   "metadata": {},
   "source": [
    "8) Calculate the product of conditional terms and prior term for the probability that we will have more than 1000 audiences on a Sunny Hot Normal Weak wind day."
   ]
  },
  {
   "cell_type": "markdown",
   "metadata": {
    "collapsed": true
   },
   "source": [
    "$Condition\\space term = P(R\\space |\\space Yes) \\times P(C\\space |\\space Yes) \\times P(N\\space |\\space Yes) \\times P(St\\space |\\space Yes) \\times P(Yes)$\n",
    "\n",
    "$Condition\\space term =\\displaystyle \\frac{2}{9} \\times \\frac{2}{9} \\times \\frac{6}{9} \\times \\frac{5}{9} \\times Prior \\space term$\n",
    "\n",
    "\n",
    "\n",
    "$Prior\\space term = P(Yes)$\n"
   ]
  },
  {
   "cell_type": "code",
   "execution_count": 4,
   "metadata": {
    "collapsed": false
   },
   "outputs": [
    {
     "name": "stdout",
     "output_type": "stream",
     "text": [
      "0.0182898948331\n",
      "0.642857142857\n"
     ]
    }
   ],
   "source": [
    "print (2*2*6*5)/(9.0**4)\n",
    "print 9.0/14"
   ]
  },
  {
   "cell_type": "markdown",
   "metadata": {},
   "source": [
    "9) Calculate the same thing for the case when we have less than or equal to 1000 audiences on a Sunny Hot Normal Weak day."
   ]
  },
  {
   "cell_type": "code",
   "execution_count": 6,
   "metadata": {
    "collapsed": false
   },
   "outputs": [
    {
     "name": "stdout",
     "output_type": "stream",
     "text": [
      "0.0192\n",
      "0.357142857143\n"
     ]
    }
   ],
   "source": [
    "print (3*2*1*2)/(5.0**4)\n",
    "print 5.0/14"
   ]
  },
  {
   "cell_type": "markdown",
   "metadata": {},
   "source": [
    "10) What is the probability that we will have more than 1000 audience on a Sunny Hot Normal Weak day?"
   ]
  },
  {
   "cell_type": "markdown",
   "metadata": {
    "collapsed": true
   },
   "source": [
    "$\\tilde{P}(Yes/No\\space |\\space Weather) = Condition\\space term \\times Prior\\space term$\n",
    "\n",
    "$P(Yes\\space | \\space Weather) = \\displaystyle\\frac{\\tilde{P}(Yes\\space |\\space Weather)}{\\tilde{P}(Yes\\space | \\space Weather) \\times \\tilde{P}(No\\space |\\space Weather)}$"
   ]
  },
  {
   "cell_type": "code",
   "execution_count": 10,
   "metadata": {
    "collapsed": false
   },
   "outputs": [
    {
     "name": "stdout",
     "output_type": "stream",
     "text": [
      "0.631632137443\n"
     ]
    }
   ],
   "source": [
    "PY = ((2*2*6*5)/(9.0**4)) * (9.0/14)\n",
    "PN = ((3*2*1*2)/(5.0**4)) * (5.0/14)\n",
    "\n",
    "print PY / (PY + PN)"
   ]
  },
  {
   "cell_type": "markdown",
   "metadata": {},
   "source": [
    "11) What is the probability that we will NOT have more than 1000 audience on a Sunny Hot Normal Weak day?"
   ]
  },
  {
   "cell_type": "code",
   "execution_count": 11,
   "metadata": {
    "collapsed": false
   },
   "outputs": [
    {
     "name": "stdout",
     "output_type": "stream",
     "text": [
      "0.368367862557\n"
     ]
    }
   ],
   "source": [
    "PY = ((2*2*6*5)/(9.0**4)) * (9.0/14)\n",
    "PN = ((3*2*1*2)/(5.0**4)) * (5.0/14)\n",
    "\n",
    "print PN / (PY + PN)"
   ]
  },
  {
   "cell_type": "markdown",
   "metadata": {},
   "source": [
    "# Part 2 Bayesian Spam Detection"
   ]
  },
  {
   "cell_type": "markdown",
   "metadata": {
    "collapsed": true
   },
   "source": [
    "Make your own spam filter!!!"
   ]
  },
  {
   "cell_type": "code",
   "execution_count": 18,
   "metadata": {
    "collapsed": true
   },
   "outputs": [],
   "source": [
    "#spam\n",
    "#Naive Bayes\n",
    "#get word count from spam and ham\n",
    "\n",
    "%matplotlib inline\n",
    "from matplotlib import pyplot as plt\n",
    "import math"
   ]
  },
  {
   "cell_type": "code",
   "execution_count": 1,
   "metadata": {
    "collapsed": false
   },
   "outputs": [],
   "source": [
    "#read all the email files\n",
    "#put all ham emails into ham_emails\n",
    "#put all spam emails into spam_emails\n",
    "\n",
    "from glob import glob\n",
    "ham_files = glob('data/enron1/ham/*.txt')\n",
    "spam_files = glob('data/enron1/spam/*.txt')\n",
    "\n",
    "def read_emails(files):\n",
    "    tmp = []\n",
    "    for path in files:\n",
    "        with open(path) as f:\n",
    "            tmp.append(f.read())\n",
    "    return tmp\n",
    "\n",
    "ham_emails = read_emails(ham_files)\n",
    "spam_emails = read_emails(spam_files)"
   ]
  },
  {
   "cell_type": "code",
   "execution_count": 24,
   "metadata": {
    "collapsed": false
   },
   "outputs": [],
   "source": [
    "import re\n",
    "def cleanup(w):\n",
    "    #remove all non character symbols\n",
    "    s = w.lower()\n",
    "    return re.sub(r'[^a-zA-Z]', '', s)\n",
    "\n",
    "def tokenize(email):\n",
    "    #tokenize and filter token using length and get rid of common neutral words\n",
    "    tokens = email.split(' ')\n",
    "    clean_tokens = map(cleanup , tokens)\n",
    "    conjunctions = set(['a','the','an','in','on','at','of','by','','is','not','if','or','and','to','this','that','be','am','are','ect','for','hou','will','subject'])\n",
    "    clean_tokens = filter(lambda x: x not in conjunctions and len(x)>2, clean_tokens)\n",
    "    return clean_tokens\n",
    "\n",
    "def word_counts(tokens):\n",
    "    #return a dictionary of word->count\n",
    "    ret = {}\n",
    "    for w in tokens:\n",
    "        old = ret[w] if w in ret else 0\n",
    "        ret[w] = old+1\n",
    "    return ret\n",
    "\n",
    "def calculate_probs(emails):\n",
    "    #IMPLEMENT THIS\n",
    "    #emails that put in should be spam/ham emails set\n",
    "    #this should return a dictionary of word -> P(word|spam)\n",
    "    #or P(word|ham) if the emails in is ham emails\n",
    "    probs = {}\n",
    "    num_words = 0.0\n",
    "    \n",
    "    s = ' '.join(emails)\n",
    "    tk = tokenize(s)\n",
    "    wc = word_counts(tk)\n",
    "    num_words += len(tk)\n",
    "    \n",
    "    for k, v in wc.iteritems():\n",
    "        probs[k] = math.log(v/num_words)\n",
    "\n",
    "    return probs, num_words\n"
   ]
  },
  {
   "cell_type": "code",
   "execution_count": 25,
   "metadata": {
    "collapsed": false,
    "scrolled": true
   },
   "outputs": [],
   "source": [
    "#calculate_probs(ham_emails)"
   ]
  },
  {
   "cell_type": "code",
   "execution_count": 76,
   "metadata": {
    "collapsed": false
   },
   "outputs": [
    {
     "name": "stdout",
     "output_type": "stream",
     "text": [
      "0.709976798144 0.290023201856\n"
     ]
    }
   ],
   "source": [
    "ham_probs, ham_num_words = calculate_probs(ham_emails)\n",
    "spam_probs, spam_num_words = calculate_probs(spam_emails)\n",
    "\n",
    "HS = float(len(ham_emails))\n",
    "SS = float(len(spam_emails))\n",
    "\n",
    "PH = HS / (SS + HS)\n",
    "PS = SS / (SS + HS)\n",
    "\n",
    "print PH, PS\n",
    "#print ham_probs, ham_num_words"
   ]
  },
  {
   "cell_type": "code",
   "execution_count": 27,
   "metadata": {
    "collapsed": false
   },
   "outputs": [
    {
     "data": {
      "image/png": "[encoded data removed]",
      "text/plain": [
       "<matplotlib.figure.Figure at 0x10d3701d0>"
      ]
     },
     "metadata": {},
     "output_type": "display_data"
    },
    {
     "data": {
      "image/png": "[encoded data removed]",
      "text/plain": [
       "<matplotlib.figure.Figure at 0x10e474110>"
      ]
     },
     "metadata": {},
     "output_type": "display_data"
    }
   ],
   "source": [
    "def top_words(probs, n, title):\n",
    "    #plot out top words\n",
    "    ham_top = sorted(probs.iteritems(), key=lambda x: x[1], reverse=True)[:n]\n",
    "    x = [xx[0] for xx in ham_top]\n",
    "    y = [xx[1] for xx in ham_top]\n",
    "    plt.figure(figsize=(20,6))\n",
    "    plt.bar(range(len(x)),y)\n",
    "    plt.xticks(range(len(x)), x)\n",
    "    plt.title(title)   \n",
    "top_words(ham_probs, 30, \"ham\")\n",
    "top_words(spam_probs, 30, \"spam\")"
   ]
  },
  {
   "cell_type": "code",
   "execution_count": 46,
   "metadata": {
    "collapsed": true
   },
   "outputs": [],
   "source": [
    "# def increment(word, dic, size):\n",
    "#     if word in dic.keys():\n",
    "#         return dic[word]\n",
    "#     else:\n",
    "#         return math.log(1.0/size)"
   ]
  },
  {
   "cell_type": "code",
   "execution_count": 66,
   "metadata": {
    "collapsed": false
   },
   "outputs": [],
   "source": [
    "#now combine all the above to make a function that calculate P(spam | words in email) test it on enron 2 folder\n",
    "def isHam(email, dic, size):\n",
    "    tk = tokenize(email)\n",
    "    prob = math.log(PH)\n",
    "    for word in tk:\n",
    "        if word in dic:\n",
    "            prob += dic[word]\n",
    "        else:\n",
    "            prob += math.log(1.0/size)\n",
    "    return prob\n",
    "\n",
    "def isSpam(email, dic, size):\n",
    "    tk = tokenize(email)\n",
    "    prob = math.log(PH)\n",
    "    for word in tk:\n",
    "        if word in dic:\n",
    "            prob += dic[word]\n",
    "        else:\n",
    "            prob += math.log(1.0/size)\n",
    "    return prob\n",
    "    "
   ]
  },
  {
   "cell_type": "code",
   "execution_count": 69,
   "metadata": {
    "collapsed": false
   },
   "outputs": [
    {
     "name": "stdout",
     "output_type": "stream",
     "text": [
      "100 loops, best of 3: 3.64 ms per loop\n"
     ]
    }
   ],
   "source": [
    "%timeit isHam(ham_emails[1], ham_probs, ham_num_words)"
   ]
  },
  {
   "cell_type": "code",
   "execution_count": 62,
   "metadata": {
    "collapsed": false
   },
   "outputs": [
    {
     "name": "stdout",
     "output_type": "stream",
     "text": [
      "-1382.18505378\n",
      "-1675.76460785\n"
     ]
    }
   ],
   "source": [
    "print isHam(ham_emails[1])\n",
    "print isSpam(ham_emails[1])"
   ]
  },
  {
   "cell_type": "code",
   "execution_count": 63,
   "metadata": {
    "collapsed": false
   },
   "outputs": [
    {
     "name": "stdout",
     "output_type": "stream",
     "text": [
      "5087 85\n"
     ]
    }
   ],
   "source": [
    "correct = 0\n",
    "wrong = 0\n",
    "\n",
    "for email in ham_emails:\n",
    "    if (isHam(email) > isSpam(email)):\n",
    "        correct += 1\n",
    "    else:\n",
    "        wrong += 1\n",
    "        \n",
    "for email in spam_emails:\n",
    "    if (isSpam(email) > isHam(email)):\n",
    "        correct += 1\n",
    "    else:\n",
    "        wrong += 1\n",
    "print correct, wrong\n",
    "\n"
   ]
  },
  {
   "cell_type": "code",
   "execution_count": 64,
   "metadata": {
    "collapsed": false
   },
   "outputs": [
    {
     "name": "stdout",
     "output_type": "stream",
     "text": [
      "0.983565351895\n"
     ]
    }
   ],
   "source": [
    "print correct/ (0.0 + correct + wrong)"
   ]
  },
  {
   "cell_type": "code",
   "execution_count": 74,
   "metadata": {
    "collapsed": false
   },
   "outputs": [
    {
     "name": "stdout",
     "output_type": "stream",
     "text": [
      "0.709976798144 0.290023201856\n"
     ]
    }
   ],
   "source": [
    "test_ham_files = glob('data/enron2/ham/*.txt')\n",
    "test_spam_files = glob('data/enron2/spam/*.txt')\n",
    "\n",
    "test_spam_emails = read_emails(test_spam_files)\n",
    "test_ham_emails = read_emails(test_ham_files)\n",
    "\n",
    "# ham_probs, ham_num_words = calculate_probs(test_ham_emails)\n",
    "# spam_probs, spam_num_words = calculate_probs(test_spam_emails)\n",
    "\n",
    "HS = float(len(ham_emails))\n",
    "SS = float(len(spam_emails))\n",
    "\n",
    "PH = HS / (SS + HS)\n",
    "PS = SS / (SS + HS)\n",
    "\n",
    "print PH, PS"
   ]
  },
  {
   "cell_type": "code",
   "execution_count": 77,
   "metadata": {
    "collapsed": false
   },
   "outputs": [
    {
     "name": "stdout",
     "output_type": "stream",
     "text": [
      "5309 548\n",
      "0.90643674236\n"
     ]
    }
   ],
   "source": [
    "correct = 0\n",
    "wrong = 0\n",
    "\n",
    "for email in test_ham_emails:\n",
    "    if (isHam(email, ham_probs, ham_num_words) > isSpam(email, spam_probs, spam_num_words)):\n",
    "        correct += 1\n",
    "    else:\n",
    "        wrong += 1\n",
    "        \n",
    "for email in test_spam_emails:\n",
    "    if (isSpam(email, spam_probs, spam_num_words) > isHam(email, ham_probs, ham_num_words)):\n",
    "        correct += 1\n",
    "    else:\n",
    "        wrong += 1\n",
    "print correct, wrong\n",
    "print correct / (correct + wrong + 0.0)"
   ]
  },
  {
   "cell_type": "code",
   "execution_count": null,
   "metadata": {
    "collapsed": true
   },
   "outputs": [],
   "source": []
  }
 ],
 "metadata": {
  "kernelspec": {
   "display_name": "Python 2",
   "language": "python",
   "name": "python2"
  },
  "language_info": {
   "codemirror_mode": {
    "name": "ipython",
    "version": 2
   },
   "file_extension": ".py",
   "mimetype": "text/x-python",
   "name": "python",
   "nbconvert_exporter": "python",
   "pygments_lexer": "ipython2",
   "version": "2.7.10"
  }
 },
 "nbformat": 4,
 "nbformat_minor": 0
}
