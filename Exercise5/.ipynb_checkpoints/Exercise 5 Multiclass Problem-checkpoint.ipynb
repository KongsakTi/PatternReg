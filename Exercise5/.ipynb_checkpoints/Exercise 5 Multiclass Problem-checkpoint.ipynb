{
 "cells": [
  {
   "cell_type": "markdown",
   "metadata": {},
   "source": [
    "\n",
    "We want to classify yoyo in to 4 flavors using features such as package color, sweetness level.\n",
    "\n",
    "Supposed we want to use 1 VS All algorithm. To do this.\n"
   ]
  },
  {
   "cell_type": "markdown",
   "metadata": {},
   "source": [
    "1) How many classifiers we need to train?"
   ]
  },
  {
   "cell_type": "code",
   "execution_count": null,
   "metadata": {
    "collapsed": true
   },
   "outputs": [],
   "source": []
  },
  {
   "cell_type": "markdown",
   "metadata": {},
   "source": [
    "2) How do we train each classifier? (Which one to call + and which one to call -)"
   ]
  },
  {
   "cell_type": "code",
   "execution_count": null,
   "metadata": {
    "collapsed": true
   },
   "outputs": [],
   "source": []
  },
  {
   "cell_type": "markdown",
   "metadata": {},
   "source": [
    "3) Write a table for perfect answer for each class."
   ]
  },
  {
   "cell_type": "code",
   "execution_count": null,
   "metadata": {
    "collapsed": true
   },
   "outputs": [],
   "source": []
  },
  {
   "cell_type": "markdown",
   "metadata": {},
   "source": [
    "4) If the answer from all the classifier for a sample looks like \n",
    "$$(0.1,0.2,0.3,0.6)$$\n",
    "What class should it be?"
   ]
  },
  {
   "cell_type": "code",
   "execution_count": null,
   "metadata": {
    "collapsed": true
   },
   "outputs": [],
   "source": []
  },
  {
   "cell_type": "markdown",
   "metadata": {},
   "source": [
    "what about\n",
    "$$(0.6,0.6,0.7,0.7)$$"
   ]
  },
  {
   "cell_type": "code",
   "execution_count": null,
   "metadata": {
    "collapsed": true
   },
   "outputs": [],
   "source": []
  },
  {
   "cell_type": "markdown",
   "metadata": {},
   "source": [
    "5) How many answers we can get wrong before the classifier start getting confused?"
   ]
  },
  {
   "cell_type": "code",
   "execution_count": null,
   "metadata": {
    "collapsed": true
   },
   "outputs": [],
   "source": []
  },
  {
   "cell_type": "markdown",
   "metadata": {},
   "source": [
    "6) How can we do better against wrong answer?"
   ]
  },
  {
   "cell_type": "code",
   "execution_count": null,
   "metadata": {
    "collapsed": true
   },
   "outputs": [],
   "source": []
  },
  {
   "cell_type": "markdown",
   "metadata": {},
   "source": [
    "7) Write down the exhaustive matrix for 4 classes."
   ]
  },
  {
   "cell_type": "code",
   "execution_count": null,
   "metadata": {
    "collapsed": true
   },
   "outputs": [],
   "source": []
  },
  {
   "cell_type": "markdown",
   "metadata": {},
   "source": [
    "# Real Exercise"
   ]
  },
  {
   "cell_type": "markdown",
   "metadata": {},
   "source": [
    "Read glass.data and build a classifier to classify glass.\n",
    "\n",
    "What is this glass?\n",
    "\n",
    "$$1.5,14.8,0.00,2.00,73.00,0.00,8.00,1.7,0.00$$"
   ]
  },
  {
   "cell_type": "code",
   "execution_count": 1,
   "metadata": {
    "collapsed": true
   },
   "outputs": [],
   "source": [
    "%matplotlib inline\n",
    "import numpy as np\n",
    "from matplotlib import pyplot as plt"
   ]
  },
  {
   "cell_type": "code",
   "execution_count": 111,
   "metadata": {
    "collapsed": false
   },
   "outputs": [
    {
     "name": "stdout",
     "output_type": "stream",
     "text": [
      "Optimization terminated successfully.\n",
      "         Current function value: 0.000000\n",
      "         Iterations: 100\n",
      "         Function evaluations: 305\n",
      "-814.813204053\n",
      "-827.680926831\n",
      "-831.306556165\n",
      "-826.895206465\n",
      "-833.059175944\n",
      "-830.520777908\n",
      "-833.402461996\n",
      "-835.750868387\n",
      "-819.045723033\n",
      "-831.605906858\n",
      "-834.134576942\n",
      "-832.364689977\n",
      "-835.452877387\n",
      "-834.945795835\n",
      "-836.306530349\n",
      "-835.867083223\n",
      "-834.024158122\n",
      "-810.935055359\n",
      "-820.811710067\n",
      "-827.61941853\n",
      "-828.575716097\n",
      "-821.052011837\n",
      "-829.741357497\n",
      "-832.439479265\n",
      "-830.705525083\n",
      "-832.445174726\n",
      "-827.400691277\n",
      "-833.225437954\n",
      "-834.531683772\n",
      "-830.656097607\n",
      "-833.326047397\n",
      "-836.579124589\n",
      "-831.674848165\n",
      "-837.563024424\n",
      "-831.974069472\n",
      "-829.260888759\n",
      "-815.724613591\n",
      "-832.049421151\n",
      "-817.574716345\n",
      "-817.574716345\n",
      "-833.477899058\n",
      "-835.906930857\n",
      "-829.350607308\n",
      "-817.11637124\n",
      "-832.036402512\n",
      "-818.461166891\n",
      "-829.043680155\n",
      "-814.986620373\n",
      "-820.774461426\n",
      "-820.712830885\n",
      "-817.823299417\n",
      "-824.280366939\n",
      "-832.079870073\n",
      "-832.495107818\n",
      "-833.959740621\n",
      "-843.949349976\n",
      "-832.287853734\n",
      "-832.168820701\n",
      "-831.324149342\n",
      "-828.936174236\n",
      "-828.177697673\n",
      "-813.114724242\n",
      "-816.992167034\n",
      "-811.715651127\n",
      "-820.241817138\n",
      "-819.54619529\n",
      "-823.596738958\n",
      "-824.808935555\n",
      "-823.310855371\n",
      "-821.028231579\n"
     ]
    }
   ],
   "source": [
    "def read_data(files):\n",
    "    tmp = []\n",
    "    with open(files) as f:\n",
    "        for line in f:\n",
    "            tmp.append(line)\n",
    "    return tmp\n",
    "\n",
    "def clean_data(data):\n",
    "    tmp = []\n",
    "    for d in data:\n",
    "        d = d.rstrip('\\n')\n",
    "        d = d.split(',')\n",
    "        tmp += [d]\n",
    "    return tmp\n",
    "\n",
    "def sep_data(data, n):\n",
    "    tmp = []\n",
    "    for d in data:\n",
    "        if d[10] == n:\n",
    "            tmp.append(d)\n",
    "    return tmp\n",
    "\n",
    "def sep_data_not(data, n):\n",
    "    tmp = []\n",
    "    for d in data:\n",
    "        if d[10] != n:\n",
    "            tmp.append(d)\n",
    "    return tmp\n",
    "\n",
    "def padAll(x):\n",
    "    x = np.array(x)\n",
    "    x[:, 0] = 1\n",
    "    return x\n",
    "\n",
    "def toInt(x):\n",
    "    l = len(x)\n",
    "    tmp = np.empty((l, 10))\n",
    "    for i in xrange(len(x)):\n",
    "        for j in xrange(10):\n",
    "            tmp[i][j] = float(x[i][j])\n",
    "    return tmp\n",
    "\n",
    "def prep_data(data, n, m):\n",
    "    if (m):\n",
    "        sdata = sep_data(data, n)\n",
    "    else:\n",
    "        sdata = sep_data_not(data, n)\n",
    "        \n",
    "    pdata = padAll(sdata)\n",
    "    return toInt(pdata)\n",
    "\n",
    "data = read_data(\"glass.data.txt\")\n",
    "data = clean_data(data)\n",
    "\n",
    "class_1 = prep_data(data, '1', 1)\n",
    "\n",
    "def classCost_1(w):\n",
    "    return np.sum(np.log1p(np.exp(np.dot(class_1,w))))\n",
    "\n",
    "\n",
    "import scipy.optimize as opt\n",
    "res_class_1 = opt.fmin(classCost_1, [1.]*10)  \n",
    "\n",
    "\n",
    "for d in class_1:\n",
    "    print np.dot(d, res_class_1)\n",
    "\n"
   ]
  },
  {
   "cell_type": "code",
   "execution_count": 88,
   "metadata": {
    "collapsed": false
   },
   "outputs": [
    {
     "name": "stdout",
     "output_type": "stream",
     "text": [
      "[  1.91526475   1.80942329   1.81871492   3.57610247   3.48601796\n",
      " -12.12196597   2.58043321   0.66064915   2.15169965   4.41968006]\n"
     ]
    }
   ],
   "source": [
    "print res_class_1"
   ]
  },
  {
   "cell_type": "code",
   "execution_count": null,
   "metadata": {
    "collapsed": true
   },
   "outputs": [],
   "source": []
  }
 ],
 "metadata": {
  "kernelspec": {
   "display_name": "Python 2",
   "language": "python",
   "name": "python2"
  },
  "language_info": {
   "codemirror_mode": {
    "name": "ipython",
    "version": 2
   },
   "file_extension": ".py",
   "mimetype": "text/x-python",
   "name": "python",
   "nbconvert_exporter": "python",
   "pygments_lexer": "ipython2",
   "version": "2.7.10"
  }
 },
 "nbformat": 4,
 "nbformat_minor": 0
}
