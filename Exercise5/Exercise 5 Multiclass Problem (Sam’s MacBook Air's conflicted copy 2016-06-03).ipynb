{
 "cells": [
  {
   "cell_type": "markdown",
   "metadata": {},
   "source": [
    "\n",
    "We want to classify yoyo in to 4 flavors using features such as package color, sweetness level.\n",
    "\n",
    "Supposed we want to use 1 VS All algorithm. To do this.\n"
   ]
  },
  {
   "cell_type": "markdown",
   "metadata": {},
   "source": [
    "1) How many classifiers we need to train?"
   ]
  },
  {
   "cell_type": "code",
   "execution_count": null,
   "metadata": {
    "collapsed": true
   },
   "outputs": [],
   "source": []
  },
  {
   "cell_type": "markdown",
   "metadata": {},
   "source": [
    "2) How do we train each classifier? (Which one to call + and which one to call -)"
   ]
  },
  {
   "cell_type": "code",
   "execution_count": null,
   "metadata": {
    "collapsed": true
   },
   "outputs": [],
   "source": []
  },
  {
   "cell_type": "markdown",
   "metadata": {},
   "source": [
    "3) Write a table for perfect answer for each class."
   ]
  },
  {
   "cell_type": "code",
   "execution_count": null,
   "metadata": {
    "collapsed": true
   },
   "outputs": [],
   "source": []
  },
  {
   "cell_type": "markdown",
   "metadata": {},
   "source": [
    "4) If the answer from all the classifier for a sample looks like \n",
    "$$(0.1,0.2,0.3,0.6)$$\n",
    "What class should it be?"
   ]
  },
  {
   "cell_type": "code",
   "execution_count": null,
   "metadata": {
    "collapsed": true
   },
   "outputs": [],
   "source": []
  },
  {
   "cell_type": "markdown",
   "metadata": {},
   "source": [
    "what about\n",
    "$$(0.6,0.6,0.7,0.7)$$"
   ]
  },
  {
   "cell_type": "code",
   "execution_count": null,
   "metadata": {
    "collapsed": true
   },
   "outputs": [],
   "source": []
  },
  {
   "cell_type": "markdown",
   "metadata": {},
   "source": [
    "5) How many answers we can get wrong before the classifier start getting confused?"
   ]
  },
  {
   "cell_type": "code",
   "execution_count": null,
   "metadata": {
    "collapsed": true
   },
   "outputs": [],
   "source": []
  },
  {
   "cell_type": "markdown",
   "metadata": {},
   "source": [
    "6) How can we do better against wrong answer?"
   ]
  },
  {
   "cell_type": "code",
   "execution_count": null,
   "metadata": {
    "collapsed": true
   },
   "outputs": [],
   "source": []
  },
  {
   "cell_type": "markdown",
   "metadata": {},
   "source": [
    "7) Write down the exhaustive matrix for 4 classes."
   ]
  },
  {
   "cell_type": "code",
   "execution_count": null,
   "metadata": {
    "collapsed": true
   },
   "outputs": [],
   "source": []
  },
  {
   "cell_type": "markdown",
   "metadata": {},
   "source": [
    "# Real Exercise"
   ]
  },
  {
   "cell_type": "markdown",
   "metadata": {},
   "source": [
    "Read glass.data and build a classifier to classify glass.\n",
    "\n",
    "What is this glass?\n",
    "\n",
    "$$1.5,14.8,0.00,2.00,73.00,0.00,8.00,1.7,0.00$$"
   ]
  },
  {
   "cell_type": "code",
   "execution_count": null,
   "metadata": {
    "collapsed": true
   },
   "outputs": [],
   "source": [
    "%matplotlib inline\n",
    "import numpy as np\n",
    "from matplotlib import pyplot as plt"
   ]
  },
  {
   "cell_type": "code",
   "execution_count": 23,
   "metadata": {
    "collapsed": false
   },
   "outputs": [
    {
     "name": "stdout",
     "output_type": "stream",
     "text": [
      "[1.0, 1.51571, 12.72, 3.46, 1.56, 73.2, 0.67, 8.09, 0.0, 0.24, 1.0]\n"
     ]
    }
   ],
   "source": [
    "def read_data(files):\n",
    "    tmp = []\n",
    "    with open(files) as f:\n",
    "        for line in f:\n",
    "            tmp.append(line)\n",
    "    return tmp\n",
    "\n",
    "def clean_data(data):\n",
    "    tmp = []\n",
    "    for d in data:\n",
    "        d = d.rstrip('\\n')\n",
    "        d = d.split(',')\n",
    "        tmp += [d]\n",
    "    return tmp\n",
    "\n",
    "def padAll(x):\n",
    "    for i in xrange(len(x)):\n",
    "        x[i][0] = '1'\n",
    "    return x\n",
    "\n",
    "def toInt(x):\n",
    "    for i in xrange(len(x)):\n",
    "        for j in xrange(11):\n",
    "            x[i][j] = float(x[i][j])\n",
    "    return x\n",
    "\n",
    "def getClass(cn, data):\n",
    "    c = []\n",
    "    for i in data:\n",
    "        if i[10] == cn:\n",
    "            c.append(i)\n",
    "    return c\n",
    "\n",
    "\n",
    "data = read_data(\"glass.data.txt\")\n",
    "cdata = clean_data(data)            \n",
    "pdata = padAll(cdata)\n",
    "idata = toInt(pdata)\n",
    "\n",
    "class_1 = getClass(1, idata)\n",
    "\n",
    "def cost(w):\n",
    "    return np.sum(np.log1p(np.exp( np.dot(idata,w))))\n",
    "\n",
    "# print len(idata[0])\n",
    "print class_1[10]\n",
    "\n",
    "\n",
    "\n"
   ]
  },
  {
   "cell_type": "code",
   "execution_count": null,
   "metadata": {
    "collapsed": true
   },
   "outputs": [],
   "source": []
  }
 ],
 "metadata": {
  "kernelspec": {
   "display_name": "Python 2",
   "language": "python",
   "name": "python2"
  },
  "language_info": {
   "codemirror_mode": {
    "name": "ipython",
    "version": 2
   },
   "file_extension": ".py",
   "mimetype": "text/x-python",
   "name": "python",
   "nbconvert_exporter": "python",
   "pygments_lexer": "ipython2",
   "version": "2.7.6"
  }
 },
 "nbformat": 4,
 "nbformat_minor": 0
}
