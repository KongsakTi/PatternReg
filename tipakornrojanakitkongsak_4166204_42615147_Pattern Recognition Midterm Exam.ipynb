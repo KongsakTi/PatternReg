{
 "cells": [
  {
   "cell_type": "code",
   "execution_count": 2,
   "metadata": {
    "collapsed": false
   },
   "outputs": [],
   "source": [
    "%matplotlib inline\n",
    "import numpy as np\n",
    "from IPython.display import HTML, display\n",
    "from matplotlib import pyplot as plt\n",
    "from scipy.optimize import minimize, fmin\n",
    "import math"
   ]
  },
  {
   "cell_type": "markdown",
   "metadata": {},
   "source": [
    "# Instruction <span style=\"color:red\">77 + 85 + 100 + 50 + 100 = 402 = 91%</span>\n",
    "\n",
    "5 Problem 100 points each. Full score = 450.\n",
    "\n",
    "Open book, open notes, open google, open stackoverflow, open exercise, open homework. No chat though.\n",
    "\n",
    "All I ask is just don't abuse it.\n",
    "\n",
    "Show your work so I can give partial credits."
   ]
  },
  {
   "cell_type": "code",
   "execution_count": 12,
   "metadata": {
    "collapsed": false
   },
   "outputs": [
    {
     "name": "stdout",
     "output_type": "stream",
     "text": [
      "412 0.915555555556\n"
     ]
    }
   ],
   "source": [
    "score = 77 + 85 + 100 + 50 + 100\n",
    "print score, score/450.0"
   ]
  },
  {
   "cell_type": "markdown",
   "metadata": {},
   "source": [
    "# 1. Cancer Classifier <span style=\"color:red\">77</span>"
   ]
  },
  {
   "cell_type": "markdown",
   "metadata": {},
   "source": [
    "Let us suppose a doctor wants to find a quick way to figure out whether a tumor is a cancerous or benign. So he collect the data of\n",
    "\n",
    "- Volume (0:Small, 1:Medium, 2: Large)\n",
    "- Color (0:Red, 1:Brown, 2:Black)\n",
    "- Density (0:Light, 1:Dense)\n",
    "- Lab Result (0:Benign, 1:Cancerous)\n",
    "\n",
    "The data was collect only on those who passed preliminary screening test. The Data is given below."
   ]
  },
  {
   "cell_type": "markdown",
   "metadata": {},
   "source": [
    "<table>\n",
    "<tr>\n",
    "<td>No</td>\n",
    "<td>Volume</td>\n",
    "<td>Color</td>\n",
    "<td>Density</td>\n",
    "<td>Result</td>\n",
    "</tr>\n",
    "<tr>\n",
    "<td>1</td>\n",
    "<td>Large</td>\n",
    "<td>Red</td>\n",
    "<td>Light</td>\n",
    "<td>Cancer</td>\n",
    "</tr>\n",
    "<tr>\n",
    "<td>2</td>\n",
    "<td>Large</td>\n",
    "<td>Red</td>\n",
    "<td>Dense</td>\n",
    "<td>Benign</td>\n",
    "</tr>\n",
    "<tr>\n",
    "<td>3</td>\n",
    "<td>Medium</td>\n",
    "<td>Red</td>\n",
    "<td>Dense</td>\n",
    "<td>Benign</td>\n",
    "</tr>\n",
    "<tr>\n",
    "<td>4</td>\n",
    "<td>Small</td>\n",
    "<td>Red</td>\n",
    "<td>Dense</td>\n",
    "<td>Benign</td>\n",
    "</tr>\n",
    "<tr>\n",
    "<td>5</td>\n",
    "<td>Medium</td>\n",
    "<td>Brown</td>\n",
    "<td>Dense</td>\n",
    "<td>Cancer</td>\n",
    "</tr>\n",
    "<tr>\n",
    "<td>6</td>\n",
    "<td>Large</td>\n",
    "<td>Black</td>\n",
    "<td>Dense</td>\n",
    "<td>Benign</td>\n",
    "</tr>\n",
    "<tr>\n",
    "<td>7</td>\n",
    "<td>Medium</td>\n",
    "<td>Brown</td>\n",
    "<td>Dense</td>\n",
    "<td>Cancer</td>\n",
    "</tr>\n",
    "<tr>\n",
    "<td>8</td>\n",
    "<td>Small</td>\n",
    "<td>Red</td>\n",
    "<td>Light</td>\n",
    "<td>Cancer</td>\n",
    "</tr>\n",
    "<tr>\n",
    "<td>9</td>\n",
    "<td>Small</td>\n",
    "<td>Black</td>\n",
    "<td>Dense</td>\n",
    "<td>Benign</td>\n",
    "</tr>\n",
    "<tr>\n",
    "<td>10</td>\n",
    "<td>Large</td>\n",
    "<td>Red</td>\n",
    "<td>Light</td>\n",
    "<td>Benign</td>\n",
    "</tr>\n",
    "<tr>\n",
    "<td>11</td>\n",
    "<td>Large</td>\n",
    "<td>Brown</td>\n",
    "<td>Light</td>\n",
    "<td>Cancer</td>\n",
    "</tr>\n",
    "<tr>\n",
    "<td>12</td>\n",
    "<td>Medium</td>\n",
    "<td>Brown</td>\n",
    "<td>Dense</td>\n",
    "<td>Cancer</td>\n",
    "</tr>\n",
    "<tr>\n",
    "<td>13</td>\n",
    "<td>Small</td>\n",
    "<td>Red</td>\n",
    "<td>Dense</td>\n",
    "<td>Cancer</td>\n",
    "</tr>\n",
    "<tr>\n",
    "<td>14</td>\n",
    "<td>Small</td>\n",
    "<td>Red</td>\n",
    "<td>Light</td>\n",
    "<td>Cancer</td>\n",
    "</tr>\n",
    "<tr>\n",
    "<td>15</td>\n",
    "<td>Medium</td>\n",
    "<td>Red</td>\n",
    "<td>Dense</td>\n",
    "<td>Benign</td>\n",
    "</tr>\n",
    "</table>"
   ]
  },
  {
   "cell_type": "code",
   "execution_count": 3,
   "metadata": {
    "collapsed": true
   },
   "outputs": [],
   "source": [
    "#for those of you who don't want to count by hands here is the data\n",
    "data = [[1, 'Medium', 'Red', 'Dense', 'Benign'],\n",
    " [2, 'Large', 'Red', 'Light', 'Benign'],\n",
    " [3, 'Large', 'Red', 'Dense', 'Cancer'],\n",
    " [4, 'Large', 'Brown', 'Light', 'Cancer'],\n",
    " [5, 'Large', 'Red', 'Dense', 'Cancer'],\n",
    " [6, 'Small', 'Black', 'Dense', 'Benign'],\n",
    " [7, 'Small', 'Black', 'Dense', 'Cancer'],\n",
    " [8, 'Large', 'Brown', 'Light', 'Cancer'],\n",
    " [9, 'Medium', 'Red', 'Dense', 'Benign'],\n",
    " [10, 'Medium', 'Brown', 'Light', 'Cancer'],\n",
    " [11, 'Small', 'Brown', 'Light', 'Cancer'],\n",
    " [12, 'Small', 'Black', 'Light', 'Cancer'],\n",
    " [13, 'Large', 'Red', 'Dense', 'Benign'],\n",
    " [14, 'Small', 'Red', 'Light', 'Benign'],\n",
    " [15, 'Large', 'Red', 'Light', 'Benign']]"
   ]
  },
  {
   "cell_type": "markdown",
   "metadata": {},
   "source": [
    "1) Find $P(Cancer | Red)$.\n",
    "<span style=\"color:red\">10</span>"
   ]
  },
  {
   "cell_type": "code",
   "execution_count": 4,
   "metadata": {
    "collapsed": true
   },
   "outputs": [],
   "source": [
    "def isRed(d):\n",
    "    return d[2] == 'Red'\n",
    "def isCancer(d):\n",
    "    return d[4] == 'Cancer'"
   ]
  },
  {
   "cell_type": "code",
   "execution_count": 5,
   "metadata": {
    "collapsed": false
   },
   "outputs": [
    {
     "name": "stdout",
     "output_type": "stream",
     "text": [
      "0.25\n"
     ]
    }
   ],
   "source": [
    "a = 0.\n",
    "b = 0.\n",
    "for d in data:\n",
    "    if isRed(d):\n",
    "        a += 1\n",
    "        if isCancer(d):\n",
    "            b += 1\n",
    "print b/a"
   ]
  },
  {
   "cell_type": "markdown",
   "metadata": {},
   "source": [
    "2) Find $P(Red | Cancer)$.\n",
    "<span style=\"color:red\">10</span>"
   ]
  },
  {
   "cell_type": "code",
   "execution_count": 6,
   "metadata": {
    "collapsed": false
   },
   "outputs": [
    {
     "name": "stdout",
     "output_type": "stream",
     "text": [
      "0.25\n"
     ]
    }
   ],
   "source": [
    "a = 0.\n",
    "b = 0.\n",
    "for d in data:\n",
    "    if isCancer(d):\n",
    "        a += 1\n",
    "        if isRed(d):\n",
    "            b += 1\n",
    "print b/a"
   ]
  },
  {
   "cell_type": "markdown",
   "metadata": {},
   "source": [
    "3) Find $P(Red)$\n",
    "<span style=\"color:red\">10</span>"
   ]
  },
  {
   "cell_type": "code",
   "execution_count": 7,
   "metadata": {
    "collapsed": false
   },
   "outputs": [
    {
     "name": "stdout",
     "output_type": "stream",
     "text": [
      "0.533333333333\n"
     ]
    }
   ],
   "source": [
    "a = 0.\n",
    "b = 0.\n",
    "for d in data:\n",
    "    a += 1\n",
    "    if isRed(d):\n",
    "        b += 1\n",
    "print b/a"
   ]
  },
  {
   "cell_type": "markdown",
   "metadata": {},
   "source": [
    "4) Find $P(Cancer)$\n",
    "<span style=\"color:red\">10</span>"
   ]
  },
  {
   "cell_type": "code",
   "execution_count": 8,
   "metadata": {
    "collapsed": false
   },
   "outputs": [
    {
     "name": "stdout",
     "output_type": "stream",
     "text": [
      "0.533333333333\n"
     ]
    }
   ],
   "source": [
    "a = 0.\n",
    "b = 0.\n",
    "for d in data:\n",
    "    a += 1\n",
    "    if isCancer(d):\n",
    "        b += 1\n",
    "print b/a"
   ]
  },
  {
   "cell_type": "markdown",
   "metadata": {},
   "source": [
    "5) Suppose that we want to build a classifier to diagnose those patient that comes to the clinic and pass preliminary screening test. Which prior should we use and why?\n",
    "\n",
    "<span style=\"color:red\">0</span>"
   ]
  },
  {
   "cell_type": "markdown",
   "metadata": {
    "collapsed": true
   },
   "source": [
    "Due to the small sample size, 50/50 is a better prior"
   ]
  },
  {
   "cell_type": "markdown",
   "metadata": {},
   "source": [
    "6) If we were to build a classifier to be use with *general population* whom are not necessarily pass the preliminary test, do we need to change the prior? Why?\n",
    "\n",
    "<span style=\"color:red\">0</span>"
   ]
  },
  {
   "cell_type": "markdown",
   "metadata": {
    "collapsed": true
   },
   "source": [
    "It would not be as accurate as there are features in those who passed preliminary test that general population may not have."
   ]
  },
  {
   "cell_type": "markdown",
   "metadata": {},
   "source": [
    "7) For condition given in 5) Use Bayes Classifier to find the probability that a Red, Large Dense Tumor is cancecerous. Show your work.\n",
    "\n",
    "<span style=\"color:red\">7</span> Wrong prior but already deducted"
   ]
  },
  {
   "cell_type": "code",
   "execution_count": 9,
   "metadata": {
    "collapsed": true
   },
   "outputs": [],
   "source": [
    "def isLarge(d):\n",
    "    return d[1] == 'Large'\n",
    "def isDense(d):\n",
    "    return d[3] == 'Dense'"
   ]
  },
  {
   "cell_type": "code",
   "execution_count": 10,
   "metadata": {
    "collapsed": false
   },
   "outputs": [
    {
     "name": "stdout",
     "output_type": "stream",
     "text": [
      "2.0 4.0 3.0 8.0\n",
      "6.0 3.0 4.0 7.0\n",
      "1.125 1.85714285714\n",
      "Probability  that a Red, Large Dense Tumor cancecerous is 0.377245508982%\n"
     ]
    }
   ],
   "source": [
    "Rc = 0.\n",
    "Lc = 0.\n",
    "Dc = 0.\n",
    "C = 0.\n",
    "\n",
    "Rb = 0.\n",
    "Lb = 0.\n",
    "Db = 0.\n",
    "B = 0.\n",
    "for d in data:\n",
    "    if isCancer(d):\n",
    "        C += 1\n",
    "        if isRed(d):\n",
    "            Rc += 1\n",
    "        if isLarge(d):\n",
    "            Lc += 1\n",
    "        if isDense(d):\n",
    "            Dc += 1\n",
    "    else:\n",
    "        B += 1\n",
    "        if isRed(d):\n",
    "            Rb += 1\n",
    "        if isLarge(d):\n",
    "            Lb += 1\n",
    "        if isDense(d):\n",
    "            Db += 1        \n",
    "print Rc, Lc, Dc, C\n",
    "print Rb, Lb, Db, B\n",
    "\n",
    "Pc = (Rc + Lc + Dc)/C\n",
    "Pb = (Rb + Lb + Db)/B\n",
    "print Pc, Pb\n",
    "\n",
    "prior = 0.5\n",
    "\n",
    "def calEvidence():\n",
    "    return (Pc * prior) + (Pb * prior) #<<<<one of them should be 1-p\n",
    "cE = calEvidence()\n",
    "\n",
    "Prob = (Pc * prior)/cE\n",
    "print \"Probability  that a Red, Large Dense Tumor cancecerous is {0}%\".format(Prob)"
   ]
  },
  {
   "cell_type": "markdown",
   "metadata": {},
   "source": [
    "8) In picking a probability cutoff, which one should we avoid more false positive or false negative. (Positive=cancer) Why?\n",
    "\n",
    "<span style=\"color:red\">10</span>"
   ]
  },
  {
   "cell_type": "markdown",
   "metadata": {
    "collapsed": true
   },
   "source": [
    "We should try to avoid False Negative since it means risking the patient life on the line"
   ]
  },
  {
   "cell_type": "markdown",
   "metadata": {},
   "source": [
    "9) Suppose the doctor go back and measure the radius of tumor(Small, Medium Large) as well. If we use Bayes Classifier, should we add radius as feature on top of what we have? Why?\n",
    "\n",
    "<span style=\"color:red\">10</span>"
   ]
  },
  {
   "cell_type": "markdown",
   "metadata": {
    "collapsed": true
   },
   "source": [
    "It makes more sense to replace the group sizes with radius rather than add it on top of what we have since they are basically the same thing. The only different is that radius is more insightful"
   ]
  },
  {
   "cell_type": "markdown",
   "metadata": {},
   "source": [
    "# 2. Coding up Bayes <span style=\"color:red\">85</span>"
   ]
  },
  {
   "cell_type": "markdown",
   "metadata": {},
   "source": [
    "1 ) The data for situation in 1.5) is given in cancer.csv. The columns are the following\n",
    "\n",
    "- Volume (0:Small, 1:Medium, 2: Large)\n",
    "- Color (0:Red, 1:Brown, 2:Black)\n",
    "- Density (0:Light, 1:Dense)\n",
    "- Lab Result (0:Benign, 1:Cancerous)\n",
    "\n",
    "Build Bayes classifier(you will need this for part 2) and find the probability that a Red, Large Dense Tumor is cancecerous.\n",
    "\n",
    "<span style=\"color:red\">35</span>\n"
   ]
  },
  {
   "cell_type": "code",
   "execution_count": 178,
   "metadata": {
    "collapsed": false
   },
   "outputs": [],
   "source": [
    "data = np.genfromtxt('cancer.csv', delimiter=\",\" )"
   ]
  },
  {
   "cell_type": "code",
   "execution_count": 209,
   "metadata": {
    "collapsed": true
   },
   "outputs": [],
   "source": [
    "def isCancer(d):\n",
    "    return d[3] == 1\n",
    "\n",
    "def calProb(V, C, D, Cancer, Benign, d):\n",
    "    prior = 0.5\n",
    "    Pc = (V[1][int(d[0])] + C[1][int(d[1])] + D[1][int(d[2])]) / Cancer\n",
    "    Pb = (V[0][int(d[0])] + C[0][int(d[1])] + D[0][int(d[2])]) / Benign\n",
    "\n",
    "    def calEvidence():\n",
    "        return (Pc * prior) + (Pb * prior) #<<<<< Wrong use of prior\n",
    "    return (Pc * prior)/ calEvidence()"
   ]
  },
  {
   "cell_type": "code",
   "execution_count": 214,
   "metadata": {
    "collapsed": false
   },
   "outputs": [
    {
     "name": "stdout",
     "output_type": "stream",
     "text": [
      "Probability  that a Red, Large Dense Tumor cancecerous is 0.53626482199%\n"
     ]
    }
   ],
   "source": [
    "V = np.zeros((2, 3))\n",
    "C = np.zeros((2, 3))\n",
    "D = np.zeros((2, 2))\n",
    "Cancer = 0.\n",
    "Benign = 0.\n",
    "for d in data:\n",
    "    if isCancer(d):\n",
    "        Cancer += 1\n",
    "        \n",
    "        V[1][int(d[0])] += 1.\n",
    "        C[1][int(d[1])] += 1.\n",
    "        D[1][int(d[2])] += 1.\n",
    "    else:\n",
    "        Benign += 1\n",
    "        \n",
    "        V[0][int(d[0])] += 1.\n",
    "        C[0][int(d[1])] += 1.\n",
    "        D[0][int(d[2])] += 1.\n",
    "      \n",
    "\n",
    "Prob = calProb(V, C, D, Cancer, Benign, data[9])\n",
    "print \"Probability  that a Red, Large Dense Tumor cancecerous is {0}%\".format(Prob)"
   ]
  },
  {
   "cell_type": "code",
   "execution_count": 282,
   "metadata": {
    "collapsed": false
   },
   "outputs": [
    {
     "name": "stdout",
     "output_type": "stream",
     "text": [
      "Correctness: 0.72%\n"
     ]
    }
   ],
   "source": [
    "right = 0.\n",
    "for d in data:\n",
    "    prob = calProb(V, C, D, Cancer, Benign, d)\n",
    "    if prob >= 0.5 and d[3] == 1:\n",
    "        right += 1\n",
    "    elif prob < 0.5 and d[3] == 0:\n",
    "        right += 1\n",
    "print \"Correctness: {0:.2f}%\".format(right/len(data))"
   ]
  },
  {
   "cell_type": "markdown",
   "metadata": {},
   "source": [
    "2) Plot ROC Curve for the classifier you build in previous part. (Just reuse training data). Also identify which corner or ROC curve is a perfect classifier. \n",
    "\n",
    "Be sure to label your axis 'False Positive', 'False Negative', 'True Positive', 'True Negative'. Depending on what you plot. The methods for setting axis label is `plt.xlabel`,`plt.ylabel`.\n",
    "\n",
    "<span style=\"color:red\">50</span>"
   ]
  },
  {
   "cell_type": "code",
   "execution_count": 279,
   "metadata": {
    "collapsed": false
   },
   "outputs": [],
   "source": [
    "size = 100\n",
    "FalseNegative = np.zeros((1, size))\n",
    "FalsePositive = np.zeros((1, size))\n",
    "thresholds = np.linspace(0.0, 1., size)\n",
    "for d in data:\n",
    "    \n",
    "    p = calProb(V, C, D, Cancer, Benign, d)\n",
    "    for i in xrange(size):\n",
    "        if (p <= thresholds[i] and isCancer(d)):\n",
    "            FalseNegative[0][i] += 1\n",
    "        if (p > thresholds[i]) and not isCancer(d):\n",
    "            FalsePositive[0][i] += 1\n",
    "\n",
    "for i in xrange(size):\n",
    "    FalseNegative[0][i] = FalseNegative[0][i]/Cancer\n",
    "    FalsePositive[0][i] = FalsePositive[0][i]/Benign"
   ]
  },
  {
   "cell_type": "code",
   "execution_count": 280,
   "metadata": {
    "collapsed": false
   },
   "outputs": [
    {
     "data": {
      "image/png": "[encoded data removed]",
      "text/plain": [
       "<matplotlib.figure.Figure at 0x11340a650>"
      ]
     },
     "metadata": {},
     "output_type": "display_data"
    }
   ],
   "source": [
    "plt.figure(figsize=(8,8))\n",
    "plt.plot(FalseNegative[0], FalsePositive[0], 'r')\n",
    "plt.xlabel(\"FalseNegative\")\n",
    "plt.ylabel(\"FalsePositive\")\n",
    "plt.grid(True)"
   ]
  },
  {
   "cell_type": "markdown",
   "metadata": {},
   "source": [
    "Left corner is the best due to low False Negative"
   ]
  },
  {
   "cell_type": "markdown",
   "metadata": {},
   "source": [
    "# 3. Regression + Regularization <span style=\"color:red\">100</span>"
   ]
  },
  {
   "cell_type": "markdown",
   "metadata": {},
   "source": [
    "Consider the following data points."
   ]
  },
  {
   "cell_type": "code",
   "execution_count": 102,
   "metadata": {
    "collapsed": false
   },
   "outputs": [
    {
     "data": {
      "image/png": "[encoded data removed]",
      "text/plain": [
       "<matplotlib.figure.Figure at 0x112424a50>"
      ]
     },
     "metadata": {},
     "output_type": "display_data"
    }
   ],
   "source": [
    "xs = np.array([ 0.        ,  0.05263158,  0.10526316,  0.15789474,  0.21052632,\n",
    "        0.26315789,  0.31578947,  0.36842105,  0.42105263,  0.47368421,\n",
    "        0.52631579,  0.57894737,  0.63157895,  0.68421053,  0.73684211,\n",
    "        0.78947368,  0.84210526,  0.89473684,  0.94736842,  1.        ])\n",
    "\n",
    "ys = np.array([ 1.43328957,  0.79286175,  1.23121202,  1.4966537 ,  1.20046242,\n",
    "        0.92179229,  1.72712153,  1.70387714,  1.19614535,  1.46158381,\n",
    "        1.69776375,  1.51873941,  2.14165851,  1.72157696,  2.06161889,\n",
    "        2.33314082,  2.54957117,  3.07761039,  2.89394842,  3.73597637])\n",
    "plt.plot(xs,ys, 'or')\n",
    "plt.grid(True)"
   ]
  },
  {
   "cell_type": "markdown",
   "metadata": {},
   "source": [
    "1) If we fit the following data with a straight line, \n",
    " - Are we overfitting or underfitting? \n",
    " - Would $E_{in}$ be high or low?\n",
    " - Would $E_{out}$ be high or low?\n",
    " \n",
    " \n",
    " <span style=\"color:red\">15</span>"
   ]
  },
  {
   "cell_type": "code",
   "execution_count": 103,
   "metadata": {
    "collapsed": true
   },
   "outputs": [],
   "source": [
    "def guess(w, x):\n",
    "    return sum(ww*x**i for i, ww in enumerate(w))\n",
    "\n",
    "def cost(w):\n",
    "    return sum((yy-guess(w, xx))**2 for xx, yy in zip(xs, ys))/len(xs)"
   ]
  },
  {
   "cell_type": "code",
   "execution_count": 104,
   "metadata": {
    "collapsed": true
   },
   "outputs": [],
   "source": [
    "w = minimize(cost, [0]*2).x\n",
    "nxs = np.linspace(0., 1., 20)\n",
    "nys = [guess(w, x) for x in nxs]"
   ]
  },
  {
   "cell_type": "code",
   "execution_count": 105,
   "metadata": {
    "collapsed": false
   },
   "outputs": [
    {
     "data": {
      "image/png": "[encoded data removed]",
      "text/plain": [
       "<matplotlib.figure.Figure at 0x1123ee610>"
      ]
     },
     "metadata": {},
     "output_type": "display_data"
    }
   ],
   "source": [
    "plt.plot(nxs,nys, 'b')\n",
    "plt.plot(xs,ys, 'or')\n",
    "plt.grid(True)"
   ]
  },
  {
   "cell_type": "markdown",
   "metadata": {},
   "source": [
    "Seems under fitting to me hahahaha\n",
    "\n",
    "Both $E_{in}$ and $E_{out}$ will be high"
   ]
  },
  {
   "cell_type": "markdown",
   "metadata": {},
   "source": [
    "2) If we fit the following data with a polynomial of degree 20, \n",
    " - Are we overfitting or underfitting? \n",
    " - Would $E_{in}$ be high or low?\n",
    " - Would $E_{out}$ be high or low?\n",
    " \n",
    " <span style=\"color:red\">15</span>"
   ]
  },
  {
   "cell_type": "code",
   "execution_count": 106,
   "metadata": {
    "collapsed": true
   },
   "outputs": [],
   "source": [
    "w = minimize(cost, [0]*20).x\n",
    "nxs = np.linspace(0., 1., 20)\n",
    "nys = [guess(w, x) for x in nxs]"
   ]
  },
  {
   "cell_type": "code",
   "execution_count": 107,
   "metadata": {
    "collapsed": false
   },
   "outputs": [
    {
     "data": {
      "image/png": "[encoded data removed]",
      "text/plain": [
       "<matplotlib.figure.Figure at 0x112429d90>"
      ]
     },
     "metadata": {},
     "output_type": "display_data"
    }
   ],
   "source": [
    "plt.plot(nxs,nys, 'b')\n",
    "plt.plot(xs,ys, 'or')\n",
    "plt.grid(True)"
   ]
  },
  {
   "cell_type": "markdown",
   "metadata": {},
   "source": [
    "Looks like a little over fitting size to me\n",
    "\n",
    "Both $E_{in}$ slightly lower compare to $E_{out}$"
   ]
  },
  {
   "cell_type": "markdown",
   "metadata": {},
   "source": [
    "3) Suppose we fit it with polynomial of degree 20 with regularization term.\n",
    " - What happen if the regularization constant($\\lambda$) is too large? Why?\n",
    " - What happen if the regularization constant($\\lambda$) is too small? Why?\n",
    " \n",
    " <span style=\"color:red\">15</span>"
   ]
  },
  {
   "cell_type": "markdown",
   "metadata": {
    "collapsed": true
   },
   "source": [
    "if the regularization constant($\\lambda$) is too large then it would penalize the increasing the degree too much and cause the function to be underfiting\n",
    "\n",
    "if the regularization constant($\\lambda$) is too small then it would penalize the increasing the degree too little and cause the function to be overfiting\n"
   ]
  },
  {
   "cell_type": "markdown",
   "metadata": {},
   "source": [
    "4) What should we do to pick regularization constant ($\\lambda$)?\n",
    "\n",
    "<span style=\"color:red\">15</span>"
   ]
  },
  {
   "cell_type": "markdown",
   "metadata": {
    "collapsed": true
   },
   "source": [
    "We can plot the graph of  $E_{in}$ and  $E_{out}$ to find the right ($\\lambda$), pick the one with the lowest $E_{out}$"
   ]
  },
  {
   "cell_type": "markdown",
   "metadata": {},
   "source": [
    "5) Why is it that regularization term starts at $w_1$ instead of $w_0$?\n",
    "\n",
    "<span style=\"color:red\">15</span>"
   ]
  },
  {
   "cell_type": "markdown",
   "metadata": {
    "collapsed": true
   },
   "source": [
    "$w_0$ is just a shifting the the graph, it does not increase the complexity"
   ]
  },
  {
   "cell_type": "markdown",
   "metadata": {},
   "source": [
    "6) Fit the data with polynomial of degree 20 with $\\lambda=0.01$.\n",
    "\n",
    "<span style=\"color:red\">15</span>"
   ]
  },
  {
   "cell_type": "code",
   "execution_count": 96,
   "metadata": {
    "collapsed": true
   },
   "outputs": [],
   "source": [
    "def closeness(w, xs, ys):\n",
    "    return sum((yy-guess(w, xx))**2 for xx, yy in zip(xs, ys))/len(xs)\n",
    "\n",
    "def cost_functor(l):\n",
    "    def cost(w):\n",
    "        close = closeness(w, xs, ys)\n",
    "        reg = l*sum(ww**2 for ww in w[1:])\n",
    "        return close + reg\n",
    "    return cost\n",
    "cost = cost_functor(0.01)"
   ]
  },
  {
   "cell_type": "code",
   "execution_count": 97,
   "metadata": {
    "collapsed": false
   },
   "outputs": [],
   "source": [
    "w = minimize(cost, [0]*20).x\n",
    "nxs = np.linspace(0., 1., 20)\n",
    "nys = [guess(w, x) for x in nxs]"
   ]
  },
  {
   "cell_type": "code",
   "execution_count": 98,
   "metadata": {
    "collapsed": false
   },
   "outputs": [
    {
     "data": {
      "image/png": "[encoded data removed]",
      "text/plain": [
       "<matplotlib.figure.Figure at 0x1123daa50>"
      ]
     },
     "metadata": {},
     "output_type": "display_data"
    }
   ],
   "source": [
    "plt.plot(nxs,nys, 'b')\n",
    "plt.plot(xs,ys, 'or')\n",
    "plt.grid(True)"
   ]
  },
  {
   "cell_type": "markdown",
   "metadata": {},
   "source": [
    "# 4. Logistic Regression <span style=\"color:red\">50</span>"
   ]
  },
  {
   "cell_type": "markdown",
   "metadata": {},
   "source": [
    "1) Supposed that we have 2 data points.\n",
    "\n",
    "- Red(+1): $x_0 = 0.5$, $x_1 = 0.2$\n",
    "- Blue(-1): $x_0 = 0.2$, $x_1 = 0.3$\n",
    "\n",
    "What is the **likelihood** of getting these two data points if our hypothesis is $\\vec{w_1} = [1,2,3]$\n",
    "\n",
    "<span style=\"color:red\">20</span> Not likelihood"
   ]
  },
  {
   "cell_type": "code",
   "execution_count": 112,
   "metadata": {
    "collapsed": true
   },
   "outputs": [],
   "source": [
    "Red = np.array([1, 0.5, 0.2])\n",
    "Blue = np.array([1, 0.2, 0.3])\n",
    "w = np.array([1, 2, 3])"
   ]
  },
  {
   "cell_type": "code",
   "execution_count": 113,
   "metadata": {
    "collapsed": true
   },
   "outputs": [],
   "source": [
    "def classify(w, features):\n",
    "    s = np.dot(features, w)\n",
    "    s = np.clip(s, -200, 200)\n",
    "    return 1./(1 + np.exp(-s))"
   ]
  },
  {
   "cell_type": "code",
   "execution_count": 117,
   "metadata": {
    "collapsed": false
   },
   "outputs": [
    {
     "name": "stdout",
     "output_type": "stream",
     "text": [
      "0.930861579657\n",
      "0.908877038985\n"
     ]
    }
   ],
   "source": [
    "print classify(w, Red)\n",
    "print classify(w, Blue)"
   ]
  },
  {
   "cell_type": "markdown",
   "metadata": {},
   "source": [
    "2) What is the **likelihood** of getting these two data points if our hypothesis is $\\vec{w_2} = [-1,-2,-3]$\n",
    "\n",
    "<span style=\"color:red\">20</span> Not likelihood"
   ]
  },
  {
   "cell_type": "code",
   "execution_count": 118,
   "metadata": {
    "collapsed": false
   },
   "outputs": [
    {
     "name": "stdout",
     "output_type": "stream",
     "text": [
      "0.0691384203433\n",
      "0.0911229610149\n"
     ]
    }
   ],
   "source": [
    "w = np.array([-1, -2, -3])\n",
    "print classify(w, Red)\n",
    "print classify(w, Blue)"
   ]
  },
  {
   "cell_type": "markdown",
   "metadata": {},
   "source": [
    "3) Which $\\vec{w}$ is better? Explain.\n",
    "\n",
    "<span style=\"color:red\">0</span> Not likelihood"
   ]
  },
  {
   "cell_type": "markdown",
   "metadata": {
    "collapsed": true
   },
   "source": [
    "They are both bad. First one saying both Red and Blue are Red, while the Second one saying both Red and Blue are Blue"
   ]
  },
  {
   "cell_type": "markdown",
   "metadata": {},
   "source": [
    "# 5. One more thing <span style=\"color:red\">100</span>\n",
    "\n",
    "Consider the following data points. The line separating the two dataset looks something like\n",
    "$$ax_0 + b \\sin x_0 + cx_1 + d = 0$$\n",
    "\n",
    "for some constants $a, b, c, d$.\n",
    "\n",
    "Build a **logistic** classifier that performs better than 85% on the training data.\n",
    "\n",
    "Make sure you demonstrate that your classifier works more better than 85% on training data.\n",
    "\n",
    "**Be careful**, the classes given in the file are 0 and 1."
   ]
  },
  {
   "cell_type": "code",
   "execution_count": 228,
   "metadata": {
    "collapsed": false
   },
   "outputs": [
    {
     "data": {
      "text/plain": [
       "<matplotlib.text.Text at 0x112a32090>"
      ]
     },
     "execution_count": 228,
     "metadata": {},
     "output_type": "execute_result"
    },
    {
     "data": {
      "image/png": "[encoded data removed]",
      "text/plain": [
       "<matplotlib.figure.Figure at 0x112a2ce50>"
      ]
     },
     "metadata": {},
     "output_type": "display_data"
    }
   ],
   "source": [
    "arr = np.genfromtxt('onemorething.csv', delimiter=',')\n",
    "x0s = arr[:, 0]\n",
    "x1s = arr[:, 1]\n",
    "cls = arr[:, 2]\n",
    "plt.plot(x0s[cls==0], x1s[cls==0], '.r', alpha=0.5)\n",
    "plt.plot(x0s[cls==1], x1s[cls==1], '.b', alpha=0.5)\n",
    "plt.xlabel('x0')\n",
    "plt.ylabel('x1')"
   ]
  },
  {
   "cell_type": "code",
   "execution_count": 229,
   "metadata": {
    "collapsed": true
   },
   "outputs": [],
   "source": [
    "class LogisticRegression:\n",
    "    def __init__(self):\n",
    "        self.w = None\n",
    "        \n",
    "    def train(self, features, classes):\n",
    "        def cost(w):\n",
    "            s = np.dot(features, w)\n",
    "            s = np.clip(s, -200, 200)\n",
    "            return np.sum(np.log1p(np.exp(-classes*s)))\n",
    "        self.w = minimize(cost, [0.]*len(features[0])).x\n",
    "        \n",
    "    def classify(self, features):\n",
    "        s = np.dot(features, self.w)\n",
    "        s = np.clip(s, -200, 200)\n",
    "        return 1./(1 + np.exp(-s))"
   ]
  },
  {
   "cell_type": "code",
   "execution_count": 230,
   "metadata": {
    "collapsed": true
   },
   "outputs": [],
   "source": [
    "def padAndCombined(datax, datay):\n",
    "    data = np.zeros((len(datax),4))\n",
    "    data[:, 0] = 1.\n",
    "    data[:, 1] = datax\n",
    "    data[:, 2] = datay\n",
    "    data[:, 3] = np.sin(datax)\n",
    "    return data"
   ]
  },
  {
   "cell_type": "code",
   "execution_count": 231,
   "metadata": {
    "collapsed": false
   },
   "outputs": [],
   "source": [
    "classes = np.array([ 1 if c == 1 else -1 for c in cls])"
   ]
  },
  {
   "cell_type": "code",
   "execution_count": 238,
   "metadata": {
    "collapsed": false
   },
   "outputs": [],
   "source": [
    "features = padAndCombined(x0s, x1s)\n",
    "LR = LogisticRegression()\n",
    "LR.train(features, classes)"
   ]
  },
  {
   "cell_type": "code",
   "execution_count": 239,
   "metadata": {
    "collapsed": false
   },
   "outputs": [
    {
     "name": "stdout",
     "output_type": "stream",
     "text": [
      "Correctness: 0.89%\n"
     ]
    }
   ],
   "source": [
    "right = 0.\n",
    "\n",
    "for idx in xrange(len(classes)):\n",
    "    prob = LR.classify(features[idx])\n",
    "    if prob >= 0.5 and classes[idx] == 1:\n",
    "        right += 1\n",
    "    elif prob < 0.5 and classes[idx] == -1:\n",
    "        right += 1\n",
    "print \"Correctness: {0:.2f}%\".format(right/len(classes))"
   ]
  },
  {
   "cell_type": "code",
   "execution_count": 240,
   "metadata": {
    "collapsed": true
   },
   "outputs": [],
   "source": [
    "def calYs(w, p, xs):\n",
    "    c, m, k, j = w\n",
    "    \n",
    "    rh = -np.log((1./p) - 1.)\n",
    "    \n",
    "    ys = []\n",
    "    for x in xs:\n",
    "        ys.append((c + m*x + j*np.sin(x) + rh)/(-k))\n",
    "        \n",
    "    return np.array(ys)"
   ]
  },
  {
   "cell_type": "code",
   "execution_count": 246,
   "metadata": {
    "collapsed": true
   },
   "outputs": [],
   "source": [
    "xs = np.linspace(-3, 3, len(data))\n",
    "ys = calYs(LR.w, 0.5, xs)"
   ]
  },
  {
   "cell_type": "code",
   "execution_count": 258,
   "metadata": {
    "collapsed": false
   },
   "outputs": [
    {
     "data": {
      "text/plain": [
       "<matplotlib.text.Text at 0x113552450>"
      ]
     },
     "execution_count": 258,
     "metadata": {},
     "output_type": "execute_result"
    },
    {
     "data": {
      "image/png": "[encoded data removed]",
      "text/plain": [
       "<matplotlib.figure.Figure at 0x113317390>"
      ]
     },
     "metadata": {},
     "output_type": "display_data"
    }
   ],
   "source": [
    "plt.plot(x0s[cls==0], x1s[cls==0], '.r', alpha=0.5)\n",
    "plt.plot(x0s[cls==1], x1s[cls==1], '.b', alpha=0.5)\n",
    "plt.plot(xs, ys, '.k', alpha=0.08)\n",
    "plt.xlabel('x0')\n",
    "plt.ylabel('x1')"
   ]
  },
  {
   "cell_type": "code",
   "execution_count": null,
   "metadata": {
    "collapsed": true
   },
   "outputs": [],
   "source": []
  }
 ],
 "metadata": {
  "kernelspec": {
   "display_name": "Python 2",
   "language": "python",
   "name": "python2"
  },
  "language_info": {
   "codemirror_mode": {
    "name": "ipython",
    "version": 2
   },
   "file_extension": ".py",
   "mimetype": "text/x-python",
   "name": "python",
   "nbconvert_exporter": "python",
   "pygments_lexer": "ipython2",
   "version": "2.7.6"
  }
 },
 "nbformat": 4,
 "nbformat_minor": 0
}
