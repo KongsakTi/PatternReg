{
 "cells": [
  {
   "cell_type": "markdown",
   "metadata": {},
   "source": [
    "# Homework 4\n",
    "\n",
    "In this homework you will get to build a class to classify handwritten digit.\n",
    "\n",
    "The data is given in 'usps_resampled/usps_resampled.mat' Here is how you use the data"
   ]
  },
  {
   "cell_type": "code",
   "execution_count": 3,
   "metadata": {
    "collapsed": false
   },
   "outputs": [
    {
     "name": "stdout",
     "output_type": "stream",
     "text": [
      "['train_labels', 'test_labels', 'train_patterns', '__header__', '__globals__', 'test_patterns', '__version__']\n"
     ]
    }
   ],
   "source": [
    "%matplotlib inline\n",
    "from scipy.io import loadmat\n",
    "import numpy as np\n",
    "from matplotlib import pyplot as plt\n",
    "import matplotlib.cm as cm\n",
    "\n",
    "D = loadmat('usps_resampled/usps_resampled.mat')\n",
    "print D.keys()\n",
    "#it is a dictionary of four elements\n",
    "# train_labels for the number of each training image\n",
    "# train_patterns for the train images\n",
    "# test_labels\n",
    "# test_patterns"
   ]
  },
  {
   "cell_type": "code",
   "execution_count": 4,
   "metadata": {
    "collapsed": false
   },
   "outputs": [
    {
     "data": {
      "image/png": "[encoded data removed]",
      "text/plain": [
       "<matplotlib.figure.Figure at 0x1044082d0>"
      ]
     },
     "metadata": {},
     "output_type": "display_data"
    }
   ],
   "source": [
    "#this is how you plot each image\n",
    "images = D['train_patterns']\n",
    "\n",
    "def show(img):\n",
    "    im = img.reshape(16,16) #you can try print it\n",
    "    plt.imshow(im, interpolation='nearest', cmap=cm.Greys)\n",
    "show(images[:, 0])"
   ]
  },
  {
   "cell_type": "code",
   "execution_count": 5,
   "metadata": {
    "collapsed": false
   },
   "outputs": [
    {
     "name": "stdout",
     "output_type": "stream",
     "text": [
      "[-1 -1 -1 -1 -1 -1  1 -1 -1 -1]\n",
      "1\n",
      "[6 0 1 ..., 9 2 7]\n"
     ]
    }
   ],
   "source": [
    "#This is how label is read\n",
    "labels = D['train_labels'].T\n",
    "#this is how they represent 6\n",
    "print labels[0] \n",
    "print labels[0,6]\n",
    "\n",
    "def make_class(c):\n",
    "    return list(c).index(1)\n",
    "labels = np.array([make_class(lb) for lb in labels])\n",
    "print labels #more readable"
   ]
  },
  {
   "cell_type": "code",
   "execution_count": null,
   "metadata": {
    "collapsed": true
   },
   "outputs": [],
   "source": []
  },
  {
   "cell_type": "markdown",
   "metadata": {},
   "source": [
    "1 ) Find principal components of the train dataset. Print out first 5 vectors."
   ]
  },
  {
   "cell_type": "code",
   "execution_count": 6,
   "metadata": {
    "collapsed": false
   },
   "outputs": [
    {
     "name": "stdout",
     "output_type": "stream",
     "text": [
      "[[-0.99999988 -0.9999997  -0.99998665 ..., -0.93985581 -0.99104893\n",
      "  -0.99916363]\n",
      " [-0.99999982 -0.99999845 -0.99989259 ..., -0.76438236 -0.93247736\n",
      "  -0.99033844]\n",
      " [-0.99999988 -0.99999988 -0.99999988 ..., -0.99999988 -0.99999988\n",
      "  -0.99999988]\n",
      " [-0.99994296 -0.99490213 -0.90845656 ..., -0.9997704  -0.99995863\n",
      "  -0.99999762]\n",
      " [-0.99999982 -0.99999857 -0.99986976 ..., -0.39311799 -0.83250952\n",
      "  -0.97917747]]\n"
     ]
    }
   ],
   "source": [
    "train_patterns = D['train_patterns'].T\n",
    "print train_patterns[:5]"
   ]
  },
  {
   "cell_type": "markdown",
   "metadata": {},
   "source": [
    "2) Plot the variance explained by $k$ principal with largest variance VS $k$. The variance explained by $k$ eigenvector is given by (remember that you can add the variance).\n",
    "$$ \\text{Explained Variance} = \\frac{\\displaystyle\\sum_{i=0}^k \\lambda_i}{\\displaystyle\\sum_{i=0}^n \\lambda_i}$$\n",
    "\n",
    "where $n$ is the total number of principal component"
   ]
  },
  {
   "cell_type": "code",
   "execution_count": 7,
   "metadata": {
    "collapsed": true
   },
   "outputs": [],
   "source": [
    "def normalize(xs):\n",
    "    mean = np.mean(xs, axis = 1)\n",
    "    norm_xs = xs - mean[:,np.newaxis]\n",
    "    norm_xs = norm_xs / np.std(norm_xs, axis = 1)[:, np.newaxis]\n",
    "    return norm_xs"
   ]
  },
  {
   "cell_type": "code",
   "execution_count": 8,
   "metadata": {
    "collapsed": false
   },
   "outputs": [],
   "source": [
    "norm_train_patterns = normalize(train_patterns)\n",
    "covMat = np.cov(norm_train_patterns)\n",
    "evals, evecs = np.linalg.eigh(covMat)"
   ]
  },
  {
   "cell_type": "code",
   "execution_count": 13,
   "metadata": {
    "collapsed": false
   },
   "outputs": [],
   "source": [
    "evals = evals[::-1]\n",
    "evecs = evecs[::-1]\n",
    "nSum = sum(evals)\n",
    "kxs = [k for k in xrange(len(evals))]\n",
    "kys = [sum(evals[:k])/nSum for k in kxs]"
   ]
  },
  {
   "cell_type": "code",
   "execution_count": 14,
   "metadata": {
    "collapsed": false
   },
   "outputs": [
    {
     "data": {
      "text/plain": [
       "[<matplotlib.lines.Line2D at 0x105745250>]"
      ]
     },
     "execution_count": 14,
     "metadata": {},
     "output_type": "execute_result"
    },
    {
     "data": {
      "image/png": "[encoded data removed]",
      "text/plain": [
       "<matplotlib.figure.Figure at 0x106ab60d0>"
      ]
     },
     "metadata": {},
     "output_type": "display_data"
    }
   ],
   "source": [
    "plt.plot(kxs, kys, 'r')"
   ]
  },
  {
   "cell_type": "markdown",
   "metadata": {},
   "source": [
    "3) If we want to explain 85% of the variance how many principal component do we need."
   ]
  },
  {
   "cell_type": "code",
   "execution_count": 18,
   "metadata": {
    "collapsed": false
   },
   "outputs": [
    {
     "name": "stdout",
     "output_type": "stream",
     "text": [
      "[0.0, 0.33970425704780888, 0.47115229049879798, 0.56175009937166565, 0.61818045060664473, 0.66351938127262833, 0.70192449728646644, 0.73101817360245158, 0.75645837981425157, 0.77788721440665887, 0.79655111595513972, 0.81444842283103458, 0.82969388472145045, 0.84290470820693908, 0.85456794546194292]\n",
      "0.854567945462\n"
     ]
    }
   ],
   "source": [
    "print kys[:15]\n",
    "print kys[14]"
   ]
  },
  {
   "cell_type": "markdown",
   "metadata": {},
   "source": [
    "We need k = 14"
   ]
  },
  {
   "cell_type": "markdown",
   "metadata": {},
   "source": [
    "4) For all train images find the feature in new coordinate. The number of principal component you should use is what you found in 3)"
   ]
  },
  {
   "cell_type": "code",
   "execution_count": 22,
   "metadata": {
    "collapsed": false
   },
   "outputs": [],
   "source": [
    "new_train_patterns = np.dot(evecs[:14], norm_train_patterns)"
   ]
  },
  {
   "cell_type": "markdown",
   "metadata": {},
   "source": [
    "5) We want to classify this with ECOC using One VS One matrix. \n",
    "\n",
    "Use scikit learn(make sure you are using recent version) to do this. Try use SVM(any kernel you want). We will learn how the SVM magic work later. \n",
    "\n",
    "http://scikit-learn.org/stable/modules/svm.html\n",
    "\n",
    "Find E_out from your test data set."
   ]
  },
  {
   "cell_type": "code",
   "execution_count": null,
   "metadata": {
    "collapsed": true
   },
   "outputs": [],
   "source": []
  }
 ],
 "metadata": {
  "kernelspec": {
   "display_name": "Python 2",
   "language": "python",
   "name": "python2"
  },
  "language_info": {
   "codemirror_mode": {
    "name": "ipython",
    "version": 2
   },
   "file_extension": ".py",
   "mimetype": "text/x-python",
   "name": "python",
   "nbconvert_exporter": "python",
   "pygments_lexer": "ipython2",
   "version": "2.7.10"
  }
 },
 "nbformat": 4,
 "nbformat_minor": 0
}
