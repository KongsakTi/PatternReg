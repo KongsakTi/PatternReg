{
 "cells": [
  {
   "cell_type": "markdown",
   "metadata": {},
   "source": [
    "# Homework 4\n",
    "\n",
    "In this homework you will get to build a class to classify handwritten digit.\n",
    "\n",
    "The data is given in 'usps_resampled/usps_resampled.mat' Here is how you use the data"
   ]
  },
  {
   "cell_type": "code",
   "execution_count": 6,
   "metadata": {
    "collapsed": false
   },
   "outputs": [
    {
     "name": "stdout",
     "output_type": "stream",
     "text": [
      "['train_labels', 'test_labels', 'train_patterns', '__header__', '__globals__', 'test_patterns', '__version__']\n"
     ]
    }
   ],
   "source": [
    "%matplotlib inline\n",
    "from scipy.io import loadmat\n",
    "import numpy as np\n",
    "from matplotlib import pyplot as plt\n",
    "import matplotlib.cm as cm\n",
    "\n",
    "D = loadmat('usps_resampled/usps_resampled.mat')\n",
    "print D.keys()\n",
    "#it is a dictionary of four elements\n",
    "# train_labels for the number of each training image\n",
    "# train_patterns for the train images\n",
    "# test_labels\n",
    "# test_patterns"
   ]
  },
  {
   "cell_type": "code",
   "execution_count": 7,
   "metadata": {
    "collapsed": false
   },
   "outputs": [
    {
     "data": {
      "image/png": "[encoded data removed]",
      "text/plain": [
       "<matplotlib.figure.Figure at 0x1051d55d0>"
      ]
     },
     "metadata": {},
     "output_type": "display_data"
    }
   ],
   "source": [
    "#this is how you plot each image\n",
    "images = D['train_patterns']\n",
    "\n",
    "def show(img):\n",
    "    im = img.reshape(16,16) #you can try print it\n",
    "    plt.imshow(im, interpolation='nearest', cmap=cm.Greys)\n",
    "show(images[:, 0])"
   ]
  },
  {
   "cell_type": "code",
   "execution_count": 8,
   "metadata": {
    "collapsed": false
   },
   "outputs": [
    {
     "name": "stdout",
     "output_type": "stream",
     "text": [
      "[-1 -1 -1 -1 -1 -1  1 -1 -1 -1]\n",
      "1\n",
      "[6 0 1 ..., 9 2 7]\n"
     ]
    }
   ],
   "source": [
    "#This is how label is read\n",
    "labels = D['train_labels'].T\n",
    "#this is how they represent 6\n",
    "print labels[0] \n",
    "print labels[0,6]\n",
    "\n",
    "def make_class(c):\n",
    "    return list(c).index(1)\n",
    "labels = np.array([make_class(lb) for lb in labels])\n",
    "print labels #more readable"
   ]
  },
  {
   "cell_type": "code",
   "execution_count": null,
   "metadata": {
    "collapsed": true
   },
   "outputs": [],
   "source": []
  },
  {
   "cell_type": "markdown",
   "metadata": {},
   "source": [
    "1 ) Find principal components of the train dataset. Print out first 5 vectors."
   ]
  },
  {
   "cell_type": "code",
   "execution_count": null,
   "metadata": {
    "collapsed": true
   },
   "outputs": [],
   "source": []
  },
  {
   "cell_type": "markdown",
   "metadata": {},
   "source": [
    "2) Plot the variance explained by $k$ principal with largest variance VS $k$. The variance explained by $k$ eigenvector is given by (remember that you can add the variance).\n",
    "$$ \\text{Explained Variance} = \\frac{\\displaystyle\\sum_{i=0}^k \\lambda_i}{\\displaystyle\\sum_{i=0}^n \\lambda_i}$$\n",
    "\n",
    "where $n$ is the total number of principal component"
   ]
  },
  {
   "cell_type": "code",
   "execution_count": null,
   "metadata": {
    "collapsed": true
   },
   "outputs": [],
   "source": []
  },
  {
   "cell_type": "markdown",
   "metadata": {},
   "source": [
    "3) If we want to explain 85% of the variance how many principal component do we need."
   ]
  },
  {
   "cell_type": "code",
   "execution_count": null,
   "metadata": {
    "collapsed": true
   },
   "outputs": [],
   "source": []
  },
  {
   "cell_type": "markdown",
   "metadata": {},
   "source": [
    "4) For all train images find the feature in new coordinate. The number of principal component you should use is what you found in 3)"
   ]
  },
  {
   "cell_type": "code",
   "execution_count": null,
   "metadata": {
    "collapsed": true
   },
   "outputs": [],
   "source": []
  },
  {
   "cell_type": "markdown",
   "metadata": {},
   "source": [
    "5) We want to classify this with ECOC using One VS One matrix. \n",
    "\n",
    "Use scikit learn(make sure you are using recent version) to do this. Try use SVM(any kernel you want). We will learn how the SVM magic work later. \n",
    "\n",
    "http://scikit-learn.org/stable/modules/svm.html\n",
    "\n",
    "Find E_out from your test data set."
   ]
  },
  {
   "cell_type": "code",
   "execution_count": null,
   "metadata": {
    "collapsed": true
   },
   "outputs": [],
   "source": []
  }
 ],
 "metadata": {
  "kernelspec": {
   "display_name": "Python 2",
   "language": "python",
   "name": "python2"
  },
  "language_info": {
   "codemirror_mode": {
    "name": "ipython",
    "version": 2
   },
   "file_extension": ".py",
   "mimetype": "text/x-python",
   "name": "python",
   "nbconvert_exporter": "python",
   "pygments_lexer": "ipython2",
   "version": "2.7.9"
  }
 },
 "nbformat": 4,
 "nbformat_minor": 0
}
