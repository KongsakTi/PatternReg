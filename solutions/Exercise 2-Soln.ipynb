{
 "cells": [
  {
   "cell_type": "markdown",
   "metadata": {},
   "source": [
    "# Exercise 2 Gradient Descent, Linear Regression and Logistic Regression"
   ]
  },
  {
   "cell_type": "code",
   "execution_count": 5,
   "metadata": {
    "collapsed": true
   },
   "outputs": [],
   "source": [
    "%matplotlib inline\n",
    "import numpy as np\n",
    "from matplotlib import pyplot as plt"
   ]
  },
  {
   "cell_type": "markdown",
   "metadata": {},
   "source": [
    "# Gradient Descent"
   ]
  },
  {
   "cell_type": "markdown",
   "metadata": {},
   "source": [
    "For this who take numerical method already. The first half is sort of recap.\n",
    "\n",
    "1) Where is the minimum for\n",
    "\n",
    "$$f(x, y) = (x-2)^2 + (y-3)^2$$"
   ]
  },
  {
   "cell_type": "code",
   "execution_count": null,
   "metadata": {
    "collapsed": true
   },
   "outputs": [],
   "source": [
    "# x = 2, y = 3"
   ]
  },
  {
   "cell_type": "markdown",
   "metadata": {},
   "source": [
    "2) After this class and for the rest of your life(except for exam) use library like this unless the library doesn't do exactly what you want(which is rare)."
   ]
  },
  {
   "cell_type": "code",
   "execution_count": 1,
   "metadata": {
    "collapsed": false
   },
   "outputs": [
    {
     "data": {
      "text/plain": [
       "2"
      ]
     },
     "execution_count": 1,
     "metadata": {},
     "output_type": "execute_result"
    }
   ],
   "source": [
    "def f(xs):\n",
    "    x, y = xs #this is called variable unpacking. USE it to make your code look nicer\n",
    "    return (x-2)**2 + (y-3)**2\n",
    "\n",
    "f([1,2])"
   ]
  },
  {
   "cell_type": "code",
   "execution_count": 2,
   "metadata": {
    "collapsed": false
   },
   "outputs": [
    {
     "name": "stdout",
     "output_type": "stream",
     "text": [
      "Optimization terminated successfully.\n",
      "         Current function value: 0.000000\n",
      "         Iterations: 63\n",
      "         Function evaluations: 123\n",
      "[ 1.99998368  2.99999327]\n"
     ]
    }
   ],
   "source": [
    "import scipy.optimize as opt\n",
    "res = opt.fmin(f, [0,1])\n",
    "print res\n",
    "# ?opt.fmin #bring up documentation"
   ]
  },
  {
   "cell_type": "markdown",
   "metadata": {},
   "source": [
    "3) Now let us understand the magic behind it. For $f(x,y)$ given above find the gradient at (1,2)."
   ]
  },
  {
   "cell_type": "markdown",
   "metadata": {
    "collapsed": true
   },
   "source": [
    "$$\\nabla f(x,y) = 2(x-2)\\hat{x} + 2(y-3) \\hat{y}$$\n",
    "\n",
    "$$\\nabla f(1,2) = -2 \\hat{x} -2 \\hat{y}$$"
   ]
  },
  {
   "cell_type": "markdown",
   "metadata": {
    "collapsed": true
   },
   "source": [
    "$$\\nabla f(x,y) = 2(x-2)\\hat{x} + 2(y-3) \\hat{y}$$\n",
    "\n",
    "$$\\nabla f(1,2) = -2 \\hat{x} -2 \\hat{y}$$"
   ]
  },
  {
   "cell_type": "markdown",
   "metadata": {},
   "source": [
    "4) Find the unit vector that has the same direction as the gradient"
   ]
  },
  {
   "cell_type": "markdown",
   "metadata": {
    "collapsed": true
   },
   "source": [
    "$$ \\frac{\\nabla f}{|\\nabla f|} = \\frac{-2\\hat{x} -2 \\hat{y}}{\\sqrt{2^2 + 2^2}} = -\\frac{1}{\\sqrt{2}} \\hat{x} -\\frac{1}{\\sqrt{2}} \\hat{y} $$"
   ]
  },
  {
   "cell_type": "markdown",
   "metadata": {
    "collapsed": true
   },
   "source": [
    "$$ \\frac{\\nabla f}{|\\nabla f|} = \\frac{-2\\hat{x} -2 \\hat{y}}{\\sqrt{2^2 + 2^2}} = -\\frac{1}{\\sqrt{2}} \\hat{x} -\\frac{1}{\\sqrt{2}} \\hat{y} $$"
   ]
  },
  {
   "cell_type": "markdown",
   "metadata": {},
   "source": [
    "5) Which direction should we walk?"
   ]
  },
  {
   "cell_type": "markdown",
   "metadata": {
    "collapsed": true
   },
   "source": [
    "Opposite to the gradient.\n",
    "\n",
    "$$ +\\frac{1}{\\sqrt{2}} \\hat{x} +\\frac{1}{\\sqrt{2}} \\hat{y}$$"
   ]
  },
  {
   "cell_type": "markdown",
   "metadata": {
    "collapsed": true
   },
   "source": [
    "Opposite to the gradient.\n",
    "\n",
    "$$ +\\frac{1}{\\sqrt{2}} \\hat{x} +\\frac{1}{\\sqrt{2}} \\hat{y}$$"
   ]
  },
  {
   "cell_type": "markdown",
   "metadata": {},
   "source": [
    "6) How far should we walk? What is wrong with large step size and what is wrong with small step size?"
   ]
  },
  {
   "cell_type": "markdown",
   "metadata": {
    "collapsed": true
   },
   "source": [
    "<div style=\"color:red\" id=\"hello\">Large step size - Stepping over the minimum<br/>\n",
    "Small step size - takes forever</div>"
   ]
  },
  {
   "cell_type": "markdown",
   "metadata": {},
   "source": [
    "7) Where do we want large step size and where do we want small step size?"
   ]
  },
  {
   "cell_type": "markdown",
   "metadata": {
    "collapsed": true
   },
   "source": [
    "Far away from minimum -> Large Stepsize\n",
    "\n",
    "Close to minimum -> Small Stepsize"
   ]
  },
  {
   "cell_type": "markdown",
   "metadata": {},
   "source": [
    "8) Given that we don't really know where the minimum is. How do we get a qunatity what has such behavior?"
   ]
  },
  {
   "cell_type": "markdown",
   "metadata": {
    "collapsed": true
   },
   "source": [
    "$$ \\text{Stepsize} = \\eta \\times |\\nabla f|$$"
   ]
  },
  {
   "cell_type": "markdown",
   "metadata": {},
   "source": [
    "9) What is a learning rate? What is wrong with large learning rate and what is wrong with small learning rate?"
   ]
  },
  {
   "cell_type": "markdown",
   "metadata": {
    "collapsed": true
   },
   "source": [
    "$ \\eta $ scales the step size. Large learning rate stepping over the minimum and small learning rate takes forever."
   ]
  },
  {
   "cell_type": "markdown",
   "metadata": {},
   "source": [
    "10) Write down the \"update rule\"\n",
    "\n",
    "$$\\vec{x}_{i+1} = \\vec{x}_{i} + \\ldots $$"
   ]
  },
  {
   "cell_type": "markdown",
   "metadata": {
    "collapsed": true
   },
   "source": [
    "$$\\vec{x}_{i+1} = \\vec{x}_{i} + \\nabla f \\times \\eta $$"
   ]
  },
  {
   "cell_type": "markdown",
   "metadata": {},
   "source": [
    "11) Given our update and learning rate of 0.01 rule compute the next guess ($\\vec{x}_{1}$)"
   ]
  },
  {
   "cell_type": "markdown",
   "metadata": {
    "collapsed": true
   },
   "source": [
    "$$ \\vec{x}_{i+1} = 1 \\hat{x} + 2 \\hat{y} + 0.01 \\times \\left(\\frac{1}{\\sqrt{2}} \\hat{x} +\\frac{1}{\\sqrt{2}} \\hat{y}\\right) $$"
   ]
  },
  {
   "cell_type": "markdown",
   "metadata": {},
   "source": [
    "12) Compute ($\\vec{x}_2$)"
   ]
  },
  {
   "cell_type": "code",
   "execution_count": null,
   "metadata": {
    "collapsed": true
   },
   "outputs": [],
   "source": []
  },
  {
   "cell_type": "markdown",
   "metadata": {},
   "source": [
    "13) Compute ($\\vec{x}_{100}$). Of course, don't do it by hands you have a computer for a reason."
   ]
  },
  {
   "cell_type": "code",
   "execution_count": 11,
   "metadata": {
    "collapsed": false
   },
   "outputs": [
    {
     "name": "stdout",
     "output_type": "stream",
     "text": [
      "[ 1.99995898  2.99995898]\n"
     ]
    }
   ],
   "source": [
    "xs = np.array([1., 2.])\n",
    "def f(xs):\n",
    "    x, y = xs\n",
    "    return (x-2)**2 + (y-3)**2\n",
    "\n",
    "def df(xs):\n",
    "    x, y = xs\n",
    "    return np.array([2*(x-2), 2*(y-3)])\n",
    "\n",
    "eta = 0.01\n",
    "\n",
    "for i in range(500):\n",
    "    xs = xs - eta*df(xs)\n",
    "    \n",
    "print xs\n",
    "\n"
   ]
  },
  {
   "cell_type": "markdown",
   "metadata": {},
   "source": [
    "# Numerical Gradient"
   ]
  },
  {
   "cell_type": "markdown",
   "metadata": {},
   "source": [
    "1) Previous example relies on analytical gradient which is not always available for us.\n",
    "\n",
    "How do we compute gradient numerically? (If you recall, there are at least 2 methods. Do you remember what's the difference between the two?)"
   ]
  },
  {
   "cell_type": "code",
   "execution_count": null,
   "metadata": {
    "collapsed": true
   },
   "outputs": [],
   "source": []
  },
  {
   "cell_type": "markdown",
   "metadata": {},
   "source": [
    "2) Find $\\vec{x}_{100}$ by using numerical gradient."
   ]
  },
  {
   "cell_type": "code",
   "execution_count": 12,
   "metadata": {
    "collapsed": false
   },
   "outputs": [
    {
     "name": "stdout",
     "output_type": "stream",
     "text": [
      "[ 1.999459  2.999459]\n"
     ]
    }
   ],
   "source": [
    "xs = np.array([1., 2.])\n",
    "def f(xs):\n",
    "    x, y = xs\n",
    "    return (x-2)**2 + (y-3)**2\n",
    "\n",
    "def df(xs):\n",
    "    x, y = xs\n",
    "    h = 1e-3\n",
    "    dx = ( f(xs+np.array([h,0])) - f(xs) )/h\n",
    "    dy = ( f(xs+np.array([0,h])) - f(xs) )/h\n",
    "    return np.array([dx, dy])\n",
    "\n",
    "eta = 0.01\n",
    "\n",
    "for i in range(500):\n",
    "    xs = xs - eta*df(xs)\n",
    "    \n",
    "print xs\n",
    "\n"
   ]
  },
  {
   "cell_type": "markdown",
   "metadata": {},
   "source": [
    "# Linear Regression"
   ]
  },
  {
   "cell_type": "markdown",
   "metadata": {
    "collapsed": false
   },
   "source": [
    "1) Given a bunch of data. What is the difference between good hypothesis and bad hypothesis?"
   ]
  },
  {
   "cell_type": "markdown",
   "metadata": {
    "collapsed": true
   },
   "source": [
    "good -> close to data points"
   ]
  },
  {
   "cell_type": "markdown",
   "metadata": {
    "collapsed": true
   },
   "source": [
    "2) What parametrize each hypothesis?"
   ]
  },
  {
   "cell_type": "markdown",
   "metadata": {
    "collapsed": true
   },
   "source": [
    "$$ \\vec{w} $$"
   ]
  },
  {
   "cell_type": "markdown",
   "metadata": {
    "collapsed": true
   },
   "source": [
    "3) What is padded feature? Write down the cost function with padded features."
   ]
  },
  {
   "cell_type": "markdown",
   "metadata": {
    "collapsed": true
   },
   "source": [
    "Padded features : $$[x_1, x_2, x_3, \\ldots ] \\to [1, x_1, x_2, x_3, \\ldots] $$\n",
    "\n",
    "Cost function\n",
    "$$ \\sum_{i=0}^{N} \\left( y^{(i)} - \\vec{w} \\cdot \\vec{x}^{(i)} \\right)^2 $$"
   ]
  },
  {
   "cell_type": "markdown",
   "metadata": {
    "collapsed": true
   },
   "source": [
    "Padded features : $$[x_1, x_2, x_3, \\ldots ] \\to [1, x_1, x_2, x_3, \\ldots] $$\n",
    "\n",
    "Cost function\n",
    "$$ \\sum_{i=0}^{N} \\left( y^{(i)} - \\vec{w} \\cdot \\vec{x}^{(i)} \\right)^2 $$"
   ]
  },
  {
   "cell_type": "code",
   "execution_count": null,
   "metadata": {
    "collapsed": true
   },
   "outputs": [],
   "source": []
  },
  {
   "cell_type": "markdown",
   "metadata": {
    "collapsed": true
   },
   "source": [
    "4) What the variable we are trying to adjust?"
   ]
  },
  {
   "cell_type": "markdown",
   "metadata": {
    "collapsed": true
   },
   "source": [
    "$\\vec{w}$"
   ]
  },
  {
   "cell_type": "markdown",
   "metadata": {},
   "source": [
    "5) What does $w_0$ represent and what does $w_1$ represent?"
   ]
  },
  {
   "cell_type": "code",
   "execution_count": null,
   "metadata": {
    "collapsed": true
   },
   "outputs": [],
   "source": []
  },
  {
   "cell_type": "markdown",
   "metadata": {
    "collapsed": true
   },
   "source": [
    "6) Fit this data. (use fmin if you want)"
   ]
  },
  {
   "cell_type": "code",
   "execution_count": 15,
   "metadata": {
    "collapsed": false
   },
   "outputs": [],
   "source": [
    "np.random.seed(12345)\n",
    "n = 20\n",
    "xs = np.linspace(1,3, n)\n",
    "ys = 3*xs + 2 + np.random.randn(n)*0.1"
   ]
  },
  {
   "cell_type": "code",
   "execution_count": 33,
   "metadata": {
    "collapsed": false
   },
   "outputs": [
    {
     "data": {
      "text/plain": [
       "array([ 1.,  5.])"
      ]
     },
     "execution_count": 33,
     "metadata": {},
     "output_type": "execute_result"
    }
   ],
   "source": [
    "np.concatenate([[1.], [5] ])"
   ]
  },
  {
   "cell_type": "code",
   "execution_count": 34,
   "metadata": {
    "collapsed": false
   },
   "outputs": [
    {
     "name": "stdout",
     "output_type": "stream",
     "text": [
      "Optimization terminated successfully.\n",
      "         Current function value: 0.193620\n",
      "         Iterations: 72\n",
      "         Function evaluations: 137\n",
      "[ 2.05776679  2.98676089]\n"
     ]
    }
   ],
   "source": [
    "def cost(ws):\n",
    "    N = ys.size\n",
    "    s = 0.\n",
    "    for i in range(N):\n",
    "        padx = [1., xs[i]]\n",
    "        guess = np.dot(ws, padx)\n",
    "        s += (ys[i] - guess)**2\n",
    "    return s\n",
    "\n",
    "import scipy.optimize as opt\n",
    "res = opt.fmin(cost, [0.,1.])\n",
    "print res"
   ]
  },
  {
   "cell_type": "code",
   "execution_count": 31,
   "metadata": {
    "collapsed": false
   },
   "outputs": [
    {
     "name": "stdout",
     "output_type": "stream",
     "text": [
      "Optimization terminated successfully.\n",
      "         Current function value: 0.193620\n",
      "         Iterations: 72\n",
      "         Function evaluations: 137\n",
      "[ 2.05776679  2.98676089]\n"
     ]
    },
    {
     "data": {
      "text/plain": [
       "[<matplotlib.lines.Line2D at 0x106212a50>]"
      ]
     },
     "execution_count": 31,
     "metadata": {},
     "output_type": "execute_result"
    },
    {
     "data": {
      "image/png": "[encoded data removed]",
      "text/plain": [
       "<matplotlib.figure.Figure at 0x10458d5d0>"
      ]
     },
     "metadata": {},
     "output_type": "display_data"
    }
   ],
   "source": [
    "plt.plot(xs,ys, '.')\n",
    "\n",
    "def padall(xs):\n",
    "    tmp = np.zeros((xs.size,2))\n",
    "    tmp[:, 0] = 1.\n",
    "    tmp[:, 1] = xs\n",
    "    return tmp\n",
    "\n",
    "# print np.dot( padall(xs), [2,3])\n",
    "pxs = padall(xs)\n",
    "\n",
    "def cost(ws):\n",
    "    guesses = np.dot(pxs, ws)\n",
    "    return np.sum((ys - guesses)**2)\n",
    "\n",
    "import scipy.optimize as opt\n",
    "res = opt.fmin(cost, [0.,1.])\n",
    "print res\n",
    "\n",
    "guesses = np.dot(pxs, res)\n",
    "plt.plot(xs, guesses)"
   ]
  },
  {
   "cell_type": "markdown",
   "metadata": {
    "collapsed": true
   },
   "source": [
    "6) Why stop at one dimension. Here you are given a data set of house price(in million) given area, bed room and bath room. Find it in house price.csv.\n",
    "\n",
    "Find the price for 45m^2 house with 2 bedroom and 2 bathroom.\n",
    "\n",
    "Hint: `np.from_text` and use numpy array slicing will save you a lot of typing."
   ]
  },
  {
   "cell_type": "code",
   "execution_count": 60,
   "metadata": {
    "collapsed": false
   },
   "outputs": [
    {
     "name": "stdout",
     "output_type": "stream",
     "text": [
      "Optimization terminated successfully.\n",
      "         Current function value: 0.928485\n",
      "         Iterations: 283\n",
      "         Function evaluations: 478\n",
      "[ 0.3998773   0.10027504  0.30784073  0.12015975]\n",
      "5.17931137034 5.19402447196\n"
     ]
    },
    {
     "data": {
      "text/plain": [
       "[<matplotlib.lines.Line2D at 0x1070c6190>]"
      ]
     },
     "execution_count": 60,
     "metadata": {},
     "output_type": "execute_result"
    },
    {
     "data": {
      "image/png": "[encoded data removed]",
      "text/plain": [
       "<matplotlib.figure.Figure at 0x106e88750>"
      ]
     },
     "metadata": {},
     "output_type": "display_data"
    }
   ],
   "source": [
    "data = np.genfromtxt('house_price.csv', delimiter=\",\" )\n",
    "prices = data[:,0]\n",
    "features = data[:,1:]\n",
    "\n",
    "padded_features = np.zeros((features.shape[0], features.shape[1]+1))\n",
    "padded_features[:,0]  = 1.\n",
    "padded_features[:,1:] = features\n",
    "\n",
    "#padded_features[:10]\n",
    "\n",
    "\n",
    "\n",
    "ws = [1.,1.,1.,1.]\n",
    "def cost(ws):\n",
    "    guesses = np.dot(padded_features, ws)\n",
    "    return np.sum((prices-guesses)**2)\n",
    "\n",
    "import scipy.optimize as opt\n",
    "res = opt.fmin(cost, [1.,1.,1.,1.])\n",
    "print res\n",
    "\n",
    "print np.dot(padded_features[1], res), prices[1]\n",
    "guesses = np.dot(padded_features, res)\n",
    "plt.plot(guesses, prices,'.')\n"
   ]
  },
  {
   "cell_type": "code",
   "execution_count": 41,
   "metadata": {
    "collapsed": true
   },
   "outputs": [],
   "source": [
    "# ROC curve first? May be....\n",
    "np.from"
   ]
  },
  {
   "cell_type": "code",
   "execution_count": 39,
   "metadata": {
    "collapsed": false
   },
   "outputs": [
    {
     "name": "stdout",
     "output_type": "stream",
     "text": [
      "# price, areas, bed, bath\n",
      "7.379909428359704648e+00,5.702925662014209252e+01,3.000000000000000000e+00,2.000000000000000000e+00\n",
      "5.194024471956247169e+00,3.178848728811784241e+01,4.000000000000000000e+00,3.000000000000000000e+00\n",
      "5.787643937326301113e+00,4.373214690170369323e+01,3.000000000000000000e+00,2.000000000000000000e+00\n",
      "7.794936862838272695e+00,5.576078908079323782e+01,5.000000000000000000e+00,1.000000000000000000e+00\n",
      "5.563909966753783465e+00,4.136851994961158141e+01,3.000000000000000000e+00,2.000000000000000000e+00\n",
      "8.769696250424985351e+00,6.797351226600019913e+01,4.000000000000000000e+00,1.000000000000000000e+00\n",
      "4.622648830158772704e+00,3.630680675095055676e+01,1.000000000000000000e+00,3.000000000000000000e+00\n",
      "6.639150317208280860e+00,4.551891849691049430e+01,5.000000000000000000e+00,1.000000000000000000e+00\n",
      "7.426193548120058274e+00,5.359974705889257507e+01,5.000000000000000000e+00,1.000000000000000000e+00\n",
      "6.885043957619842558e+00,4.951183165251362084e+01,4.000000000000000000e+00,1.000000000000000000e+00\n",
      "5.777352304281857087e+00,3.697373544096485176e+01,4.000000000000000000e+00,3.000000000000000000e+00\n",
      "4.776572365036786394e+00,3.872730244732842664e+01,1.000000000000000000e+00,2.000000000000000000e+00\n",
      "7.806814803733084673e+00,5.586982176820234258e+01,4.000000000000000000e+00,3.000000000000000000e+00\n",
      "5.264748274788277449e+00,3.999325636569338371e+01,2.000000000000000000e+00,2.000000000000000000e+00\n",
      "6.538806727147659537e+00,4.640991944406425773e+01,4.000000000000000000e+00,3.000000000000000000e+00\n",
      "5.552216531870709737e+00,3.190903131985716712e+01,5.000000000000000000e+00,3.000000000000000000e+00\n",
      "6.328286113070707763e+00,4.294193184143858844e+01,5.000000000000000000e+00,1.000000000000000000e+00\n",
      "6.026457978003399774e+00,4.168807034840416748e+01,5.000000000000000000e+00,1.000000000000000000e+00\n",
      "6.987376999027339330e+00,4.781642011734054876e+01,5.000000000000000000e+00,1.000000000000000000e+00\n",
      "4.955050953006256975e+00,3.241099222514144174e+01,4.000000000000000000e+00,2.000000000000000000e+00\n",
      "8.042061285266031589e+00,6.018553567362697976e+01,4.000000000000000000e+00,3.000000000000000000e+00\n",
      "6.819839759855996775e+00,5.914843321764693229e+01,1.000000000000000000e+00,3.000000000000000000e+00\n",
      "6.229315757275585952e+00,5.259043754898149103e+01,1.000000000000000000e+00,1.000000000000000000e+00\n",
      "6.853126282875438235e+00,5.856485581647620364e+01,2.000000000000000000e+00,1.000000000000000000e+00\n",
      "6.913738486221395974e+00,5.329424322200750197e+01,3.000000000000000000e+00,2.000000000000000000e+00\n",
      "7.611805965943197805e+00,5.556556454396222477e+01,5.000000000000000000e+00,1.000000000000000000e+00\n",
      "7.316592002396051342e+00,6.180794914219572433e+01,1.000000000000000000e+00,3.000000000000000000e+00\n",
      "7.400064989838970320e+00,6.477962239617370699e+01,1.000000000000000000e+00,2.000000000000000000e+00\n",
      "6.055069758433276661e+00,4.399967592980645037e+01,3.000000000000000000e+00,2.000000000000000000e+00\n",
      "5.902178799156017952e+00,4.231598909231937711e+01,3.000000000000000000e+00,3.000000000000000000e+00\n",
      "6.535957785259342678e+00,5.414895739884904913e+01,1.000000000000000000e+00,3.000000000000000000e+00\n",
      "5.652372145135260872e+00,4.488592714885204771e+01,1.000000000000000000e+00,3.000000000000000000e+00\n",
      "8.064310035027755674e+00,6.455098559040598616e+01,3.000000000000000000e+00,2.000000000000000000e+00\n",
      "6.941464863717983214e+00,5.846373679626074704e+01,1.000000000000000000e+00,3.000000000000000000e+00\n",
      "5.625518434349868535e+00,4.692107280919856294e+01,1.000000000000000000e+00,2.000000000000000000e+00\n",
      "8.663787866611460942e+00,6.508635752136910924e+01,5.000000000000000000e+00,2.000000000000000000e+00\n",
      "5.002493429609260467e+00,3.076412824535402990e+01,4.000000000000000000e+00,3.000000000000000000e+00\n",
      "5.843594662693872621e+00,4.830292727394153474e+01,1.000000000000000000e+00,3.000000000000000000e+00\n",
      "5.804399338543106524e+00,3.676455167330056639e+01,5.000000000000000000e+00,2.000000000000000000e+00\n",
      "7.964532962393409576e+00,6.371498912776746693e+01,4.000000000000000000e+00,1.000000000000000000e+00\n",
      "5.588755174333138065e+00,3.497823237740660574e+01,5.000000000000000000e+00,1.000000000000000000e+00\n",
      "7.999584535505809058e+00,5.971682164246705327e+01,5.000000000000000000e+00,2.000000000000000000e+00\n",
      "8.399491396091102402e+00,6.390404222792044209e+01,5.000000000000000000e+00,1.000000000000000000e+00\n",
      "5.136928292935565743e+00,3.697541627702207023e+01,3.000000000000000000e+00,1.000000000000000000e+00\n",
      "6.003406744022920627e+00,4.085651792686512351e+01,4.000000000000000000e+00,3.000000000000000000e+00\n",
      "8.707923652618886123e+00,6.685692539184560701e+01,4.000000000000000000e+00,3.000000000000000000e+00\n",
      "6.796995568954478095e+00,5.598188705443133983e+01,1.000000000000000000e+00,3.000000000000000000e+00\n",
      "6.196997772928606096e+00,4.267379266891487077e+01,4.000000000000000000e+00,2.000000000000000000e+00\n",
      "6.668483523196563567e+00,4.660150821709873981e+01,4.000000000000000000e+00,2.000000000000000000e+00\n",
      "5.998168066191756687e+00,3.657674762365785881e+01,5.000000000000000000e+00,3.000000000000000000e+00\n",
      "5.268395866817553674e+00,3.785636117130342626e+01,3.000000000000000000e+00,1.000000000000000000e+00\n",
      "4.772317314910025310e+00,3.788760167801900991e+01,1.000000000000000000e+00,3.000000000000000000e+00\n",
      "8.579904503899934198e+00,6.410331630143672044e+01,5.000000000000000000e+00,2.000000000000000000e+00\n",
      "6.865823791831232370e+00,5.755898203136490565e+01,1.000000000000000000e+00,3.000000000000000000e+00\n",
      "4.895666890357505352e+00,3.408774434271074227e+01,3.000000000000000000e+00,1.000000000000000000e+00\n",
      "5.684898259173412072e+00,4.306905141079018051e+01,2.000000000000000000e+00,3.000000000000000000e+00\n",
      "6.217020206041359742e+00,5.322322311220912638e+01,1.000000000000000000e+00,2.000000000000000000e+00\n",
      "4.265669510943249421e+00,3.047692903628304606e+01,2.000000000000000000e+00,1.000000000000000000e+00\n",
      "4.718972470259397589e+00,3.870929305592264313e+01,1.000000000000000000e+00,1.000000000000000000e+00\n",
      "8.023697502469435250e+00,5.793933072681632268e+01,5.000000000000000000e+00,2.000000000000000000e+00\n",
      "5.104423287412298116e+00,4.098143412237699579e+01,1.000000000000000000e+00,2.000000000000000000e+00\n",
      "6.392322430723412552e+00,4.507854401836999614e+01,4.000000000000000000e+00,2.000000000000000000e+00\n",
      "5.210012285314496339e+00,3.166619917369304460e+01,4.000000000000000000e+00,2.000000000000000000e+00\n",
      "4.475682330102328521e+00,3.296848242506092674e+01,2.000000000000000000e+00,1.000000000000000000e+00\n",
      "5.862219020381867374e+00,4.013281710194327445e+01,4.000000000000000000e+00,2.000000000000000000e+00\n",
      "5.009436169071411094e+00,3.114377350118278898e+01,4.000000000000000000e+00,1.000000000000000000e+00\n",
      "5.044090209042430217e+00,3.697949816762355368e+01,2.000000000000000000e+00,3.000000000000000000e+00\n",
      "5.782147236805076140e+00,4.854726439689358131e+01,1.000000000000000000e+00,2.000000000000000000e+00\n",
      "7.755437820005977478e+00,6.216331500796533760e+01,4.000000000000000000e+00,1.000000000000000000e+00\n",
      "6.908416245773126185e+00,5.608192434222824829e+01,3.000000000000000000e+00,1.000000000000000000e+00\n",
      "8.762756681449539897e+00,6.615982209572609918e+01,5.000000000000000000e+00,2.000000000000000000e+00\n",
      "7.487961755346341342e+00,5.548283304473815747e+01,5.000000000000000000e+00,1.000000000000000000e+00\n",
      "6.008667473364233125e+00,5.140756255951465903e+01,1.000000000000000000e+00,1.000000000000000000e+00\n",
      "6.355294181869216352e+00,4.261942419539252569e+01,5.000000000000000000e+00,2.000000000000000000e+00\n",
      "4.597428747686626238e+00,3.447821708797193452e+01,1.000000000000000000e+00,3.000000000000000000e+00\n",
      "7.576740610268984710e+00,5.696411193132061612e+01,4.000000000000000000e+00,2.000000000000000000e+00\n",
      "6.368621181555135458e+00,5.001597317160693024e+01,3.000000000000000000e+00,1.000000000000000000e+00\n",
      "6.433553272114195032e+00,4.932333627412381816e+01,3.000000000000000000e+00,1.000000000000000000e+00\n",
      "6.763716152252571945e+00,5.403512173119825235e+01,2.000000000000000000e+00,2.000000000000000000e+00\n",
      "6.907128256541867906e+00,5.061130950759377356e+01,4.000000000000000000e+00,1.000000000000000000e+00\n",
      "7.506992015322851763e+00,6.550773796673090033e+01,1.000000000000000000e+00,1.000000000000000000e+00\n",
      "4.697849172518934857e+00,3.513278045934276150e+01,2.000000000000000000e+00,2.000000000000000000e+00\n",
      "6.011778217797968615e+00,3.835155855997487606e+01,5.000000000000000000e+00,1.000000000000000000e+00\n",
      "8.370793446882283106e+00,6.564966054392237993e+01,3.000000000000000000e+00,2.000000000000000000e+00\n",
      "5.372005722118829318e+00,3.023997579587263118e+01,5.000000000000000000e+00,3.000000000000000000e+00\n",
      "5.795082391290275581e+00,4.410119562239359681e+01,3.000000000000000000e+00,1.000000000000000000e+00\n",
      "4.467929052216419450e+00,3.025739052677826280e+01,3.000000000000000000e+00,1.000000000000000000e+00\n",
      "6.799810102322457972e+00,5.764305369979651772e+01,1.000000000000000000e+00,3.000000000000000000e+00\n",
      "6.420035424483884867e+00,5.136692232893984311e+01,2.000000000000000000e+00,2.000000000000000000e+00\n",
      "4.706753068112681682e+00,3.540207083898143026e+01,2.000000000000000000e+00,1.000000000000000000e+00\n",
      "6.919279628686564543e+00,5.603641226836049327e+01,2.000000000000000000e+00,2.000000000000000000e+00\n",
      "7.643718230899733790e+00,5.726546673522879871e+01,4.000000000000000000e+00,3.000000000000000000e+00\n",
      "4.835657326465654826e+00,3.752887015940117266e+01,1.000000000000000000e+00,3.000000000000000000e+00\n",
      "6.543769312484332801e+00,4.601817446164489667e+01,4.000000000000000000e+00,2.000000000000000000e+00\n",
      "6.088835194019892150e+00,5.420122401438368342e+01,1.000000000000000000e+00,1.000000000000000000e+00\n",
      "6.607628416822970863e+00,5.115780986955433463e+01,3.000000000000000000e+00,1.000000000000000000e+00\n",
      "7.513604965111390754e+00,5.793209544453047499e+01,4.000000000000000000e+00,1.000000000000000000e+00\n",
      "5.777380666921494878e+00,3.828975072615724429e+01,4.000000000000000000e+00,2.000000000000000000e+00\n",
      "6.413854058833850402e+00,4.773343532861623828e+01,3.000000000000000000e+00,2.000000000000000000e+00\n",
      "8.334475886673445189e+00,6.558347316921384618e+01,3.000000000000000000e+00,2.000000000000000000e+00\n"
     ]
    }
   ],
   "source": [
    "%%sh\n",
    "cat house_price.csv"
   ]
  },
  {
   "cell_type": "code",
   "execution_count": null,
   "metadata": {
    "collapsed": true
   },
   "outputs": [],
   "source": []
  },
  {
   "cell_type": "markdown",
   "metadata": {},
   "source": [
    "# Logistic Regression"
   ]
  },
  {
   "cell_type": "markdown",
   "metadata": {
    "collapsed": true
   },
   "source": [
    "1) Why is linear regression not suitable for predicting probabilities?"
   ]
  },
  {
   "cell_type": "code",
   "execution_count": null,
   "metadata": {
    "collapsed": true
   },
   "outputs": [],
   "source": []
  },
  {
   "cell_type": "markdown",
   "metadata": {},
   "source": [
    "2) Consider logistic function\n",
    "\n",
    "$$\\theta(s) = \\frac{1}{1+e^{-s}}$$\n",
    "\n",
    "Find $f(\\infty)$ and $f(-\\infty)$ and just plot the function."
   ]
  },
  {
   "cell_type": "code",
   "execution_count": null,
   "metadata": {
    "collapsed": true
   },
   "outputs": [],
   "source": []
  },
  {
   "cell_type": "markdown",
   "metadata": {},
   "source": [
    "3) Show that $$\\theta(-s) = 1 - \\theta(s)$$"
   ]
  },
  {
   "cell_type": "code",
   "execution_count": null,
   "metadata": {
    "collapsed": true
   },
   "outputs": [],
   "source": []
  },
  {
   "cell_type": "markdown",
   "metadata": {},
   "source": [
    "4) Combine logistic function and linear regression to make function that takes in a bunch of features and give out a probability. What parameters parametrize your models?"
   ]
  },
  {
   "cell_type": "code",
   "execution_count": null,
   "metadata": {
    "collapsed": true
   },
   "outputs": [],
   "source": []
  },
  {
   "cell_type": "markdown",
   "metadata": {},
   "source": [
    "5) Given that you use hypothesis $$ P_\\vec{w}(1 | \\vec{x}) = \\theta(\\vec{w}\\cdot\\vec{x}) $$\n",
    "and that you only 2 classes (+1 and -1) what is\n",
    "\n",
    "$$ P_\\vec{w}(-1 | \\vec{x})$$"
   ]
  },
  {
   "cell_type": "code",
   "execution_count": null,
   "metadata": {
    "collapsed": true
   },
   "outputs": [],
   "source": []
  },
  {
   "cell_type": "markdown",
   "metadata": {},
   "source": [
    "6) Use the fact from 3) write what you found in 5 in a simpler form\n",
    "\n",
    "$$\n",
    "P_\\vec{w}(y|\\vec{x}) = \\begin{cases}\n",
    "    \\ldots & y = 1 \\\\\n",
    "    \\ldots & y = -1\n",
    "\\end{cases}\n",
    "$$"
   ]
  },
  {
   "cell_type": "code",
   "execution_count": null,
   "metadata": {
    "collapsed": true
   },
   "outputs": [],
   "source": []
  },
  {
   "cell_type": "markdown",
   "metadata": {},
   "source": [
    "7) Using the fact that $y\\in\\{-1, 1\\}$Convince yourself that what you wrote above is just\n",
    "\n",
    "$$ P_\\vec{w}\\left(y|\\vec{x} \\right) = \\theta\\left(y \\times \\left( \\vec{w} \\cdot \\vec{x} \\right) \\right)$$"
   ]
  },
  {
   "cell_type": "code",
   "execution_count": null,
   "metadata": {
    "collapsed": true
   },
   "outputs": [],
   "source": []
  },
  {
   "cell_type": "markdown",
   "metadata": {},
   "source": [
    "8) How do we distinguish a good hypothesis from bad hypothesis? (good $\\vec{w}$ from bad $\\vec{w}$)"
   ]
  },
  {
   "cell_type": "code",
   "execution_count": null,
   "metadata": {
    "collapsed": true
   },
   "outputs": [],
   "source": []
  },
  {
   "cell_type": "markdown",
   "metadata": {},
   "source": [
    "9) What does likelihood represents?"
   ]
  },
  {
   "cell_type": "code",
   "execution_count": null,
   "metadata": {
    "collapsed": true
   },
   "outputs": [],
   "source": []
  },
  {
   "cell_type": "markdown",
   "metadata": {},
   "source": [
    "10) Let us do one concrete example here.  Calculate the likelihood for $\\vec{w}$ given these data point\n",
    "$$\\vec{w}_1 = (0,1,2)$$\n",
    "- $y = 1$, $x=[1, -1]$\n",
    "- $y = -1$, $x=[-2, 1]$ "
   ]
  },
  {
   "cell_type": "code",
   "execution_count": null,
   "metadata": {
    "collapsed": true
   },
   "outputs": [],
   "source": []
  },
  {
   "cell_type": "markdown",
   "metadata": {},
   "source": [
    "11) Is $\\vec{w}_2 = (1,1,1)$ a better hypothesis?"
   ]
  },
  {
   "cell_type": "code",
   "execution_count": null,
   "metadata": {
    "collapsed": true
   },
   "outputs": [],
   "source": []
  },
  {
   "cell_type": "markdown",
   "metadata": {},
   "source": [
    "12) What happend when we take log of the likelihood?"
   ]
  },
  {
   "cell_type": "code",
   "execution_count": null,
   "metadata": {
    "collapsed": true
   },
   "outputs": [],
   "source": []
  },
  {
   "cell_type": "markdown",
   "metadata": {},
   "source": [
    "13) Write down our cost function."
   ]
  },
  {
   "cell_type": "code",
   "execution_count": null,
   "metadata": {
    "collapsed": true
   },
   "outputs": [],
   "source": []
  },
  {
   "cell_type": "markdown",
   "metadata": {},
   "source": [
    "14) What is the parameter that we are trying to adjust?"
   ]
  },
  {
   "cell_type": "code",
   "execution_count": null,
   "metadata": {
    "collapsed": true
   },
   "outputs": [],
   "source": []
  },
  {
   "cell_type": "markdown",
   "metadata": {},
   "source": [
    "15) Look at gold_target data file and build a system to decide whether we should dig the gold or not."
   ]
  },
  {
   "cell_type": "code",
   "execution_count": null,
   "metadata": {
    "collapsed": true
   },
   "outputs": [],
   "source": []
  }
 ],
 "metadata": {
  "kernelspec": {
   "display_name": "Python 2",
   "language": "python",
   "name": "python2"
  },
  "language_info": {
   "codemirror_mode": {
    "name": "ipython",
    "version": 2
   },
   "file_extension": ".py",
   "mimetype": "text/x-python",
   "name": "python",
   "nbconvert_exporter": "python",
   "pygments_lexer": "ipython2",
   "version": "2.7.9"
  }
 },
 "nbformat": 4,
 "nbformat_minor": 0
}
