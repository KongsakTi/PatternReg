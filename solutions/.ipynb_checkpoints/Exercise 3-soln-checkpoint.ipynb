{
 "cells": [
  {
   "cell_type": "markdown",
   "metadata": {},
   "source": [
    "# Logistic Regression"
   ]
  },
  {
   "cell_type": "code",
   "execution_count": 1,
   "metadata": {
    "collapsed": true
   },
   "outputs": [],
   "source": [
    "%matplotlib inline\n",
    "import numpy as np\n",
    "from matplotlib import pyplot as plt"
   ]
  },
  {
   "cell_type": "markdown",
   "metadata": {},
   "source": [
    "Let us consider the following data in `xps` and `xms`. These are features of two classes +1 and -1.\n",
    "\n",
    "When we have two classes we usually call them +1 and -1 since it simplify a lot of formula greatly."
   ]
  },
  {
   "cell_type": "code",
   "execution_count": 2,
   "metadata": {
    "collapsed": false
   },
   "outputs": [],
   "source": [
    "np.random.seed(12345)\n",
    "nplus = 1000\n",
    "nminus = 500\n",
    "\n",
    "xps = np.random.randn(nplus) + 2.\n",
    "xms = np.random.randn(nminus)\n",
    "\n",
    "alln = nplus + nminus"
   ]
  },
  {
   "cell_type": "code",
   "execution_count": 3,
   "metadata": {
    "collapsed": false
   },
   "outputs": [
    {
     "data": {
      "text/plain": [
       "<matplotlib.legend.Legend at 0x1055ad050>"
      ]
     },
     "execution_count": 3,
     "metadata": {},
     "output_type": "execute_result"
    },
    {
     "data": {
      "image/png": "[encoded data removed]",
      "text/plain": [
       "<matplotlib.figure.Figure at 0x1055c0550>"
      ]
     },
     "metadata": {},
     "output_type": "display_data"
    }
   ],
   "source": [
    "plt.figure(figsize=(12,8))\n",
    "bins = np.linspace(-5,5,50)\n",
    "hp, b1, p1 = plt.hist(xps, bins=bins, alpha=0.5, label='+1')\n",
    "hm, b2, p2 = plt.hist(xms, bins=bins, alpha=0.5, label ='-1')\n",
    "plt.legend()"
   ]
  },
  {
   "cell_type": "markdown",
   "metadata": {},
   "source": [
    "1) First plot\n",
    "$P(+1|x)$ vs $x$\n",
    "\n",
    "`hp` and `hm` contains histogram value for class +1 and -1."
   ]
  },
  {
   "cell_type": "code",
   "execution_count": 4,
   "metadata": {
    "collapsed": false
   },
   "outputs": [],
   "source": [
    "#some helper for you\n",
    "midpoints = (bins[1:] + bins[:-1])/2.0\n",
    "prob = [ [m, x1/(x2+x1)] for m, x1, x2 in zip(midpoints, hp, hm) if x1+x2>0 ]\n"
   ]
  },
  {
   "cell_type": "markdown",
   "metadata": {},
   "source": [
    "2) Should you use linear regression to predict the probability? Why? If you have time try and see what happens."
   ]
  },
  {
   "cell_type": "code",
   "execution_count": null,
   "metadata": {
    "collapsed": true
   },
   "outputs": [],
   "source": []
  },
  {
   "cell_type": "markdown",
   "metadata": {},
   "source": [
    "3) Plot with $s = -5 \\ldots 5$\n",
    "\n",
    "$$\\theta(s) = \\frac{1}{1+e^{-s}}$$"
   ]
  },
  {
   "cell_type": "code",
   "execution_count": null,
   "metadata": {
    "collapsed": true
   },
   "outputs": [],
   "source": []
  },
  {
   "cell_type": "markdown",
   "metadata": {},
   "source": [
    "4) Find $\\theta(\\infty)$ and $\\theta(-\\infty)$"
   ]
  },
  {
   "cell_type": "code",
   "execution_count": null,
   "metadata": {
    "collapsed": true
   },
   "outputs": [],
   "source": []
  },
  {
   "cell_type": "markdown",
   "metadata": {},
   "source": [
    "5) Show that\n",
    "\n",
    "$$1-\\theta(s) = -\\theta(s)$$"
   ]
  },
  {
   "cell_type": "code",
   "execution_count": null,
   "metadata": {
    "collapsed": true
   },
   "outputs": [],
   "source": []
  },
  {
   "cell_type": "markdown",
   "metadata": {},
   "source": [
    "6) How should we compte $s$ from the features ?"
   ]
  },
  {
   "cell_type": "code",
   "execution_count": null,
   "metadata": {
    "collapsed": true
   },
   "outputs": [],
   "source": []
  },
  {
   "cell_type": "markdown",
   "metadata": {},
   "source": [
    "7) Given that you use hypothesis $$ P_\\vec{w}(1 | \\vec{x}) = \\theta(\\vec{w}\\cdot\\vec{x}) $$\n",
    "and that you only 2 classes (+1 and -1) what is\n",
    "\n",
    "$$ P_\\vec{w}(-1 | \\vec{x})$$"
   ]
  },
  {
   "cell_type": "code",
   "execution_count": null,
   "metadata": {
    "collapsed": true
   },
   "outputs": [],
   "source": []
  },
  {
   "cell_type": "markdown",
   "metadata": {},
   "source": [
    "8) What parameter parametrize your hypothesis?"
   ]
  },
  {
   "cell_type": "code",
   "execution_count": null,
   "metadata": {
    "collapsed": true
   },
   "outputs": [],
   "source": []
  },
  {
   "cell_type": "markdown",
   "metadata": {},
   "source": [
    "9) Use the fact from 5) write what you found in 7 in a simpler form\n",
    "\n",
    "$$\n",
    "P_\\vec{w}(y|\\vec{x}) = \\begin{cases}\n",
    "    \\ldots & y = 1 \\\\\n",
    "    \\ldots & y = -1\n",
    "\\end{cases}\n",
    "$$"
   ]
  },
  {
   "cell_type": "code",
   "execution_count": null,
   "metadata": {
    "collapsed": true
   },
   "outputs": [],
   "source": []
  },
  {
   "cell_type": "markdown",
   "metadata": {},
   "source": [
    "10) Use the fact that $y\\in\\{-1, 1\\}$ and convince yourself that what you wrote above is just\n",
    "\n",
    "$$ P_\\vec{w}\\left(y|\\vec{x} \\right) = \\theta\\left(y \\times \\left( \\vec{w} \\cdot \\vec{x} \\right) \\right)$$"
   ]
  },
  {
   "cell_type": "code",
   "execution_count": null,
   "metadata": {
    "collapsed": true
   },
   "outputs": [],
   "source": []
  },
  {
   "cell_type": "markdown",
   "metadata": {},
   "source": [
    "11) How do we distinguish a good hypothesis from bad hypothesis? (good $\\vec{w}$ from bad $\\vec{w}$)"
   ]
  },
  {
   "cell_type": "code",
   "execution_count": null,
   "metadata": {
    "collapsed": true
   },
   "outputs": [],
   "source": []
  },
  {
   "cell_type": "markdown",
   "metadata": {},
   "source": [
    "12) What does likelihood represents?"
   ]
  },
  {
   "cell_type": "code",
   "execution_count": null,
   "metadata": {
    "collapsed": true
   },
   "outputs": [],
   "source": []
  },
  {
   "cell_type": "markdown",
   "metadata": {},
   "source": [
    "13) Let us do one concrete example here.  Calculate the likelihood for $\\vec{w}$ given these data point\n",
    "$$\\vec{w}_1 = (1,2,3)$$\n",
    "- $y = 1$, $x=[1, -1]$\n",
    "- $y = -1$, $x=[-2, 1]$ \n",
    "\n",
    "Don't forget to pad your feature."
   ]
  },
  {
   "cell_type": "code",
   "execution_count": null,
   "metadata": {
    "collapsed": true
   },
   "outputs": [],
   "source": []
  },
  {
   "cell_type": "markdown",
   "metadata": {},
   "source": [
    "14) Is $\\vec{w}_2 = (1,1,1)$ a better hypothesis?"
   ]
  },
  {
   "cell_type": "code",
   "execution_count": null,
   "metadata": {
    "collapsed": true
   },
   "outputs": [],
   "source": []
  },
  {
   "cell_type": "markdown",
   "metadata": {},
   "source": [
    "15) What happen when we take log of the likelihood? Write down log likehood in terms of feature, weight and classes."
   ]
  },
  {
   "cell_type": "code",
   "execution_count": null,
   "metadata": {
    "collapsed": true
   },
   "outputs": [],
   "source": []
  },
  {
   "cell_type": "markdown",
   "metadata": {},
   "source": [
    "16) Does greater log likelihood indicate a better hypothesis? Or is it the other way around."
   ]
  },
  {
   "cell_type": "code",
   "execution_count": null,
   "metadata": {
    "collapsed": true
   },
   "outputs": [],
   "source": []
  },
  {
   "cell_type": "markdown",
   "metadata": {},
   "source": [
    "17) Write down our cost function. Do we want to maximize or minimize the cost function?"
   ]
  },
  {
   "cell_type": "code",
   "execution_count": null,
   "metadata": {
    "collapsed": true
   },
   "outputs": [],
   "source": []
  },
  {
   "cell_type": "markdown",
   "metadata": {},
   "source": [
    "18) Turn what you found in 17 to minization problem."
   ]
  },
  {
   "cell_type": "code",
   "execution_count": null,
   "metadata": {
    "collapsed": true
   },
   "outputs": [],
   "source": []
  },
  {
   "cell_type": "markdown",
   "metadata": {},
   "source": [
    "19) Minimize it and try to debug it. You will most likely run into a bunch of numerical problems.\n",
    "\n",
    "Hint: computer doesn't like '$e^x$ when $x$ is large. You may find numpy.clip useful\n",
    "\n",
    "Hint: `log` function is typically inaccurate when the argument is near 1. Use `log1p` when you want to calculate `log(1+x)` for greater accuracy."
   ]
  },
  {
   "cell_type": "code",
   "execution_count": 12,
   "metadata": {
    "collapsed": false
   },
   "outputs": [
    {
     "name": "stdout",
     "output_type": "stream",
     "text": [
      "1282.54411388\n",
      "Optimization terminated successfully.\n",
      "         Current function value: 475.996047\n",
      "         Iterations: 44\n",
      "         Function evaluations: 84\n"
     ]
    }
   ],
   "source": [
    "def pad(x):\n",
    "    l = len(x)\n",
    "    tmp = np.empty((l, 2))\n",
    "    tmp[:, 0] = 1\n",
    "    tmp[:, 1] = x\n",
    "    return tmp\n",
    "\n",
    "def cost(w):\n",
    "    #xps and xms\n",
    "    pxps = pad(xps)\n",
    "    pxms = pad(xms)\n",
    "    cost_p = np.sum(np.log1p(np.exp(-np.dot(pxps, w))))\n",
    "    cost_m = np.sum(np.log1p(np.exp(np.dot(pxms, w))))\n",
    "    return cost_p + cost_m\n",
    "\n",
    "print cost([2,3])\n",
    "\n",
    "from scipy.optimize import fmin\n",
    "best_w = fmin(cost,[1.,1.])"
   ]
  },
  {
   "cell_type": "markdown",
   "metadata": {},
   "source": [
    "20) Once you are done. Compare you hypothesis with the probability getting from data."
   ]
  },
  {
   "cell_type": "code",
   "execution_count": 19,
   "metadata": {
    "collapsed": false
   },
   "outputs": [
    {
     "data": {
      "text/plain": [
       "[<matplotlib.lines.Line2D at 0x106f4bc10>]"
      ]
     },
     "execution_count": 19,
     "metadata": {},
     "output_type": "execute_result"
    },
    {
     "data": {
      "image/png": "[encoded data removed]",
      "text/plain": [
       "<matplotlib.figure.Figure at 0x106f4bdd0>"
      ]
     },
     "metadata": {},
     "output_type": "display_data"
    }
   ],
   "source": [
    "midpoints = (bins[1:] + bins[:-1])/2.0\n",
    "prob = [ [m, x1/(x2+x1)] for m, x1, x2 in zip(midpoints, hp, hm) if x1+x2>0 ]\n",
    "xs = [x for x,y in prob]\n",
    "ys = [y for x,y in prob]\n",
    "plt.plot(xs,ys,'ob')\n",
    "\n",
    "xs = np.linspace(-5, 5, 100)\n",
    "\n",
    "def theta(s):\n",
    "    return 1./(1+np.exp(-s))\n",
    "\n",
    "def prob(x):\n",
    "    return theta(np.dot(best_w,[1,x]))\n",
    "\n",
    "ys = [prob(x) for x in xs]\n",
    "plt.plot(xs, ys, 'g')"
   ]
  },
  {
   "cell_type": "markdown",
   "metadata": {},
   "source": [
    "# ROC Curve (receiver operating characteristic)"
   ]
  },
  {
   "cell_type": "markdown",
   "metadata": {},
   "source": [
    "Let us consider a fingerprint application to authenticate people through super secret stuff. So the class +1 means authenticate and -1 means denied entry."
   ]
  },
  {
   "cell_type": "markdown",
   "metadata": {},
   "source": [
    "1) What is True Positive?"
   ]
  },
  {
   "cell_type": "code",
   "execution_count": null,
   "metadata": {
    "collapsed": true
   },
   "outputs": [],
   "source": []
  },
  {
   "cell_type": "markdown",
   "metadata": {},
   "source": [
    "2) What is False Positive?"
   ]
  },
  {
   "cell_type": "code",
   "execution_count": null,
   "metadata": {
    "collapsed": true
   },
   "outputs": [],
   "source": []
  },
  {
   "cell_type": "markdown",
   "metadata": {},
   "source": [
    "3) What is False Positive?"
   ]
  },
  {
   "cell_type": "code",
   "execution_count": null,
   "metadata": {
    "collapsed": true
   },
   "outputs": [],
   "source": []
  },
  {
   "cell_type": "markdown",
   "metadata": {},
   "source": [
    "4) What is False Negative?"
   ]
  },
  {
   "cell_type": "code",
   "execution_count": null,
   "metadata": {
    "collapsed": true
   },
   "outputs": [],
   "source": []
  },
  {
   "cell_type": "markdown",
   "metadata": {},
   "source": [
    "5) Which of the above number you want to be high and which of the above number you want to be low?"
   ]
  },
  {
   "cell_type": "code",
   "execution_count": null,
   "metadata": {
    "collapsed": true
   },
   "outputs": [],
   "source": []
  },
  {
   "cell_type": "markdown",
   "metadata": {},
   "source": [
    "6) Where would you place a cut on classifier output to make True Positive rate really high? What 's wrong with that?"
   ]
  },
  {
   "cell_type": "code",
   "execution_count": null,
   "metadata": {
    "collapsed": true
   },
   "outputs": [],
   "source": []
  },
  {
   "cell_type": "markdown",
   "metadata": {},
   "source": [
    "7) Where would you place a cut on classifier output to make True Negative rate really high? What 's wrong with that?"
   ]
  },
  {
   "cell_type": "code",
   "execution_count": null,
   "metadata": {
    "collapsed": true
   },
   "outputs": [],
   "source": []
  },
  {
   "cell_type": "markdown",
   "metadata": {},
   "source": [
    "8) If we place a cut at 0.3. What are the numbers for \"True positive sample\", \"True negative sample\", \"False postive samples\", \"False negative samples\"\n",
    "\n",
    "Write a function to do that we need it later."
   ]
  },
  {
   "cell_type": "code",
   "execution_count": null,
   "metadata": {
    "collapsed": true
   },
   "outputs": [],
   "source": []
  },
  {
   "cell_type": "markdown",
   "metadata": {},
   "source": [
    "9) If we place a cut at 0.3. What is \"True positive **rate**\", \"True negative **rate**\", \"False postive **rate**\", \"False negative **rate**\" \n",
    "\n",
    "Write a function to do that. We will need it later."
   ]
  },
  {
   "cell_type": "code",
   "execution_count": null,
   "metadata": {
    "collapsed": true
   },
   "outputs": [],
   "source": []
  },
  {
   "cell_type": "markdown",
   "metadata": {},
   "source": [
    "10) If we place a cut at 0.7. Which of the rate would be higher and which of the rate would be lower? (Reason first, then run the code and see if it matches)"
   ]
  },
  {
   "cell_type": "code",
   "execution_count": null,
   "metadata": {
    "collapsed": true
   },
   "outputs": [],
   "source": []
  },
  {
   "cell_type": "markdown",
   "metadata": {},
   "source": [
    "11) Vary the cut and plot True positive rate on y axis and false positive rate on x axis. This curve is called ROC curve.\n",
    "if you classifier is good which corner it should go?"
   ]
  },
  {
   "cell_type": "code",
   "execution_count": null,
   "metadata": {
    "collapsed": true
   },
   "outputs": [],
   "source": []
  },
  {
   "cell_type": "markdown",
   "metadata": {},
   "source": [
    "12) Consider these two fingerprint application and tell relatively where we should place a cut(which one with higher cut?)\n",
    "\n",
    "A) FBI Door fingerprint.\n",
    "\n",
    "B) Supermarket membership where use scan finger to verify the membership."
   ]
  },
  {
   "cell_type": "code",
   "execution_count": null,
   "metadata": {
    "collapsed": true
   },
   "outputs": [],
   "source": []
  }
 ],
 "metadata": {
  "kernelspec": {
   "display_name": "Python 2",
   "language": "python",
   "name": "python2"
  },
  "language_info": {
   "codemirror_mode": {
    "name": "ipython",
    "version": 2
   },
   "file_extension": ".py",
   "mimetype": "text/x-python",
   "name": "python",
   "nbconvert_exporter": "python",
   "pygments_lexer": "ipython2",
   "version": "2.7.6"
  }
 },
 "nbformat": 4,
 "nbformat_minor": 0
}
