{
 "cells": [
  {
   "cell_type": "markdown",
   "metadata": {},
   "source": [
    "You have time until the competition ends. Send it in before final."
   ]
  },
  {
   "cell_type": "markdown",
   "metadata": {},
   "source": [
    "The data given is a subset of how Kobe Bryant shoot for his entire NBA career.\n",
    "I took out some data for the competition.\n",
    "\n",
    "https://www.kaggle.com/c/kobe-bryant-shot-selection\n",
    "\n",
    "Your report notebook should include\n",
    "- some nice visualizations of the data.\n",
    "- description of how each visualization affect the decision you made in making classifier\n",
    "- The username you use in kaggle so I can identify your rank.\n",
    "\n",
    "Grading will be in project category. It consists of two parts.\n",
    "\n",
    "90% report\n",
    "10% for ranking in Kaggle.\n",
    "- 1% for entering the competion\n",
    "- 3% if you beat 50% benchmark.\n",
    "- 5% if you are top 50%\n",
    "- 7% if you are top 20%\n",
    "- 10% if you are in the leader board\n",
    "- Cash prize (from someone else) if you win\n",
    "\n",
    "You may study the notebook by other. You may use sk-learn etc."
   ]
  },
  {
   "cell_type": "code",
   "execution_count": null,
   "metadata": {
    "collapsed": true
   },
   "outputs": [],
   "source": []
  },
  {
   "cell_type": "code",
   "execution_count": null,
   "metadata": {
    "collapsed": true
   },
   "outputs": [],
   "source": []
  },
  {
   "cell_type": "code",
   "execution_count": null,
   "metadata": {
    "collapsed": true
   },
   "outputs": [],
   "source": []
  }
 ],
 "metadata": {
  "kernelspec": {
   "display_name": "Python 2",
   "language": "python",
   "name": "python2"
  },
  "language_info": {
   "codemirror_mode": {
    "name": "ipython",
    "version": 2
   },
   "file_extension": ".py",
   "mimetype": "text/x-python",
   "name": "python",
   "nbconvert_exporter": "python",
   "pygments_lexer": "ipython2",
   "version": "2.7.9"
  }
 },
 "nbformat": 4,
 "nbformat_minor": 0
}
