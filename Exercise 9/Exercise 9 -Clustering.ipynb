{
 "cells": [
  {
   "cell_type": "code",
   "execution_count": 1,
   "metadata": {
    "collapsed": false
   },
   "outputs": [
    {
     "name": "stderr",
     "output_type": "stream",
     "text": [
      "/Library/Frameworks/Python.framework/Versions/2.7/lib/python2.7/site-packages/matplotlib/font_manager.py:273: UserWarning: Matplotlib is building the font cache using fc-list. This may take a moment.\n",
      "  warnings.warn('Matplotlib is building the font cache using fc-list. This may take a moment.')\n"
     ]
    }
   ],
   "source": [
    "import numpy as np\n",
    "%matplotlib inline\n",
    "from matplotlib import pyplot as plt\n",
    "from math import pi, sin, cos, exp\n",
    "import math"
   ]
  },
  {
   "cell_type": "markdown",
   "metadata": {
    "collapsed": true
   },
   "source": [
    "# Clustering Problem"
   ]
  },
  {
   "cell_type": "code",
   "execution_count": 2,
   "metadata": {
    "collapsed": false
   },
   "outputs": [
    {
     "data": {
      "text/plain": [
       "[<matplotlib.lines.Line2D at 0x106ad7050>]"
      ]
     },
     "execution_count": 2,
     "metadata": {},
     "output_type": "execute_result"
    },
    {
     "data": {
      "image/png": "[encoded data removed]",
      "text/plain": [
       "<matplotlib.figure.Figure at 0x106a2ca50>"
      ]
     },
     "metadata": {},
     "output_type": "display_data"
    }
   ],
   "source": [
    "np.random.seed(99887766)\n",
    "xs = np.random.randn(30,2)\n",
    "xs[10:20,:] = xs[10:20,:]+[10,10]\n",
    "xs[20:30,:] = xs[20:30,:]+[-10,10]\n",
    "plt.plot(xs[:,0], xs[:, 1], '.b')\n",
    "# print xs"
   ]
  },
  {
   "cell_type": "markdown",
   "metadata": {
    "collapsed": true
   },
   "source": [
    "# K-mean clustering\n",
    "1) What is the underlying assumption for points to belong in the same cluster?"
   ]
  },
  {
   "cell_type": "code",
   "execution_count": null,
   "metadata": {
    "collapsed": true
   },
   "outputs": [],
   "source": []
  },
  {
   "cell_type": "markdown",
   "metadata": {
    "collapsed": true
   },
   "source": [
    "2) How do we measure the distance between two points?"
   ]
  },
  {
   "cell_type": "code",
   "execution_count": null,
   "metadata": {
    "collapsed": true
   },
   "outputs": [],
   "source": []
  },
  {
   "cell_type": "markdown",
   "metadata": {
    "collapsed": true
   },
   "source": [
    "3) Summarize update rule."
   ]
  },
  {
   "cell_type": "code",
   "execution_count": null,
   "metadata": {
    "collapsed": true
   },
   "outputs": [],
   "source": []
  },
  {
   "cell_type": "markdown",
   "metadata": {},
   "source": [
    "4) Let do it by hands. Suppose our data point are at\n",
    "\n",
    "- [1, 0]\n",
    "- [2, 1]\n",
    "- [1, 1]\n",
    "\n",
    "The guess for our centroids are at\n",
    "- [0,0]\n",
    "- [2,2]\n",
    "\n",
    "Which point belongs to which centroid?"
   ]
  },
  {
   "cell_type": "code",
   "execution_count": 3,
   "metadata": {
    "collapsed": false
   },
   "outputs": [],
   "source": [
    "def calDistance(c, p):\n",
    "    return sum((p - c)**2)*0.5"
   ]
  },
  {
   "cell_type": "code",
   "execution_count": 4,
   "metadata": {
    "collapsed": false
   },
   "outputs": [
    {
     "name": "stdout",
     "output_type": "stream",
     "text": [
      "[0 0] [1 0] 0.5\n",
      "[0 0] [2 1] 2.5\n",
      "[0 0] [1 1] 1.0\n",
      "[2 2] [1 0] 2.5\n",
      "[2 2] [2 1] 0.5\n",
      "[2 2] [1 1] 1.0\n"
     ]
    }
   ],
   "source": [
    "p = [[1, 0], [2, 1], [1, 1]]\n",
    "c = [[0, 0], [2, 2]]\n",
    "\n",
    "aps = [ np.array(x) for x in p ]\n",
    "acs = [ np.array(x) for x in c ]\n",
    "\n",
    "for ac in acs:\n",
    "    for ap in aps:\n",
    "        print ac, ap,\n",
    "        print calDistance(ac, ap)"
   ]
  },
  {
   "cell_type": "markdown",
   "metadata": {},
   "source": [
    "5) What should be our next guess for the centroid?"
   ]
  },
  {
   "cell_type": "code",
   "execution_count": 5,
   "metadata": {
    "collapsed": false
   },
   "outputs": [],
   "source": [
    "def classify(data, centroids):\n",
    "    dataClass = np.zeros(len(data))\n",
    "    dis = np.zeros((len(data), len(centroids)))\n",
    "    \n",
    "    for idx, d in enumerate(data):\n",
    "        distances = [ calDistance(c, d) for c in centroids ]\n",
    "        dataClass[idx] = np.argmin(distances)\n",
    "    return dataClass\n",
    "\n",
    "def k_mean(data, centroids):\n",
    "    cc = centroids.copy()\n",
    "    \n",
    "    for i in xrange(100):\n",
    "        dataClass = classify(data, centroids)\n",
    "        centroids = [ np.mean(data[dataClass == idx], 0) for idx in xrange(len(centroids)) ]\n",
    "    return centroids, dataClass"
   ]
  },
  {
   "cell_type": "code",
   "execution_count": 6,
   "metadata": {
    "collapsed": false
   },
   "outputs": [],
   "source": [
    "np.random.seed(100)\n",
    "acs = np.array([ xs[x] for x in np.random.choice(30, 3) ])\n",
    "centroids, dataClass = k_mean(xs, acs)"
   ]
  },
  {
   "cell_type": "code",
   "execution_count": 7,
   "metadata": {
    "collapsed": false
   },
   "outputs": [],
   "source": [
    "# rs = xs[dataClass == 0]\n",
    "# gs = xs[dataClass == 1]\n",
    "# bs = xs[dataClass == 2]\n",
    "\n",
    "# plt.plot(rs[:,0], rs[:, 1], '.r')\n",
    "# plt.plot(gs[:,0], gs[:, 1], '.g')\n",
    "# plt.plot(bs[:,0], bs[:, 1], '.b')\n",
    "\n",
    "def plot_classify(data, dataClass, centroids):\n",
    "    xsClasses = [ data[dataClass == c] for c in xrange(len(centroids))]\n",
    "    for idx, xsClass in enumerate(xsClasses):\n",
    "        plt.plot(xsClass[:, 0], xsClass[:, 1], '.')\n",
    "        plt.plot(centroids[idx][0], centroids[idx][1], 'ok')"
   ]
  },
  {
   "cell_type": "code",
   "execution_count": 8,
   "metadata": {
    "collapsed": false
   },
   "outputs": [
    {
     "data": {
      "image/png": "[encoded data removed]",
      "text/plain": [
       "<matplotlib.figure.Figure at 0x106b2c6d0>"
      ]
     },
     "metadata": {},
     "output_type": "display_data"
    }
   ],
   "source": [
    "plot_classify(xs, dataClass, centroids)"
   ]
  },
  {
   "cell_type": "markdown",
   "metadata": {},
   "source": [
    "6) How should we initialize the seed?\n",
    "- What can go wrong if we seed it with the same centroid ([0,0], [0,0])\n",
    "- What can go wrong if we seed it with ([0,0], [100,100])\n",
    "\n",
    "How can we avoid these two things?"
   ]
  },
  {
   "cell_type": "code",
   "execution_count": null,
   "metadata": {
    "collapsed": true
   },
   "outputs": [],
   "source": []
  },
  {
   "cell_type": "markdown",
   "metadata": {},
   "source": [
    "7) Implement K-mean and see how it works on the data"
   ]
  },
  {
   "cell_type": "code",
   "execution_count": 9,
   "metadata": {
    "collapsed": true
   },
   "outputs": [],
   "source": [
    "# implement"
   ]
  },
  {
   "cell_type": "markdown",
   "metadata": {},
   "source": [
    "8) How does it work on this data? Why?"
   ]
  },
  {
   "cell_type": "code",
   "execution_count": 10,
   "metadata": {
    "collapsed": false
   },
   "outputs": [
    {
     "data": {
      "text/plain": [
       "[<matplotlib.lines.Line2D at 0x106efb9d0>]"
      ]
     },
     "execution_count": 10,
     "metadata": {},
     "output_type": "execute_result"
    },
    {
     "data": {
      "image/png": "[encoded data removed]",
      "text/plain": [
       "<matplotlib.figure.Figure at 0x106a8d190>"
      ]
     },
     "metadata": {},
     "output_type": "display_data"
    }
   ],
   "source": [
    "np.random.seed(9999)\n",
    "ndata = 100\n",
    "thetas = np.linspace(0,2*math.pi,ndata)\n",
    "data1 = np.array([\n",
    "    [2*cos(theta) for theta in thetas],\n",
    "    [2*sin(theta) for theta in thetas]\n",
    "])\n",
    "\n",
    "data1 = data1 + np.random.randn(2, ndata)*0.1\n",
    "\n",
    "data2 = np.random.randn(2, 30)*0.2\n",
    "\n",
    "#plt.plot(data1[0], data1[1], '.')\n",
    "#plt.plot(data2[0], data2[1], '.')\n",
    "\n",
    "data = np.concatenate((data1, data2), axis=1)\n",
    "sorted_data = data.copy().T\n",
    "np.random.shuffle(data.T)\n",
    "\n",
    "\n",
    "data = data.T\n",
    "#print data\n",
    "plt.plot(data[:, 0], data[:, 1],'.')"
   ]
  },
  {
   "cell_type": "code",
   "execution_count": 17,
   "metadata": {
    "collapsed": false
   },
   "outputs": [
    {
     "data": {
      "image/png": "[encoded data removed]",
      "text/plain": [
       "<matplotlib.figure.Figure at 0x106f9aa10>"
      ]
     },
     "metadata": {},
     "output_type": "display_data"
    }
   ],
   "source": [
    "centroids, dataClass = k_mean(data, data[:2])\n",
    "plot_classify(data, dataClass, centroids)"
   ]
  },
  {
   "cell_type": "markdown",
   "metadata": {},
   "source": [
    "# When K Mean fails"
   ]
  },
  {
   "cell_type": "markdown",
   "metadata": {},
   "source": [
    "1) We saw it break in the previous example. What really define a cluster?"
   ]
  },
  {
   "cell_type": "code",
   "execution_count": null,
   "metadata": {
    "collapsed": true
   },
   "outputs": [],
   "source": []
  },
  {
   "cell_type": "markdown",
   "metadata": {},
   "source": [
    "2) How do we turn data point in to graph"
   ]
  },
  {
   "cell_type": "code",
   "execution_count": null,
   "metadata": {
    "collapsed": true
   },
   "outputs": [],
   "source": []
  },
  {
   "cell_type": "markdown",
   "metadata": {},
   "source": [
    "3) Turn the data in to adjacency/affinity matrix $A$.\n",
    "\n",
    "One of the thing you can use is\n",
    "\n",
    "$$exp \\left(\\frac{-\\left|\\vec{x}_i - \\vec{x}_j\\right|^2}{\\sigma^2}\\right)$$\n",
    "\n",
    "Pick $\\sigma$ on the same scale as the plot shows\n"
   ]
  },
  {
   "cell_type": "code",
   "execution_count": 12,
   "metadata": {
    "collapsed": true
   },
   "outputs": [],
   "source": [
    "def calAdj(x1, x2):\n",
    "    scaling = 1\n",
    "    return np.exp( ( -calDistance(x1, x2)**2 )/ scaling**2)"
   ]
  },
  {
   "cell_type": "code",
   "execution_count": 13,
   "metadata": {
    "collapsed": false
   },
   "outputs": [],
   "source": [
    "def toMatrix(data):\n",
    "    nData, nFeature = data.shape\n",
    "    mat = np.zeros((nData, nData))\n",
    "    for irow in xrange(nData):\n",
    "        for icolumn in xrange(1, nData):\n",
    "            mat[irow][icolumn] = 1 if irow == icolumn else np.array( calAdj(data[irow], data[icolumn]) )\n",
    "#             mat[icolumn][irow] = mat[irow][icolumn]\n",
    "    return mat + mat.T"
   ]
  },
  {
   "cell_type": "code",
   "execution_count": 14,
   "metadata": {
    "collapsed": false
   },
   "outputs": [
    {
     "data": {
      "text/plain": [
       "<matplotlib.image.AxesImage at 0x1070fc990>"
      ]
     },
     "execution_count": 14,
     "metadata": {},
     "output_type": "execute_result"
    },
    {
     "data": {
      "image/png": "[encoded data removed]",
      "text/plain": [
       "<matplotlib.figure.Figure at 0x106f384d0>"
      ]
     },
     "metadata": {},
     "output_type": "display_data"
    }
   ],
   "source": [
    "mat = toMatrix(sorted_data)\n",
    "plt.imshow(mat)"
   ]
  },
  {
   "cell_type": "markdown",
   "metadata": {},
   "source": [
    "4) Try K-mean on this and see what you got."
   ]
  },
  {
   "cell_type": "code",
   "execution_count": 21,
   "metadata": {
    "collapsed": false
   },
   "outputs": [],
   "source": [
    "np.random.seed(999)\n",
    "acs = np.array( [ mat[x] for x in np.random.choice(150, 2) ] )\n",
    "centroids, dataClass = k_mean(mat, acs)"
   ]
  },
  {
   "cell_type": "code",
   "execution_count": 19,
   "metadata": {
    "collapsed": false
   },
   "outputs": [
    {
     "data": {
      "image/png": "[encoded data removed]",
      "text/plain": [
       "<matplotlib.figure.Figure at 0x106999e90>"
      ]
     },
     "metadata": {},
     "output_type": "display_data"
    }
   ],
   "source": [
    "plot_classify(sorted_data, dataClass, centroids)"
   ]
  },
  {
   "cell_type": "markdown",
   "metadata": {},
   "source": [
    "# Elbow Methods: Picking Number of Cluster\n",
    "\n",
    "This is really an art not a science even human don't agree on number of clusters."
   ]
  },
  {
   "cell_type": "markdown",
   "metadata": {},
   "source": [
    "1) Write a function to compute cluster variance"
   ]
  },
  {
   "cell_type": "code",
   "execution_count": 284,
   "metadata": {
    "collapsed": false
   },
   "outputs": [],
   "source": [
    "def calScore(data, dataClass, centroids):\n",
    "#     score = 0\n",
    "#     for ic, c in enumerate(centroids):\n",
    "#         for d in data[dataClass == ic]:\n",
    "#             score += calDistance(d, c)\n",
    "#     return score\n",
    "    return sum([ calDistance(d, c) for ic, c in enumerate(centroids) for d in data[dataClass == ic]])"
   ]
  },
  {
   "cell_type": "code",
   "execution_count": 300,
   "metadata": {
    "collapsed": true
   },
   "outputs": [],
   "source": [
    "def elbow(data, mink, maxk):\n",
    "    ret = []\n",
    "    for k in xrange(mink, maxk):\n",
    "        centroids, dataClass = k_mean(data, data[:k])\n",
    "        score = calScore(data, dataClass, centroids)\n",
    "        ret.append([k, score])\n",
    "    return np.array(ret)"
   ]
  },
  {
   "cell_type": "code",
   "execution_count": 301,
   "metadata": {
    "collapsed": false
   },
   "outputs": [],
   "source": [
    "# centroids, dataClass = k_mean(xs, xs[:2])"
   ]
  },
  {
   "cell_type": "code",
   "execution_count": 302,
   "metadata": {
    "collapsed": false
   },
   "outputs": [
    {
     "name": "stdout",
     "output_type": "stream",
     "text": [
      "[[  1.00000000e+00   1.35040412e+03]\n",
      " [  2.00000000e+00   5.18433090e+02]\n",
      " [  3.00000000e+00   2.32105627e+01]\n",
      " [  4.00000000e+00   1.61077178e+01]\n",
      " [  5.00000000e+00   1.30076065e+01]\n",
      " [  6.00000000e+00   1.26824000e+01]\n",
      " [  7.00000000e+00   1.23175696e+01]\n",
      " [  8.00000000e+00   1.13502462e+01]\n",
      " [  9.00000000e+00   1.09201160e+01]\n",
      " [  1.00000000e+01   1.06036622e+01]\n",
      " [  1.10000000e+01   1.05875783e+01]\n",
      " [  1.20000000e+01   9.41224330e+00]\n",
      " [  1.30000000e+01   8.72446938e+00]\n",
      " [  1.40000000e+01   8.35067611e+00]\n",
      " [  1.50000000e+01   8.26849624e+00]\n",
      " [  1.60000000e+01   8.16935294e+00]\n",
      " [  1.70000000e+01   8.16315122e+00]\n",
      " [  1.80000000e+01   7.95258977e+00]\n",
      " [  1.90000000e+01   7.90782395e+00]]\n"
     ]
    }
   ],
   "source": [
    "# calScore(xs, dataClass, centroids)\n",
    "e = elbow(xs, 1, 20)\n",
    "print e"
   ]
  },
  {
   "cell_type": "code",
   "execution_count": 303,
   "metadata": {
    "collapsed": false
   },
   "outputs": [
    {
     "data": {
      "text/plain": [
       "[<matplotlib.lines.Line2D at 0x10f959b50>]"
      ]
     },
     "execution_count": 303,
     "metadata": {},
     "output_type": "execute_result"
    },
    {
     "data": {
      "image/png": "[encoded data removed]",
      "text/plain": [
       "<matplotlib.figure.Figure at 0x10fa87a90>"
      ]
     },
     "metadata": {},
     "output_type": "display_data"
    }
   ],
   "source": [
    "plt.plot(e[:, 0], e[:, 1])"
   ]
  },
  {
   "cell_type": "markdown",
   "metadata": {},
   "source": [
    "2) Plot cluster variance vs number of cluster."
   ]
  },
  {
   "cell_type": "code",
   "execution_count": null,
   "metadata": {
    "collapsed": true
   },
   "outputs": [],
   "source": []
  },
  {
   "cell_type": "markdown",
   "metadata": {},
   "source": [
    "# Spectral Clustering... (PCA-ish) (If we have time. Not on Final. Too Technical.)"
   ]
  },
  {
   "cell_type": "markdown",
   "metadata": {},
   "source": [
    "1) Even though the above method works. What's the problem with what we do above?"
   ]
  },
  {
   "cell_type": "code",
   "execution_count": null,
   "metadata": {
    "collapsed": true
   },
   "outputs": [],
   "source": []
  },
  {
   "cell_type": "markdown",
   "metadata": {},
   "source": [
    "2) Intuition: Eigen Vector/Eigen Value for block diagonal."
   ]
  },
  {
   "cell_type": "code",
   "execution_count": 14,
   "metadata": {
    "collapsed": false
   },
   "outputs": [
    {
     "name": "stdout",
     "output_type": "stream",
     "text": [
      "[[ 2. -1. -1.  0.  0.  0.  0.  0.  0.]\n",
      " [-1.  2. -1.  0.  0.  0.  0.  0.  0.]\n",
      " [-1. -1.  2.  0.  0.  0.  0.  0.  0.]\n",
      " [ 0.  0.  0.  1. -1.  0.  0.  0.  0.]\n",
      " [ 0.  0.  0. -1.  1.  0.  0.  0.  0.]\n",
      " [ 0.  0.  0.  0.  0.  3. -1. -1. -1.]\n",
      " [ 0.  0.  0.  0.  0. -1.  3. -1. -1.]\n",
      " [ 0.  0.  0.  0.  0. -1. -1.  3. -1.]\n",
      " [ 0.  0.  0.  0.  0. -1. -1. -1.  3.]]\n"
     ]
    }
   ],
   "source": [
    "a = np.array([\n",
    "[2, -1, -1, 0, 0, 0, 0, 0, 0],\n",
    "[-1, 2, -1, 0, 0, 0, 0, 0, 0],\n",
    "[-1, -1, 2, 0, 0, 0, 0, 0, 0],\n",
    "[0, 0, 0, 1, -1, 0, 0, 0, 0],\n",
    "[0, 0, 0, -1, 1, 0, 0, 0, 0],\n",
    "[0, 0, 0, 0, 0, 3, -1, -1, -1],\n",
    "[0, 0, 0, 0, 0, -1, 3, -1, -1],\n",
    "[0, 0, 0, 0, 0, -1, -1, 3, -1],\n",
    "[0, 0, 0, 0, 0, -1, -1, -1, 3],\n",
    "], dtype=np.float64)\n",
    "print a\n",
    "#s = np.linalg.eigh(a)\n",
    "#print s[0]\n",
    "#print np.array_str(s[1], precision=1, max_line_width=100, suppress_small=True)"
   ]
  },
  {
   "cell_type": "code",
   "execution_count": null,
   "metadata": {
    "collapsed": true
   },
   "outputs": [],
   "source": []
  },
  {
   "cell_type": "markdown",
   "metadata": {},
   "source": [
    "3) What if we switch the row?"
   ]
  },
  {
   "cell_type": "code",
   "execution_count": null,
   "metadata": {
    "collapsed": true
   },
   "outputs": [],
   "source": [
    "a = np.array([\n",
    "[ 2, -1, -1,  0,  0,  0,  0,  0,  0],\n",
    "[-1,  2, -1,  0,  0,  0,  0,  0,  0],\n",
    "[-1, -1,  2,  0,  0,  0,  0,  0,  0],\n",
    "[ 0,  0,  0,  1,  0, -1,  0,  0,  0],\n",
    "[ 0,  0,  0,  0,  3,  0, -1, -1, -1],\n",
    "[ 0,  0,  0,  -1, 0,  1,  0,  0,  0],\n",
    "[ 0,  0,  0,  0, -1,  0,  3, -1, -1],\n",
    "[ 0,  0,  0,  0, -1,  0, -1,  3, -1],\n",
    "[ 0,  0,  0,  0, -1,  0, -1, -1,  3],\n",
    "], dtype=np.float64)\n",
    "# print a\n",
    "# s = np.linalg.eigh(a)\n",
    "# print s[0]\n",
    "# print s\n",
    "# print np.array_str(s[1], precision=1, max_line_width=100, suppress_small=True)"
   ]
  },
  {
   "cell_type": "code",
   "execution_count": null,
   "metadata": {
    "collapsed": true
   },
   "outputs": [],
   "source": []
  },
  {
   "cell_type": "markdown",
   "metadata": {},
   "source": [
    "4) Compute Degree Matrix $D$ whose diagonal element is the degree."
   ]
  },
  {
   "cell_type": "code",
   "execution_count": null,
   "metadata": {
    "collapsed": true
   },
   "outputs": [],
   "source": []
  },
  {
   "cell_type": "markdown",
   "metadata": {},
   "source": [
    "5) The block diagonal that we really want to find eigven vector is graph laplacian(This is really technical google this up). But the eigenvalue will be related minimum sum of cut weight needed to make it into disconnected component.\n",
    "\n",
    "$$ L = D - A $$"
   ]
  },
  {
   "cell_type": "code",
   "execution_count": null,
   "metadata": {
    "collapsed": true
   },
   "outputs": [],
   "source": []
  },
  {
   "cell_type": "markdown",
   "metadata": {},
   "source": [
    "6) Find the eigen vector/eigen value of $L$."
   ]
  },
  {
   "cell_type": "code",
   "execution_count": null,
   "metadata": {
    "collapsed": true
   },
   "outputs": [],
   "source": []
  },
  {
   "cell_type": "markdown",
   "metadata": {},
   "source": [
    "7) Project each of $A$ on to $L$. (Take the absolute of components too)"
   ]
  },
  {
   "cell_type": "code",
   "execution_count": null,
   "metadata": {
    "collapsed": true
   },
   "outputs": [],
   "source": []
  },
  {
   "cell_type": "markdown",
   "metadata": {},
   "source": [
    "8) Do K mean on couple of projection of A and see what you got."
   ]
  },
  {
   "cell_type": "code",
   "execution_count": null,
   "metadata": {
    "collapsed": true
   },
   "outputs": [],
   "source": []
  }
 ],
 "metadata": {
  "kernelspec": {
   "display_name": "Python 2",
   "language": "python",
   "name": "python2"
  },
  "language_info": {
   "codemirror_mode": {
    "name": "ipython",
    "version": 2
   },
   "file_extension": ".py",
   "mimetype": "text/x-python",
   "name": "python",
   "nbconvert_exporter": "python",
   "pygments_lexer": "ipython2",
   "version": "2.7.12"
  }
 },
 "nbformat": 4,
 "nbformat_minor": 0
}
