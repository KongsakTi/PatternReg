{
 "cells": [
  {
   "cell_type": "code",
   "execution_count": 1,
   "metadata": {
    "collapsed": false
   },
   "outputs": [],
   "source": [
    "import numpy as np\n",
    "%matplotlib inline\n",
    "from matplotlib import pyplot as plt\n",
    "from math import pi, sin, cos, exp\n",
    "import math"
   ]
  },
  {
   "cell_type": "markdown",
   "metadata": {
    "collapsed": true
   },
   "source": [
    "# Clustering Problem"
   ]
  },
  {
   "cell_type": "code",
   "execution_count": 2,
   "metadata": {
    "collapsed": false
   },
   "outputs": [
    {
     "data": {
      "text/plain": [
       "[<matplotlib.lines.Line2D at 0x10e2bd7d0>]"
      ]
     },
     "execution_count": 2,
     "metadata": {},
     "output_type": "execute_result"
    },
    {
     "data": {
      "image/png": "[encoded data removed]",
      "text/plain": [
       "<matplotlib.figure.Figure at 0x10e29e690>"
      ]
     },
     "metadata": {},
     "output_type": "display_data"
    }
   ],
   "source": [
    "np.random.seed(99887766)\n",
    "xs = np.random.randn(30,2)\n",
    "xs[10:20,:] = xs[10:20,:]+[10,10]\n",
    "xs[20:30,:] = xs[20:30,:]+[-10,10]\n",
    "plt.plot(xs[:,0], xs[:, 1], '.b')\n",
    "# print xs"
   ]
  },
  {
   "cell_type": "markdown",
   "metadata": {
    "collapsed": true
   },
   "source": [
    "# K-mean clustering\n",
    "1) What is the underlying assumption for points to belong in the same cluster?"
   ]
  },
  {
   "cell_type": "code",
   "execution_count": null,
   "metadata": {
    "collapsed": true
   },
   "outputs": [],
   "source": []
  },
  {
   "cell_type": "markdown",
   "metadata": {
    "collapsed": true
   },
   "source": [
    "2) How do we measure the distance between two points?"
   ]
  },
  {
   "cell_type": "code",
   "execution_count": null,
   "metadata": {
    "collapsed": true
   },
   "outputs": [],
   "source": []
  },
  {
   "cell_type": "markdown",
   "metadata": {
    "collapsed": true
   },
   "source": [
    "3) Summarize update rule."
   ]
  },
  {
   "cell_type": "code",
   "execution_count": null,
   "metadata": {
    "collapsed": true
   },
   "outputs": [],
   "source": []
  },
  {
   "cell_type": "markdown",
   "metadata": {},
   "source": [
    "4) Let do it by hands. Suppose our data point are at\n",
    "\n",
    "- [1, 0]\n",
    "- [2, 1]\n",
    "- [1, 1]\n",
    "\n",
    "The guess for our centroids are at\n",
    "- [0,0]\n",
    "- [2,2]\n",
    "\n",
    "Which point belongs to which centroid?"
   ]
  },
  {
   "cell_type": "code",
   "execution_count": 45,
   "metadata": {
    "collapsed": false
   },
   "outputs": [],
   "source": [
    "def calDistance(c, p):\n",
    "    return sum((p - c)**2)*0.5"
   ]
  },
  {
   "cell_type": "code",
   "execution_count": 46,
   "metadata": {
    "collapsed": false
   },
   "outputs": [
    {
     "name": "stdout",
     "output_type": "stream",
     "text": [
      "[0 0] [1 0] 0.5\n",
      "[0 0] [2 1] 2.5\n",
      "[0 0] [1 1] 1.0\n",
      "[2 2] [1 0] 2.5\n",
      "[2 2] [2 1] 0.5\n",
      "[2 2] [1 1] 1.0\n"
     ]
    }
   ],
   "source": [
    "p = [[1, 0], [2, 1], [1, 1]]\n",
    "c = [[0, 0], [2, 2]]\n",
    "\n",
    "aps = [ np.array(x) for x in p ]\n",
    "acs = [ np.array(x) for x in c ]\n",
    "\n",
    "for ac in acs:\n",
    "    for ap in aps:\n",
    "        print ac, ap,\n",
    "        print calDistance(ac, ap)"
   ]
  },
  {
   "cell_type": "markdown",
   "metadata": {},
   "source": [
    "5) What should be our next guess for the centroid?"
   ]
  },
  {
   "cell_type": "code",
   "execution_count": 85,
   "metadata": {
    "collapsed": false
   },
   "outputs": [
    {
     "ename": "SyntaxError",
     "evalue": "invalid syntax (<ipython-input-85-9d3762dba955>, line 11)",
     "output_type": "error",
     "traceback": [
      "\u001b[0;36m  File \u001b[0;32m\"<ipython-input-85-9d3762dba955>\"\u001b[0;36m, line \u001b[0;32m11\u001b[0m\n\u001b[0;31m    print data[dataClass[== 2]]\u001b[0m\n\u001b[0m                          ^\u001b[0m\n\u001b[0;31mSyntaxError\u001b[0m\u001b[0;31m:\u001b[0m invalid syntax\n"
     ]
    }
   ],
   "source": [
    "def classify(data, centroids):\n",
    "    dataClass = np.zeros(len(data))\n",
    "    dis = np.zeros((len(data), len(centroids)))\n",
    "    \n",
    "    for idx, d in enumerate(data):\n",
    "        distances = [ calDistance(c, d) for c in centroids ]\n",
    "        dataClass[idx] = np.argmin(distances)\n",
    "    return dataClass\n",
    "\n",
    "def k_mean(data, centroids):\n",
    "    cc = centroids.copy()\n",
    "    \n",
    "    for i in xrange(100):\n",
    "        dataClass = classify(data, centroids)\n",
    "        centroids = [ np.avg(data[dataClass == idx]) for idx in xrange(len(centroids)) ]"
   ]
  },
  {
   "cell_type": "code",
   "execution_count": 83,
   "metadata": {
    "collapsed": false
   },
   "outputs": [],
   "source": [
    "np.random.seed(100)\n",
    "acs = [ xs[x] for x in np.random.choice(30, 3) ]"
   ]
  },
  {
   "cell_type": "code",
   "execution_count": 84,
   "metadata": {
    "collapsed": false
   },
   "outputs": [
    {
     "name": "stdout",
     "output_type": "stream",
     "text": [
      "[ 2.  0.  2.  2.  2.  2.  2.  2.  0.  2.  2.  2.  2.  2.  2.  2.  2.  2.\n",
      "  2.  2.  1.  1.  1.  1.  1.  1.  1.  1.  1.  1.]\n"
     ]
    }
   ],
   "source": [
    "print classify(xs, acs)"
   ]
  },
  {
   "cell_type": "markdown",
   "metadata": {},
   "source": [
    "6) How should we initialize the seed?\n",
    "- What can go wrong if we seed it with the same centroid ([0,0], [0,0])\n",
    "- What can go wrong if we seed it with ([0,0], [100,100])\n",
    "\n",
    "How can we avoid these two things?"
   ]
  },
  {
   "cell_type": "code",
   "execution_count": null,
   "metadata": {
    "collapsed": true
   },
   "outputs": [],
   "source": []
  },
  {
   "cell_type": "markdown",
   "metadata": {},
   "source": [
    "7) Implement K-mean and see how it works on the data"
   ]
  },
  {
   "cell_type": "code",
   "execution_count": 33,
   "metadata": {
    "collapsed": true
   },
   "outputs": [],
   "source": [
    "# implement"
   ]
  },
  {
   "cell_type": "markdown",
   "metadata": {},
   "source": [
    "8) How does it work on this data? Why?"
   ]
  },
  {
   "cell_type": "code",
   "execution_count": 35,
   "metadata": {
    "collapsed": false
   },
   "outputs": [
    {
     "data": {
      "text/plain": [
       "[<matplotlib.lines.Line2D at 0x105e9cc50>]"
      ]
     },
     "execution_count": 35,
     "metadata": {},
     "output_type": "execute_result"
    },
    {
     "data": {
      "image/png": "[encoded data removed]",
      "text/plain": [
       "<matplotlib.figure.Figure at 0x105e9c0d0>"
      ]
     },
     "metadata": {},
     "output_type": "display_data"
    }
   ],
   "source": [
    "np.random.seed(9999)\n",
    "ndata = 100\n",
    "thetas = np.linspace(0,2*math.pi,ndata)\n",
    "data1 = np.array([\n",
    "    [2*cos(theta) for theta in thetas],\n",
    "    [2*sin(theta) for theta in thetas]\n",
    "])\n",
    "\n",
    "data1 = data1 + np.random.randn(2, ndata)*0.1\n",
    "\n",
    "data2 = np.random.randn(2, 30)*0.2\n",
    "\n",
    "#plt.plot(data1[0], data1[1], '.')\n",
    "#plt.plot(data2[0], data2[1], '.')\n",
    "\n",
    "data = np.concatenate((data1, data2), axis=1)\n",
    "sorted_data = data.copy().T\n",
    "np.random.shuffle(data.T)\n",
    "\n",
    "\n",
    "data = data.T\n",
    "#print data\n",
    "plt.plot(data[:, 0], data[:, 1],'.')"
   ]
  },
  {
   "cell_type": "markdown",
   "metadata": {},
   "source": [
    "# When K Mean fails"
   ]
  },
  {
   "cell_type": "markdown",
   "metadata": {},
   "source": [
    "1) We saw it break in the previous example. What really define a cluster?"
   ]
  },
  {
   "cell_type": "code",
   "execution_count": null,
   "metadata": {
    "collapsed": true
   },
   "outputs": [],
   "source": []
  },
  {
   "cell_type": "markdown",
   "metadata": {},
   "source": [
    "2) How do we turn data point in to graph"
   ]
  },
  {
   "cell_type": "code",
   "execution_count": null,
   "metadata": {
    "collapsed": true
   },
   "outputs": [],
   "source": []
  },
  {
   "cell_type": "markdown",
   "metadata": {},
   "source": [
    "3) Turn the data in to adjacency/affinity matrix $A$.\n",
    "\n",
    "One of the thing you can use is\n",
    "\n",
    "$$exp \\left(\\frac{-\\left|\\vec{x}_i - \\vec{x}_j\\right|^2}{\\sigma^2}\\right)$$\n",
    "\n",
    "Pick $\\sigma$ on the same scale as the plot shows\n"
   ]
  },
  {
   "cell_type": "code",
   "execution_count": null,
   "metadata": {
    "collapsed": true
   },
   "outputs": [],
   "source": []
  },
  {
   "cell_type": "markdown",
   "metadata": {},
   "source": [
    "4) Try K-mean on this and see what you got."
   ]
  },
  {
   "cell_type": "code",
   "execution_count": null,
   "metadata": {
    "collapsed": true
   },
   "outputs": [],
   "source": []
  },
  {
   "cell_type": "markdown",
   "metadata": {},
   "source": [
    "# Elbow Methods: Picking Number of Cluster\n",
    "\n",
    "This is really an art not a science even human don't agree on number of clusters."
   ]
  },
  {
   "cell_type": "markdown",
   "metadata": {},
   "source": [
    "1) Write a function to compute cluster variance"
   ]
  },
  {
   "cell_type": "code",
   "execution_count": null,
   "metadata": {
    "collapsed": true
   },
   "outputs": [],
   "source": []
  },
  {
   "cell_type": "markdown",
   "metadata": {},
   "source": [
    "2) Plot cluster variance vs number of cluster."
   ]
  },
  {
   "cell_type": "code",
   "execution_count": null,
   "metadata": {
    "collapsed": true
   },
   "outputs": [],
   "source": []
  },
  {
   "cell_type": "markdown",
   "metadata": {},
   "source": [
    "# Spectral Clustering... (PCA-ish) (If we have time. Not on Final. Too Technical.)"
   ]
  },
  {
   "cell_type": "markdown",
   "metadata": {},
   "source": [
    "1) Even though the above method works. What's the problem with what we do above?"
   ]
  },
  {
   "cell_type": "code",
   "execution_count": null,
   "metadata": {
    "collapsed": true
   },
   "outputs": [],
   "source": []
  },
  {
   "cell_type": "markdown",
   "metadata": {},
   "source": [
    "2) Intuition: Eigen Vector/Eigen Value for block diagonal."
   ]
  },
  {
   "cell_type": "code",
   "execution_count": 14,
   "metadata": {
    "collapsed": false
   },
   "outputs": [
    {
     "name": "stdout",
     "output_type": "stream",
     "text": [
      "[[ 2. -1. -1.  0.  0.  0.  0.  0.  0.]\n",
      " [-1.  2. -1.  0.  0.  0.  0.  0.  0.]\n",
      " [-1. -1.  2.  0.  0.  0.  0.  0.  0.]\n",
      " [ 0.  0.  0.  1. -1.  0.  0.  0.  0.]\n",
      " [ 0.  0.  0. -1.  1.  0.  0.  0.  0.]\n",
      " [ 0.  0.  0.  0.  0.  3. -1. -1. -1.]\n",
      " [ 0.  0.  0.  0.  0. -1.  3. -1. -1.]\n",
      " [ 0.  0.  0.  0.  0. -1. -1.  3. -1.]\n",
      " [ 0.  0.  0.  0.  0. -1. -1. -1.  3.]]\n"
     ]
    }
   ],
   "source": [
    "a = np.array([\n",
    "[2, -1, -1, 0, 0, 0, 0, 0, 0],\n",
    "[-1, 2, -1, 0, 0, 0, 0, 0, 0],\n",
    "[-1, -1, 2, 0, 0, 0, 0, 0, 0],\n",
    "[0, 0, 0, 1, -1, 0, 0, 0, 0],\n",
    "[0, 0, 0, -1, 1, 0, 0, 0, 0],\n",
    "[0, 0, 0, 0, 0, 3, -1, -1, -1],\n",
    "[0, 0, 0, 0, 0, -1, 3, -1, -1],\n",
    "[0, 0, 0, 0, 0, -1, -1, 3, -1],\n",
    "[0, 0, 0, 0, 0, -1, -1, -1, 3],\n",
    "], dtype=np.float64)\n",
    "print a\n",
    "#s = np.linalg.eigh(a)\n",
    "#print s[0]\n",
    "#print np.array_str(s[1], precision=1, max_line_width=100, suppress_small=True)"
   ]
  },
  {
   "cell_type": "code",
   "execution_count": null,
   "metadata": {
    "collapsed": true
   },
   "outputs": [],
   "source": []
  },
  {
   "cell_type": "markdown",
   "metadata": {},
   "source": [
    "3) What if we switch the row?"
   ]
  },
  {
   "cell_type": "code",
   "execution_count": null,
   "metadata": {
    "collapsed": true
   },
   "outputs": [],
   "source": [
    "a = np.array([\n",
    "[ 2, -1, -1,  0,  0,  0,  0,  0,  0],\n",
    "[-1,  2, -1,  0,  0,  0,  0,  0,  0],\n",
    "[-1, -1,  2,  0,  0,  0,  0,  0,  0],\n",
    "[ 0,  0,  0,  1,  0, -1,  0,  0,  0],\n",
    "[ 0,  0,  0,  0,  3,  0, -1, -1, -1],\n",
    "[ 0,  0,  0,  -1, 0,  1,  0,  0,  0],\n",
    "[ 0,  0,  0,  0, -1,  0,  3, -1, -1],\n",
    "[ 0,  0,  0,  0, -1,  0, -1,  3, -1],\n",
    "[ 0,  0,  0,  0, -1,  0, -1, -1,  3],\n",
    "], dtype=np.float64)\n",
    "# print a\n",
    "# s = np.linalg.eigh(a)\n",
    "# print s[0]\n",
    "# print s\n",
    "# print np.array_str(s[1], precision=1, max_line_width=100, suppress_small=True)"
   ]
  },
  {
   "cell_type": "code",
   "execution_count": null,
   "metadata": {
    "collapsed": true
   },
   "outputs": [],
   "source": []
  },
  {
   "cell_type": "markdown",
   "metadata": {},
   "source": [
    "4) Compute Degree Matrix $D$ whose diagonal element is the degree."
   ]
  },
  {
   "cell_type": "code",
   "execution_count": null,
   "metadata": {
    "collapsed": true
   },
   "outputs": [],
   "source": []
  },
  {
   "cell_type": "markdown",
   "metadata": {},
   "source": [
    "5) The block diagonal that we really want to find eigven vector is graph laplacian(This is really technical google this up). But the eigenvalue will be related minimum sum of cut weight needed to make it into disconnected component.\n",
    "\n",
    "$$ L = D - A $$"
   ]
  },
  {
   "cell_type": "code",
   "execution_count": null,
   "metadata": {
    "collapsed": true
   },
   "outputs": [],
   "source": []
  },
  {
   "cell_type": "markdown",
   "metadata": {},
   "source": [
    "6) Find the eigen vector/eigen value of $L$."
   ]
  },
  {
   "cell_type": "code",
   "execution_count": null,
   "metadata": {
    "collapsed": true
   },
   "outputs": [],
   "source": []
  },
  {
   "cell_type": "markdown",
   "metadata": {},
   "source": [
    "7) Project each of $A$ on to $L$. (Take the absolute of components too)"
   ]
  },
  {
   "cell_type": "code",
   "execution_count": null,
   "metadata": {
    "collapsed": true
   },
   "outputs": [],
   "source": []
  },
  {
   "cell_type": "markdown",
   "metadata": {},
   "source": [
    "8) Do K mean on couple of projection of A and see what you got."
   ]
  },
  {
   "cell_type": "code",
   "execution_count": null,
   "metadata": {
    "collapsed": true
   },
   "outputs": [],
   "source": []
  }
 ],
 "metadata": {
  "kernelspec": {
   "display_name": "Python 2",
   "language": "python",
   "name": "python2"
  },
  "language_info": {
   "codemirror_mode": {
    "name": "ipython",
    "version": 2
   },
   "file_extension": ".py",
   "mimetype": "text/x-python",
   "name": "python",
   "nbconvert_exporter": "python",
   "pygments_lexer": "ipython2",
   "version": "2.7.6"
  }
 },
 "nbformat": 4,
 "nbformat_minor": 0
}
