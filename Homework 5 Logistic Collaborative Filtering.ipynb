{
 "cells": [
  {
   "cell_type": "markdown",
   "metadata": {},
   "source": [
    "In the class we try to predict the restaurant rating using the dot product. One thing we found was that it predict a lot of non-sense rating like negative number or 6. In this homework, we are going to fix this problem"
   ]
  },
  {
   "cell_type": "markdown",
   "metadata": {},
   "source": [
    "The problem with dot product is that it is unbounded. So we need to bound it between 0 and 5. The most common way to do this is to use logistic function to turn $(-\\infty, \\infty)$ to a bounded region.\n",
    "$$ \\theta(s) = \\frac{1}{1 + e^{-s}}$$"
   ]
  },
  {
   "cell_type": "markdown",
   "metadata": {},
   "source": [
    "1) Given the restaurant attribute $\\vec{\\rho}^{(r)}$ and person preference $\\vec{\\pi}^{(p)}$. Write down the prediction formula which gives the output in the range of $(0,5)$.\n",
    "\n",
    "Hint: use dot product and logistic function then scale it properly."
   ]
  },
  {
   "cell_type": "code",
   "execution_count": 1,
   "metadata": {
    "collapsed": true
   },
   "outputs": [],
   "source": [
    "def scale(s):\n",
    "    return (1./(1 + np.exp(-s))) * 5"
   ]
  },
  {
   "cell_type": "code",
   "execution_count": 2,
   "metadata": {
    "collapsed": true
   },
   "outputs": [],
   "source": [
    "def guess(R, P):\n",
    "    return scale(np.dot(R.T, P).T)"
   ]
  },
  {
   "cell_type": "markdown",
   "metadata": {},
   "source": [
    "2) Write down the cost function with your prediction formula above."
   ]
  },
  {
   "cell_type": "code",
   "execution_count": 3,
   "metadata": {
    "collapsed": true
   },
   "outputs": [],
   "source": [
    "def cost(R, P):\n",
    "    return sum((T - guess(R, P))**2)"
   ]
  },
  {
   "cell_type": "markdown",
   "metadata": {},
   "source": [
    "3) (Optional) Show that if your predition formula is (Do it on paper by hand. It's actually just a chain rule.)\n",
    "$$Guess_{r,p} = a \\theta(\\vec{\\rho}^{(r)} \\cdot \\vec{\\pi}^{(p)}) + d$$\n",
    "\n",
    "\n",
    "\n",
    "Then the derivative is given by\n",
    "$$\n",
    "\t\\frac{\\partial{c}}{\\partial{\\pi^{(p)}_i}} =\n",
    "\t\\sum_r 2 h_{rp} \\left[ a \\cdot \\frac{1}{1 + e^{ -\\vec{\\rho}^{(r)} \\cdot \\vec{\\pi}^{(p)} } }  + d - T_{rp} \\right] \\cdot \\frac{ a e^{ -\\vec{\\rho}^{(r)} \\cdot \\vec{\\pi}^{(p)}} }{\\left( 1 + e^{ -\\vec{\\rho}^{(r)} \\cdot \\vec{\\pi}^{(p)}} \\right)^2} \\rho^{(r)}_i\n",
    "$$\n",
    "and\n",
    "$$\n",
    "\t\\frac{\\partial{c}}{\\partial{\\rho^{(r)}_i}} =\n",
    "\t\\sum_p 2 h_{rp} \\left[ a \\cdot \\frac{1}{1 + e^{ -\\vec{\\rho}^{(r)} \\cdot \\vec{\\pi}^{(p)} } }  + d - T_{rp} \\right] \\cdot \\frac{ a e^{ -\\vec{\\rho}^{(r)} \\cdot \\vec{\\pi}^{(p)}} }{\\left( 1 + e^{ -\\vec{\\rho}^{(r)} \\cdot \\vec{\\pi}^{(p)}} \\right)^2} \\pi^{(p)}_i\n",
    "$$\n",
    "\n"
   ]
  },
  {
   "cell_type": "code",
   "execution_count": null,
   "metadata": {
    "collapsed": true
   },
   "outputs": [],
   "source": []
  },
  {
   "cell_type": "markdown",
   "metadata": {},
   "source": [
    "4) Write the above two equations in matrix form given that matrix\n",
    "\n",
    "$$\n",
    "    S_{rp} = 2 h \\otimes \\left[ a \\cdot \\frac{1}{1 + e^{ -R^T P } }  + d - T \\right] \\cdot \\frac{ a e^{ -R^T P} }{\\left( 1 + e^{ R^T P} \\right)^2}\n",
    "$$\n",
    "where the exponential is element-wise exponential(yes there is such thing as exponential of matrix but that's not what we want).\n",
    "\n",
    "The partial derivative should look super simple in terms of $S$."
   ]
  },
  {
   "cell_type": "code",
   "execution_count": null,
   "metadata": {
    "collapsed": true
   },
   "outputs": [],
   "source": []
  },
  {
   "cell_type": "markdown",
   "metadata": {},
   "source": [
    "5) Write down the update rule for R and P. Use $a$ and $d$ you found in 1."
   ]
  },
  {
   "cell_type": "code",
   "execution_count": null,
   "metadata": {
    "collapsed": true
   },
   "outputs": [],
   "source": []
  },
  {
   "cell_type": "markdown",
   "metadata": {},
   "source": [
    "6) Given the rating matrix we use in class, use this new prediction function and update rule to find $R$ and $P$."
   ]
  },
  {
   "cell_type": "code",
   "execution_count": null,
   "metadata": {
    "collapsed": true
   },
   "outputs": [],
   "source": []
  },
  {
   "cell_type": "markdown",
   "metadata": {},
   "source": [
    "7) Use the code we had in exercise to show the prediction table."
   ]
  },
  {
   "cell_type": "code",
   "execution_count": null,
   "metadata": {
    "collapsed": true
   },
   "outputs": [],
   "source": []
  },
  {
   "cell_type": "code",
   "execution_count": null,
   "metadata": {
    "collapsed": true
   },
   "outputs": [],
   "source": []
  }
 ],
 "metadata": {
  "kernelspec": {
   "display_name": "Python 2",
   "language": "python",
   "name": "python2"
  },
  "language_info": {
   "codemirror_mode": {
    "name": "ipython",
    "version": 2
   },
   "file_extension": ".py",
   "mimetype": "text/x-python",
   "name": "python",
   "nbconvert_exporter": "python",
   "pygments_lexer": "ipython2",
   "version": "2.7.10"
  }
 },
 "nbformat": 4,
 "nbformat_minor": 0
}
