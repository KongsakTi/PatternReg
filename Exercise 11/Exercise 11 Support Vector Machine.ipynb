{
 "cells": [
  {
   "cell_type": "code",
   "execution_count": 193,
   "metadata": {
    "collapsed": false
   },
   "outputs": [],
   "source": [
    "%matplotlib inline\n",
    "import numpy as np\n",
    "from scipy.optimize import minimize\n",
    "from matplotlib import pyplot as plt\n"
   ]
  },
  {
   "cell_type": "code",
   "execution_count": 195,
   "metadata": {
    "collapsed": false
   },
   "outputs": [
    {
     "data": {
      "image/png": "[encoded data removed]",
      "text/plain": [
       "<matplotlib.figure.Figure at 0x107f79d90>"
      ]
     },
     "metadata": {},
     "output_type": "display_data"
    }
   ],
   "source": [
    "np.random.seed(9999)\n",
    "xp = np.random.randn(10, 2)\n",
    "xm = np.random.randn(10, 2) + [3, 3]\n",
    "plt.plot(xp[:, 0], xp[:,1], '.b')\n",
    "plt.plot(xm[:, 0], xm[:,1], '.r')\n",
    "data = np.concatenate([xp, xm], axis=0)\n",
    "classes = np.array([1]*10+[-1]*10)"
   ]
  },
  {
   "cell_type": "markdown",
   "metadata": {},
   "source": [
    "1) What is an equation of line/plane? "
   ]
  },
  {
   "cell_type": "code",
   "execution_count": null,
   "metadata": {
    "collapsed": true
   },
   "outputs": [],
   "source": []
  },
  {
   "cell_type": "markdown",
   "metadata": {},
   "source": [
    "2) Explain geometrical interpretation of the two parameters"
   ]
  },
  {
   "cell_type": "code",
   "execution_count": null,
   "metadata": {
    "collapsed": true
   },
   "outputs": [],
   "source": []
  },
  {
   "cell_type": "markdown",
   "metadata": {},
   "source": [
    "3) How do you determine whether a point $\\vec{x}$ is one side of the line or another?"
   ]
  },
  {
   "cell_type": "code",
   "execution_count": null,
   "metadata": {
    "collapsed": true
   },
   "outputs": [],
   "source": []
  },
  {
   "cell_type": "markdown",
   "metadata": {},
   "source": [
    "4) Given a line, is $\\vec{w}$ and $b$ unique. (Are there two equation that represents the same line?)"
   ]
  },
  {
   "cell_type": "code",
   "execution_count": null,
   "metadata": {
    "collapsed": true
   },
   "outputs": [],
   "source": []
  },
  {
   "cell_type": "markdown",
   "metadata": {},
   "source": [
    "5) Give another equation for the line represent by $\\vec{w}=[1,2]$, $b=3$."
   ]
  },
  {
   "cell_type": "code",
   "execution_count": null,
   "metadata": {
    "collapsed": true
   },
   "outputs": [],
   "source": []
  },
  {
   "cell_type": "markdown",
   "metadata": {},
   "source": [
    "6) If we want $b$ in the previous equation to be 1. What should $\\vec{w}$ be"
   ]
  },
  {
   "cell_type": "code",
   "execution_count": 178,
   "metadata": {
    "collapsed": true
   },
   "outputs": [],
   "source": [
    "#minimize_with(w,b) 1/2 |w|^2\n",
    "#subject to y*(w dot x + b) = 0"
   ]
  },
  {
   "cell_type": "markdown",
   "metadata": {},
   "source": [
    "7) Draw a line defined by $\\vec{w}=[2,3]$, $b=1$."
   ]
  },
  {
   "cell_type": "code",
   "execution_count": 196,
   "metadata": {
    "collapsed": true
   },
   "outputs": [],
   "source": [
    "w = np.array([2, 3])\n",
    "b = 1"
   ]
  },
  {
   "cell_type": "code",
   "execution_count": 180,
   "metadata": {
    "collapsed": true
   },
   "outputs": [],
   "source": [
    "def calY(x):\n",
    "    return (-w[0] * x - b)/w[1]"
   ]
  },
  {
   "cell_type": "code",
   "execution_count": 181,
   "metadata": {
    "collapsed": false
   },
   "outputs": [
    {
     "data": {
      "text/plain": [
       "[<matplotlib.lines.Line2D at 0x107ff2b50>]"
      ]
     },
     "execution_count": 181,
     "metadata": {},
     "output_type": "execute_result"
    },
    {
     "data": {
      "image/png": "[encoded data removed]",
      "text/plain": [
       "<matplotlib.figure.Figure at 0x107670e50>"
      ]
     },
     "metadata": {},
     "output_type": "display_data"
    }
   ],
   "source": [
    "xs = np.linspace(-2, 6, 100) \n",
    "ys = np.array([ calY(x) for x in xs ])\n",
    "plt.plot(xs, ys, 'r')"
   ]
  },
  {
   "cell_type": "markdown",
   "metadata": {},
   "source": [
    "8) Draw a green point on the side where $\\vec{w}\\cdot\\x + b > 0$ and a blue point on the other side."
   ]
  },
  {
   "cell_type": "code",
   "execution_count": 182,
   "metadata": {
    "collapsed": false
   },
   "outputs": [],
   "source": [
    "# def assignColor(grp, xs, more):\n",
    "#     if more:\n",
    "#         for x in xs:\n",
    "#             r = calY(x)\n",
    "#             print r\n",
    "#             if r > 0:\n",
    "#                 grp.append(x)\n",
    "#     else:\n",
    "#         for x in xs:\n",
    "#             if calY(x) > 0:\n",
    "#                 grp.append(x)\n",
    "#     return grp"
   ]
  },
  {
   "cell_type": "code",
   "execution_count": 183,
   "metadata": {
    "collapsed": true
   },
   "outputs": [],
   "source": [
    "def calYY(x):\n",
    "    return np.dot(w, x) + b"
   ]
  },
  {
   "cell_type": "code",
   "execution_count": 184,
   "metadata": {
    "collapsed": false
   },
   "outputs": [],
   "source": [
    "greenIdx = np.array( [ True if calYY(x) > 0 else False for x in xp] \n",
    "                   + [ True if calYY(x) > 0 else False for x in xm])\n",
    "\n",
    "blueIdx = np.array( [ True if calYY(x) < 0 else False for x in xp] \n",
    "                  + [ True if calYY(x) < 0 else False for x in xm])\n",
    "# bluem = np.array(  [ True if calY(x) < 0 else False for x in xm[:, 0] ] )"
   ]
  },
  {
   "cell_type": "code",
   "execution_count": 185,
   "metadata": {
    "collapsed": false
   },
   "outputs": [],
   "source": [
    "green = data[greenIdx] #np.concatenate( (xp[greenp], xm[greenm]), axis = 0 )\n",
    "blue = data[blueIdx] #np.concatenate( (xp[bluep], xm[bluem]), axis = 0)"
   ]
  },
  {
   "cell_type": "code",
   "execution_count": 186,
   "metadata": {
    "collapsed": false
   },
   "outputs": [
    {
     "data": {
      "text/plain": [
       "[<matplotlib.lines.Line2D at 0x107fafcd0>]"
      ]
     },
     "execution_count": 186,
     "metadata": {},
     "output_type": "execute_result"
    },
    {
     "data": {
      "image/png": "[encoded data removed]",
      "text/plain": [
       "<matplotlib.figure.Figure at 0x107fdfb90>"
      ]
     },
     "metadata": {},
     "output_type": "display_data"
    }
   ],
   "source": [
    "xs = np.linspace(-3, 5, 100) \n",
    "ys = np.array([ calY(x) for x in xs ])\n",
    "plt.plot(green[:, 0], green[:, 1], 'ok')\n",
    "plt.plot(blue[:, 0], blue[:, 1], 'oc')\n",
    "plt.plot(xs, ys, 'r')"
   ]
  },
  {
   "cell_type": "markdown",
   "metadata": {},
   "source": [
    "9) What is a linearly separable data?"
   ]
  },
  {
   "cell_type": "code",
   "execution_count": null,
   "metadata": {
    "collapsed": true
   },
   "outputs": [],
   "source": []
  },
  {
   "cell_type": "markdown",
   "metadata": {},
   "source": [
    "10) What is a margin?"
   ]
  },
  {
   "cell_type": "code",
   "execution_count": null,
   "metadata": {
    "collapsed": true
   },
   "outputs": [],
   "source": []
  },
  {
   "cell_type": "markdown",
   "metadata": {},
   "source": [
    "11) How do we calculate the margin? And with that formula what kind of normalization are we using?"
   ]
  },
  {
   "cell_type": "markdown",
   "metadata": {
    "collapsed": true
   },
   "source": [
    "$$ \\frac{2}{|\\vec{w}|}    $$"
   ]
  },
  {
   "cell_type": "markdown",
   "metadata": {},
   "source": [
    "12) What are we trying to optimize? What are our contraint?"
   ]
  },
  {
   "cell_type": "markdown",
   "metadata": {
    "collapsed": true
   },
   "source": [
    "We try to optimize margin, $\\vec{w}$ with contraint $ y^{i} (\\vec{w} \\bullet \\vec{x^{i}} + b) - 1 \\ge 0$"
   ]
  },
  {
   "cell_type": "markdown",
   "metadata": {},
   "source": [
    "13) Can we use gradient descent with constrained optimization? Why?"
   ]
  },
  {
   "cell_type": "code",
   "execution_count": null,
   "metadata": {
    "collapsed": true
   },
   "outputs": [],
   "source": []
  },
  {
   "cell_type": "markdown",
   "metadata": {},
   "source": [
    "14) Given these data points find the line of maximum margin. Draw it along with data points.\n",
    "\n",
    "Use numpy.optimize.minimize with method = SLSQP\n",
    "\n",
    "Read the doc here.\n",
    "http://docs.scipy.org/doc/scipy/reference/tutorial/optimize.html#constrained-minimization-of-multivariate-scalar-functions-minimize"
   ]
  },
  {
   "cell_type": "code",
   "execution_count": 202,
   "metadata": {
    "collapsed": false
   },
   "outputs": [
    {
     "name": "stdout",
     "output_type": "stream",
     "text": [
      "  status: 9\n",
      " success: False\n",
      "    njev: 101\n",
      "    nfev: 869\n",
      "     fun: 9.2751701643044528e-17\n",
      "       x: array([ -9.99978433e-01,  -7.73102689e-09,  -5.74307625e-09])\n",
      " message: 'Iteration limit exceeded'\n",
      "     jac: array([  0.00000000e+00,  -5.60892596e-10,   3.41500870e-09,\n",
      "         0.00000000e+00])\n",
      "     nit: 101\n"
     ]
    },
    {
     "data": {
      "text/plain": [
       "[<matplotlib.lines.Line2D at 0x1083cd710>]"
      ]
     },
     "execution_count": 202,
     "metadata": {},
     "output_type": "execute_result"
    },
    {
     "data": {
      "image/png": "[encoded data removed]",
      "text/plain": [
       "<matplotlib.figure.Figure at 0x1083b4150>"
      ]
     },
     "metadata": {},
     "output_type": "display_data"
    }
   ],
   "source": [
    "def cost(ws):\n",
    "    b = ws[0]\n",
    "    w = ws[1:]\n",
    "    return np.linalg.norm(w)**2\n",
    "\n",
    "\n",
    "def constraints(ws):\n",
    "    b = ws[0]\n",
    "    w = ws[1:]\n",
    "    #print classes*(np.dot(data, w) + b) - 1\n",
    "    return classes*(np.dot(data, w) + b) - 1\n",
    "\n",
    "cons = ({'type': 'ineq',\n",
    "         'fun' : constraints})\n",
    "\n",
    "res = minimize(cost, [1., 2., 3.], method=\"SLSQP\", constraints=cons)\n",
    "\n",
    "print res \n",
    "b = res.x[0]\n",
    "w = res.x[1:]\n",
    "m = -w[0]/w[1]\n",
    "c = -b/w[1]\n",
    "\n",
    "xs = np.linspace(-2, 6, 100)\n",
    "ys = m*xs + c\n",
    "plt.plot(data[:, 0], data[:, 1], '.r')\n",
    "plt.plot(xs, ys)\n",
    "\n",
    "m = -w[0]/w[1]\n",
    "cl = -(b-1)/w[1]\n",
    "xs = np.linspace(-2, 6, 100)\n",
    "yls = m*xs + cl\n",
    "plt.plot(xs,yls)\n",
    "\n",
    "m = -w[0]/w[1]\n",
    "cr = -(b+1)/w[1]\n",
    "xs = np.linspace(-2, 6, 100)\n",
    "yrs = m*xs + cr\n",
    "plt.plot(xs,yrs)"
   ]
  },
  {
   "cell_type": "markdown",
   "metadata": {},
   "source": [
    "15) What is a slack variable?"
   ]
  },
  {
   "cell_type": "code",
   "execution_count": null,
   "metadata": {
    "collapsed": true
   },
   "outputs": [],
   "source": []
  },
  {
   "cell_type": "markdown",
   "metadata": {},
   "source": [
    "16) How do we penalize the slack variable."
   ]
  },
  {
   "cell_type": "code",
   "execution_count": null,
   "metadata": {
    "collapsed": true
   },
   "outputs": [],
   "source": []
  },
  {
   "cell_type": "markdown",
   "metadata": {},
   "source": [
    "17) Plot soft margin cost function along with logistic cost."
   ]
  },
  {
   "cell_type": "code",
   "execution_count": null,
   "metadata": {
    "collapsed": true
   },
   "outputs": [],
   "source": []
  },
  {
   "cell_type": "markdown",
   "metadata": {},
   "source": [
    "18) How can we view our new and penalized cost function as a regularization?"
   ]
  },
  {
   "cell_type": "code",
   "execution_count": null,
   "metadata": {
    "collapsed": true
   },
   "outputs": [],
   "source": []
  },
  {
   "cell_type": "markdown",
   "metadata": {},
   "source": [
    "19) Try your new cost function with these data points."
   ]
  },
  {
   "cell_type": "code",
   "execution_count": 227,
   "metadata": {
    "collapsed": false
   },
   "outputs": [
    {
     "data": {
      "image/png": "[encoded data removed]",
      "text/plain": [
       "<matplotlib.figure.Figure at 0x108a3be90>"
      ]
     },
     "metadata": {},
     "output_type": "display_data"
    }
   ],
   "source": [
    "np.random.seed(9999)\n",
    "xp = np.random.randn(10, 2)\n",
    "xm = np.random.randn(10, 2) + [1, 1]\n",
    "plt.plot(xp[:, 0], xp[:,1], '.b')\n",
    "plt.plot(xm[:, 0], xm[:,1], '.r')\n",
    "data = np.concatenate([xp, xm], axis=0)\n",
    "classes = np.array([1]*10+[-1]*10)"
   ]
  },
  {
   "cell_type": "code",
   "execution_count": 213,
   "metadata": {
    "collapsed": false
   },
   "outputs": [
    {
     "data": {
      "text/plain": [
       "[<matplotlib.lines.Line2D at 0x1087e3fd0>]"
      ]
     },
     "execution_count": 213,
     "metadata": {},
     "output_type": "execute_result"
    },
    {
     "data": {
      "image/png": "[encoded data removed]",
      "text/plain": [
       "<matplotlib.figure.Figure at 0x1087be110>"
      ]
     },
     "metadata": {},
     "output_type": "display_data"
    }
   ],
   "source": [
    "C = 100\n",
    "def cost(ws):\n",
    "    b = ws[0]\n",
    "    w = ws[1:]\n",
    "    xi = [max (0, 1 - y*(np.dot(x, w) + b)) for y,x in zip(classes, data)]\n",
    "    sum_xi = sum(xi)\n",
    "    return np.linalg.norm(w)**2 + C*sum_xi\n",
    "\n",
    "res = minimize(cost, [1., 2., 3.])\n",
    "\n",
    "b = res.x[0]\n",
    "w = res.x[1:]\n",
    "m = -w[0]/w[1]\n",
    "c = -b/w[1]\n",
    "\n",
    "xs = np.linspace(-2, 6, 100)\n",
    "ys = m*xs + c\n",
    "\n",
    "plt.plot(data[classes==1, 0], data[classes==1, 1], 'or')\n",
    "plt.plot(data[classes==-1, 0], data[classes==-1, 1], 'ob')\n",
    "plt.plot(xs, ys)"
   ]
  },
  {
   "cell_type": "code",
   "execution_count": 233,
   "metadata": {
    "collapsed": false
   },
   "outputs": [],
   "source": [
    "# def transform(x):\n",
    "#     x1, x2 = x\n",
    "#     return [x1, x2, x1*x2, x1**2, x2**2]\n",
    "\n",
    "# tdata = np.array([transform(x) for x in data])\n",
    "\n",
    "# C = 100\n",
    "# def cost(ws):\n",
    "#     b = ws[0]\n",
    "#     w = ws[1:]\n",
    "#     xi = [max (0, 1 - y*(np.dot(x, w) + b)) for y,x in zip(classes, tdata)]\n",
    "#     sum_xi = sum(xi)\n",
    "#     return np.linalg.norm(w)**2 + C*sum_xi\n",
    "\n",
    "# res = minimize(cost, [0., 1., 2., 3., 4., 5.])\n",
    "\n",
    "# b = res.x[0]\n",
    "# w = res.x[1:]\n",
    "\n",
    "# xs = np.linspace(-1, 1, 100)\n",
    "# ys = np.linspace(-1, 1, 100)\n",
    "# zs = np.empty((100,100))\n",
    "\n",
    "# for ix, x in enumerate(xs):\n",
    "#     for iy, y in enumerate(ys):\n",
    "#         tx = transform([x, y])\n",
    "#         zs[iy, ix] = np.dot(w, tx) + b\n",
    "\n",
    "# plt.plot(data[classes==1, 0], data[classes==1, 1], 'or')\n",
    "# plt.plot(data[classes==-1, 0], data[classes==-1, 1], 'ob')\n",
    "# plt.contourf(xs, ys, zs)"
   ]
  },
  {
   "cell_type": "markdown",
   "metadata": {},
   "source": [
    "20) What if we want a curved line? Draw contour plot."
   ]
  },
  {
   "cell_type": "code",
   "execution_count": 234,
   "metadata": {
    "collapsed": false
   },
   "outputs": [
    {
     "name": "stdout",
     "output_type": "stream",
     "text": [
      "[-1 -1 -1  1  1 -1  1  1  1 -1 -1  1  1 -1  1  1  1 -1 -1 -1]\n"
     ]
    },
    {
     "data": {
      "text/plain": [
       "[<matplotlib.lines.Line2D at 0x108bcbad0>]"
      ]
     },
     "execution_count": 234,
     "metadata": {},
     "output_type": "execute_result"
    },
    {
     "data": {
      "image/png": "[encoded data removed]",
      "text/plain": [
       "<matplotlib.figure.Figure at 0x108bcb990>"
      ]
     },
     "metadata": {},
     "output_type": "display_data"
    }
   ],
   "source": [
    "np.random.seed(9999)\n",
    "data = np.random.random((20,2))*2-1\n",
    "def is_pos(x):\n",
    "    return 1 if np.linalg.norm(x-[0.1,0.1])<0.6 else -1\n",
    "classes = np.array([is_pos(x) for x in data])\n",
    "print classes\n",
    "plt.plot(data[classes==1,0], data[classes==1,1], '.b')\n",
    "plt.plot(data[classes==-1,0], data[classes==-1,1], '.r')"
   ]
  },
  {
   "cell_type": "code",
   "execution_count": 235,
   "metadata": {
    "collapsed": false
   },
   "outputs": [
    {
     "data": {
      "text/plain": [
       "<matplotlib.contour.QuadContourSet instance at 0x109031830>"
      ]
     },
     "execution_count": 235,
     "metadata": {},
     "output_type": "execute_result"
    },
    {
     "data": {
      "image/png": "[encoded data removed]",
      "text/plain": [
       "<matplotlib.figure.Figure at 0x108ed8890>"
      ]
     },
     "metadata": {},
     "output_type": "display_data"
    }
   ],
   "source": [
    "def transform(x):\n",
    "    x1, x2 = x\n",
    "    return [x1, x2, x1*x2, x1**2, x2**2]\n",
    "\n",
    "tdata = np.array([transform(x) for x in data])\n",
    "\n",
    "C = 100\n",
    "def cost(ws):\n",
    "    b = ws[0]\n",
    "    w = ws[1:]\n",
    "    xi = [max (0, 1 - y*(np.dot(x, w) + b)) for y,x in zip(classes, tdata)]\n",
    "    sum_xi = sum(xi)\n",
    "    return np.linalg.norm(w)**2 + C*sum_xi\n",
    "\n",
    "res = minimize(cost, [0., 1., 2., 3., 4., 5.])\n",
    "\n",
    "b = res.x[0]\n",
    "w = res.x[1:]\n",
    "\n",
    "xs = np.linspace(-1, 1, 100)\n",
    "ys = np.linspace(-1, 1, 100)\n",
    "zs = np.empty((100,100))\n",
    "\n",
    "for ix, x in enumerate(xs):\n",
    "    for iy, y in enumerate(ys):\n",
    "        tx = transform([x, y])\n",
    "        zs[iy, ix] = np.dot(w, tx) + b\n",
    "\n",
    "plt.plot(data[classes==1, 0], data[classes==1, 1], 'or')\n",
    "plt.plot(data[classes==-1, 0], data[classes==-1, 1], 'ob')\n",
    "plt.contourf(xs, ys, zs)"
   ]
  },
  {
   "cell_type": "markdown",
   "metadata": {},
   "source": [
    "21) What are the support vectors?"
   ]
  },
  {
   "cell_type": "code",
   "execution_count": 237,
   "metadata": {
    "collapsed": false
   },
   "outputs": [
    {
     "data": {
      "text/plain": [
       "<a list of 10 text.Text objects>"
      ]
     },
     "execution_count": 237,
     "metadata": {},
     "output_type": "execute_result"
    },
    {
     "data": {
      "image/png": "[encoded data removed]",
      "text/plain": [
       "<matplotlib.figure.Figure at 0x108f67050>"
      ]
     },
     "metadata": {},
     "output_type": "display_data"
    }
   ],
   "source": [
    "plt.plot(data[classes==1, 0], data[classes==1, 1], 'or')\n",
    "plt.plot(data[classes==-1, 0], data[classes==-1, 1], 'ob')\n",
    "ct = plt.contour(xs, ys, zs)\n",
    "plt.clabel(ct)"
   ]
  },
  {
   "cell_type": "code",
   "execution_count": null,
   "metadata": {
    "collapsed": true
   },
   "outputs": [],
   "source": []
  }
 ],
 "metadata": {
  "kernelspec": {
   "display_name": "Python 2",
   "language": "python",
   "name": "python2"
  },
  "language_info": {
   "codemirror_mode": {
    "name": "ipython",
    "version": 2
   },
   "file_extension": ".py",
   "mimetype": "text/x-python",
   "name": "python",
   "nbconvert_exporter": "python",
   "pygments_lexer": "ipython2",
   "version": "2.7.6"
  }
 },
 "nbformat": 4,
 "nbformat_minor": 0
}
